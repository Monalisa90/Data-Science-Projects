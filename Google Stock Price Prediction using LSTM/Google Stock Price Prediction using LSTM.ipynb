{
 "cells": [
  {
   "cell_type": "markdown",
   "metadata": {},
   "source": [
    "Predict the prices of stocks of 2018 using LSTM network based on the stock price data between 2011-2017. Data can be downloaded from\n",
    "\n",
    "https://finance.yahoo.com/quote/goog/history?ltr=1"
   ]
  },
  {
   "cell_type": "code",
   "execution_count": 1,
   "metadata": {},
   "outputs": [
    {
     "name": "stderr",
     "output_type": "stream",
     "text": [
      "Using TensorFlow backend.\n"
     ]
    }
   ],
   "source": [
    "import numpy as np\n",
    "import matplotlib.pyplot as plt\n",
    "import pandas as pd\n",
    "\n",
    "from sklearn.preprocessing import MinMaxScaler\n",
    "\n",
    "from keras.models import Sequential, load_model\n",
    "from keras.layers import Dense, LSTM, Dropout\n",
    "from keras.callbacks import EarlyStopping, ModelCheckpoint"
   ]
  },
  {
   "cell_type": "markdown",
   "metadata": {},
   "source": [
    "Data Preparation"
   ]
  },
  {
   "cell_type": "code",
   "execution_count": 2,
   "metadata": {},
   "outputs": [],
   "source": [
    "# Import training set\n",
    "training_data = pd.read_csv('GOOG_train.csv')\n",
    "training_set = training_data.iloc[:,1:2].values"
   ]
  },
  {
   "cell_type": "code",
   "execution_count": 3,
   "metadata": {},
   "outputs": [],
   "source": [
    "# Feature Scaling\n",
    "sc = MinMaxScaler(feature_range = (0,1))\n",
    "training_set_scaled = sc.fit_transform(training_set)"
   ]
  },
  {
   "cell_type": "code",
   "execution_count": 17,
   "metadata": {},
   "outputs": [],
   "source": [
    "# Creating a data structure with 60 timestamps and 1 output\n",
    "X_train = []\n",
    "y_train = []\n",
    "for i in range(60,training_data.shape[0]):\n",
    "    X_train.append(training_set_scaled[i-60:i,0])\n",
    "    y_train.append(training_set_scaled[i,0])\n",
    "    \n",
    "X_train, y_train = np.array(X_train), np.array(y_train)"
   ]
  },
  {
   "cell_type": "code",
   "execution_count": 18,
   "metadata": {},
   "outputs": [],
   "source": [
    "# Reshaping\n",
    "X_train = np.reshape(X_train,(X_train.shape[0],X_train.shape[1],1))"
   ]
  },
  {
   "cell_type": "markdown",
   "metadata": {},
   "source": [
    "Initialize RNN"
   ]
  },
  {
   "cell_type": "code",
   "execution_count": 8,
   "metadata": {},
   "outputs": [],
   "source": [
    "model = Sequential()\n",
    "\n",
    "# Add first LSTM layer\n",
    "model.add(LSTM(units=50, return_sequences = True, input_shape = (X_train.shape[1],1)))\n",
    "model.add(Dropout(0.2))"
   ]
  },
  {
   "cell_type": "code",
   "execution_count": 9,
   "metadata": {},
   "outputs": [],
   "source": [
    "# Add second LSTM layer\n",
    "model.add(LSTM(units=50, return_sequences = True))\n",
    "model.add(Dropout(0.2))"
   ]
  },
  {
   "cell_type": "code",
   "execution_count": 10,
   "metadata": {},
   "outputs": [],
   "source": [
    "# Add third LSTM layer\n",
    "model.add(LSTM(units=50, return_sequences = True))\n",
    "model.add(Dropout(0.2))"
   ]
  },
  {
   "cell_type": "code",
   "execution_count": 11,
   "metadata": {},
   "outputs": [],
   "source": [
    "# Add fourth LSTM layer\n",
    "model.add(LSTM(units=50))\n",
    "model.add(Dropout(0.2))"
   ]
  },
  {
   "cell_type": "code",
   "execution_count": 12,
   "metadata": {},
   "outputs": [],
   "source": [
    "# Add the output layer\n",
    "model.add(Dense(units = 1))"
   ]
  },
  {
   "cell_type": "code",
   "execution_count": 13,
   "metadata": {},
   "outputs": [],
   "source": [
    "# Compile the RNN\n",
    "model.compile(optimizer = 'adam', loss = 'mean_squared_error')"
   ]
  },
  {
   "cell_type": "code",
   "execution_count": 14,
   "metadata": {},
   "outputs": [],
   "source": [
    "# Callbacks to save best model and stop training if loss no longer decreases after 10 epochs\n",
    "early_stop = EarlyStopping(monitor = 'loss', patience = 10)\n",
    "\n",
    "checkpoint = ModelCheckpoint('StockPrice_model.h5', monitor = 'loss', save_best_only = True)"
   ]
  },
  {
   "cell_type": "code",
   "execution_count": 20,
   "metadata": {
    "scrolled": true
   },
   "outputs": [
    {
     "name": "stdout",
     "output_type": "stream",
     "text": [
      "Epoch 1/100\n",
      "1450/1450 [==============================] - 12s 8ms/step - loss: 0.0020\n",
      "Epoch 2/100\n",
      "1450/1450 [==============================] - 13s 9ms/step - loss: 0.0022\n",
      "Epoch 3/100\n",
      "1450/1450 [==============================] - 12s 8ms/step - loss: 0.0018\n",
      "Epoch 4/100\n",
      "1450/1450 [==============================] - 12s 8ms/step - loss: 0.0016\n",
      "Epoch 5/100\n",
      "1450/1450 [==============================] - 12s 8ms/step - loss: 0.0020\n",
      "Epoch 6/100\n",
      "1450/1450 [==============================] - 13s 9ms/step - loss: 0.0017\n",
      "Epoch 7/100\n",
      "1450/1450 [==============================] - 12s 9ms/step - loss: 0.0017\n",
      "Epoch 8/100\n",
      "1450/1450 [==============================] - 13s 9ms/step - loss: 0.0018\n",
      "Epoch 9/100\n",
      "1450/1450 [==============================] - 12s 8ms/step - loss: 0.0016\n",
      "Epoch 10/100\n",
      "1450/1450 [==============================] - 12s 8ms/step - loss: 0.0015\n",
      "Epoch 11/100\n",
      "1450/1450 [==============================] - 12s 8ms/step - loss: 0.0018\n",
      "Epoch 12/100\n",
      "1450/1450 [==============================] - 12s 8ms/step - loss: 0.0016\n",
      "Epoch 13/100\n",
      "1450/1450 [==============================] - 12s 8ms/step - loss: 0.0013\n",
      "Epoch 14/100\n",
      "1450/1450 [==============================] - 12s 8ms/step - loss: 0.0014\n",
      "Epoch 15/100\n",
      "1450/1450 [==============================] - 12s 8ms/step - loss: 0.0014\n",
      "Epoch 16/100\n",
      "1450/1450 [==============================] - 12s 8ms/step - loss: 0.0014\n",
      "Epoch 17/100\n",
      "1450/1450 [==============================] - 12s 9ms/step - loss: 0.0014\n",
      "Epoch 18/100\n",
      "1450/1450 [==============================] - 12s 8ms/step - loss: 0.0014\n",
      "Epoch 19/100\n",
      "1450/1450 [==============================] - 12s 8ms/step - loss: 0.0013\n",
      "Epoch 20/100\n",
      "1450/1450 [==============================] - 12s 8ms/step - loss: 0.0013\n",
      "Epoch 21/100\n",
      "1450/1450 [==============================] - 12s 8ms/step - loss: 0.0013\n",
      "Epoch 22/100\n",
      "1450/1450 [==============================] - 12s 8ms/step - loss: 0.0013\n",
      "Epoch 23/100\n",
      "1450/1450 [==============================] - 12s 8ms/step - loss: 0.0014\n",
      "Epoch 24/100\n",
      "1450/1450 [==============================] - 12s 8ms/step - loss: 0.0013\n",
      "Epoch 25/100\n",
      "1450/1450 [==============================] - 12s 8ms/step - loss: 0.0013\n",
      "Epoch 26/100\n",
      "1450/1450 [==============================] - 12s 8ms/step - loss: 0.0014\n",
      "Epoch 27/100\n",
      "1450/1450 [==============================] - 12s 8ms/step - loss: 0.0012\n",
      "Epoch 28/100\n",
      "1450/1450 [==============================] - 12s 8ms/step - loss: 0.0013\n",
      "Epoch 29/100\n",
      "1450/1450 [==============================] - 12s 8ms/step - loss: 0.0013\n",
      "Epoch 30/100\n",
      "1450/1450 [==============================] - 12s 8ms/step - loss: 0.0012\n",
      "Epoch 31/100\n",
      "1450/1450 [==============================] - 11s 8ms/step - loss: 0.0011\n",
      "Epoch 32/100\n",
      "1450/1450 [==============================] - 12s 8ms/step - loss: 0.0012\n",
      "Epoch 33/100\n",
      "1450/1450 [==============================] - 12s 8ms/step - loss: 0.0012\n",
      "Epoch 34/100\n",
      "1450/1450 [==============================] - 11s 8ms/step - loss: 0.0011\n",
      "Epoch 35/100\n",
      "1450/1450 [==============================] - 11s 8ms/step - loss: 0.0010\n",
      "Epoch 36/100\n",
      "1450/1450 [==============================] - 11s 8ms/step - loss: 0.0012\n",
      "Epoch 37/100\n",
      "1450/1450 [==============================] - 11s 8ms/step - loss: 9.8858e-04\n",
      "Epoch 38/100\n",
      "1450/1450 [==============================] - 11s 8ms/step - loss: 9.8727e-04\n",
      "Epoch 39/100\n",
      "1450/1450 [==============================] - 11s 8ms/step - loss: 0.0011\n",
      "Epoch 40/100\n",
      "1450/1450 [==============================] - 11s 8ms/step - loss: 0.0012\n",
      "Epoch 41/100\n",
      "1450/1450 [==============================] - 11s 8ms/step - loss: 0.0011\n",
      "Epoch 42/100\n",
      "1450/1450 [==============================] - 12s 8ms/step - loss: 0.0011\n",
      "Epoch 43/100\n",
      "1450/1450 [==============================] - 11s 8ms/step - loss: 9.3489e-04\n",
      "Epoch 44/100\n",
      "1450/1450 [==============================] - 11s 8ms/step - loss: 9.8648e-04\n",
      "Epoch 45/100\n",
      "1450/1450 [==============================] - 11s 8ms/step - loss: 0.0012\n",
      "Epoch 46/100\n",
      "1450/1450 [==============================] - 11s 8ms/step - loss: 0.0011\n",
      "Epoch 47/100\n",
      "1450/1450 [==============================] - 12s 8ms/step - loss: 0.0010\n",
      "Epoch 48/100\n",
      "1450/1450 [==============================] - 11s 8ms/step - loss: 0.0012\n",
      "Epoch 49/100\n",
      "1450/1450 [==============================] - 11s 8ms/step - loss: 9.7558e-04\n",
      "Epoch 50/100\n",
      "1450/1450 [==============================] - 11s 8ms/step - loss: 0.0011\n",
      "Epoch 51/100\n",
      "1450/1450 [==============================] - 11s 8ms/step - loss: 0.0011\n",
      "Epoch 52/100\n",
      "1450/1450 [==============================] - 11s 8ms/step - loss: 0.0010\n",
      "Epoch 53/100\n",
      "1450/1450 [==============================] - 11s 8ms/step - loss: 9.8928e-04\n"
     ]
    },
    {
     "data": {
      "text/plain": [
       "<keras.callbacks.History at 0x1eef9fd5c50>"
      ]
     },
     "execution_count": 20,
     "metadata": {},
     "output_type": "execute_result"
    }
   ],
   "source": [
    "# Fitting the RNN to the Training Set\n",
    "model.fit(X_train, y_train, epochs = 100, batch_size = 32, callbacks = [checkpoint, early_stop])"
   ]
  },
  {
   "cell_type": "markdown",
   "metadata": {},
   "source": [
    "Training time: 9 minutes"
   ]
  },
  {
   "cell_type": "markdown",
   "metadata": {},
   "source": [
    "Making the predictions and visualizing the results"
   ]
  },
  {
   "cell_type": "code",
   "execution_count": 21,
   "metadata": {},
   "outputs": [],
   "source": [
    "test_data = pd.read_csv('GOOG_test.csv')\n",
    "real_stock_price = test_data.iloc[:,1:2].values"
   ]
  },
  {
   "cell_type": "code",
   "execution_count": 22,
   "metadata": {},
   "outputs": [],
   "source": [
    "# Predict the stock price for 2018\n",
    "all_data = pd.concat((training_data['Open'], test_data['Open']), axis = 0)\n",
    "inputs = all_data[len(all_data) - len(test_data) - 60:].values\n",
    "inputs = inputs.reshape(-1,1)\n",
    "inputs = sc.transform(inputs)"
   ]
  },
  {
   "cell_type": "code",
   "execution_count": 23,
   "metadata": {},
   "outputs": [],
   "source": [
    "X_test = []\n",
    "for i in range(60,test_data.shape[0]):\n",
    "    X_test.append(inputs[i-60:i,0])\n",
    "    \n",
    "X_test = np.array(X_test)\n",
    "X_test = np.reshape(X_test,(X_test.shape[0],X_test.shape[1],1))\n",
    "\n",
    "predicted_stock_price = model.predict(X_test)\n",
    "predicted_stock_price = sc.inverse_transform(predicted_stock_price)"
   ]
  },
  {
   "cell_type": "code",
   "execution_count": 24,
   "metadata": {},
   "outputs": [
    {
     "data": {
      "image/png": "[encoded data removed]",
      "text/plain": [
       "<Figure size 432x288 with 1 Axes>"
      ]
     },
     "metadata": {},
     "output_type": "display_data"
    }
   ],
   "source": [
    "# Visualizing results\n",
    "plt.plot(real_stock_price, color = 'blue', label = 'Real Google Stock Price')\n",
    "plt.plot(predicted_stock_price, color = 'green', label = 'Predicted Google Stock Price')\n",
    "plt.title('Google Stock Price Prediction')\n",
    "plt.xlabel('Time')\n",
    "plt.ylabel('Google Stock Price')\n",
    "plt.legend()\n",
    "plt.show()"
   ]
  },
  {
   "cell_type": "markdown",
   "metadata": {},
   "source": [
    "We can see that our prediction goes quite well with the actual stock prices."
   ]
  },
  {
   "cell_type": "code",
   "execution_count": 25,
   "metadata": {},
   "outputs": [
    {
     "data": {
      "image/png": "[encoded data removed]",
      "text/plain": [
       "<Figure size 432x288 with 1 Axes>"
      ]
     },
     "metadata": {},
     "output_type": "display_data"
    }
   ],
   "source": [
    "best_model = load_model('StockPrice_model.h5')\n",
    "\n",
    "predicted_stock_price = best_model.predict(X_test)\n",
    "predicted_stock_price = sc.inverse_transform(predicted_stock_price)\n",
    "\n",
    "# Visualizing results\n",
    "plt.plot(real_stock_price, color = 'blue', label = 'Real Google Stock Price')\n",
    "plt.plot(predicted_stock_price, color = 'green', label = 'Predicted Google Stock Price')\n",
    "plt.title('Google Stock Price Prediction')\n",
    "plt.xlabel('Time')\n",
    "plt.ylabel('Google Stock Price')\n",
    "plt.legend()\n",
    "plt.show()"
   ]
  },
  {
   "cell_type": "markdown",
   "metadata": {},
   "source": [
    "With the best model with very less loss, the prediction goes bit high as compared to the actual prices."
   ]
  }
 ],
 "metadata": {
  "kernelspec": {
   "display_name": "Python 3",
   "language": "python",
   "name": "python3"
  },
  "language_info": {
   "codemirror_mode": {
    "name": "ipython",
    "version": 3
   },
   "file_extension": ".py",
   "mimetype": "text/x-python",
   "name": "python",
   "nbconvert_exporter": "python",
   "pygments_lexer": "ipython3",
   "version": "3.6.6"
  }
 },
 "nbformat": 4,
 "nbformat_minor": 2
}
