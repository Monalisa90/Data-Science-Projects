{
 "cells": [
  {
   "cell_type": "code",
   "execution_count": 1,
   "metadata": {},
   "outputs": [],
   "source": [
    "from pyspark import SparkContext, SparkConf\n",
    "from pyspark.sql import SparkSession, SQLContext\n",
    "from pyspark.ml import Pipeline\n",
    "from pyspark.ml.classification import RandomForestClassifier\n",
    "from pyspark.ml.feature import StringIndexer, VectorIndexer, OneHotEncoder, VectorAssembler, IndexToString\n",
    "from pyspark.ml.evaluation import MulticlassClassificationEvaluator\n",
    "from pyspark.sql.functions import *\n",
    "from pyspark.sql.functions import isnan, when, count, col, avg\n",
    "import pyspark.sql.functions as f\n",
    "from pyspark.sql.types import *"
   ]
  },
  {
   "cell_type": "code",
   "execution_count": 2,
   "metadata": {},
   "outputs": [],
   "source": [
    "# Spark Environment\n",
    "conf = SparkConf()\n",
    "sc = SparkContext(conf=conf)\n",
    "conf.getAll()\n",
    "sqlContext = SQLContext(sc)"
   ]
  },
  {
   "cell_type": "code",
   "execution_count": 30,
   "metadata": {},
   "outputs": [],
   "source": [
    "def loadData():\n",
    "    \n",
    "    trainSchema = StructType([\n",
    "    StructField(\"PassengerId\", IntegerType(), True),\n",
    "    StructField(\"Survived\", IntegerType(), True),\n",
    "    StructField(\"Pclass\", IntegerType(), True),\n",
    "    StructField(\"Name\", StringType(), True),\n",
    "    StructField(\"Sex\", StringType(), True),\n",
    "    StructField(\"Age\", FloatType(), True),\n",
    "    StructField(\"SibSp\", IntegerType(), True),\n",
    "    StructField(\"Parch\", IntegerType(), True),\n",
    "    StructField(\"Ticket\", StringType(), True),\n",
    "    StructField(\"Fare\", FloatType(), True),\n",
    "    StructField(\"Cabin\", StringType(), True),\n",
    "    StructField(\"Embarked\", StringType(), True)]\n",
    "  )\n",
    "    \n",
    "    testSchema = StructType([\n",
    "    StructField(\"PassengerId\", IntegerType(), True),\n",
    "    StructField(\"Pclass\", IntegerType(), True),\n",
    "    StructField(\"Name\", StringType(), True),\n",
    "    StructField(\"Sex\", StringType(), True),\n",
    "    StructField(\"Age\", FloatType(), True),\n",
    "    StructField(\"SibSp\", IntegerType(), True),\n",
    "    StructField(\"Parch\", IntegerType(), True),\n",
    "    StructField(\"Ticket\", StringType(), True),\n",
    "    StructField(\"Fare\", FloatType(), True),\n",
    "    StructField(\"Cabin\", StringType(), True),\n",
    "    StructField(\"Embarked\", StringType(), True)]\n",
    "  )\n",
    "\n",
    "    csvFormat = \"com.databricks.spark.csv\"\n",
    "\n",
    "    trainDF = sqlContext.read.format(csvFormat).option(\"header\", \"true\").schema(trainSchema).load(\"train.csv\")\n",
    "    \n",
    "    testDF = sqlContext.read.format(csvFormat).option(\"header\", \"true\").schema(testSchema).load(\"test.csv\")\n",
    "    \n",
    "    true_labels = sqlContext.read.format(csvFormat).option(\"header\", \"true\").load(\"true labels.csv\")\n",
    "    \n",
    "    testDF = testDF.join(true_labels, \"PassengerId\").withColumnRenamed(\"Survived\", \"TrueSurvived\")\n",
    "\n",
    "    return trainDF, testDF\n"
   ]
  },
  {
   "cell_type": "code",
   "execution_count": 31,
   "metadata": {},
   "outputs": [],
   "source": [
    "trainDF, testDF = loadData()"
   ]
  },
  {
   "cell_type": "code",
   "execution_count": 33,
   "metadata": {},
   "outputs": [
    {
     "name": "stdout",
     "output_type": "stream",
     "text": [
      "+-----------+--------+------+--------------------+------+----+-----+-----+----------------+-------+-----+--------+\n",
      "|PassengerId|Survived|Pclass|                Name|   Sex| Age|SibSp|Parch|          Ticket|   Fare|Cabin|Embarked|\n",
      "+-----------+--------+------+--------------------+------+----+-----+-----+----------------+-------+-----+--------+\n",
      "|          1|       0|     3|Braund, Mr. Owen ...|  male|22.0|    1|    0|       A/5 21171|   7.25| null|       S|\n",
      "|          2|       1|     1|Cumings, Mrs. Joh...|female|38.0|    1|    0|        PC 17599|71.2833|  C85|       C|\n",
      "|          3|       1|     3|Heikkinen, Miss. ...|female|26.0|    0|    0|STON/O2. 3101282|  7.925| null|       S|\n",
      "|          4|       1|     1|Futrelle, Mrs. Ja...|female|35.0|    1|    0|          113803|   53.1| C123|       S|\n",
      "|          5|       0|     3|Allen, Mr. Willia...|  male|35.0|    0|    0|          373450|   8.05| null|       S|\n",
      "|          6|       0|     3|    Moran, Mr. James|  male|null|    0|    0|          330877| 8.4583| null|       Q|\n",
      "+-----------+--------+------+--------------------+------+----+-----+-----+----------------+-------+-----+--------+\n",
      "only showing top 6 rows\n",
      "\n"
     ]
    }
   ],
   "source": [
    "trainDF.show(6)"
   ]
  },
  {
   "cell_type": "code",
   "execution_count": 19,
   "metadata": {},
   "outputs": [
    {
     "name": "stdout",
     "output_type": "stream",
     "text": [
      "+-----------+--------+------+----+---+---+-----+-----+------+----+-----+--------+\n",
      "|PassengerId|Survived|Pclass|Name|Sex|Age|SibSp|Parch|Ticket|Fare|Cabin|Embarked|\n",
      "+-----------+--------+------+----+---+---+-----+-----+------+----+-----+--------+\n",
      "|          0|       0|     0|   0|  0|177|    0|    0|     0|   0|  687|       2|\n",
      "+-----------+--------+------+----+---+---+-----+-----+------+----+-----+--------+\n",
      "\n",
      "Missing Values in Training data None\n",
      "+-----------+--------+------+--------------------+----+----+-----+-----+------+----+-----+--------+\n",
      "|PassengerId|Survived|Pclass|                Name| Sex| Age|SibSp|Parch|Ticket|Fare|Cabin|Embarked|\n",
      "+-----------+--------+------+--------------------+----+----+-----+-----+------+----+-----+--------+\n",
      "|        180|       0|     3| Leonard, Mr. Lionel|male|36.0|    0|    0|  LINE| 0.0| null|       S|\n",
      "|        264|       0|     1|Harrison, Mr. Wil...|male|40.0|    0|    0|112059| 0.0|  B94|       S|\n",
      "|        272|       1|     3|Tornquist, Mr. Wi...|male|25.0|    0|    0|  LINE| 0.0| null|       S|\n",
      "|        278|       0|     2|\"Parkes, Mr. Fran...|male|null|    0|    0|239853| 0.0| null|       S|\n",
      "|        303|       0|     3|Johnson, Mr. Will...|male|19.0|    0|    0|  LINE| 0.0| null|       S|\n",
      "|        414|       0|     2|Cunningham, Mr. A...|male|null|    0|    0|239853| 0.0| null|       S|\n",
      "|        467|       0|     2|Campbell, Mr. Wil...|male|null|    0|    0|239853| 0.0| null|       S|\n",
      "|        482|       0|     2|\"Frost, Mr. Antho...|male|null|    0|    0|239854| 0.0| null|       S|\n",
      "|        598|       0|     3| Johnson, Mr. Alfred|male|49.0|    0|    0|  LINE| 0.0| null|       S|\n",
      "|        634|       0|     1|Parr, Mr. William...|male|null|    0|    0|112052| 0.0| null|       S|\n",
      "|        675|       0|     2|Watson, Mr. Ennis...|male|null|    0|    0|239856| 0.0| null|       S|\n",
      "|        733|       0|     2|Knight, Mr. Robert J|male|null|    0|    0|239855| 0.0| null|       S|\n",
      "|        807|       0|     1|Andrews, Mr. Thom...|male|39.0|    0|    0|112050| 0.0|  A36|       S|\n",
      "|        816|       0|     1|    Fry, Mr. Richard|male|null|    0|    0|112058| 0.0| B102|       S|\n",
      "|        823|       0|     1|Reuchlin, Jonkhee...|male|38.0|    0|    0| 19972| 0.0| null|       S|\n",
      "+-----------+--------+------+--------------------+----+----+-----+-----+------+----+-----+--------+\n",
      "\n",
      "0 VAlues in Fare in Training data None\n"
     ]
    }
   ],
   "source": [
    "# Get the number of missing data points per column\n",
    "print(\"Missing Values in Training data\",trainDF.select([count(when(isnan(c) | col(c).isNull(), c)).alias(c) for c in trainDF.columns]).show())\n",
    "print( \"0 VAlues in Fare in Training data\", trainDF.filter(col(\"Fare\") == 0).show())"
   ]
  },
  {
   "cell_type": "code",
   "execution_count": 20,
   "metadata": {},
   "outputs": [
    {
     "name": "stdout",
     "output_type": "stream",
     "text": [
      "+-----------+------+----+---+---+-----+-----+------+----+-----+--------+\n",
      "|PassengerId|Pclass|Name|Sex|Age|SibSp|Parch|Ticket|Fare|Cabin|Embarked|\n",
      "+-----------+------+----+---+---+-----+-----+------+----+-----+--------+\n",
      "|          0|     0|   0|  0| 86|    0|    0|     0|   1|  327|       0|\n",
      "+-----------+------+----+---+---+-----+-----+------+----+-----+--------+\n",
      "\n"
     ]
    }
   ],
   "source": [
    "testDF.select([count(when(isnan(c) | col(c).isNull(), c)).alias(c) for c in testDF.columns]).show()"
   ]
  },
  {
   "cell_type": "markdown",
   "metadata": {},
   "source": [
    "It can be seen that columns Age, Cabin and Embarked have null values. Even column Fare has rows with value 0. So, we will replace null values of Age and Embarked with average age and \"S\", respectively. 0 values of Fare will be replaced with average fare. Null values of Cabin cannot be replaced."
   ]
  },
  {
   "cell_type": "code",
   "execution_count": 34,
   "metadata": {},
   "outputs": [],
   "source": [
    "def fillNAValues(trainDF,testDF):\n",
    "    \n",
    "    # Fill null values of age with average age\n",
    "    trainDF = trainDF.na.fill(trainDF.where((col(\"Age\") > 0)).agg(avg(\"Age\")).first()[0], [\"Age\"])\n",
    "    trainDF = trainDF.withColumn(\"Age\", f.round(trainDF[\"Age\"], 1))\n",
    "    \n",
    "    # Fill 0 values of Fare with average fare\n",
    "    trainDF = trainDF.na.fill(0.0,[\"Fare\"]) # convert null values to 0\n",
    "    avg_fare = trainDF.where((col(\"Fare\") > 0)).agg(avg(\"Fare\")).first()[0]\n",
    "    trainDF = trainDF.withColumn(\"Fare\", when((col(\"Fare\") == 0.0) ,avg_fare).otherwise(col(\"Fare\")))\n",
    "    trainDF = trainDF.withColumn(\"Fare\", f.round(trainDF[\"Fare\"], 2))\n",
    "    \n",
    "    # Replace null values of Embarked with \"S\"\n",
    "    trainDF = trainDF.withColumn(\"Embarked\", when((col(\"Embarked\").isNull()) , \"S\").otherwise(col(\"Embarked\")))\n",
    "    \n",
    "    # Fill null values of age with average age\n",
    "    testDF = testDF.na.fill(testDF.where((col(\"Age\") > 0)).agg(avg(\"Age\")).first()[0], [\"Age\"])\n",
    "    testDF = testDF.withColumn(\"Age\", f.round(testDF[\"Age\"], 1))\n",
    "    \n",
    "    # Fill 0 values of Fare with average fare\n",
    "    testDF = testDF.na.fill(0.0,[\"Fare\"]) # convert null values to 0\n",
    "    avg_fare_test = testDF.where((col(\"Fare\") > 0)).agg(avg(\"Fare\")).first()[0]\n",
    "    testDF = testDF.withColumn(\"Fare\", when((col(\"Fare\") == 0) ,avg_fare_test).otherwise(col(\"Fare\")))\n",
    "    testDF = testDF.withColumn(\"Fare\", f.round(testDF[\"Fare\"], 2))\n",
    "    \n",
    "    # Replace null values of Embarked with \"S\"\n",
    "    testDF = testDF.withColumn(\"Embarked\", when((col(\"Embarked\").isNull()) , \"S\").otherwise(col(\"Embarked\")))\n",
    "    \n",
    "    return trainDF, testDF\n",
    "    "
   ]
  },
  {
   "cell_type": "code",
   "execution_count": 35,
   "metadata": {},
   "outputs": [],
   "source": [
    "newtrainDF, newtestDF = fillNAValues(trainDF, testDF)"
   ]
  },
  {
   "cell_type": "code",
   "execution_count": 37,
   "metadata": {},
   "outputs": [
    {
     "name": "stdout",
     "output_type": "stream",
     "text": [
      "+-----------+--------+------+--------------------+------+----+-----+-----+----------------+-----+-----+--------+\n",
      "|PassengerId|Survived|Pclass|                Name|   Sex| Age|SibSp|Parch|          Ticket| Fare|Cabin|Embarked|\n",
      "+-----------+--------+------+--------------------+------+----+-----+-----+----------------+-----+-----+--------+\n",
      "|          1|       0|     3|Braund, Mr. Owen ...|  male|22.0|    1|    0|       A/5 21171| 7.25| null|       S|\n",
      "|          2|       1|     1|Cumings, Mrs. Joh...|female|38.0|    1|    0|        PC 17599|71.28|  C85|       C|\n",
      "|          3|       1|     3|Heikkinen, Miss. ...|female|26.0|    0|    0|STON/O2. 3101282| 7.93| null|       S|\n",
      "|          4|       1|     1|Futrelle, Mrs. Ja...|female|35.0|    1|    0|          113803| 53.1| C123|       S|\n",
      "|          5|       0|     3|Allen, Mr. Willia...|  male|35.0|    0|    0|          373450| 8.05| null|       S|\n",
      "|          6|       0|     3|    Moran, Mr. James|  male|29.7|    0|    0|          330877| 8.46| null|       Q|\n",
      "+-----------+--------+------+--------------------+------+----+-----+-----+----------------+-----+-----+--------+\n",
      "only showing top 6 rows\n",
      "\n"
     ]
    }
   ],
   "source": [
    "newtrainDF.show(6)"
   ]
  },
  {
   "cell_type": "code",
   "execution_count": 43,
   "metadata": {},
   "outputs": [],
   "source": [
    "genderIndexer = StringIndexer(inputCol=\"Sex\", outputCol=\"indexedSex\")\n",
    "embarkIndexer = StringIndexer(inputCol=\"Embarked\", outputCol=\"indexedEmbarked\")\n",
    " \n",
    "surviveIndexer = StringIndexer(inputCol=\"Survived\", outputCol=\"indexedSurvived\")"
   ]
  },
  {
   "cell_type": "code",
   "execution_count": 39,
   "metadata": {},
   "outputs": [],
   "source": [
    "genderEncoder = OneHotEncoder(inputCol=\"indexedSex\", outputCol=\"sexVec\")\n",
    "embarkEncoder = OneHotEncoder(inputCol=\"indexedEmbarked\", outputCol=\"embarkedVec\")"
   ]
  },
  {
   "cell_type": "code",
   "execution_count": 40,
   "metadata": {},
   "outputs": [],
   "source": [
    "# Create the vector structured data (label,features(vector))\n",
    "assembler = VectorAssembler(inputCols=[\"Pclass\",\"sexVec\",\"Age\",\"SibSp\",\"Fare\",\"embarkedVec\"],outputCol=\"features\")\n",
    " \n",
    "# Train a RandomForest model.\n",
    "rf = RandomForestClassifier(labelCol=\"indexedSurvived\", featuresCol=\"features\")"
   ]
  },
  {
   "cell_type": "code",
   "execution_count": 44,
   "metadata": {},
   "outputs": [],
   "source": [
    "# Chain indexers and forest in a Pipeline\n",
    "pipeline = Pipeline(stages=[surviveIndexer, genderIndexer, embarkIndexer, genderEncoder,embarkEncoder, assembler, rf]) "
   ]
  },
  {
   "cell_type": "code",
   "execution_count": 45,
   "metadata": {},
   "outputs": [],
   "source": [
    "# Train model.  This also runs the indexers.\n",
    "model = pipeline.fit(newtrainDF)\n",
    " \n",
    "# Predictions\n",
    "predictions = model.transform(newtestDF)"
   ]
  },
  {
   "cell_type": "code",
   "execution_count": 48,
   "metadata": {},
   "outputs": [
    {
     "name": "stdout",
     "output_type": "stream",
     "text": [
      "+----------+------------+--------------------+\n",
      "|prediction|TrueSurvived|            features|\n",
      "+----------+------------+--------------------+\n",
      "|       0.0|           0|[3.0,1.0,34.5,0.0...|\n",
      "|       0.0|           1|[3.0,0.0,47.0,1.0...|\n",
      "|       0.0|           0|[2.0,1.0,62.0,0.0...|\n",
      "|       0.0|           0|[3.0,1.0,27.0,0.0...|\n",
      "|       0.0|           1|[3.0,0.0,22.0,1.0...|\n",
      "+----------+------------+--------------------+\n",
      "only showing top 5 rows\n",
      "\n"
     ]
    }
   ],
   "source": [
    "predictions.select(\"prediction\", \"TrueSurvived\", \"features\").show(5)"
   ]
  },
  {
   "cell_type": "code",
   "execution_count": 49,
   "metadata": {},
   "outputs": [
    {
     "name": "stdout",
     "output_type": "stream",
     "text": [
      "Accuracy = 0.91866\n",
      "Test Error = 0.0813397\n"
     ]
    }
   ],
   "source": [
    "predictions1 = predictions.select(col(\"TrueSurvived\").cast(\"Float\"),col(\"prediction\"))\n",
    "evaluator = MulticlassClassificationEvaluator(labelCol=\"TrueSurvived\", predictionCol=\"prediction\", metricName=\"accuracy\")\n",
    "accuracy = evaluator.evaluate(predictions1)\n",
    "print(\"Accuracy = %g\" % accuracy)\n",
    "print(\"Test Error = %g\" % (1.0 - accuracy))"
   ]
  },
  {
   "cell_type": "markdown",
   "metadata": {},
   "source": [
    "Compared the predictions for test set with the given true labels and the accuracy came out to be 91% with Random Forest Classifier."
   ]
  }
 ],
 "metadata": {
  "kernelspec": {
   "display_name": "Python 3",
   "language": "python",
   "name": "python3"
  },
  "language_info": {
   "codemirror_mode": {
    "name": "ipython",
    "version": 3
   },
   "file_extension": ".py",
   "mimetype": "text/x-python",
   "name": "python",
   "nbconvert_exporter": "python",
   "pygments_lexer": "ipython3",
   "version": "3.6.3"
  }
 },
 "nbformat": 4,
 "nbformat_minor": 2
}
