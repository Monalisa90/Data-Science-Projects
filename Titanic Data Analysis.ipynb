{
 "cells": [
  {
   "cell_type": "code",
   "execution_count": 1,
   "metadata": {},
   "outputs": [],
   "source": [
    "import pandas as pd\n",
    "import numpy as np\n",
    "import datetime\n",
    "\n",
    "# Visualization libraries\n",
    "from matplotlib import pyplot as plt\n",
    "import seaborn as sns\n",
    "%matplotlib inline\n",
    "\n",
    "## Ignore warning\n",
    "import warnings\n",
    "warnings.filterwarnings('ignore')"
   ]
  },
  {
   "cell_type": "markdown",
   "metadata": {},
   "source": [
    "### Load dataset"
   ]
  },
  {
   "cell_type": "code",
   "execution_count": 2,
   "metadata": {},
   "outputs": [
    {
     "data": {
      "text/html": [
       "<div>\n",
       "<style scoped>\n",
       "    .dataframe tbody tr th:only-of-type {\n",
       "        vertical-align: middle;\n",
       "    }\n",
       "\n",
       "    .dataframe tbody tr th {\n",
       "        vertical-align: top;\n",
       "    }\n",
       "\n",
       "    .dataframe thead th {\n",
       "        text-align: right;\n",
       "    }\n",
       "</style>\n",
       "<table border=\"1\" class=\"dataframe\">\n",
       "  <thead>\n",
       "    <tr style=\"text-align: right;\">\n",
       "      <th></th>\n",
       "      <th>PassengerId</th>\n",
       "      <th>Survived</th>\n",
       "      <th>Pclass</th>\n",
       "      <th>Name</th>\n",
       "      <th>Sex</th>\n",
       "      <th>Age</th>\n",
       "      <th>SibSp</th>\n",
       "      <th>Parch</th>\n",
       "      <th>Ticket</th>\n",
       "      <th>Fare</th>\n",
       "      <th>Cabin</th>\n",
       "      <th>Embarked</th>\n",
       "    </tr>\n",
       "  </thead>\n",
       "  <tbody>\n",
       "    <tr>\n",
       "      <th>0</th>\n",
       "      <td>1</td>\n",
       "      <td>0</td>\n",
       "      <td>3</td>\n",
       "      <td>Braund, Mr. Owen Harris</td>\n",
       "      <td>male</td>\n",
       "      <td>22.0</td>\n",
       "      <td>1</td>\n",
       "      <td>0</td>\n",
       "      <td>A/5 21171</td>\n",
       "      <td>7.2500</td>\n",
       "      <td>NaN</td>\n",
       "      <td>S</td>\n",
       "    </tr>\n",
       "    <tr>\n",
       "      <th>1</th>\n",
       "      <td>2</td>\n",
       "      <td>1</td>\n",
       "      <td>1</td>\n",
       "      <td>Cumings, Mrs. John Bradley (Florence Briggs Th...</td>\n",
       "      <td>female</td>\n",
       "      <td>38.0</td>\n",
       "      <td>1</td>\n",
       "      <td>0</td>\n",
       "      <td>PC 17599</td>\n",
       "      <td>71.2833</td>\n",
       "      <td>C85</td>\n",
       "      <td>C</td>\n",
       "    </tr>\n",
       "    <tr>\n",
       "      <th>2</th>\n",
       "      <td>3</td>\n",
       "      <td>1</td>\n",
       "      <td>3</td>\n",
       "      <td>Heikkinen, Miss. Laina</td>\n",
       "      <td>female</td>\n",
       "      <td>26.0</td>\n",
       "      <td>0</td>\n",
       "      <td>0</td>\n",
       "      <td>STON/O2. 3101282</td>\n",
       "      <td>7.9250</td>\n",
       "      <td>NaN</td>\n",
       "      <td>S</td>\n",
       "    </tr>\n",
       "    <tr>\n",
       "      <th>3</th>\n",
       "      <td>4</td>\n",
       "      <td>1</td>\n",
       "      <td>1</td>\n",
       "      <td>Futrelle, Mrs. Jacques Heath (Lily May Peel)</td>\n",
       "      <td>female</td>\n",
       "      <td>35.0</td>\n",
       "      <td>1</td>\n",
       "      <td>0</td>\n",
       "      <td>113803</td>\n",
       "      <td>53.1000</td>\n",
       "      <td>C123</td>\n",
       "      <td>S</td>\n",
       "    </tr>\n",
       "  </tbody>\n",
       "</table>\n",
       "</div>"
      ],
      "text/plain": [
       "   PassengerId  Survived  Pclass  \\\n",
       "0            1         0       3   \n",
       "1            2         1       1   \n",
       "2            3         1       3   \n",
       "3            4         1       1   \n",
       "\n",
       "                                                Name     Sex   Age  SibSp  \\\n",
       "0                            Braund, Mr. Owen Harris    male  22.0      1   \n",
       "1  Cumings, Mrs. John Bradley (Florence Briggs Th...  female  38.0      1   \n",
       "2                             Heikkinen, Miss. Laina  female  26.0      0   \n",
       "3       Futrelle, Mrs. Jacques Heath (Lily May Peel)  female  35.0      1   \n",
       "\n",
       "   Parch            Ticket     Fare Cabin Embarked  \n",
       "0      0         A/5 21171   7.2500   NaN        S  \n",
       "1      0          PC 17599  71.2833   C85        C  \n",
       "2      0  STON/O2. 3101282   7.9250   NaN        S  \n",
       "3      0            113803  53.1000  C123        S  "
      ]
     },
     "execution_count": 2,
     "metadata": {},
     "output_type": "execute_result"
    }
   ],
   "source": [
    "train_data = pd.read_csv(\"train.csv\")\n",
    "train_data.head(4)"
   ]
  },
  {
   "cell_type": "code",
   "execution_count": 3,
   "metadata": {},
   "outputs": [
    {
     "name": "stdout",
     "output_type": "stream",
     "text": [
      "Training dataset has 891 rows and 12 columns\n"
     ]
    }
   ],
   "source": [
    "print(\"Training dataset has {} rows and {} columns\".format(train_data.shape[0], train_data.shape[1]))"
   ]
  },
  {
   "cell_type": "code",
   "execution_count": 4,
   "metadata": {},
   "outputs": [
    {
     "data": {
      "text/html": [
       "<div>\n",
       "<style scoped>\n",
       "    .dataframe tbody tr th:only-of-type {\n",
       "        vertical-align: middle;\n",
       "    }\n",
       "\n",
       "    .dataframe tbody tr th {\n",
       "        vertical-align: top;\n",
       "    }\n",
       "\n",
       "    .dataframe thead th {\n",
       "        text-align: right;\n",
       "    }\n",
       "</style>\n",
       "<table border=\"1\" class=\"dataframe\">\n",
       "  <thead>\n",
       "    <tr style=\"text-align: right;\">\n",
       "      <th></th>\n",
       "      <th>PassengerId</th>\n",
       "      <th>Pclass</th>\n",
       "      <th>Name</th>\n",
       "      <th>Sex</th>\n",
       "      <th>Age</th>\n",
       "      <th>SibSp</th>\n",
       "      <th>Parch</th>\n",
       "      <th>Ticket</th>\n",
       "      <th>Fare</th>\n",
       "      <th>Cabin</th>\n",
       "      <th>Embarked</th>\n",
       "    </tr>\n",
       "  </thead>\n",
       "  <tbody>\n",
       "    <tr>\n",
       "      <th>0</th>\n",
       "      <td>892</td>\n",
       "      <td>3</td>\n",
       "      <td>Kelly, Mr. James</td>\n",
       "      <td>male</td>\n",
       "      <td>34.5</td>\n",
       "      <td>0</td>\n",
       "      <td>0</td>\n",
       "      <td>330911</td>\n",
       "      <td>7.8292</td>\n",
       "      <td>NaN</td>\n",
       "      <td>Q</td>\n",
       "    </tr>\n",
       "    <tr>\n",
       "      <th>1</th>\n",
       "      <td>893</td>\n",
       "      <td>3</td>\n",
       "      <td>Wilkes, Mrs. James (Ellen Needs)</td>\n",
       "      <td>female</td>\n",
       "      <td>47.0</td>\n",
       "      <td>1</td>\n",
       "      <td>0</td>\n",
       "      <td>363272</td>\n",
       "      <td>7.0000</td>\n",
       "      <td>NaN</td>\n",
       "      <td>S</td>\n",
       "    </tr>\n",
       "    <tr>\n",
       "      <th>2</th>\n",
       "      <td>894</td>\n",
       "      <td>2</td>\n",
       "      <td>Myles, Mr. Thomas Francis</td>\n",
       "      <td>male</td>\n",
       "      <td>62.0</td>\n",
       "      <td>0</td>\n",
       "      <td>0</td>\n",
       "      <td>240276</td>\n",
       "      <td>9.6875</td>\n",
       "      <td>NaN</td>\n",
       "      <td>Q</td>\n",
       "    </tr>\n",
       "    <tr>\n",
       "      <th>3</th>\n",
       "      <td>895</td>\n",
       "      <td>3</td>\n",
       "      <td>Wirz, Mr. Albert</td>\n",
       "      <td>male</td>\n",
       "      <td>27.0</td>\n",
       "      <td>0</td>\n",
       "      <td>0</td>\n",
       "      <td>315154</td>\n",
       "      <td>8.6625</td>\n",
       "      <td>NaN</td>\n",
       "      <td>S</td>\n",
       "    </tr>\n",
       "  </tbody>\n",
       "</table>\n",
       "</div>"
      ],
      "text/plain": [
       "   PassengerId  Pclass                              Name     Sex   Age  SibSp  \\\n",
       "0          892       3                  Kelly, Mr. James    male  34.5      0   \n",
       "1          893       3  Wilkes, Mrs. James (Ellen Needs)  female  47.0      1   \n",
       "2          894       2         Myles, Mr. Thomas Francis    male  62.0      0   \n",
       "3          895       3                  Wirz, Mr. Albert    male  27.0      0   \n",
       "\n",
       "   Parch  Ticket    Fare Cabin Embarked  \n",
       "0      0  330911  7.8292   NaN        Q  \n",
       "1      0  363272  7.0000   NaN        S  \n",
       "2      0  240276  9.6875   NaN        Q  \n",
       "3      0  315154  8.6625   NaN        S  "
      ]
     },
     "execution_count": 4,
     "metadata": {},
     "output_type": "execute_result"
    }
   ],
   "source": [
    "test_data  = pd.read_csv(\"test.csv\")\n",
    "test_data.head(4)"
   ]
  },
  {
   "cell_type": "code",
   "execution_count": 5,
   "metadata": {},
   "outputs": [
    {
     "name": "stdout",
     "output_type": "stream",
     "text": [
      "Test dataset has 418 rows and 11 columns\n"
     ]
    }
   ],
   "source": [
    "print(\"Test dataset has {} rows and {} columns\".format(test_data.shape[0], test_data.shape[1]))"
   ]
  },
  {
   "cell_type": "markdown",
   "metadata": {},
   "source": [
    "### EDA"
   ]
  },
  {
   "cell_type": "markdown",
   "metadata": {},
   "source": [
    "#### Check for missing values"
   ]
  },
  {
   "cell_type": "code",
   "execution_count": 6,
   "metadata": {},
   "outputs": [
    {
     "data": {
      "text/html": [
       "<div>\n",
       "<style scoped>\n",
       "    .dataframe tbody tr th:only-of-type {\n",
       "        vertical-align: middle;\n",
       "    }\n",
       "\n",
       "    .dataframe tbody tr th {\n",
       "        vertical-align: top;\n",
       "    }\n",
       "\n",
       "    .dataframe thead th {\n",
       "        text-align: right;\n",
       "    }\n",
       "</style>\n",
       "<table border=\"1\" class=\"dataframe\">\n",
       "  <thead>\n",
       "    <tr style=\"text-align: right;\">\n",
       "      <th></th>\n",
       "      <th># Missing values</th>\n",
       "    </tr>\n",
       "  </thead>\n",
       "  <tbody>\n",
       "    <tr>\n",
       "      <th>Cabin</th>\n",
       "      <td>687</td>\n",
       "    </tr>\n",
       "    <tr>\n",
       "      <th>Age</th>\n",
       "      <td>177</td>\n",
       "    </tr>\n",
       "    <tr>\n",
       "      <th>Embarked</th>\n",
       "      <td>2</td>\n",
       "    </tr>\n",
       "    <tr>\n",
       "      <th>Fare</th>\n",
       "      <td>0</td>\n",
       "    </tr>\n",
       "    <tr>\n",
       "      <th>Ticket</th>\n",
       "      <td>0</td>\n",
       "    </tr>\n",
       "    <tr>\n",
       "      <th>Parch</th>\n",
       "      <td>0</td>\n",
       "    </tr>\n",
       "    <tr>\n",
       "      <th>SibSp</th>\n",
       "      <td>0</td>\n",
       "    </tr>\n",
       "    <tr>\n",
       "      <th>Sex</th>\n",
       "      <td>0</td>\n",
       "    </tr>\n",
       "    <tr>\n",
       "      <th>Name</th>\n",
       "      <td>0</td>\n",
       "    </tr>\n",
       "    <tr>\n",
       "      <th>Pclass</th>\n",
       "      <td>0</td>\n",
       "    </tr>\n",
       "    <tr>\n",
       "      <th>Survived</th>\n",
       "      <td>0</td>\n",
       "    </tr>\n",
       "    <tr>\n",
       "      <th>PassengerId</th>\n",
       "      <td>0</td>\n",
       "    </tr>\n",
       "  </tbody>\n",
       "</table>\n",
       "</div>"
      ],
      "text/plain": [
       "             # Missing values\n",
       "Cabin                     687\n",
       "Age                       177\n",
       "Embarked                    2\n",
       "Fare                        0\n",
       "Ticket                      0\n",
       "Parch                       0\n",
       "SibSp                       0\n",
       "Sex                         0\n",
       "Name                        0\n",
       "Pclass                      0\n",
       "Survived                    0\n",
       "PassengerId                 0"
      ]
     },
     "execution_count": 6,
     "metadata": {},
     "output_type": "execute_result"
    }
   ],
   "source": [
    "pd.DataFrame(train_data.isnull().sum().sort_values(ascending = False), columns=['# Missing values'])"
   ]
  },
  {
   "cell_type": "code",
   "execution_count": 7,
   "metadata": {},
   "outputs": [
    {
     "data": {
      "text/plain": [
       "8.099513655069211"
      ]
     },
     "execution_count": 7,
     "metadata": {},
     "output_type": "execute_result"
    }
   ],
   "source": [
    "# how many total missing values do we have?\n",
    "total_cells = np.product(train_data.shape)\n",
    "total_missing = train_data.isnull().sum().sum()\n",
    "\n",
    "# percent of training data that is missing\n",
    "(total_missing/total_cells) * 100"
   ]
  },
  {
   "cell_type": "code",
   "execution_count": 8,
   "metadata": {},
   "outputs": [
    {
     "data": {
      "text/html": [
       "<div>\n",
       "<style scoped>\n",
       "    .dataframe tbody tr th:only-of-type {\n",
       "        vertical-align: middle;\n",
       "    }\n",
       "\n",
       "    .dataframe tbody tr th {\n",
       "        vertical-align: top;\n",
       "    }\n",
       "\n",
       "    .dataframe thead th {\n",
       "        text-align: right;\n",
       "    }\n",
       "</style>\n",
       "<table border=\"1\" class=\"dataframe\">\n",
       "  <thead>\n",
       "    <tr style=\"text-align: right;\">\n",
       "      <th></th>\n",
       "      <th># Missing values</th>\n",
       "    </tr>\n",
       "  </thead>\n",
       "  <tbody>\n",
       "    <tr>\n",
       "      <th>Cabin</th>\n",
       "      <td>327</td>\n",
       "    </tr>\n",
       "    <tr>\n",
       "      <th>Age</th>\n",
       "      <td>86</td>\n",
       "    </tr>\n",
       "    <tr>\n",
       "      <th>Fare</th>\n",
       "      <td>1</td>\n",
       "    </tr>\n",
       "    <tr>\n",
       "      <th>Embarked</th>\n",
       "      <td>0</td>\n",
       "    </tr>\n",
       "    <tr>\n",
       "      <th>Ticket</th>\n",
       "      <td>0</td>\n",
       "    </tr>\n",
       "    <tr>\n",
       "      <th>Parch</th>\n",
       "      <td>0</td>\n",
       "    </tr>\n",
       "    <tr>\n",
       "      <th>SibSp</th>\n",
       "      <td>0</td>\n",
       "    </tr>\n",
       "    <tr>\n",
       "      <th>Sex</th>\n",
       "      <td>0</td>\n",
       "    </tr>\n",
       "    <tr>\n",
       "      <th>Name</th>\n",
       "      <td>0</td>\n",
       "    </tr>\n",
       "    <tr>\n",
       "      <th>Pclass</th>\n",
       "      <td>0</td>\n",
       "    </tr>\n",
       "    <tr>\n",
       "      <th>PassengerId</th>\n",
       "      <td>0</td>\n",
       "    </tr>\n",
       "  </tbody>\n",
       "</table>\n",
       "</div>"
      ],
      "text/plain": [
       "             # Missing values\n",
       "Cabin                     327\n",
       "Age                        86\n",
       "Fare                        1\n",
       "Embarked                    0\n",
       "Ticket                      0\n",
       "Parch                       0\n",
       "SibSp                       0\n",
       "Sex                         0\n",
       "Name                        0\n",
       "Pclass                      0\n",
       "PassengerId                 0"
      ]
     },
     "execution_count": 8,
     "metadata": {},
     "output_type": "execute_result"
    }
   ],
   "source": [
    "pd.DataFrame(test_data.isnull().sum().sort_values(ascending = False), columns=['# Missing values'])"
   ]
  },
  {
   "cell_type": "code",
   "execution_count": 9,
   "metadata": {},
   "outputs": [
    {
     "data": {
      "text/plain": [
       "9.00391474554154"
      ]
     },
     "execution_count": 9,
     "metadata": {},
     "output_type": "execute_result"
    }
   ],
   "source": [
    "# how many total missing values do we have?\n",
    "total_cells = np.product(test_data.shape)\n",
    "total_missing = test_data.isnull().sum().sum()\n",
    "\n",
    "# percent of training data that is missing\n",
    "(total_missing/total_cells) * 100"
   ]
  },
  {
   "cell_type": "markdown",
   "metadata": {},
   "source": [
    "It can be observed that in training data, 8% of data is missing which includes 2 Embarked values and mostly Cabin and Age features. Whereas, in test data 9% data is missing.\n",
    "\n",
    "At this point, one might think that why the values are missing. Are they missing because they don't exist or they were not recorded. If they don't exist then it doesn't make sense to try and guess what it might be. However, if they were not recorded then they can be guessed what they might have been based on the other values in that column and row. Let's see what missing values can be filled."
   ]
  },
  {
   "cell_type": "markdown",
   "metadata": {},
   "source": [
    "#### Handle missing values"
   ]
  },
  {
   "cell_type": "markdown",
   "metadata": {},
   "source": [
    "##### Embarked feature in training set"
   ]
  },
  {
   "cell_type": "code",
   "execution_count": 10,
   "metadata": {},
   "outputs": [
    {
     "data": {
      "text/html": [
       "<div>\n",
       "<style scoped>\n",
       "    .dataframe tbody tr th:only-of-type {\n",
       "        vertical-align: middle;\n",
       "    }\n",
       "\n",
       "    .dataframe tbody tr th {\n",
       "        vertical-align: top;\n",
       "    }\n",
       "\n",
       "    .dataframe thead th {\n",
       "        text-align: right;\n",
       "    }\n",
       "</style>\n",
       "<table border=\"1\" class=\"dataframe\">\n",
       "  <thead>\n",
       "    <tr style=\"text-align: right;\">\n",
       "      <th></th>\n",
       "      <th>Embarked</th>\n",
       "    </tr>\n",
       "  </thead>\n",
       "  <tbody>\n",
       "    <tr>\n",
       "      <th>S</th>\n",
       "      <td>644</td>\n",
       "    </tr>\n",
       "    <tr>\n",
       "      <th>C</th>\n",
       "      <td>168</td>\n",
       "    </tr>\n",
       "    <tr>\n",
       "      <th>Q</th>\n",
       "      <td>77</td>\n",
       "    </tr>\n",
       "    <tr>\n",
       "      <th>NaN</th>\n",
       "      <td>2</td>\n",
       "    </tr>\n",
       "  </tbody>\n",
       "</table>\n",
       "</div>"
      ],
      "text/plain": [
       "     Embarked\n",
       "S         644\n",
       "C         168\n",
       "Q          77\n",
       "NaN         2"
      ]
     },
     "execution_count": 10,
     "metadata": {},
     "output_type": "execute_result"
    }
   ],
   "source": [
    "pd.DataFrame(train_data['Embarked'].value_counts(dropna=False))"
   ]
  },
  {
   "cell_type": "markdown",
   "metadata": {},
   "source": [
    "It looks like there are only two null values in the Embarked feature, so it can be replaced with the mode value \"S.\"\n",
    "\n",
    "Let's see what are those two null values."
   ]
  },
  {
   "cell_type": "code",
   "execution_count": 11,
   "metadata": {},
   "outputs": [
    {
     "data": {
      "text/html": [
       "<div>\n",
       "<style scoped>\n",
       "    .dataframe tbody tr th:only-of-type {\n",
       "        vertical-align: middle;\n",
       "    }\n",
       "\n",
       "    .dataframe tbody tr th {\n",
       "        vertical-align: top;\n",
       "    }\n",
       "\n",
       "    .dataframe thead th {\n",
       "        text-align: right;\n",
       "    }\n",
       "</style>\n",
       "<table border=\"1\" class=\"dataframe\">\n",
       "  <thead>\n",
       "    <tr style=\"text-align: right;\">\n",
       "      <th></th>\n",
       "      <th>PassengerId</th>\n",
       "      <th>Survived</th>\n",
       "      <th>Pclass</th>\n",
       "      <th>Name</th>\n",
       "      <th>Sex</th>\n",
       "      <th>Age</th>\n",
       "      <th>SibSp</th>\n",
       "      <th>Parch</th>\n",
       "      <th>Ticket</th>\n",
       "      <th>Fare</th>\n",
       "      <th>Cabin</th>\n",
       "      <th>Embarked</th>\n",
       "    </tr>\n",
       "  </thead>\n",
       "  <tbody>\n",
       "    <tr>\n",
       "      <th>61</th>\n",
       "      <td>62</td>\n",
       "      <td>1</td>\n",
       "      <td>1</td>\n",
       "      <td>Icard, Miss. Amelie</td>\n",
       "      <td>female</td>\n",
       "      <td>38.0</td>\n",
       "      <td>0</td>\n",
       "      <td>0</td>\n",
       "      <td>113572</td>\n",
       "      <td>80.0</td>\n",
       "      <td>B28</td>\n",
       "      <td>NaN</td>\n",
       "    </tr>\n",
       "    <tr>\n",
       "      <th>829</th>\n",
       "      <td>830</td>\n",
       "      <td>1</td>\n",
       "      <td>1</td>\n",
       "      <td>Stone, Mrs. George Nelson (Martha Evelyn)</td>\n",
       "      <td>female</td>\n",
       "      <td>62.0</td>\n",
       "      <td>0</td>\n",
       "      <td>0</td>\n",
       "      <td>113572</td>\n",
       "      <td>80.0</td>\n",
       "      <td>B28</td>\n",
       "      <td>NaN</td>\n",
       "    </tr>\n",
       "  </tbody>\n",
       "</table>\n",
       "</div>"
      ],
      "text/plain": [
       "     PassengerId  Survived  Pclass                                       Name  \\\n",
       "61            62         1       1                        Icard, Miss. Amelie   \n",
       "829          830         1       1  Stone, Mrs. George Nelson (Martha Evelyn)   \n",
       "\n",
       "        Sex   Age  SibSp  Parch  Ticket  Fare Cabin Embarked  \n",
       "61   female  38.0      0      0  113572  80.0   B28      NaN  \n",
       "829  female  62.0      0      0  113572  80.0   B28      NaN  "
      ]
     },
     "execution_count": 11,
     "metadata": {},
     "output_type": "execute_result"
    }
   ],
   "source": [
    "train_data[train_data.Embarked.isnull()]"
   ]
  },
  {
   "cell_type": "markdown",
   "metadata": {},
   "source": [
    "It can be seen that both passengers paid a fare of $80, are of Pclass 1 and are female. But, one is 38 years and the other is 62 years. Let's see how Fare and Age features are distributed among all Pclass and Embarked feature values."
   ]
  },
  {
   "cell_type": "code",
   "execution_count": 12,
   "metadata": {},
   "outputs": [
    {
     "data": {
      "image/png": "[encoded data removed]",
      "text/plain": [
       "<Figure size 1152x576 with 2 Axes>"
      ]
     },
     "metadata": {
      "needs_background": "light"
     },
     "output_type": "display_data"
    }
   ],
   "source": [
    "fig, ax = plt.subplots(figsize=(16,8),ncols=2)\n",
    "ax1 = sns.boxplot(x=\"Embarked\", y=\"Fare\", hue=\"Pclass\", data=train_data, ax = ax[0]);\n",
    "ax2 = sns.boxplot(x=\"Embarked\", y=\"Fare\", hue=\"Pclass\", data=test_data, ax = ax[1]);\n",
    "ax1.set_title(\"Training Set\", fontsize = 12)\n",
    "ax2.set_title('Test Set',  fontsize = 12)\n",
    "ax1.grid('True')\n",
    "ax2.grid('True')\n",
    "fig.show()"
   ]
  },
  {
   "cell_type": "markdown",
   "metadata": {},
   "source": [
    "Here, in both training set and test set, the average fare closest to $80 are in the C Embarked values. "
   ]
  },
  {
   "cell_type": "code",
   "execution_count": 13,
   "metadata": {},
   "outputs": [
    {
     "data": {
      "image/png": "[encoded data removed]",
      "text/plain": [
       "<Figure size 1152x576 with 2 Axes>"
      ]
     },
     "metadata": {
      "needs_background": "light"
     },
     "output_type": "display_data"
    }
   ],
   "source": [
    "fig, ax = plt.subplots(figsize=(16,8),ncols=2)\n",
    "ax1 = sns.boxplot(x=\"Embarked\", y=\"Age\", hue=\"Pclass\", data=train_data, ax = ax[0]);\n",
    "ax2 = sns.boxplot(x=\"Embarked\", y=\"Age\", hue=\"Pclass\", data=test_data, ax = ax[1]);\n",
    "ax1.set_title(\"Training Set\", fontsize = 12)\n",
    "ax2.set_title('Test Set',  fontsize = 12)\n",
    "ax1.grid('True')\n",
    "ax2.grid('True')\n",
    "fig.show()"
   ]
  },
  {
   "cell_type": "markdown",
   "metadata": {},
   "source": [
    "Here, in both training set and test set, the range of 30-40 years of PClass 1 people has Embarked C values. But. no sign for 62 years of age. So, let's fill in the missing values as \"C\" "
   ]
  },
  {
   "cell_type": "code",
   "execution_count": 14,
   "metadata": {},
   "outputs": [],
   "source": [
    "train_data.Embarked.fillna(\"C\", inplace=True)"
   ]
  },
  {
   "cell_type": "markdown",
   "metadata": {},
   "source": [
    "##### Fare feature in test set"
   ]
  },
  {
   "cell_type": "code",
   "execution_count": 15,
   "metadata": {},
   "outputs": [
    {
     "data": {
      "text/html": [
       "<div>\n",
       "<style scoped>\n",
       "    .dataframe tbody tr th:only-of-type {\n",
       "        vertical-align: middle;\n",
       "    }\n",
       "\n",
       "    .dataframe tbody tr th {\n",
       "        vertical-align: top;\n",
       "    }\n",
       "\n",
       "    .dataframe thead th {\n",
       "        text-align: right;\n",
       "    }\n",
       "</style>\n",
       "<table border=\"1\" class=\"dataframe\">\n",
       "  <thead>\n",
       "    <tr style=\"text-align: right;\">\n",
       "      <th></th>\n",
       "      <th>PassengerId</th>\n",
       "      <th>Pclass</th>\n",
       "      <th>Name</th>\n",
       "      <th>Sex</th>\n",
       "      <th>Age</th>\n",
       "      <th>SibSp</th>\n",
       "      <th>Parch</th>\n",
       "      <th>Ticket</th>\n",
       "      <th>Fare</th>\n",
       "      <th>Cabin</th>\n",
       "      <th>Embarked</th>\n",
       "    </tr>\n",
       "  </thead>\n",
       "  <tbody>\n",
       "    <tr>\n",
       "      <th>152</th>\n",
       "      <td>1044</td>\n",
       "      <td>3</td>\n",
       "      <td>Storey, Mr. Thomas</td>\n",
       "      <td>male</td>\n",
       "      <td>60.5</td>\n",
       "      <td>0</td>\n",
       "      <td>0</td>\n",
       "      <td>3701</td>\n",
       "      <td>NaN</td>\n",
       "      <td>NaN</td>\n",
       "      <td>S</td>\n",
       "    </tr>\n",
       "  </tbody>\n",
       "</table>\n",
       "</div>"
      ],
      "text/plain": [
       "     PassengerId  Pclass                Name   Sex   Age  SibSp  Parch Ticket  \\\n",
       "152         1044       3  Storey, Mr. Thomas  male  60.5      0      0   3701   \n",
       "\n",
       "     Fare Cabin Embarked  \n",
       "152   NaN   NaN        S  "
      ]
     },
     "execution_count": 15,
     "metadata": {},
     "output_type": "execute_result"
    }
   ],
   "source": [
    "test_data[test_data.Fare.isnull()]"
   ]
  },
  {
   "cell_type": "markdown",
   "metadata": {},
   "source": [
    "It can beseen that the passenger is a male of 60 years from PClass 3 and Embarked S. So, this fare can be filled with the avarage fare of fares with these specific values.`"
   ]
  },
  {
   "cell_type": "code",
   "execution_count": 16,
   "metadata": {},
   "outputs": [
    {
     "data": {
      "text/plain": [
       "12.718872"
      ]
     },
     "execution_count": 16,
     "metadata": {},
     "output_type": "execute_result"
    }
   ],
   "source": [
    "avg_fare = test_data[(test_data['Pclass'] == 3) & (test_data['Sex'] == 'male') & (test_data['Embarked'] == 'S')]['Fare'].mean()\n",
    "avg_fare"
   ]
  },
  {
   "cell_type": "code",
   "execution_count": 17,
   "metadata": {},
   "outputs": [],
   "source": [
    "test_data.Fare.fillna(round(avg_fare,2), inplace=True)"
   ]
  },
  {
   "cell_type": "markdown",
   "metadata": {},
   "source": [
    "##### Cabin feature in training and test set"
   ]
  },
  {
   "cell_type": "code",
   "execution_count": 18,
   "metadata": {},
   "outputs": [
    {
     "name": "stdout",
     "output_type": "stream",
     "text": [
      "Train Cabin missing: 0.7710437710437711\n",
      "Test Cabin missing:  0.7822966507177034\n"
     ]
    }
   ],
   "source": [
    "print(\"Train Cabin missing: \" + str(train_data.Cabin.isnull().sum()/len(train_data.Cabin)))\n",
    "print(\"Test Cabin missing:  \" + str(test_data.Cabin.isnull().sum()/len(test_data.Cabin)))"
   ]
  },
  {
   "cell_type": "markdown",
   "metadata": {},
   "source": [
    "Approximately 77% of Cabin feature is missing in the training data and 78% missing in the test data. From my perspective, I do not see a clear contribution of Cabin feature in predicting whether the person is survived or not. I think, I should drop this feature from both the sets."
   ]
  },
  {
   "cell_type": "code",
   "execution_count": 19,
   "metadata": {},
   "outputs": [],
   "source": [
    "train_data = train_data.drop(columns=['Cabin'])\n",
    "test_data  = test_data.drop(columns=['Cabin'])"
   ]
  },
  {
   "cell_type": "markdown",
   "metadata": {},
   "source": [
    "##### Age feature in training and test set"
   ]
  },
  {
   "cell_type": "code",
   "execution_count": 20,
   "metadata": {},
   "outputs": [
    {
     "name": "stdout",
     "output_type": "stream",
     "text": [
      "Missing ages in training data:  19.87%\n",
      "Missing ages in test data:      20.57%\n"
     ]
    }
   ],
   "source": [
    "print(\"Missing ages in training data:  \" + str(round((train_data.Age.isnull().sum()/len(train_data.Age))*100,2))+str(\"%\"))\n",
    "print(\"Missing ages in test data:      \" + str(round((test_data.Age.isnull().sum()/len(test_data.Age))*100,2))+str(\"%\"))"
   ]
  },
  {
   "cell_type": "markdown",
   "metadata": {},
   "source": [
    "Almost 20% of age is missing from both training set and test set. To fill the missing values, I will use Random Forest Regressor to predict the missing ages based on ages present."
   ]
  },
  {
   "cell_type": "code",
   "execution_count": 21,
   "metadata": {},
   "outputs": [
    {
     "data": {
      "text/plain": [
       "<matplotlib.axes._subplots.AxesSubplot at 0x192e36b7748>"
      ]
     },
     "execution_count": 21,
     "metadata": {},
     "output_type": "execute_result"
    },
    {
     "data": {
      "image/png": "[encoded data removed]",
      "text/plain": [
       "<Figure size 720x360 with 1 Axes>"
      ]
     },
     "metadata": {},
     "output_type": "display_data"
    }
   ],
   "source": [
    "# Before filling missing values\n",
    "sns.set(color_codes=True)\n",
    "plt.subplots(figsize = (10,5),)\n",
    "sns.distplot(train_data['Age'].dropna(), bins = 70, kde = False, rug = False, norm_hist=False)"
   ]
  },
  {
   "cell_type": "code",
   "execution_count": 22,
   "metadata": {},
   "outputs": [],
   "source": [
    "training_set = train_data[[\"Survived\", \"Age\", \"Sex\", \"Pclass\",\"SibSp\",\"Parch\",\"Fare\",\"Embarked\"]]\n",
    "test_set     = test_data[[\"Age\", \"Sex\", \"Pclass\",\"SibSp\",\"Parch\",\"Fare\",\"Embarked\"]]"
   ]
  },
  {
   "cell_type": "code",
   "execution_count": 23,
   "metadata": {},
   "outputs": [
    {
     "data": {
      "text/html": [
       "<div>\n",
       "<style scoped>\n",
       "    .dataframe tbody tr th:only-of-type {\n",
       "        vertical-align: middle;\n",
       "    }\n",
       "\n",
       "    .dataframe tbody tr th {\n",
       "        vertical-align: top;\n",
       "    }\n",
       "\n",
       "    .dataframe thead th {\n",
       "        text-align: right;\n",
       "    }\n",
       "</style>\n",
       "<table border=\"1\" class=\"dataframe\">\n",
       "  <thead>\n",
       "    <tr style=\"text-align: right;\">\n",
       "      <th></th>\n",
       "      <th>Survived</th>\n",
       "      <th>Age</th>\n",
       "      <th>Sex</th>\n",
       "      <th>Pclass</th>\n",
       "      <th>SibSp</th>\n",
       "      <th>Parch</th>\n",
       "      <th>Fare</th>\n",
       "      <th>Embarked</th>\n",
       "    </tr>\n",
       "  </thead>\n",
       "  <tbody>\n",
       "    <tr>\n",
       "      <th>0</th>\n",
       "      <td>0</td>\n",
       "      <td>22.0</td>\n",
       "      <td>male</td>\n",
       "      <td>3</td>\n",
       "      <td>1</td>\n",
       "      <td>0</td>\n",
       "      <td>7.2500</td>\n",
       "      <td>S</td>\n",
       "    </tr>\n",
       "    <tr>\n",
       "      <th>1</th>\n",
       "      <td>1</td>\n",
       "      <td>38.0</td>\n",
       "      <td>female</td>\n",
       "      <td>1</td>\n",
       "      <td>1</td>\n",
       "      <td>0</td>\n",
       "      <td>71.2833</td>\n",
       "      <td>C</td>\n",
       "    </tr>\n",
       "  </tbody>\n",
       "</table>\n",
       "</div>"
      ],
      "text/plain": [
       "   Survived   Age     Sex  Pclass  SibSp  Parch     Fare Embarked\n",
       "0         0  22.0    male       3      1      0   7.2500        S\n",
       "1         1  38.0  female       1      1      0  71.2833        C"
      ]
     },
     "execution_count": 23,
     "metadata": {},
     "output_type": "execute_result"
    }
   ],
   "source": [
    "training_set.head(2)"
   ]
  },
  {
   "cell_type": "code",
   "execution_count": 24,
   "metadata": {},
   "outputs": [
    {
     "data": {
      "text/html": [
       "<div>\n",
       "<style scoped>\n",
       "    .dataframe tbody tr th:only-of-type {\n",
       "        vertical-align: middle;\n",
       "    }\n",
       "\n",
       "    .dataframe tbody tr th {\n",
       "        vertical-align: top;\n",
       "    }\n",
       "\n",
       "    .dataframe thead th {\n",
       "        text-align: right;\n",
       "    }\n",
       "</style>\n",
       "<table border=\"1\" class=\"dataframe\">\n",
       "  <thead>\n",
       "    <tr style=\"text-align: right;\">\n",
       "      <th></th>\n",
       "      <th>Age</th>\n",
       "      <th>Sex</th>\n",
       "      <th>Pclass</th>\n",
       "      <th>SibSp</th>\n",
       "      <th>Parch</th>\n",
       "      <th>Fare</th>\n",
       "      <th>Embarked</th>\n",
       "    </tr>\n",
       "  </thead>\n",
       "  <tbody>\n",
       "    <tr>\n",
       "      <th>0</th>\n",
       "      <td>34.5</td>\n",
       "      <td>male</td>\n",
       "      <td>3</td>\n",
       "      <td>0</td>\n",
       "      <td>0</td>\n",
       "      <td>7.8292</td>\n",
       "      <td>Q</td>\n",
       "    </tr>\n",
       "    <tr>\n",
       "      <th>1</th>\n",
       "      <td>47.0</td>\n",
       "      <td>female</td>\n",
       "      <td>3</td>\n",
       "      <td>1</td>\n",
       "      <td>0</td>\n",
       "      <td>7.0000</td>\n",
       "      <td>S</td>\n",
       "    </tr>\n",
       "  </tbody>\n",
       "</table>\n",
       "</div>"
      ],
      "text/plain": [
       "    Age     Sex  Pclass  SibSp  Parch    Fare Embarked\n",
       "0  34.5    male       3      0      0  7.8292        Q\n",
       "1  47.0  female       3      1      0  7.0000        S"
      ]
     },
     "execution_count": 24,
     "metadata": {},
     "output_type": "execute_result"
    }
   ],
   "source": [
    "test_set.head(2)"
   ]
  },
  {
   "cell_type": "markdown",
   "metadata": {},
   "source": [
    "Here, Sex and embarked are categorical values. Regardless of what the value is used for, the challenge is determining how to use this data in the analysis. Many machine learning algorithms can support categorical values without further manipulation but there are many more algorithms that do not. So, I will be using the label encoding approach to convert each value in a column to a number."
   ]
  },
  {
   "cell_type": "code",
   "execution_count": 25,
   "metadata": {},
   "outputs": [],
   "source": [
    "# convert the columns to category\n",
    "training_set[\"Sex\"] = training_set[\"Sex\"].astype('category')\n",
    "test_set[\"Sex\"]     = test_set[\"Sex\"].astype('category')\n",
    "\n",
    "training_set[\"Embarked\"] = training_set[\"Embarked\"].astype('category')\n",
    "test_set[\"Embarked\"]     = test_set[\"Embarked\"].astype('category')\n",
    "\n",
    "# assign the encoded variable to a new column using the cat.codes accessor\n",
    "training_set[\"Sex\"] = training_set[\"Sex\"].cat.codes\n",
    "test_set[\"Sex\"]     = test_set[\"Sex\"].cat.codes\n",
    "\n",
    "training_set[\"Embarked\"] = training_set[\"Embarked\"].cat.codes\n",
    "test_set[\"Embarked\"]     = test_set[\"Embarked\"].cat.codes"
   ]
  },
  {
   "cell_type": "markdown",
   "metadata": {},
   "source": [
    "This assigned male as 1, female as 0 and S as 2, C as 0 and Q as 1"
   ]
  },
  {
   "cell_type": "code",
   "execution_count": 26,
   "metadata": {},
   "outputs": [
    {
     "data": {
      "text/html": [
       "<div>\n",
       "<style scoped>\n",
       "    .dataframe tbody tr th:only-of-type {\n",
       "        vertical-align: middle;\n",
       "    }\n",
       "\n",
       "    .dataframe tbody tr th {\n",
       "        vertical-align: top;\n",
       "    }\n",
       "\n",
       "    .dataframe thead th {\n",
       "        text-align: right;\n",
       "    }\n",
       "</style>\n",
       "<table border=\"1\" class=\"dataframe\">\n",
       "  <thead>\n",
       "    <tr style=\"text-align: right;\">\n",
       "      <th></th>\n",
       "      <th>Survived</th>\n",
       "      <th>Age</th>\n",
       "      <th>Sex</th>\n",
       "      <th>Pclass</th>\n",
       "      <th>SibSp</th>\n",
       "      <th>Parch</th>\n",
       "      <th>Fare</th>\n",
       "      <th>Embarked</th>\n",
       "    </tr>\n",
       "  </thead>\n",
       "  <tbody>\n",
       "    <tr>\n",
       "      <th>0</th>\n",
       "      <td>0</td>\n",
       "      <td>22.0</td>\n",
       "      <td>1</td>\n",
       "      <td>3</td>\n",
       "      <td>1</td>\n",
       "      <td>0</td>\n",
       "      <td>7.2500</td>\n",
       "      <td>2</td>\n",
       "    </tr>\n",
       "    <tr>\n",
       "      <th>1</th>\n",
       "      <td>1</td>\n",
       "      <td>38.0</td>\n",
       "      <td>0</td>\n",
       "      <td>1</td>\n",
       "      <td>1</td>\n",
       "      <td>0</td>\n",
       "      <td>71.2833</td>\n",
       "      <td>0</td>\n",
       "    </tr>\n",
       "  </tbody>\n",
       "</table>\n",
       "</div>"
      ],
      "text/plain": [
       "   Survived   Age  Sex  Pclass  SibSp  Parch     Fare  Embarked\n",
       "0         0  22.0    1       3      1      0   7.2500         2\n",
       "1         1  38.0    0       1      1      0  71.2833         0"
      ]
     },
     "execution_count": 26,
     "metadata": {},
     "output_type": "execute_result"
    }
   ],
   "source": [
    "training_set.head(2)"
   ]
  },
  {
   "cell_type": "code",
   "execution_count": 27,
   "metadata": {},
   "outputs": [
    {
     "data": {
      "text/html": [
       "<div>\n",
       "<style scoped>\n",
       "    .dataframe tbody tr th:only-of-type {\n",
       "        vertical-align: middle;\n",
       "    }\n",
       "\n",
       "    .dataframe tbody tr th {\n",
       "        vertical-align: top;\n",
       "    }\n",
       "\n",
       "    .dataframe thead th {\n",
       "        text-align: right;\n",
       "    }\n",
       "</style>\n",
       "<table border=\"1\" class=\"dataframe\">\n",
       "  <thead>\n",
       "    <tr style=\"text-align: right;\">\n",
       "      <th></th>\n",
       "      <th>Age</th>\n",
       "      <th>Sex</th>\n",
       "      <th>Pclass</th>\n",
       "      <th>SibSp</th>\n",
       "      <th>Parch</th>\n",
       "      <th>Fare</th>\n",
       "      <th>Embarked</th>\n",
       "    </tr>\n",
       "  </thead>\n",
       "  <tbody>\n",
       "    <tr>\n",
       "      <th>0</th>\n",
       "      <td>34.5</td>\n",
       "      <td>1</td>\n",
       "      <td>3</td>\n",
       "      <td>0</td>\n",
       "      <td>0</td>\n",
       "      <td>7.8292</td>\n",
       "      <td>1</td>\n",
       "    </tr>\n",
       "    <tr>\n",
       "      <th>1</th>\n",
       "      <td>47.0</td>\n",
       "      <td>0</td>\n",
       "      <td>3</td>\n",
       "      <td>1</td>\n",
       "      <td>0</td>\n",
       "      <td>7.0000</td>\n",
       "      <td>2</td>\n",
       "    </tr>\n",
       "  </tbody>\n",
       "</table>\n",
       "</div>"
      ],
      "text/plain": [
       "    Age  Sex  Pclass  SibSp  Parch    Fare  Embarked\n",
       "0  34.5    1       3      0      0  7.8292         1\n",
       "1  47.0    0       3      1      0  7.0000         2"
      ]
     },
     "execution_count": 27,
     "metadata": {},
     "output_type": "execute_result"
    }
   ],
   "source": [
    "test_set.head(2)"
   ]
  },
  {
   "cell_type": "markdown",
   "metadata": {},
   "source": [
    "###### Predict missing ages with Random Forest Regressor "
   ]
  },
  {
   "cell_type": "code",
   "execution_count": 28,
   "metadata": {},
   "outputs": [
    {
     "name": "stderr",
     "output_type": "stream",
     "text": [
      "C:\\Users\\monal\\Anaconda3\\lib\\site-packages\\sklearn\\ensemble\\weight_boosting.py:29: DeprecationWarning: numpy.core.umath_tests is an internal NumPy module and should not be imported. It will be removed in a future NumPy release.\n",
      "  from numpy.core.umath_tests import inner1d\n"
     ]
    }
   ],
   "source": [
    "from sklearn.ensemble import RandomForestRegressor\n",
    "warnings.filterwarnings('ignore')\n",
    "def PredictMissingAge(df):\n",
    "    \n",
    "    # get all the features except survived\n",
    "    age_df = df.loc[:,\"Age\":]\n",
    "    \n",
    "    # split the dataframe into train with all the age valuess and test without the age values\n",
    "    train_age = age_df.loc[age_df.Age.notnull()]\n",
    "    test_age  = age_df.loc[age_df.Age.isnull()]\n",
    "    \n",
    "    X = train_age.loc[:, \"Sex\":].values\n",
    "    y = train_age.Age.values\n",
    "    \n",
    "    regressor = RandomForestRegressor(n_estimators=1500, n_jobs=-1)\n",
    "    regressor.fit(X,y)\n",
    "    \n",
    "    # predict the ages\n",
    "    predicted_age = regressor.predict(test_age.loc[:, \"Sex\":])\n",
    "    \n",
    "    df.loc[df.Age.isnull(), \"Age\"] = predicted_age\n",
    "    \n",
    "\n",
    "    return df\n",
    "\n",
    "PredictMissingAge(training_set);\n",
    "PredictMissingAge(test_set);"
   ]
  },
  {
   "cell_type": "code",
   "execution_count": 29,
   "metadata": {
    "scrolled": true
   },
   "outputs": [
    {
     "name": "stdout",
     "output_type": "stream",
     "text": [
      "Survived    0\n",
      "Age         0\n",
      "Sex         0\n",
      "Pclass      0\n",
      "SibSp       0\n",
      "Parch       0\n",
      "Fare        0\n",
      "Embarked    0\n",
      "dtype: int64\n",
      "Age         0\n",
      "Sex         0\n",
      "Pclass      0\n",
      "SibSp       0\n",
      "Parch       0\n",
      "Fare        0\n",
      "Embarked    0\n",
      "dtype: int64\n"
     ]
    }
   ],
   "source": [
    "print(training_set.isnull().sum())\n",
    "print(test_set.isnull().sum())"
   ]
  },
  {
   "cell_type": "markdown",
   "metadata": {},
   "source": [
    "So, no missing values now."
   ]
  },
  {
   "cell_type": "code",
   "execution_count": 30,
   "metadata": {},
   "outputs": [
    {
     "data": {
      "text/plain": [
       "<matplotlib.axes._subplots.AxesSubplot at 0x192e3aaa5f8>"
      ]
     },
     "execution_count": 30,
     "metadata": {},
     "output_type": "execute_result"
    },
    {
     "data": {
      "image/png": "[encoded data removed]",
      "text/plain": [
       "<Figure size 720x360 with 1 Axes>"
      ]
     },
     "metadata": {},
     "output_type": "display_data"
    }
   ],
   "source": [
    "# After filling missing values\n",
    "plt.subplots(figsize = (10,5),)\n",
    "sns.distplot(training_set['Age'], bins = 70, kde = False, rug = False, norm_hist=False)"
   ]
  },
  {
   "cell_type": "markdown",
   "metadata": {},
   "source": [
    "Before filling the missing ages, we saw that most of the passengers belong to a range of 20-40 years. After predicting the missing ages, the count of passengers increased mostly in the range of 20-40 years."
   ]
  },
  {
   "cell_type": "markdown",
   "metadata": {},
   "source": [
    "## Visualization and Feature Relations"
   ]
  },
  {
   "cell_type": "markdown",
   "metadata": {},
   "source": [
    "Before we dive into finding relations between different features and our dependent variable(survivor) let us create some predictions about how the relations may turnout among features.\n",
    "\n",
    "#### Predictions:\n",
    "\n",
    "- Gender: More female survived than male\n",
    "- Pclass: Higher socio-economic status passenger survived more than others.\n",
    "- Age: Younger passenger survived more than other passengers.\n",
    "\n",
    "Now, let's see how the features are related to each other by creating some visualizations."
   ]
  },
  {
   "cell_type": "markdown",
   "metadata": {},
   "source": [
    "##### Gender & Survived"
   ]
  },
  {
   "cell_type": "code",
   "execution_count": 31,
   "metadata": {},
   "outputs": [
    {
     "data": {
      "image/png": "[encoded data removed]",
      "text/plain": [
       "<Figure size 648x432 with 1 Axes>"
      ]
     },
     "metadata": {},
     "output_type": "display_data"
    }
   ],
   "source": [
    "pal = {1:\"lightgreen\", 0:\"Pink\"}\n",
    "plt.subplots(figsize = (9,6))\n",
    "\n",
    "ax = sns.barplot(x = \"Sex\", \n",
    "                 y = \"Survived\", \n",
    "                 data = training_set,\n",
    "                 palette = pal)\n",
    "\n",
    "plt.title(\"Survived/Non-Survived Passenger Gender Distribution\", fontsize = 16)\n",
    "plt.ylabel(\"% of passenger survived\", fontsize = 15)\n",
    "plt.xlabel(\"Sex\",fontsize = 15)\n",
    "\n",
    "labels = ['Female', 'Male']\n",
    "plt.xticks(sorted(training_set.Sex.unique()), labels)\n",
    "plt.show()"
   ]
  },
  {
   "cell_type": "markdown",
   "metadata": {},
   "source": [
    "The bar plot shows that ~74% female passenger survived while only ~19% male passenger survived."
   ]
  },
  {
   "cell_type": "code",
   "execution_count": 32,
   "metadata": {},
   "outputs": [
    {
     "data": {
      "image/png": "[encoded data removed]",
      "text/plain": [
       "<Figure size 648x432 with 1 Axes>"
      ]
     },
     "metadata": {},
     "output_type": "display_data"
    }
   ],
   "source": [
    "pal = {1:\"purple\", 0:\"seagreen\"}\n",
    "\n",
    "plt.subplots(figsize = (9,6))\n",
    "ax = sns.countplot(x = \"Sex\", \n",
    "                   hue=\"Survived\",\n",
    "                   data = training_set, \n",
    "                   palette = pal)\n",
    "\n",
    "plt.title(\"Passenger Gender Distribution - Survived vs Not-survived\", fontsize = 16)\n",
    "plt.xlabel(\"Sex\", fontsize = 15);\n",
    "plt.ylabel(\"# of Passenger Survived\", fontsize = 15)\n",
    "plt.xticks(sorted(training_set.Sex.unique()), labels)\n",
    "\n",
    "leg = ax.get_legend()\n",
    "leg.set_title(\"Survived\")\n",
    "legs = leg.texts\n",
    "legs[0].set_text(\"No\")\n",
    "legs[1].set_text(\"Yes\")\n",
    "plt.show()"
   ]
  },
  {
   "cell_type": "markdown",
   "metadata": {},
   "source": [
    "This countplot shows the actual distribution of male and female passengers that survived and did not survive. It shows that among all the females ~ 230 survived and ~ 70 did not survive. While among male passengers ~110 survived and ~480 did not survive.\n",
    "\n",
    "The above two graphs bolster the fact that females and children were the priority."
   ]
  },
  {
   "cell_type": "markdown",
   "metadata": {},
   "source": [
    "##### PClass & Survived"
   ]
  },
  {
   "cell_type": "code",
   "execution_count": 33,
   "metadata": {},
   "outputs": [
    {
     "data": {
      "image/png": "[encoded data removed]",
      "text/plain": [
       "<Figure size 648x432 with 1 Axes>"
      ]
     },
     "metadata": {},
     "output_type": "display_data"
    }
   ],
   "source": [
    "pal = {1:\"seagreen\", 2:\"purple\", 3:\"darkblue\"}\n",
    "\n",
    "plt.subplots(figsize = (9,6))\n",
    "\n",
    "ax = sns.barplot(x = \"Pclass\", \n",
    "                 y = \"Survived\", \n",
    "                 data = training_set,\n",
    "                 palette = pal)\n",
    "\n",
    "plt.title(\"Passenger Class Distribution - Survived vs Non-Survived\", fontsize = 16)\n",
    "plt.ylabel(\"% of passenger survived\", fontsize = 15)\n",
    "plt.xlabel(\"Socio-Economic class\",fontsize = 15)\n",
    "\n",
    "labels = ['Upper', 'Middle', 'Lower']\n",
    "val = [0,1,2]\n",
    "plt.xticks(val, labels)\n",
    "plt.show()"
   ]
  },
  {
   "cell_type": "markdown",
   "metadata": {},
   "source": [
    "Thw above plot of passenger clas distribution indicates that passengers were prioritized according to their classes to survive. Means, upper class people were first offered help for survival"
   ]
  },
  {
   "cell_type": "code",
   "execution_count": 34,
   "metadata": {},
   "outputs": [
    {
     "data": {
      "image/png": "[encoded data removed]",
      "text/plain": [
       "<Figure size 864x432 with 1 Axes>"
      ]
     },
     "metadata": {},
     "output_type": "display_data"
    }
   ],
   "source": [
    "# Kernel Density Plot\n",
    "fig = plt.figure(figsize=(12,6),)\n",
    " \n",
    "ax = sns.kdeplot(training_set.Pclass[training_set.Survived == 0] , \n",
    "               color = 'gray',\n",
    "               shade = True,\n",
    "               label = 'Not Survived')\n",
    "ax = sns.kdeplot(training_set.Pclass[training_set.Survived == 1] , \n",
    "               color = 'g',\n",
    "               shade = True, \n",
    "               label = 'Survived')\n",
    "\n",
    "plt.title('Passenger Class Distribution - Survived vs Non-Survived', fontsize = 16)\n",
    "plt.ylabel(\"Frequency of Passenger Survived\", fontsize = 15)\n",
    "plt.xlabel(\"Passenger Class\", fontsize = 15)\n",
    "\n",
    "labels = ['Upper', 'Middle', 'Lower']\n",
    "plt.xticks(sorted(training_set.Pclass.unique()), labels);"
   ]
  },
  {
   "cell_type": "markdown",
   "metadata": {},
   "source": [
    "The KDE plots encode the density of observations on one axis with height along the other axis. Kernel density estimation is a fundamental data smoothing problem where inferences about the population are made, based on a finite data sample.\n",
    "\n",
    "Thisplot might seem slightly contradicting to the previous one. It shows that the lower class passengers have survived more than second-class passengers. It is true since there were a lot more third-class passengers than first and second."
   ]
  },
  {
   "cell_type": "markdown",
   "metadata": {},
   "source": [
    "##### Fare & Survived"
   ]
  },
  {
   "cell_type": "code",
   "execution_count": 35,
   "metadata": {},
   "outputs": [
    {
     "data": {
      "image/png": "[encoded data removed]",
      "text/plain": [
       "<Figure size 864x432 with 1 Axes>"
      ]
     },
     "metadata": {},
     "output_type": "display_data"
    }
   ],
   "source": [
    "# Kernel Density Plot\n",
    "fig = plt.figure(figsize=(12,6),)\n",
    "\n",
    "ax=sns.kdeplot(training_set.Fare[training_set.Survived == 0] , color='gray', shade = True, label = 'Not Survived')\n",
    "ax=sns.kdeplot(training_set.Fare[training_set.Survived == 1] , color='g', shade = True, label = 'Survived')\n",
    "plt.title('Fare Distribution Survived vs Non Survived', fontsize = 16)\n",
    "plt.ylabel(\"Frequency of Passenger Survived\", fontsize = 15)\n",
    "plt.xlabel(\"Fare\", fontsize = 15)\n",
    "plt.show()"
   ]
  },
  {
   "cell_type": "markdown",
   "metadata": {},
   "source": [
    "The spike in the plot indicates that passengers who had bought tickets under 100 dollar did not survive. When the fare is approximately more than 270 dollars, there is no gray shade which means, either everyone passed that fare point survived or maybe there is an outlier that clouds our judgment."
   ]
  },
  {
   "cell_type": "code",
   "execution_count": 36,
   "metadata": {},
   "outputs": [
    {
     "data": {
      "text/html": [
       "<div>\n",
       "<style scoped>\n",
       "    .dataframe tbody tr th:only-of-type {\n",
       "        vertical-align: middle;\n",
       "    }\n",
       "\n",
       "    .dataframe tbody tr th {\n",
       "        vertical-align: top;\n",
       "    }\n",
       "\n",
       "    .dataframe thead th {\n",
       "        text-align: right;\n",
       "    }\n",
       "</style>\n",
       "<table border=\"1\" class=\"dataframe\">\n",
       "  <thead>\n",
       "    <tr style=\"text-align: right;\">\n",
       "      <th></th>\n",
       "      <th>Survived</th>\n",
       "      <th>Age</th>\n",
       "      <th>Sex</th>\n",
       "      <th>Pclass</th>\n",
       "      <th>SibSp</th>\n",
       "      <th>Parch</th>\n",
       "      <th>Fare</th>\n",
       "      <th>Embarked</th>\n",
       "    </tr>\n",
       "  </thead>\n",
       "  <tbody>\n",
       "    <tr>\n",
       "      <th>258</th>\n",
       "      <td>1</td>\n",
       "      <td>35.0</td>\n",
       "      <td>0</td>\n",
       "      <td>1</td>\n",
       "      <td>0</td>\n",
       "      <td>0</td>\n",
       "      <td>512.3292</td>\n",
       "      <td>0</td>\n",
       "    </tr>\n",
       "    <tr>\n",
       "      <th>679</th>\n",
       "      <td>1</td>\n",
       "      <td>36.0</td>\n",
       "      <td>1</td>\n",
       "      <td>1</td>\n",
       "      <td>0</td>\n",
       "      <td>1</td>\n",
       "      <td>512.3292</td>\n",
       "      <td>0</td>\n",
       "    </tr>\n",
       "    <tr>\n",
       "      <th>737</th>\n",
       "      <td>1</td>\n",
       "      <td>35.0</td>\n",
       "      <td>1</td>\n",
       "      <td>1</td>\n",
       "      <td>0</td>\n",
       "      <td>0</td>\n",
       "      <td>512.3292</td>\n",
       "      <td>0</td>\n",
       "    </tr>\n",
       "  </tbody>\n",
       "</table>\n",
       "</div>"
      ],
      "text/plain": [
       "     Survived   Age  Sex  Pclass  SibSp  Parch      Fare  Embarked\n",
       "258         1  35.0    0       1      0      0  512.3292         0\n",
       "679         1  36.0    1       1      0      1  512.3292         0\n",
       "737         1  35.0    1       1      0      0  512.3292         0"
      ]
     },
     "execution_count": 36,
     "metadata": {},
     "output_type": "execute_result"
    }
   ],
   "source": [
    "training_set[training_set.Fare > 270]"
   ]
  },
  {
   "cell_type": "markdown",
   "metadata": {},
   "source": [
    "##### Age & Survived"
   ]
  },
  {
   "cell_type": "code",
   "execution_count": 37,
   "metadata": {},
   "outputs": [
    {
     "data": {
      "image/png": "[encoded data removed]",
      "text/plain": [
       "<Figure size 864x432 with 1 Axes>"
      ]
     },
     "metadata": {},
     "output_type": "display_data"
    }
   ],
   "source": [
    "# Kernel Density Plot\n",
    "fig = plt.figure(figsize=(12,6),)\n",
    "\n",
    "ax=sns.kdeplot(training_set.Age[training_set.Survived == 0] , color='gray', shade = True, label = 'Not Survived')\n",
    "ax=sns.kdeplot(training_set.Age[training_set.Survived == 1] , color='g', shade = True, label = 'Survived')\n",
    "plt.title('Age Distribution Survived vs Non Survived', fontsize = 16)\n",
    "plt.ylabel(\"Frequency of Passenger Survived\", fontsize = 15)\n",
    "plt.xlabel(\"Age\", fontsize = 15)\n",
    "plt.show()"
   ]
  },
  {
   "cell_type": "markdown",
   "metadata": {},
   "source": [
    "This plot indicates that children and infants were the priority, therefore, a good chunk of infant/children were saved."
   ]
  },
  {
   "cell_type": "markdown",
   "metadata": {},
   "source": [
    "##### Embarked & Survived"
   ]
  },
  {
   "cell_type": "code",
   "execution_count": 38,
   "metadata": {},
   "outputs": [
    {
     "data": {
      "image/png": "[encoded data removed]",
      "text/plain": [
       "<Figure size 648x432 with 1 Axes>"
      ]
     },
     "metadata": {},
     "output_type": "display_data"
    }
   ],
   "source": [
    "pal = {0:\"purple\", 1:\"seagreen\"}\n",
    "\n",
    "plt.subplots(figsize = (9,6))\n",
    "ax = sns.countplot(x = \"Embarked\", \n",
    "                   hue=\"Survived\",\n",
    "                   data = training_set, \n",
    "                   palette = pal)\n",
    "\n",
    "plt.title(\"Passenger Embarked Distribution - Survived vs Not-survived\", fontsize = 16)\n",
    "plt.xlabel(\"Port of Embarkation\", fontsize = 15);\n",
    "plt.ylabel(\"# of Passenger Survived\", fontsize = 15)\n",
    "labels = ['Cherbourg', 'Queenstown', 'Southampton']\n",
    "plt.xticks(sorted(training_set.Embarked.unique()), labels)\n",
    "\n",
    "leg = ax.get_legend()\n",
    "leg.set_title(\"Survived\")\n",
    "legs = leg.texts\n",
    "legs[0].set_text(\"No\")\n",
    "legs[1].set_text(\"Yes\")\n",
    "plt.show()"
   ]
  },
  {
   "cell_type": "markdown",
   "metadata": {},
   "source": [
    "Port of Embarkation doesn't contribute much to the survival rate. This plot just indicates that most of the passengers boardede from Southampton."
   ]
  },
  {
   "cell_type": "markdown",
   "metadata": {},
   "source": [
    "##### SibSp, Parch & Survived"
   ]
  },
  {
   "cell_type": "code",
   "execution_count": 39,
   "metadata": {},
   "outputs": [
    {
     "data": {
      "image/png": "[encoded data removed]",
      "text/plain": [
       "<Figure size 1080x432 with 2 Axes>"
      ]
     },
     "metadata": {},
     "output_type": "display_data"
    }
   ],
   "source": [
    "# Create a figure instance, and the two subplots\n",
    "fig, ax = plt.subplots(figsize=(15,6),ncols=2)\n",
    "\n",
    "ax1 = sns.factorplot(x = \"Parch\", y = \"Survived\", data = training_set[training_set.Fare < 500], kind = \"point\",size = 8, ax = ax[0])\n",
    "ax2 = sns.factorplot(x = \"SibSp\", y = \"Survived\", data = training_set[training_set.Fare < 500], kind = \"point\",size = 8, ax = ax[1])\n",
    "\n",
    "plt.close(ax1.fig)\n",
    "plt.close(ax2.fig)\n",
    "\n",
    "plt.show()"
   ]
  },
  {
   "cell_type": "markdown",
   "metadata": {},
   "source": [
    "Passengers who traveled in big groups with parents/children(Parch) had less survival rate than other passengers. Whereas, passengers who traveled in small groups with sibilings/spouses(SibSp) had more survival rate than other passengers."
   ]
  },
  {
   "cell_type": "markdown",
   "metadata": {},
   "source": [
    "### Correlations"
   ]
  },
  {
   "cell_type": "code",
   "execution_count": 40,
   "metadata": {},
   "outputs": [
    {
     "data": {
      "text/html": [
       "<div>\n",
       "<style scoped>\n",
       "    .dataframe tbody tr th:only-of-type {\n",
       "        vertical-align: middle;\n",
       "    }\n",
       "\n",
       "    .dataframe tbody tr th {\n",
       "        vertical-align: top;\n",
       "    }\n",
       "\n",
       "    .dataframe thead th {\n",
       "        text-align: right;\n",
       "    }\n",
       "</style>\n",
       "<table border=\"1\" class=\"dataframe\">\n",
       "  <thead>\n",
       "    <tr style=\"text-align: right;\">\n",
       "      <th></th>\n",
       "      <th>Survived</th>\n",
       "    </tr>\n",
       "  </thead>\n",
       "  <tbody>\n",
       "    <tr>\n",
       "      <th>Survived</th>\n",
       "      <td>1.000000</td>\n",
       "    </tr>\n",
       "    <tr>\n",
       "      <th>Sex</th>\n",
       "      <td>0.543351</td>\n",
       "    </tr>\n",
       "    <tr>\n",
       "      <th>Pclass</th>\n",
       "      <td>0.338481</td>\n",
       "    </tr>\n",
       "    <tr>\n",
       "      <th>Fare</th>\n",
       "      <td>0.257307</td>\n",
       "    </tr>\n",
       "    <tr>\n",
       "      <th>Embarked</th>\n",
       "      <td>0.174199</td>\n",
       "    </tr>\n",
       "    <tr>\n",
       "      <th>Parch</th>\n",
       "      <td>0.081629</td>\n",
       "    </tr>\n",
       "    <tr>\n",
       "      <th>Age</th>\n",
       "      <td>0.077130</td>\n",
       "    </tr>\n",
       "    <tr>\n",
       "      <th>SibSp</th>\n",
       "      <td>0.035322</td>\n",
       "    </tr>\n",
       "  </tbody>\n",
       "</table>\n",
       "</div>"
      ],
      "text/plain": [
       "          Survived\n",
       "Survived  1.000000\n",
       "Sex       0.543351\n",
       "Pclass    0.338481\n",
       "Fare      0.257307\n",
       "Embarked  0.174199\n",
       "Parch     0.081629\n",
       "Age       0.077130\n",
       "SibSp     0.035322"
      ]
     },
     "execution_count": 40,
     "metadata": {},
     "output_type": "execute_result"
    }
   ],
   "source": [
    "pd.DataFrame(abs(training_set.corr()['Survived']).sort_values(ascending = False))"
   ]
  },
  {
   "cell_type": "code",
   "execution_count": 41,
   "metadata": {},
   "outputs": [
    {
     "data": {
      "image/png": "[encoded data removed]",
      "text/plain": [
       "<Figure size 720x720 with 2 Axes>"
      ]
     },
     "metadata": {},
     "output_type": "display_data"
    }
   ],
   "source": [
    "mask = np.zeros_like(training_set.corr(), dtype=np.bool)\n",
    "mask[np.triu_indices_from(mask)] = True\n",
    "\n",
    "plt.subplots(figsize = (10,10))\n",
    "sns.heatmap(training_set.corr(), \n",
    "            annot=True,\n",
    "            mask = mask,\n",
    "            cmap = 'RdBu_r',\n",
    "            linewidths=0.1, \n",
    "            linecolor='white',\n",
    "            vmax = .9,\n",
    "            square=True)\n",
    "plt.title(\"Correlations Among Features\", y = 1.03,fontsize = 20);"
   ]
  },
  {
   "cell_type": "markdown",
   "metadata": {},
   "source": [
    "#### Positive Correlation Features:\n",
    "\n",
    "- Fare and Survived: 0.26\n",
    "\n",
    "#### Negative Correlation Features:\n",
    "\n",
    "- Fare and Pclass: -0.6\n",
    "- Sex and Survived: -0.55\n",
    "- Pclass and Survived: -0.33\n",
    "\n",
    "Let's analyze these correlations a bit. We have found some moderately strong relationships between different features. There is a definite positive correlation between Fare and Survived i.e. 0.26. This relationship reveals that the passenger who paid more money for their ticket were more likely to survive meansthey must be 1st class or 2nd class. This theory aligns with one other correlation which is the correlation between Fare and Pclass(-0.6). This relationship can be explained by saying that first class passenger(1) paid more for fare then second class passenger(2), similarly second class passenger paid more than the third class passenger(3). This theory can also be supported by mentioning another Pclass correlation with our dependent variable, Survived, -0.33. \n",
    "\n",
    "However, the most significant correlation with our dependent variable is the Sex variable, which is the info on whether the passenger was male or female. This negative correlation with a magnitude of -0.55 points towards some undeniable insights. Let's do some statistics to see how statistically significant this correlation is."
   ]
  },
  {
   "cell_type": "markdown",
   "metadata": {},
   "source": [
    "### Statistical Test for Correlation"
   ]
  },
  {
   "cell_type": "markdown",
   "metadata": {},
   "source": [
    "Statistical tests are the scientific way to prove the validation of theories. In any case, when we look at the data, we seem to have an intuitive understanding of where data is leading us. However, when we do statistical tests, we get a scientific or mathematical perspective of how significant these results are. Let's apply some of the trials and see how we are doing with our predictions.\n",
    "\n",
    "#### Hypothesis Testing Outline\n",
    "A hypothesis test compares the mean of a control group and experimental group and tries to find out whether the two sample means are different from each other and if they are different, how significant that difference is.\n",
    "\n",
    "A hypothesis test consists of 4 steps:\n",
    "\n",
    "#### Step 1: a) Develop Hypothesis\n",
    "##### Null hypothesis ( H0 ) \n",
    "The null hypothesis( H0 ) is something that is assumed to be true. It is the status quo. In a null hypothesis, the observations  are the result of pure chance. When we set out to experiment, we form the null hypothesis by saying that there is no difference between the means of the control group and the experimental group.\n",
    "\n",
    "##### Alternative hypothesis( HA )\n",
    "It is a claim and the opposite of the null hypothesis. It is going against the status quo. In an alternative theory, the observations show a real effect combined with a component of chance variation.\n",
    "\n",
    "#### b) State Significance Level\n",
    "The significance level( α ) is the probability of rejecting a null hypothesis when it is true. In other words, we are comfortable/confident with rejecting the null hypothesis a significant amount of times even though it is true. This considerable amount is our Significant level. In addition to that significance level is one minus our Confidence interval. For example, if we say, our significance level is 5%, then our confidence interval would be (1 - 0.05) = 0.95 or 95%.\n",
    "\n",
    "#### Step 2: Identify test statistics\n",
    "Test statistic can be used to assess the truth of the null hypothesis. Depending on the standard deviation we either use t-statistics or z-statistics. In addition to that, we want to identify whether the test is a one-tailed test or two-tailed test.\n",
    "\n",
    "#### Step 3: Determine p-value\n",
    "P-value is the probability that a test statistic at least as significant as the one observed would be obtained assuming that the null hypothesis was correct. The smaller the P-value, the stronger the evidence against the null hypothesis.\n",
    "\n",
    "#### Step 4: Describe the result and compare the p-value with the significance value( α )\n",
    "If p <= α , then the observed effect is statistically significant, the null hypothesis is ruled out, and the alternative hypothesis is valid. However if the p > α , we say that, we fail to reject the null hypothesis."
   ]
  },
  {
   "cell_type": "markdown",
   "metadata": {},
   "source": [
    "Each of these steps are followed to do the hypothesis testing.\n",
    "\n",
    "##### Step 1: Null Hypothesis( H0 )\n",
    "The mean sex between the passenger who survived and passenger who did not survive is zero.\n",
    "\n",
    "##### Alternative Hypothesis( HA )\n",
    "There is a difference in the survival rate between male and female is not zero.\n",
    "\n",
    "##### State Significance Level\n",
    "Specifying a significance level is an important step of the hypothesis test. It is an ultimate balance between type 1 error and type 2 error. Let's take significance level(α) = 0.05. So, our confidence interval or non-rejection region would be (1 - α)=95%.\n",
    "\n",
    "##### Step 2:  Identify test statistics\n",
    "This will be a two-tailed test since the difference between male and female passenger in the survival rate could be higher or lower than 0. Since we do not know the standard deviation( σ ) and n is small, we will use the t-distribution.\n",
    "\n",
    "##### Step 3: Computing T-statistics and P-value"
   ]
  },
  {
   "cell_type": "code",
   "execution_count": 42,
   "metadata": {},
   "outputs": [
    {
     "name": "stdout",
     "output_type": "stream",
     "text": [
      "Male sample mean: 0.2\n",
      "Female sample mean: 0.82\n",
      "Difference between male and female sample mean: 0.6199999999999999\n"
     ]
    }
   ],
   "source": [
    "# separating male and female dataframe \n",
    "male   = training_set[training_set['Sex'] == 1]\n",
    "female = training_set[training_set['Sex'] == 0]\n",
    "\n",
    "# getting 50 random sample for male and female. \n",
    "import random\n",
    "male_sample = random.sample(list(male['Survived']),50)\n",
    "female_sample = random.sample(list(female['Survived']),50)\n",
    "\n",
    "# Taking a sample means of survival feature from male and female\n",
    "male_sample_mean = np.mean(male_sample)\n",
    "female_sample_mean = np.mean(female_sample)\n",
    "\n",
    "print (\"Male sample mean: \" + str(male_sample_mean))\n",
    "print (\"Female sample mean: \" + str(female_sample_mean))\n",
    "print (\"Difference between male and female sample mean: \" + str(female_sample_mean - male_sample_mean))"
   ]
  },
  {
   "cell_type": "markdown",
   "metadata": {},
   "source": [
    "When we perform a t-test we are usually trying to find out an evidence of significant difference between population mean with hypothesized mean(1 sample t-test) or in our case difference between two population means(2 sample t-test)."
   ]
  },
  {
   "cell_type": "code",
   "execution_count": 43,
   "metadata": {},
   "outputs": [
    {
     "name": "stdout",
     "output_type": "stream",
     "text": [
      "Ttest_indResult(statistic=-7.825220138824614, pvalue=5.975261559086169e-12)\n",
      "\n",
      "p-value: 0.00000000000597526155908616928875\n"
     ]
    }
   ],
   "source": [
    "import scipy.stats as stats\n",
    "\n",
    "print (stats.ttest_ind(male_sample, female_sample))\n",
    "print (\"\\np-value: \" + format(stats.ttest_ind(male_sample, female_sample).pvalue, '.32f'))"
   ]
  },
  {
   "cell_type": "markdown",
   "metadata": {},
   "source": [
    "##### Step 4: Describe the result and compare the p-value with the significance value( α )"
   ]
  },
  {
   "cell_type": "markdown",
   "metadata": {},
   "source": [
    "It looks like the p-value is very small compared to our significance level( α )of 0.05. Our observation sample is statistically significant. Therefore, we reject the null hypothesis, and the alternative hypothesis is valid, which is \n",
    "#### \"There is a significant difference in the survival rate between the male and female passengers."
   ]
  },
  {
   "cell_type": "markdown",
   "metadata": {},
   "source": [
    "### Pre-Modeling Tasks"
   ]
  },
  {
   "cell_type": "markdown",
   "metadata": {},
   "source": [
    "#### Separating dependent and independent variables in training dataset"
   ]
  },
  {
   "cell_type": "code",
   "execution_count": 44,
   "metadata": {},
   "outputs": [],
   "source": [
    "X = training_set.drop(['Survived'], axis=1)\n",
    "y = training_set[\"Survived\"]"
   ]
  },
  {
   "cell_type": "markdown",
   "metadata": {},
   "source": [
    "#### Splitting the training data"
   ]
  },
  {
   "cell_type": "code",
   "execution_count": 45,
   "metadata": {},
   "outputs": [],
   "source": [
    "from sklearn.model_selection import train_test_split\n",
    "X_train, X_test, y_train, y_test = train_test_split(X,y,test_size = .25, random_state = 0)"
   ]
  },
  {
   "cell_type": "markdown",
   "metadata": {},
   "source": [
    "#### Feature Scaling"
   ]
  },
  {
   "cell_type": "markdown",
   "metadata": {},
   "source": [
    "Feature scaling is an important concept of machine learning models. It can vary results a lot while using certain algorithms and have a minimal or no effect in others. Most of the times, a dataset contain features highly varying in magnitude and unit. For some machine learning models, it is not a problem. However, for many other machine learning algorithms, that uses euclidian distances to calculate the distance between two points, it is quite a problem."
   ]
  },
  {
   "cell_type": "code",
   "execution_count": 46,
   "metadata": {},
   "outputs": [],
   "source": [
    "from sklearn.preprocessing import StandardScaler\n",
    "\n",
    "sc = StandardScaler()\n",
    "X_train = pd.DataFrame(sc.fit_transform(X_train))\n",
    "X_test  = pd.DataFrame(sc.transform(X_test))\n",
    "\n",
    "test_set = pd.DataFrame(sc.transform(test_set))"
   ]
  },
  {
   "cell_type": "code",
   "execution_count": 47,
   "metadata": {},
   "outputs": [],
   "source": [
    "X_train.columns = X.columns\n",
    "X_test.columns = X.columns\n",
    "test_set.columns = X.columns"
   ]
  },
  {
   "cell_type": "markdown",
   "metadata": {},
   "source": [
    "### Modeling"
   ]
  },
  {
   "cell_type": "markdown",
   "metadata": {},
   "source": [
    "Since it is a classification problem, I will be using machine learning classifiers to get the best prediction possible. I will use the following models: \n",
    "\n",
    "- Logistic Regression\n",
    "- K-Nearest Neighbors(KNN)\n",
    "- Gaussian Naive Bayes\n",
    "- MLP Classifier\n",
    "- Support Vector Machines\n",
    "- Decision Tree Classifier\n",
    "- Bagging Classifier\n",
    "- Random Forest Classifier\n",
    "- Gradient Boosting Classifier\n",
    "- AdaBoost Classifier\n",
    "- ExtraTrees Classifier\n",
    "- GaussianProcess Classifier"
   ]
  },
  {
   "cell_type": "code",
   "execution_count": 48,
   "metadata": {},
   "outputs": [],
   "source": [
    "# Import libraries for the classifiers\n",
    "\n",
    "from sklearn.linear_model import LogisticRegression\n",
    "from sklearn.neighbors import KNeighborsClassifier\n",
    "from sklearn.naive_bayes import GaussianNB\n",
    "from sklearn.neural_network import MLPClassifier\n",
    "from sklearn.svm import SVC\n",
    "from sklearn.tree import DecisionTreeClassifier\n",
    "from sklearn.ensemble import BaggingClassifier, RandomForestClassifier, GradientBoostingClassifier, AdaBoostClassifier\n",
    "from sklearn.ensemble import ExtraTreesClassifier, VotingClassifier\n",
    "from sklearn.gaussian_process import GaussianProcessClassifier\n",
    "from sklearn.metrics import classification_report, accuracy_score, roc_auc_score, confusion_matrix, precision_recall_fscore_support"
   ]
  },
  {
   "cell_type": "markdown",
   "metadata": {},
   "source": [
    "In a voting classifier, setting the voting parameter to soft enables the classifiers to calculate their probability(also known as confidence score) individually and present it to the voting classifier, then the voting classifier averages them and outputs the class with the highest probability."
   ]
  },
  {
   "cell_type": "code",
   "execution_count": 49,
   "metadata": {},
   "outputs": [],
   "source": [
    "voting_classifier = VotingClassifier(estimators=[\n",
    "    (\"Logistic Regression\",LogisticRegression()),  \n",
    "    (\"KNN\",KNeighborsClassifier(n_jobs = -1)),\n",
    "    (\"Naive Bayes\",GaussianNB()),  \n",
    "    (\"MLP\",MLPClassifier(alpha=1)),\n",
    "    (\"SVM\",SVC(kernel = 'rbf', probability=True, random_state = 1, C = 3)),\n",
    "    (\"Decision Tree\",DecisionTreeClassifier(criterion = \"gini\", random_state = 42, max_depth=3, min_samples_leaf=5)),\n",
    "    (\"Bagging\",BaggingClassifier()),\n",
    "    (\"Random Forest\",RandomForestClassifier(n_estimators = 150, random_state = 42, class_weight = \"balanced\")),\n",
    "    (\"Gradient Boosting\",GradientBoostingClassifier()),\n",
    "    (\"AdaBoost\",AdaBoostClassifier()),\n",
    "    (\"ExtraTrees\",ExtraTreesClassifier()),\n",
    "    (\"Gaussian Process\",GaussianProcessClassifier())\n",
    "], voting = 'soft')"
   ]
  },
  {
   "cell_type": "code",
   "execution_count": 50,
   "metadata": {},
   "outputs": [],
   "source": [
    "warnings.filterwarnings('ignore')\n",
    "\n",
    "names = [\"Logistic Regression\", \n",
    "         \"KNN\", \n",
    "         \"Naive Bayes\",\n",
    "         \"MLP\",\n",
    "         \"SVM\",\n",
    "         \"Decision Tree\",\n",
    "         \"Bagging\",\n",
    "         \"Random Forest\",\n",
    "         \"Gradient Boosting\",\n",
    "         \"AdaBoost\",\n",
    "         \"ExtraTrees\",\n",
    "         \"Gaussian Process\",\n",
    "         \"Voting Classifier\"]\n",
    "\n",
    "all_models = [\n",
    "    LogisticRegression().fit(X_train,y_train),  \n",
    "    KNeighborsClassifier(n_jobs = -1).fit(X_train,y_train),\n",
    "    GaussianNB().fit(X_train,y_train),  \n",
    "    MLPClassifier(alpha=1).fit(X_train,y_train),\n",
    "    SVC(kernel = 'rbf', probability=True, random_state = 1, C = 3).fit(X_train,y_train),\n",
    "    DecisionTreeClassifier(criterion = \"gini\", random_state = 42, max_depth=3, min_samples_leaf=5).fit(X_train,y_train),\n",
    "    BaggingClassifier().fit(X_train,y_train),\n",
    "    RandomForestClassifier(n_estimators = 150, random_state = 42, class_weight = \"balanced\").fit(X_train,y_train),\n",
    "    GradientBoostingClassifier().fit(X_train,y_train),\n",
    "    AdaBoostClassifier().fit(X_train,y_train),\n",
    "    ExtraTreesClassifier().fit(X_train,y_train),\n",
    "    GaussianProcessClassifier().fit(X_train,y_train),\n",
    "    voting_classifier.fit(X_train,y_train)]\n",
    "\n",
    "model_scores = {}\n",
    "n_errors = []\n",
    "acc = []\n",
    "precision = []\n",
    "recall = []\n",
    "f_score = []\n",
    "\n",
    "for i in all_models:\n",
    "    y_pred = i.predict(X_test)\n",
    "    b = accuracy_score(y_pred, y_test)\n",
    "    model_scores[i] = b\n",
    "    \n",
    "    # no. of misclassifications\n",
    "    n_errors.append((y_pred != y_test).sum())\n",
    "\n",
    "    acc.append(round(accuracy_score(y_test, y_pred)*100,2))\n",
    "\n",
    "    # precision, recall, f1 score\n",
    "    metrics = precision_recall_fscore_support(y_test, y_pred, average='weighted')\n",
    "    precision.append(metrics[0])\n",
    "    recall.append(metrics[1])\n",
    "    f_score.append(metrics[2])"
   ]
  },
  {
   "cell_type": "code",
   "execution_count": 51,
   "metadata": {},
   "outputs": [
    {
     "data": {
      "text/html": [
       "<div>\n",
       "<style scoped>\n",
       "    .dataframe tbody tr th:only-of-type {\n",
       "        vertical-align: middle;\n",
       "    }\n",
       "\n",
       "    .dataframe tbody tr th {\n",
       "        vertical-align: top;\n",
       "    }\n",
       "\n",
       "    .dataframe thead th {\n",
       "        text-align: right;\n",
       "    }\n",
       "</style>\n",
       "<table border=\"1\" class=\"dataframe\">\n",
       "  <thead>\n",
       "    <tr style=\"text-align: right;\">\n",
       "      <th></th>\n",
       "      <th>Precision</th>\n",
       "      <th>Recall</th>\n",
       "      <th>F1 Score</th>\n",
       "      <th>Accuracy</th>\n",
       "      <th>No. of Misclassifications</th>\n",
       "    </tr>\n",
       "  </thead>\n",
       "  <tbody>\n",
       "    <tr>\n",
       "      <th>Gradient Boosting</th>\n",
       "      <td>0.837486</td>\n",
       "      <td>0.838565</td>\n",
       "      <td>0.837741</td>\n",
       "      <td>83.86</td>\n",
       "      <td>36</td>\n",
       "    </tr>\n",
       "    <tr>\n",
       "      <th>Voting Classifier</th>\n",
       "      <td>0.837288</td>\n",
       "      <td>0.838565</td>\n",
       "      <td>0.837281</td>\n",
       "      <td>83.86</td>\n",
       "      <td>36</td>\n",
       "    </tr>\n",
       "    <tr>\n",
       "      <th>Random Forest</th>\n",
       "      <td>0.832819</td>\n",
       "      <td>0.834081</td>\n",
       "      <td>0.831986</td>\n",
       "      <td>83.41</td>\n",
       "      <td>37</td>\n",
       "    </tr>\n",
       "    <tr>\n",
       "      <th>KNN</th>\n",
       "      <td>0.823535</td>\n",
       "      <td>0.825112</td>\n",
       "      <td>0.823458</td>\n",
       "      <td>82.51</td>\n",
       "      <td>39</td>\n",
       "    </tr>\n",
       "    <tr>\n",
       "      <th>MLP</th>\n",
       "      <td>0.819062</td>\n",
       "      <td>0.820628</td>\n",
       "      <td>0.818066</td>\n",
       "      <td>82.06</td>\n",
       "      <td>40</td>\n",
       "    </tr>\n",
       "    <tr>\n",
       "      <th>Gaussian Process</th>\n",
       "      <td>0.818932</td>\n",
       "      <td>0.820628</td>\n",
       "      <td>0.818652</td>\n",
       "      <td>82.06</td>\n",
       "      <td>40</td>\n",
       "    </tr>\n",
       "    <tr>\n",
       "      <th>SVM</th>\n",
       "      <td>0.814351</td>\n",
       "      <td>0.816143</td>\n",
       "      <td>0.813823</td>\n",
       "      <td>81.61</td>\n",
       "      <td>41</td>\n",
       "    </tr>\n",
       "    <tr>\n",
       "      <th>Decision Tree</th>\n",
       "      <td>0.815072</td>\n",
       "      <td>0.816143</td>\n",
       "      <td>0.815454</td>\n",
       "      <td>81.61</td>\n",
       "      <td>41</td>\n",
       "    </tr>\n",
       "    <tr>\n",
       "      <th>Bagging</th>\n",
       "      <td>0.814373</td>\n",
       "      <td>0.816143</td>\n",
       "      <td>0.814405</td>\n",
       "      <td>81.61</td>\n",
       "      <td>41</td>\n",
       "    </tr>\n",
       "    <tr>\n",
       "      <th>AdaBoost</th>\n",
       "      <td>0.816601</td>\n",
       "      <td>0.816143</td>\n",
       "      <td>0.816356</td>\n",
       "      <td>81.61</td>\n",
       "      <td>41</td>\n",
       "    </tr>\n",
       "    <tr>\n",
       "      <th>ExtraTrees</th>\n",
       "      <td>0.814373</td>\n",
       "      <td>0.816143</td>\n",
       "      <td>0.814405</td>\n",
       "      <td>81.61</td>\n",
       "      <td>41</td>\n",
       "    </tr>\n",
       "    <tr>\n",
       "      <th>Logistic Regression</th>\n",
       "      <td>0.792842</td>\n",
       "      <td>0.793722</td>\n",
       "      <td>0.793216</td>\n",
       "      <td>79.37</td>\n",
       "      <td>46</td>\n",
       "    </tr>\n",
       "    <tr>\n",
       "      <th>Naive Bayes</th>\n",
       "      <td>0.788524</td>\n",
       "      <td>0.780269</td>\n",
       "      <td>0.782494</td>\n",
       "      <td>78.03</td>\n",
       "      <td>49</td>\n",
       "    </tr>\n",
       "  </tbody>\n",
       "</table>\n",
       "</div>"
      ],
      "text/plain": [
       "                     Precision    Recall  F1 Score  Accuracy  \\\n",
       "Gradient Boosting     0.837486  0.838565  0.837741     83.86   \n",
       "Voting Classifier     0.837288  0.838565  0.837281     83.86   \n",
       "Random Forest         0.832819  0.834081  0.831986     83.41   \n",
       "KNN                   0.823535  0.825112  0.823458     82.51   \n",
       "MLP                   0.819062  0.820628  0.818066     82.06   \n",
       "Gaussian Process      0.818932  0.820628  0.818652     82.06   \n",
       "SVM                   0.814351  0.816143  0.813823     81.61   \n",
       "Decision Tree         0.815072  0.816143  0.815454     81.61   \n",
       "Bagging               0.814373  0.816143  0.814405     81.61   \n",
       "AdaBoost              0.816601  0.816143  0.816356     81.61   \n",
       "ExtraTrees            0.814373  0.816143  0.814405     81.61   \n",
       "Logistic Regression   0.792842  0.793722  0.793216     79.37   \n",
       "Naive Bayes           0.788524  0.780269  0.782494     78.03   \n",
       "\n",
       "                     No. of Misclassifications  \n",
       "Gradient Boosting                           36  \n",
       "Voting Classifier                           36  \n",
       "Random Forest                               37  \n",
       "KNN                                         39  \n",
       "MLP                                         40  \n",
       "Gaussian Process                            40  \n",
       "SVM                                         41  \n",
       "Decision Tree                               41  \n",
       "Bagging                                     41  \n",
       "AdaBoost                                    41  \n",
       "ExtraTrees                                  41  \n",
       "Logistic Regression                         46  \n",
       "Naive Bayes                                 49  "
      ]
     },
     "execution_count": 51,
     "metadata": {},
     "output_type": "execute_result"
    }
   ],
   "source": [
    "results = pd.concat([pd.DataFrame(precision, columns = ['Precision']),\n",
    "               pd.DataFrame(recall, columns = ['Recall']),\n",
    "               pd.DataFrame(f_score, columns = ['F1 Score']),\n",
    "               pd.DataFrame(acc, columns = ['Accuracy']),\n",
    "               pd.DataFrame(n_errors, columns = ['No. of Misclassifications'])], axis = 1)\n",
    "\n",
    "results.index = names\n",
    "results = results.sort_values(['Accuracy'], ascending=[False])\n",
    "results"
   ]
  },
  {
   "cell_type": "code",
   "execution_count": 52,
   "metadata": {},
   "outputs": [
    {
     "data": {
      "text/plain": [
       "[GradientBoostingClassifier(criterion='friedman_mse', init=None,\n",
       "               learning_rate=0.1, loss='deviance', max_depth=3,\n",
       "               max_features=None, max_leaf_nodes=None,\n",
       "               min_impurity_decrease=0.0, min_impurity_split=None,\n",
       "               min_samples_leaf=1, min_samples_split=2,\n",
       "               min_weight_fraction_leaf=0.0, n_estimators=100,\n",
       "               presort='auto', random_state=None, subsample=1.0, verbose=0,\n",
       "               warm_start=False),\n",
       " VotingClassifier(estimators=[('Logistic Regression', LogisticRegression(C=1.0, class_weight=None, dual=False, fit_intercept=True,\n",
       "           intercept_scaling=1, max_iter=100, multi_class='ovr', n_jobs=1,\n",
       "           penalty='l2', random_state=None, solver='liblinear', tol=0.0001,\n",
       "           verbose=0, warm_start=False)...restarts_optimizer=0, optimizer='fmin_l_bfgs_b',\n",
       "              random_state=None, warm_start=False))],\n",
       "          flatten_transform=None, n_jobs=1, voting='soft', weights=None)]"
      ]
     },
     "execution_count": 52,
     "metadata": {},
     "output_type": "execute_result"
    }
   ],
   "source": [
    "# Save two highest accuracy models\n",
    "highest = max(model_scores.values())\n",
    "\n",
    "models = [k for k, v in model_scores.items() if v == highest]\n",
    "models"
   ]
  },
  {
   "cell_type": "markdown",
   "metadata": {},
   "source": [
    "#### Actual prediction for given test set"
   ]
  },
  {
   "cell_type": "code",
   "execution_count": 53,
   "metadata": {},
   "outputs": [],
   "source": [
    "actual_data = pd.read_csv(\"gender_submission.csv\")"
   ]
  },
  {
   "cell_type": "code",
   "execution_count": 54,
   "metadata": {},
   "outputs": [
    {
     "name": "stdout",
     "output_type": "stream",
     "text": [
      "\n",
      "*********************GradientBoostingClassifier*********************\n",
      "Accuracy of actual prediction:  90.19\n",
      "No. of misclassifications:      41\n",
      "\n",
      "*********************VotingClassifier*********************\n",
      "Accuracy of actual prediction:  92.82\n",
      "No. of misclassifications:      30\n"
     ]
    }
   ],
   "source": [
    "warnings.filterwarnings('ignore')\n",
    "\n",
    "for i in range(len(models)):\n",
    "    test_prediction = models[i].predict(test_set)\n",
    "    \n",
    "    classifier_name = str(models[i]).split('(')[0]\n",
    "    \n",
    "    print(\"\\n*********************{}*********************\".format(classifier_name))\n",
    "    print(\"Accuracy of actual prediction: \", round(accuracy_score(test_prediction, actual_data['Survived'])*100,2))\n",
    "    print(\"No. of misclassifications:     \", (test_prediction != actual_data['Survived']).sum())\n",
    "    \n",
    "    if classifier_name == 'RandomForestClassifier':\n",
    "       \n",
    "        # extract important features\n",
    "        score = np.round(models[i].feature_importances_,3)\n",
    "        importances = pd.DataFrame({'features':X_train.columns,'importance':score})\n",
    "        importances = importances.sort_values('importance',ascending=False).set_index('features')\n",
    "\n",
    "        # plot importances\n",
    "        plt.rcParams['figure.figsize'] = (15, 5)\n",
    "        importances.plot.bar()\n",
    "        plt.title('Important features in determining survival class', fontsize = 16)\n",
    "        plt.show()"
   ]
  }
 ],
 "metadata": {
  "kernelspec": {
   "display_name": "Python 3",
   "language": "python",
   "name": "python3"
  },
  "language_info": {
   "codemirror_mode": {
    "name": "ipython",
    "version": 3
   },
   "file_extension": ".py",
   "mimetype": "text/x-python",
   "name": "python",
   "nbconvert_exporter": "python",
   "pygments_lexer": "ipython3",
   "version": "3.7.0"
  }
 },
 "nbformat": 4,
 "nbformat_minor": 2
}
