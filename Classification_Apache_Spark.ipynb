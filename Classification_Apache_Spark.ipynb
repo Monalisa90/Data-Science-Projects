{
 "cells": [
  {
   "cell_type": "markdown",
   "metadata": {},
   "source": [
    "Monalisa Mishra\n",
   ]
  },
  {
   "cell_type": "code",
   "execution_count": 82,
   "metadata": {},
   "outputs": [],
   "source": [
    "import requests\n",
    "import urllib\n",
    "import json\n",
    "from bs4 import BeautifulSoup\n",
    "import pandas as pd\n",
    "import numpy as np\n",
    "import matplotlib.pyplot as plt\n",
    "% matplotlib inline\n",
    "import re\n",
    "import os\n",
    "\n",
    "from pyspark import SparkContext, SparkConf\n",
    "from pyspark.sql import SparkSession, SQLContext, Row\n",
    "from pyspark.ml import Pipeline\n",
    "from pyspark.ml.feature import IndexToString, RegexTokenizer, StopWordsRemover, CountVectorizer, HashingTF, IDF, Tokenizer, OneHotEncoder, StringIndexer\n",
    "from pyspark.ml.classification import LogisticRegression, RandomForestClassifier, NaiveBayes, DecisionTreeClassifier\n",
    "from pyspark.ml.evaluation import BinaryClassificationEvaluator, MulticlassClassificationEvaluator\n",
    "from pyspark.ml.tuning import CrossValidator, ParamGridBuilder"
   ]
  },
  {
   "cell_type": "code",
   "execution_count": 39,
   "metadata": {},
   "outputs": [],
   "source": [
    "# Spark Environment\n",
    "conf = SparkConf()\n",
    "sc = SparkContext(conf=conf)\n",
    "conf.getAll()\n",
    "sqlContext = SQLContext(sc)"
   ]
  },
  {
   "cell_type": "markdown",
   "metadata": {},
   "source": [
    "# Collect Articles from Politics, Business, Sports and Movies category of New York Times"
   ]
  },
  {
   "cell_type": "markdown",
   "metadata": {},
   "source": [
    "We are collecting minimum of 80 articles each category. Sometimes, blank articles get collected which are taken into account and get counted. To avoid that, we need to specify the number of articles collected from any number of pages. We are initializing the range of page as (1,2), which then increments by 1 as per yhe length of collected articles."
   ]
  },
  {
   "cell_type": "code",
   "execution_count": 40,
   "metadata": {},
   "outputs": [],
   "source": [
    "os.getcwd()\n",
    "api_key = \"&api-key=34a50cdaba3b4176a20877ee31a3daf9\""
   ]
  },
  {
   "cell_type": "code",
   "execution_count": 41,
   "metadata": {},
   "outputs": [],
   "source": [
    "politics_articles = []\n",
    "page = 2\n",
    "n = 1\n",
    "\n",
    "# Politics Articles\n",
    "while len(politics_articles) <=80 :\n",
    "    for i in range(n,page):\n",
    "        spo = \"http://api.nytimes.com/svc/search/v2/articlesearch.json?q=politics+in+United+States&begin_date=20180101&page=\"\n",
    "        s2=str(i)\n",
    "        s_spo = spo+s2+api_key\n",
    "        r_spo = requests.get(s_spo)\n",
    "        data_spo = r_spo.json()\n",
    "\n",
    "        for item in data_spo['response']['docs']:\n",
    "            link = item['web_url']\n",
    "            f = requests.get(link)\n",
    "            soup = BeautifulSoup(f.text,\"html.parser\")\n",
    "            article= \" \"\n",
    "\n",
    "            # Get only text of the body\n",
    "            story_text = soup.find_all('p', class_= 'story-body-text story-content')\n",
    "\n",
    "            if len(story_text) != 0:\n",
    "                for p in story_text:\n",
    "                    article = article +\" \" +(p.get_text())\n",
    "                politics_articles.append(article)\n",
    "        if len(politics_articles) <= 80:\n",
    "            page += 1\n",
    "            n +=1"
   ]
  },
  {
   "cell_type": "code",
   "execution_count": 42,
   "metadata": {},
   "outputs": [],
   "source": [
    "sports_articles = []\n",
    "page = 2\n",
    "n = 1\n",
    "\n",
    "# Sports Articles\n",
    "while len(sports_articles) <=80 :\n",
    "    for i in range(1,7):\n",
    "        spo =  \"http://api.nytimes.com/svc/search/v2/articlesearch.json?q=sports&begin_date=20180101&page=\"\n",
    "        s2=str(i)\n",
    "        s_spo = spo+s2+api_key\n",
    "        r_spo = requests.get(s_spo)\n",
    "        data_spo = r_spo.json()\n",
    "\n",
    "        for item in data_spo['response']['docs']:\n",
    "            link = item['web_url']\n",
    "            f = requests.get(link)\n",
    "            soup = BeautifulSoup(f.text,\"html.parser\")\n",
    "            article= \" \"\n",
    "\n",
    "            # Get only text of the body\n",
    "            story_text = soup.find_all('p', class_= 'story-body-text story-content')\n",
    "            \n",
    "            if len(story_text) != 0:\n",
    "                for p in story_text:\n",
    "                    article = article +\" \" +(p.get_text())\n",
    "                sports_articles.append(article)\n",
    "        if len(sports_articles) <= 80:\n",
    "                page += 1\n",
    "                n +=1"
   ]
  },
  {
   "cell_type": "code",
   "execution_count": 43,
   "metadata": {},
   "outputs": [],
   "source": [
    "business_articles = []\n",
    "page = 2\n",
    "n = 1\n",
    "\n",
    "# Business Articles\n",
    "while len(business_articles) <=80 :\n",
    "    for i in range(n,page):\n",
    "        spo =  \"http://api.nytimes.com/svc/search/v2/articlesearch.json?q=Business+in+United+States&begin_date=20180101&page=\"\n",
    "        s2 = str(i)\n",
    "        s_spo = spo+s2+api_key\n",
    "        r_spo = requests.get(s_spo)\n",
    "        data_spo = r_spo.json()\n",
    "\n",
    "        for item in data_spo['response']['docs']:\n",
    "            link = item['web_url']\n",
    "            f = requests.get(link)\n",
    "            soup = BeautifulSoup(f.text,\"html.parser\")\n",
    "            article= \" \"\n",
    "\n",
    "            # Get only text of the body\n",
    "            story_text = soup.find_all('p', class_= 'story-body-text story-content')\n",
    "            \n",
    "            if len(story_text) != 0:\n",
    "                for p in story_text:\n",
    "                    article=article +\" \" + (p.get_text())\n",
    "                business_articles.append(article)\n",
    "        if len(business_articles) <= 80:\n",
    "            page += 1\n",
    "            n +=1"
   ]
  },
  {
   "cell_type": "code",
   "execution_count": 44,
   "metadata": {},
   "outputs": [],
   "source": [
    "movies_articles = []\n",
    "page = 2\n",
    "n = 1\n",
    "# Movies Articles\n",
    "while len(movies_articles) <=80 :\n",
    "    for i in range(n,page):\n",
    "        spo =  \"http://api.nytimes.com/svc/search/v2/articlesearch.json?q=movies+in+United+States&begin_date=20180101&page=\"\n",
    "        s2 = str(i)\n",
    "        s_spo = spo+s2+api_key\n",
    "        r_spo = requests.get(s_spo)\n",
    "        data_spo = r_spo.json()\n",
    "\n",
    "        for item in data_spo['response']['docs']:\n",
    "            link = item['web_url']\n",
    "            f = requests.get(link)\n",
    "            soup = BeautifulSoup(f.text,\"html.parser\")\n",
    "            article= \" \"\n",
    "\n",
    "            # Get only text of the body\n",
    "            story_text = soup.find_all('p', class_= 'story-body-text story-content')\n",
    "\n",
    "            if len(story_text) != 0:\n",
    "                for p in story_text:\n",
    "                    article = article +\" \" + (p.get_text())\n",
    "                movies_articles.append(article)\n",
    "        if len(movies_articles) <= 80:\n",
    "            page += 1\n",
    "            n +=1\n",
    "            "
   ]
  },
  {
   "cell_type": "markdown",
   "metadata": {},
   "source": [
    "# Create folders for each category and place files"
   ]
  },
  {
   "cell_type": "code",
   "execution_count": 45,
   "metadata": {},
   "outputs": [],
   "source": [
    "def createFolder(directory):\n",
    "    try:\n",
    "        if not os.path.exists(directory):\n",
    "            os.makedirs(directory)\n",
    "    except OSError:\n",
    "        print(\"Error: Creating Directory \", directory)            "
   ]
  },
  {
   "cell_type": "code",
   "execution_count": 46,
   "metadata": {},
   "outputs": [],
   "source": [
    "# Write files to respective folders\n",
    "createFolder(\"./Politics/\")\n",
    "f = open(\"Politics/nytimes_politics.txt\",\"w+\", encoding=\"utf-8\")\n",
    "for i in politics_articles:\n",
    "    f.write((i))\n",
    "    f.write(\"\\n\")\n",
    "\n",
    "createFolder(\"./Sports/\")\n",
    "f = open(\"Sports/nytimes_sports.txt\",\"w+\", encoding=\"utf-8\")\n",
    "for i in sports_articles:\n",
    "    f.write((i))\n",
    "    f.write(\"\\n\")\n",
    "\n",
    "createFolder(\"./Business/\")\n",
    "f = open(\"Business/nytimes_business.txt\",\"w+\", encoding=\"utf-8\")\n",
    "for i in business_articles:\n",
    "    f.write((i))\n",
    "    f.write(\"\\n\")\n",
    "    \n",
    "createFolder(\"./Movies/\")\n",
    "f = open(\"Movies/nytimes_movies.txt\",\"w+\", encoding=\"utf-8\")\n",
    "for i in movies_articles:\n",
    "    f.write((i))\n",
    "    f.write(\"\\n\")\n",
    "    \n",
    "f.close()"
   ]
  },
  {
   "cell_type": "code",
   "execution_count": 47,
   "metadata": {},
   "outputs": [],
   "source": [
    "def data_prep(d2,i):\n",
    "    df = pd.DataFrame(d2)\n",
    "    df['label'] = i\n",
    "    df.columns = ['text','label']\n",
    "    return df"
   ]
  },
  {
   "cell_type": "markdown",
   "metadata": {},
   "source": [
    "Convert the collected articles to dataframe"
   ]
  },
  {
   "cell_type": "code",
   "execution_count": 48,
   "metadata": {},
   "outputs": [],
   "source": [
    "df1 = data_prep(politics_articles,1)\n",
    "df2 = data_prep(sports_articles,2)\n",
    "df3 = data_prep(business_articles,3)\n",
    "df4 = data_prep(movies_articles,4)"
   ]
  },
  {
   "cell_type": "code",
   "execution_count": 49,
   "metadata": {},
   "outputs": [],
   "source": [
    "data = pd.concat([df1,df2,df3,df4])\n",
    "data = data.reset_index(drop=True)"
   ]
  },
  {
   "cell_type": "code",
   "execution_count": 50,
   "metadata": {},
   "outputs": [],
   "source": [
    "spark_data = sqlContext.createDataFrame(data)"
   ]
  },
  {
   "cell_type": "markdown",
   "metadata": {},
   "source": [
    "Articles collected in each category:\n",
    "\n",
    "1 -> Politics\n",
    "\n",
    "2 -> Sports\n",
    "\n",
    "3 -> Business\n",
    "\n",
    "4 -> Movies"
   ]
  },
  {
   "cell_type": "code",
   "execution_count": 51,
   "metadata": {},
   "outputs": [
    {
     "name": "stdout",
     "output_type": "stream",
     "text": [
      "+-----+-----+\n",
      "|label|count|\n",
      "+-----+-----+\n",
      "|    2|   96|\n",
      "|    3|   86|\n",
      "|    4|   84|\n",
      "|    1|   82|\n",
      "+-----+-----+\n",
      "\n",
      "Number of articles collected:  348\n"
     ]
    }
   ],
   "source": [
    "from pyspark.sql.functions import col, sum\n",
    "c = spark_data.groupBy(\"label\") \\\n",
    "    .count() \\\n",
    "    .orderBy(col(\"count\").desc())\n",
    "    \n",
    "c.show()\n",
    "\n",
    "no_of_aticles = c.groupBy().sum().rdd.map(lambda x: x[1]).collect()\n",
    "print(\"Number of articles collected: \", str(no_of_aticles).strip('[]'))"
   ]
  },
  {
   "cell_type": "markdown",
   "metadata": {},
   "source": [
    "# Training and Test Data"
   ]
  },
  {
   "cell_type": "code",
   "execution_count": 52,
   "metadata": {},
   "outputs": [
    {
     "name": "stdout",
     "output_type": "stream",
     "text": [
      "Training Dataset Count: 281\n",
      "Test Dataset Count: 67\n"
     ]
    }
   ],
   "source": [
    "# set seed for reproducibility\n",
    "(trainingData, testData) = spark_data.randomSplit([0.8, 0.2], seed = 100)\n",
    "print(\"Training Dataset Count: \" + str(trainingData.count()))\n",
    "print(\"Test Dataset Count: \" + str(testData.count()))"
   ]
  },
  {
   "cell_type": "markdown",
   "metadata": {},
   "source": [
    "# Feature Engineering"
   ]
  },
  {
   "cell_type": "markdown",
   "metadata": {},
   "source": [
    "regexTokenizer: Tokenization (with Regular Expression)                                                                                                                                                                                                           \n",
    "stopwordsRemover: Remove Stop Words                                                                                                                                                                                                                             \n",
    "countVectors: Count vectors (“document-term vectors”)                                                                                                                                                                                                           \n",
    "label_stringIdx: StringIndexer encodes a string column of labels to a column of label indices. In our case, the label column   will be encoded to label indices"
   ]
  },
  {
   "cell_type": "code",
   "execution_count": 53,
   "metadata": {},
   "outputs": [],
   "source": [
    "# regular expression tokenizer\n",
    "regexTokenizer = RegexTokenizer(inputCol=\"text\", outputCol=\"words\", pattern=\"\\W\")\n",
    "\n",
    "# stop words\n",
    "stop_words = requests.get('http://ir.dcs.gla.ac.uk/resources/linguistic_utils/stop_words').text.split()\n",
    "\n",
    "stopwordsRemover = StopWordsRemover(inputCol=\"words\", outputCol=\"filtered\").setStopWords(stop_words)\n",
    "\n",
    "# bag of words count\n",
    "countVectors = CountVectorizer(inputCol=\"filtered\", outputCol=\"features\", vocabSize=10000, minDF=5)\n",
    "\n",
    "# label index\n",
    "label_stringIdx = StringIndexer(inputCol = \"label\", outputCol = \"label_assigned\")"
   ]
  },
  {
   "cell_type": "markdown",
   "metadata": {},
   "source": [
    "# Logistic Regression using Count Vector Features"
   ]
  },
  {
   "attachments": {
    "image.png": {
     "image/png": "iVBORw0KGgoAAAANSUhEUgAAA0cAAAIfCAYAAAC7EKetAAAgAElEQVR4AeydB1gURxvH/9SjWsACWEANaAIpolFQA0YBCzbQfGiiYERNrBCNorEkdjEqmNgSjbHEFqMYFWOLEZMIRsECqIAFLGABVI52R9nv2d0rewdHEwTx3eeBm52deeed38yWmXlnRothGAZ0EAEiQASIABEgAkSACBABIkAEXnMC2q95/in7RIAIEAEiQASIABEgAkSACBABjgA1jqgiEAEiQASIABEgAkSACBABIkAEAFDjiKoBESACRIAIEAEiQASIABEgAkSAGkdUB4gAESACRIAIEAEiQASIABEgAjwBGjmimkAEiAARIAJEgAgQASJABIgAEaCRI6oDRIAIEAEiQASIABEgAkSACBABngCNHFFNIAJEgAgQASJABIgAESACRIAI0MgR1QEiQASIABEgAkSACBABIkAEiABPgEaOqCYQASJABIgAESACRIAIEAEiQARo5IjqABEgAkSACBABIkAEiAARIAJEgCdAI0dUE4gAESACRIAIEAEiQASIABEgAjRyRHWACBABIkAEiAARIAJEgAgQASLAE6CRI6oJRIAIEAEiQASIABEgAkSACBABGjmiOkAEiAARIAJEgAgQASJABIgAEeAJ0MgR1QQiQASIABEgAkSACBABIkAEiACNHFEdIAJEgAgQASJABIgAESACRIAI8ARo5IhqAhEgAkSACBABIkAEiAARIAJEgEaOaq4OxIY64/3QuBpIIA1ngsfiQ2dnvO86HGvjJDWQxksUmRGOqc6BOJzxEtOkpF5hAhk4HOiMqeF1ucLUAR3jQvG+cyhiX+GSJtUrQCAtAsvGuuN9Z2d0H74esRV9HajXD/XzCiRNQYgAESAC9ZVAGSNHcVjFfoCX8le3P0zqa1Hx+UoNm4cZaZ74+UwkLpzYhHEOovqd4crmLiMCy+aFIbmy8Sh8zRCos+UhQcKeeVgVJa6ZfKtIfZlpqSRcCyf1NK+SROyeF4pzL6O6VLjU0rB/3iykeW7CP5GROL3JH2/T66DC9CggESACREATgTIaR3wU75ATOH1C9W+Jm7kmeeRfowQyEB0RD2dPF9iwL0GRKehdqAY8LQUnolKQUdEeVLXolToVR+CrwHCkVypSBQPXpGx1FRK3Y1CNjHICeJnloZ6vMs+zkXIpCokZ2WWGqp6LLzOt6tG4QlJKraMvP68J272wqiYG6YUQslMQHZWIl1JdhOmW5c6IQUR8VwxwseHeAyJTehuUhYuuEQEiQAQqSkC3vID6JqYwNS0vFF1/mQSsLalxqpG3gy/+OqnxarVeEEcdxUm4YFq1SuWF1aRsdXUTosKQBkd17+o5f4nlUTmFzeERfBIelYtUxdAvM60qqliFaKXX0Zed10REhj1ETVVfBRZzd6w86a44rTsOG9DroO6UBmlCBIhA/SBQ7shRedlMj9mOL4fzNs/vuw/Hl9tjVHvSuTklrO17BqK3T+TnysyLgCbrBHFiOJaN9UR31obacyyWhSdDMQiQxs5PGY6tiUKtkrF/rDM+DVMaUonj9uCricP5tJxd0XdsMM6kCeKw9tUTwxCrrvueRIgzYrA1SB7XHZ8GhyNZoQAANm5gOJKTlXq+7z4WX4UlKvUUJCV0lpk3YcBS3Fyexvpi+Xlgzzje3FFp3siyDcIwd97/w+FB2BqjNidDpne6JBmHF/lyfAdtVwGpTFWSjDOhQfjE05U3q2TLdY8wf/ycilUxYsSGzcOn8nTHBuOwCiwA4jjsnjdRoRtXphHCwlAmC3YEw3kezqhXDkkMlrm6YlmMBODqUynmnvKRD3XbeVm+U9OisCqQr1fvu3piqno9RRpOBI9FX1c12e7DsbtEr7QY0aG+6Dv/LHB+MfrJTE+VvdfC8nDHsKDtiFYUhwTRoV7ornYPSKKC0d01GOck5ckW8CrNWRneSMPhie4YueEhsHeczIQ2EPvCgvC+13YkqMtPC8OnzmOxny0+2X0dLbxfWK6hUUgVxlMvD/aaOBGHBaw/HD4R++W3b7l1Tyi8dDc7329qeDKSw4PxqawOfzh2HvYnCm9k9XlB8jotLDtX9A0MxblSqqvwuVfq/aaimqa0KnD/cM9N+b2tXpdkibD3tGIeoif/zKrQgJgwr6XJzkD0nnkKhuzz/bN57POwrDqqIa8RwjKXP5PFKmXU3TOw5HOrrPqcFo7P3P2w7qHymcg+mxUjuSr1jE9T/fnE15UMSJLDscCXfd55qb1fZIxLzI3UxEal4FVOyn0vSZJxIlRe1uz7zxdfrld7n3ISxYhly8V3BSKxF2O4549w3qawXJ1Rfv1UUVN5UiY/Cc4FO6O7/Lkri8WO4r2v/gxPDsMnCr+yuLHPRne8P3wPmUUrS4FcRIAI1AYBRuMRy6x0cmJWxmoMwDw5EcB0cwlgfktIZ7Ly85ms9ATmtwAXplvACeaJPFr6EWaK00xm6XJ/ZvruWOZBVhaTlS+/qPabsI0Z6uTDLI1MZdgg+XdOMN/4uDBTTqQrAj44EsB09j/A3JH5qJ+z3lmxR5hDsal8OvmpzL/Lfbg4D+RSYkOYzk5OTDf/dczF1CwmPz+LeXBmOTPQyYXp5sKnz+YnPz2aWenjxAzcliCPyTBsXBc3ps8Eedx85knCAWaKixMz+oBcK4a5GuLEdA4RwKtA3pSJaHKlM4cC1MsknTnOMT/A3Ejn88Lro8qN03vUcmbpTH9m5Yk7zJOyyoG5w/x1IJK5k84XVBaXPxdmabS84Hg9Bg7xYaYcSGCeZOUz+fnpzI0DbH1YzlyUB2OzkRXLHDrCljtXosyDyOXMUCd/5rdUWR65+hHAHOKK+A7z2ygnZvqJLBUA+dHLmW4uIcxVFV/ZSeoRZoqLD/N9rCxRrmwFYbnzIcxA/+XMv1xZ5zNZqZHMUh+2vORK5DNXQ4YwA5efUdTbJ2x9UM+LWvpP2LoYcEQRh7+cxfw1l70H2PLIZ5j8dObqNn+mm8865qqcS340s3KIC7M0Uuahfs4wTOmy1RQo7bQ83qXEKVFX8yOZpU5DmJ8F1Z6N9uCAvzK/XLm5MT39FzKH5Pe/jGu35ZHc/cslpV4e+bHM9z5OzNCFR7j6mpWVxTyIjWbuyNlUsO5NOaJ8Jqhnic1PN7f+zPh10Vy9U9RNtt4pblG+Divl8Oc93fyZb47I6nSW7Nnhspz5V6Efw2Sdmat47uUz+cyT2G3MaGEdZEqXrZ5W+fdPBeoSk8o9E5T1LYu7xz52cWE6OwnuA3VITPmy+fLezddjhn2+32EuRiYw8ruz9Dpaet47O/nwXLnnagKzK8CJ6eziwvTk7hP+uXXnSADTzWkmc1yeAKtzufVZw3tKXs+WR8rqAM+Ffb8onhUM/5z+ePlyZrp/CHP8TjrD1kdBUSupqTyn5PeCZjbKiEpX2e+lfObichfuGSR/VmalJjDHoxUVVilI7uJ0Ui/jSrwPhPVD031aBj/2Pug8SvkuZpgE5uchQ5iBQ5yUzza2CAXhyq5TWcxfC12Yzi7rSn/Wy/NNv0SACBCBGibwAiNHiTiy/jw8goMx1M4cpiIRTM3tMDQ4GB7n1+OIyqDEWURbzsTK4Q6wMjVF6abRYpzZsQHSCQsx28mSt6G2ccc0fydErg9X9GJbeQZhvkkoFrAjRWnhWL4YmL/ICzaClqWpgycGOljy6Ygs0c13FBzjIxCn6L1nA9ti8tyJ6GRpCpHIFFauPvCzlQJec7n02fyIzB0xfoIb0mKSlL2RbFSpCYYHyuOK0MTOC0vmuiAu9KCG1aEqljdBFiruTAzH2vNu+DbYC+3N+byw+nwb7KbCjROYdBTi/iGY7m6DJhrLgQ1pg55eTrAx523YTe284OclxZGoJBW90uz8scTLDk1MRRCJzNHeyxfe0oM4Iwxm6oCBnmy5c5OkYOXkC7+O8YhQLQyZXBs4e9kjIvysgLcEcSePwty/P95WSZ09ScPh4BVI9Zlb7sIU3jOD0I0raxFMLZ3gN6oj4iLkvbJJiAh7CFdPVzSRpdHE1ROu6nkpkX4pHolhWH3KCV8vYstDBIjM8bbvTIyT7MBu+eR/kSMmL/JCdFAozkkkiN6wCBGuIZjmVA1zBirFuxT9WS9RR3gMycSmo8IhszREhsfD1dNFwQjIRiefQAyU3/+WTpi9cALMD+7BCZV7TZmOOGovtkkmYMk8T66+mpqawsrBkZ9DxwWrWN1TSizdJTXxwbSJjly94+vmInztEo/VB4V5Khk329EH0zxlddrUEt2CFmKS2UHsOSXPUCL2h56C89xF3HNPBBGaOPhilr8E2/ZGaRwRL5kSUO79U5G6FLcXy8+7COqbKaycgjDf36y0JJV+FZCdkRIPS0dHvh6Dfb7boJOTHapkZd0/ELNYrtxz1Q7ew4cA0o6YNk/53LLxnIhxFmcRm6JUE1Wsz1w90w/AyiAnWR3guawM0Me2HWdVyinxaDYGhATCw8YcbH2syF1YFTZlv5eykZomhZ0jX2fB8ra0g4ej8M0m4KLJWZn3gSYZ7OAue5+Ww8/UwQnOSRFIlN8ayfE4CS9MHttR5V2ReOkULN3suXd02dxM0XNeBC5ETCzlWV+GsnSJCBABIlDNBMptHMlNuJSr1smG7zOSEPOwKxxt1V4lIls4dn2IyCShLYotRrjYlaN6CqJPAa4OquFMre1h+TAGKfIHMCwxMGgmTENn4ZOgFcDcIAy0LEe0PvuqgZrZmyPsVN47ptA3AzrZqgozNS9tfo8r3lZVE6aOLnCWJiNZoadQp4rmTRinYu70pBikdXWEXYlicITzwygkCosB/THAqUqfNtBn24RSVZ0cXRzUPpTYUOUd+uCFlR7Oys0HrufDoLC8k8TjxFEzeDupAQeQGh6M5Q998LW/QzkfNCXLS59TQqmDRC1v/BX9cuQq48tdXHl0dIGDCmZL2DgAEfHKrz6RwwR87XUJM8aNw7IIV3w9wbHSacnTLPu3bN6lxxWhk5c/zMPCES23REuLwpF4F3io1J+OcFXNKGDnCFecV6t3ylSSL7E3uSPaK73KdZVW98qN5OqgloYpHF26QpqcImh4l5RSsk7boZMrlM8z7rlXMt9W1g7A2fhKmQOVTEv1/qlIXUpPSYa0qwscVeobYGPnVDJzAp+KyLZzmwDTnybhs9BwxKbJK4JASCWcjo7WKvVbZMI+sGxgo/J4NYe5dXlCK1afuXrm6KDSacZKtnFw5MpJpe+uvyec1fiVp0W1sFF5L5lzC+1EL56Er/ZEIVndtLg8hWTXK/c+0Cy0QvzMbeFocR7RSXzdSL0UjmRXR3jYOsE8IkbWoZmI2Ah9uDryz+9q4aZZbbpCBIgAEagWAuUuyMCuVjfZXjUtffZFEpeCaAAlp6iaw8YGiEliWwnyhoYZuDiqYlTPMtLAfjpGTnLGHtUrALqqNmws3TDcbTECjrrhWxd5GspI6XHh2LZjL2LiUpCYKf/q7VpCV9VPEWX8irhKjxuPDLYxovLCZ+dnVCJvFUlcECYt5VKppcB+ZVjjEt+rp0Ak0jBqJxDIOsXJOBf+E7YdTUJiUgoU0xd8VMOJ1BoYqldlZxlxOLxjB/bExCE5KRPy0nAuWXH4CKZO8HCZj91RaRjqZQnJpZM4YOaFX9TbRuyo4YqHGLEuuELL15ZeXnKNbdFziD4WnIrBeAdHrsEnjjmFCGt/fOsgD1OxX648Lp3HYOfFJSOo8BPh7SFDYLl3DRAwF53UGrclI1fQp7K8NYm1c4K32TiciA9EJ0cRkqPCEOfmr/YRKftQLUVGWloG4FDiRkAaO7dIpVNCLXIF655arFJONZR4fAbYW1Q+QqgeUWOdTktDOhzQJI197l1CpLczFqpHhkoBl7iq7qExLVnAitSltKTzpd7/fONDPUXleUVkixx8sfOAIw7v2IwZwxdDYu+D2TMnwINbKlMpqyKu8vKqUUaV6nOG5npmaQtnnERqBtBJXj1FJioNN426CC5UhU1576Um7sE4ZBuFIz9txqdrgmDlNgHTAocr9RSkr8lZufeBJikV5cd2HOhjTmIK4GTOraQ6YLgtYKcPbwQhMtEX7U2TEPnQBSNkjd6qcNOkJfkTASJABGqKQLmNI42r1VlaoxNU+t9kOmYgORlwdJe/eSqourkl2Oen9aZITC/ng1QStwGrT3XFALc4rP0pDs6BypGD9JOBGLzeFLOCQzDZzpx/6bGTaQdU5xJmEojZzrISH7T2MFc0RAT5rkTeBLEq5LS07ojSiyEFKeiIyhYDJHFYO24cop3WYckmR1jJ8shOXB5TIY0EgTJOYqr3epjMDMaaCaxJDXuNnbA9AJpLwxSuPkOwYNFJJHj5ICPiIOx8d6uNAsjN6dbh22rZ50mEToGb4Df/C/RyzgQ7tGXe1R9L1vmqpSvImwYnVx5d3fFHqKfGD3A+ahoOh24A+veH1Yb1OOwaWv4IqIY0Fd5V4q2Ireawg4evLQaHRWGyozWiw5LgPdFJbaQwE1K2h7uUW92y1CW0zGFZVsOoOuueJJvrUCl5i5orumzUMsydZmjOEF+e3HOvK9yPhGJgKfkuTWZV/SpSlyxtu6LU4Sp5L4SGxCsim4tq7oCBgaEYGJiB6PVBmOoXBBwIhUcN551Lu8r1uYx6lpaESNjArzr0rwSbir6XTG2cMGKRE0bMTMTh0Pn4fFImtmybWKEOIJZZ9bwPKs7Pzqk/0tbHI9nLDJHn3eCxiL3j2EZTJpbHJ2OoWRRiujphiXBkrhLcNFRf8iYCRIAI1CiBcs3qNKYuG1KPiFEb/5ckIea8BZzVzNM0ylFcsEYnNyAuSb5sleKCqoP9gFocBruFi/D13HlwjpiHtewqZtyRgZjw85C6+nDzIBQfRhkZpX4/qAquzFkU2M4y4SGOOYtIfXUzEXmICuZNHrwSv01sHWF5/ixKFkMMIi2cYFdaY60s+UlnsTulK7xHKRtGgBhpKuZ5ZQlQXkuPCUek1BUjuLkGcv8MZKixk1+R/4rs3TEg8xTiEi8h4qA9vJ1Uv6grbk4nl1j+ryTpFHZLJuL3yEhciIzAsVDfSvXYylPgyuNSHFQWRpNfFPzyefDHknnzMGsmsDA4XHWVN0HYijqryluTfCsnTzicikJs4iUcSBkCj46KO0oWJQmRSWr3f2IMItBVY72zsXcBFCY3ailXY91DVKLaPS9GzNnz0LexLrPRmhiVpDIfhe15iI6A8nnGPfcuIU5mSqSWg2o9rUhdamJtA/3zMSXqW0JcRJm6VES2qgBzdJq4CLPszyO2Cs8CVVkVO3uR+mzT0a3UepYcFwO42EN9ILpiGmkKVR6bKryXTO0wcN5MDE9JRLJi6F5T+kr/6nofVJSfyNYRzkkxiD0bhZNubugkawSxjabEiHicuXQWdq72Gu650rhJVK1ElFkjFxEgAkTgpRGoeuMIdhgRNASRi9klcjMglkggzkjE/qAgnOg6EQMq/fYxRc9REyBeMQsLwuKQKhZDLBYjPTkGh0/GyT5YJIjdsBgHbBditqspwE5sD3LCgUUbZHMjzGHtaAFEnUI0twuoBOmJ4Viw+CeUOhWoypgzsWlxMM6liSGRsGmEYc7iKDjP9NEwkbQieRPjzDxnvK+2xHO5Ktr5YNaQKCyYF4aEDFYfMafPjKBTcJ7oWemRD1jbwxWXcDKKX0JdIk5D9PovsCxKg5lSGQo2sXaEJaJwIiaDe+FJMhJxeNFibGIHZ8o6RI7w9hfjwIrNOGLvCWdhA09mTjduYcV7U8tKSn5NnJKIFHPz0gZB5EFK/PIfpicRwS1fLnup23lhmstRzJi0HueSM7g6LBanIeFkmHI5eUUe+JEpK89AzMpejOXhyq/OUmVzS51rWGqYNRWrIm9u9CHiFM6x7RyJ4OPE0g0jXA5i04pwJPd3R8lBOn1ErhDc/2lRWDZ/A/R9xmocWTB1GQU/0QbMWRTO1Vf2Hk9NPMl/cFdj3UPmT1gYHIVUsQQSSQYSwuZhQVRXzPIpe1haP2oF5oQlIp2NJ07DueD5WCfywTjFxtd2GBrogiNBk7A2KhnpsucUm4f9iolyJapK1TwqUpcchmCa/VGsXsHyZPMqRmrMeqzeUc5NVgHZsXsWYX9MMtLZvidO7l4cuGSvmCdUah2tWk5LjVWx+mwJu65AxCl+MQz2ecwepq7+mGW+AXMUdUCM1KhgfLlGCr9RLmojoKUmX6ZneWxUI1fkvZSBE6HbcSIxjbdKYOtseBgi9C1hZaIqrcyzanofVJifuS1cbc9idehRuLrwJsmsfiJ7J7if34s9MWZwt1d2bpXNTYwzizzQw3W9hoWNysw5XSQCRIAIVBuBcs3qykpJ5BSE30O2Y/n84Viekg2YWMN1VAh+93XU0FNUljR2NN4XO3dbYu2GxfhkBT/XxcS6I5x9ArnNGllzugVhtlhyxFXxchM5BeJbJw9MDXXC6SAntPcJwfy0xfhyQE9kwwTWLqMwO2QTrMeuLyfxylz2wrcLbRExbzhmxGdCamIP75nbMM1T+BWvJq+cvLErryXHAa4TlS8YNQkaTkXoFnQA321fgTnDV4AvBhf4hRzAaMcq2I6YumLaOn8snOeHHoul0Dezx4CJc7Fz4U8YzE5vqsxh54Pv5qZhQdAA9OCqhwv8ZoZgi/VYrCtHTnsXX2DDCnSaGwwrQdj0mJOIlKYg0s9ZVYbPJlwILPvDVyCmhLOJoyfc13+BHs7KS/pmXeE9LwjTnTSUq8MEbAkIQoBfTyyHGSatC8doB1P0XHQA3+0JxdpJ3ohj57zpm8HOyR2TuH1WZSaB/pvwnaIDwQZD587EkRHzsN9+M4ay3xKlyB6akYQ0Cy84K+IpdeVcVeTdxDMI38bNwxwPZ2SbuOHbPYvQk6s6pnD1GoI5XxzF8MDSFozoiFkhvsj4aRIGnU1Btr4ZnP3XYaOv0sxVTUNA5IDJmzbBckUoArwXI0PKPjZcMC3EHW9XZ93zCsYS2wjMGR7ElYGJ/RDM2hZYrulip5kh8Mv4CZ97n0VKNm9euXGdr4pZk6nrIvwesger10/CYPb+Z80wbZ3gPrG6N9Itry6xdG0wNGQTsCIUnw9YzJWBQ/9ALNk+E8u9hctGqpdE+bItbUyxLXQSVnNzBfVhbu+CcZtCMFR+O5RSR0dX/RZUVxCoUH02x8Cg5YibNw+9nLNh4rYc+xaxq07aYOi63dAPXYwxA+KRIWX1749J2zZhoPrqNSVTLtenXDZqEsp/L5nA2joJq+fvwBz2Ic69uzwxa09gJecjVtf7oKL8bODgZobsDdZwFa4KYuoID7dZmHFqCCYJFtkom5s+TE31AUszxftdDSOdEgEiQAReCgEtdqnwl5JSfUmE3dRyHLAlMlDDKFEVM8ra1w84hQEnguEhtM+uorhXPhq74ah3FEa8BB6SxD34fHESvOdORE9L5QiZOH49pn6RhvFHXtIci3IKLXa9K+aYbMIhX02to3IEVOGyJCYYvRZZYkuY2vwr2Ty+lzH3prJq8/PjKttYls2Fcz+C7zyr0KlQWSUpPBEgAkSACBABIlAnCbyAWV2dzM8rq5QkKQbRQ3zAWgvSASRHhSPOxU1tdbSaIZN4dA2kXqP4/XrY/Z9kf1ZO7nBGCreyVc2kXBmpyUiMsoWf+8trGLGL30eze0x5OVXePLMyWaOwRIAIEAEiQASIABGoIwReyKyujuShXqjBmij+W/bWJPUin2Vngp/vIk48itWh2Zi0yf2lmFeYW9sjMSIKCS6Wsg0vAUlGMiJ2hOKAtRe2vMz2iEZANhi6fbPGq9V6gZ23IQJSo0Kx+qgLph2pEwCqNYskjAgQASJABIgAESACpRGgxlFpVMivdgjE/YRe43bwc7gWhmD0S/omt/IKxkZJKJb7buDnCLEW/+xctyETsW+bk8qcp9oB83JTTT8bhH7zz4OdczV5UzB60mjmyy0ASo0IEAEiQASIABGoNQI056jW0FPCRIAIEAEiQASIABEgAkSACNQlAjTnqC6VBulCBIgAESACRIAIEAEiQASIQK0RoMZRraGnhIkAESACRIAIEAEiQASIABGoSwSocVSXSoN0IQJEgAgQASJABIgAESACRKDWCFDjqNbQU8JEgAgQASJABIgAESACRIAI1CUC1DiqS6VBuhABIkAEiAARIAJEgAgQASJQawSocVRr6ClhIkAEiAARIAJEgAgQASJABOoSAWoc1aXSIF2IABEgAkSACBABIkAEiAARqDUC1DiqNfSUMBEgAkSACBABIkAEiAARIAJ1iQA1jupSaZAuRIAIEAEiQASIABEgAkSACNQaAWoc1Rp6SpgIEAEiQASIABEgAkSACBCBukSAGkd1qTRIFyJABIgAESACRIAIEAEiQARqjQA1jmoNPSVMBIgAESACRIAIEAEiQASIQF0iQI2julQapAsRIAJEgAgQASJABIgAESACtUZAt9ZSpoSJABEgAkSACBABIlDfCTx+AOZKJLQijgGX/wHuJQL5TH3PNeVPSEALgLkZ8GYnoHsfoPMHQPt3AH0DYShy1xECWgzD0B1aRwqD1CACRIAIEAEiQATqCYHCAmD1DGDLGoC+tOpJoVZjNtraAj8eA1q1rUahJKo6CJBZXXVQJBlEgAgQASJABIgAEZARYC5GAN6OwE/UMKJKoYHA7SRggD2wYhqQl6shEHnXBgEaOaoN6pQmESACRIAIEAEiUP8IFBcDfx8Fpo8AxNmq+WO7o62sAbNmZE6lSqb+nxUXAdlZQGoykK1WL9jcewwAgncDRib1n8UrkENqHL0ChUQqEgEiQASIABEgAq8AgfiLwIgegESiqqxjZ+C7Q0BTS1V/Onu9CBQVAvs2AstmAvl5qnl/vzOwNRLQpeUAVMG8/DMyq3v5zClFIkAEiAARIAJEoL4RSLsLTBis2jBqYg5sCAN2/UcNo/pW3lXJj44uMHwycPImMHhnzwoAACAASURBVNRXVULMJWD/ZlU/OqsVAjRyVCvYKVEiQASIABEgAkSgXhFYNAH4ZaMyS1YtgN2RgEUrpR+5iICcQFERP99o+1qANcdkDx0Ax5KA1m/IQ9FvLRCgkaNagE5JEgEiQASIABEgAvWIQI4Y+FXQMGK/rrb+RQ2jelTE1Z4VHR1gxkrgTUFDqAjAvp+qPSkSWDkC1DiqHC8KTQSIABEgAkSACBABVQI/LgGkAq8R4wFrW4EHOYlAKQR09YB1JwFTU+XF8O0AO6pER60RoFlftYaeEiYCFScgkQL3HwKPM4B8KUC7k1WcXV0JKdIDGjcErK0YGBuxOwLSwRJgt9oT5wDZuVpgF3Si49UiwHZ+mxgzMDECtLRe03rN7md04nfVghv2meo5nREBTQQsWwMe3sD+bXyIB6nApX+Bzi6aYpB/DROgxlENAybxROBFCLAfjkfPAJOXauHB0xeRRHHrCgEjPS0smghMGVVXNKo9Pf48x2DOd1qIuVl7OlDK1UFAC05vAkumAh+8Xx3yXjEZudlAluABbdkUeMvxFcsEqVurBJx7KxtHrCJnDlHjqBYLhMzqahE+JU0EyiJw5z6DPp9rYVgQNYzK4vSqXcstAKavATr9Dzh7gXnV1K8WfU9HMeg2koFnADWMqgVoHRASdR1wnwi4jGZwMe41q9dSCZCXoyyFLu5KN7mIQEUItHlTNVRSjOo5nb1UAvV35KgwG+cOH8f9YqD3AC+Yi6gd+FJrFiX2QgQS7zDwDtRC4gNeDGuSZd8WaN8asGwC6Lym1isvBLUWI7OfihnPGSTeB64kaiE7D4i9DQwJ0MKu5UDf18h64ucwYMJSLRTLvp91dQBrC8CsIcCaaNHxahFgp0ZkPAOS08CVaVScFrqNBnYvBYZ6vFp5qbK2LATWtE5+NGshd9EvEagYgQaNVMNlZqqe09lLJfDijaPsJ7jzWAx5P5G2tj4aNWuCRkYGJTISuXMlgjYfw5hVP2G0o3WJ69XpUZQaie7ewziRkRlSReNo/7dfYfWp61iwYzfcmpXUsTp1IFlEoCoE2PlFXtO0kCRrGJkZA0c3MHB8i1pEVeFZd+Lw5ffwCeA1FYhOArKlwOj5QMoJBiL9+l++/10FPl8CxfvirdbAr6sAuzZ1p5RIk6oRuHYL+N80KDp0RnwFRDQBnF8L6zJGdSIobeJZtUr0OsfSVusZKnydYdR+3l9oOKUoPR6tTJuhbbt2aCf7a9OmFRobN4DVm4747vgFZQ4lyfhm7Az8feZP/B13Q+lfQ647F0/zkm2noX0jPd6dn4glc5bh3ImDOJMssA+uIR1ILBGoCoGVW4Cke3zMNs2Ai3tBDaOqgKyjcSyaAsc3MRjYnVcwM5s1RdJCQT1/GT58wmBwAMM1jNhm4OxPgX9+oYZRHa2mlVbrrXbAuZ3AtI+VUf3mA1nZynNyvcYEiovwKOk6YmPj8Si7eh92xXnPcS02Flev34aEFnV5jStZ9WX9hUaOnqUk4T6ri2FLDP/cD20Ni3D7ZhyuXojGtRuXENDXF9YPL2FwcwNA2wD2rh4o0jbEp641P2Pz8p/812Xjj3ujsbwJqGMExw/d0aShNca/06T6KJIkIlBNBJ5kAgtlWxyYGALHfgRaWlSTcBJTZwg0MNHCr6sZvPeRFhLuApcSgfgkBu+9WX9Hj8LPaiFDzBdB/27AvM8A6mCvM1WyWhRpYALMmwCcuQjEJALJD4FjfwP/61ct4knICxK4dnY/jl28DegZwfmjT+FsYfSCEisePeXvbbDv6Q92ZpaZrQMSYi+jiUhttKTi4lRC+nr3ws5j/Bydmev/RPCEXirX6YQIVJbACzWOkmLi+PQ+GImtqxdDJEs9/95FGLZmG0A3EBZ9D4P72wJ6Flh97Hhl9aty+LOZd7i4fi6CzbX0WmLz8RNVlkkRiUBNE7h0TWmd4eEMtGlZ0ymS/NoioKOjhc+9gS9CeQ3+uaSF99Tm5NaWbjWR7prtSqlrgqhhpKRRv1zGhsBvq4A3BvFzkOasocZRXSnhE1tWYPq2/zh1/DoMhLNF65emWuaTm1zDiE2woKAIRYUMFB+N5WpRjLtRpxGR9ACGDVtgsGcv6OnIe70B6XPl/JwH2Up3uWIpABHQQEBZuzQEKMs79i7fOHL6oL1KHTdo0hw28oi57Bgng7tHV2HwoEH4eP0/kA+oFkmyETjmI0xf/SMK859j59TP0dfDDb17u2PQtBDc5eLKBcl+8x7h53lfoF8fd/Tu1Qt9+vbHpI1HICkqFgQswOMblwADCwyybSbzL8atvXM4HWbvuyyzeS/G0eAxGDRoMG5lF+Dy3k0Y0q8PevfqjX7D/XEhU7ijm0xMYR4u/LoOH3v2g1uvXnBz84DXlyuQ+LSUsAKNyEkEKkIg/o589h7g2a0iMSjMq0ygf0+l9lGXle765kq+D9yQzaHr0wVoTfPV61sRq+SnpSXQ1Z73SkkH7qWpXKaT15BAi/f6oXt7dqSqAboN84dpZRbJKspGcF8v+PqOxkd+k3A3T7D4BYDB/dzAGVi0eBMDP3j3NaRLWa5uAi8wclSE1JgoTp8+b7ylolfug5tIlvk0s2oEMMU4sHwPDv19EW09F0CeqPR5HMJ+/g36zql4tu0zbLkKGDQ0Rv7zHOD0KTx+JEHUzlkK2RnX/4bjh4Nx99FT6Ju1hJ2lMe7EJ+DE8T+QfD8M+xcNgQFrlZKbhOuX86DTohXaNTTk4xflYuvMrTh0NxUY/S0445XCx9g562ccRgu09OuCDQcuAyZmMCzIRJ4EOLZXjFTJHljq823Igsx7+HLiKHy3N4JVFO3btcSz+Hg8+vMk/jsejmtXItDwhZqbiqyS4zUl8CRDaVbVptVrCuE1ynZrKwZa0OI6a9Ke1N+MCz+OHezqbz4pZ0oCra2ASJlxCWsu3MpSeY1crwaBQkkuMjOfIr+gCNp6IjRq1BjGhvr895NaFooLJXj27DnyCothaGgMEyMDRThtHR00a9cDf11JR0ERoCsSQV8w8sOKKsjPQWZGJiRFWjAwNkHjxo2gx35PMcXcSJMiOW0GhUWsn7KB9L9Z68H+sYeunmyOuSICUFyQj/T0TEiLAQPjBjBraAJt5atWEJKcRIAnUPVPeel9nD2awknp0EG1G3D3jk0yvoPwWVcLMEUFCMvJ4PzG91I2pCQ3/oKWNXAz8hy2XDXFV1sikf0sG5d2zeTCnt8VhmuyYaaitAto8pYL1zD6cMxiSDLuITbuBqIPLePCHl2yHvdk90phUhSuAmhqaoAGhvrcdSYnAzsKcjm3d2fZ0kgPE3DQCNDWfsA1jN7s9DWynz7B7WObuXDAPhy/9UzmBvxH/49vGMEel5Pv4UZcHB4yj9HV2hipcYn4lxevCE8OIlBZAuyLQ37oy3sR5B70W+8I6GhrQV9mdi9VvuvrXT7Zzib5YfzypjnIk6TfWiBgILezB1Cf63YtoK35JJli/LdrMfQMjNHcqiWsra3RysoCpkaNMOHbP0qkL07+BzZW5jBv2hwtLS1h3qgBRPr60Jf9DZ65Hll3zqFlYyMYGxvhrY7Tkacw9mFw/88NaGloAouWrWFt3QrNmzSGRfuOuJOVjzsHA6FvaIb1z2Ure2QmoUMjI4VseRry3x/P8lMq5ErePLkeOvqGaG7VAq1atkDTxqboOHIWHgvetfKw9EsE5ASq3DiS3rkM2XpwaNZIHzniLDxIjEHgp4MwbeFuQFsf34QvRDsdoEiajexH94FGHTGsrfyJWYQL+79HCte+ssZ3/17FgtFOYL8T3uo7Ce2bsyM+2Xgu+2D4fu48TueWIxdj/4bZcv2hVZQlc+vIRqSKEXtwHefX6K3PYazLdw+IHyVDmp0FWPRD75Z8gyk55hRyc4HiYmDozB3478I3MNbVhoVTL/SVSTWS9W7knd+AQ4ejYNSuE25lX8G7zU1lIRhoMfkAtEELg8uQ0A8RIAJEgAgQASLw6hEoeIblvbvB5RP+m0s1A3n4YWZ/tBn3jcL73smf0bbNB7j3RLAJruIq78jOS1Ms38/6KI3HgcQT62DbbzIeq8XJvHkX/957jqwM+UQMtQAaTgvYXbZlR+g3n8PWY5L8VPF7dVcwAr+LVJyTgwioE6hy4+j++QiFrN5tmsGkQUO0bN8Ja7YeRkGjpvCa/itm9OVtPwueJ+DxgwKI7Ky4xhIXsegZ/viON0TuHTABU7rZQNaOgZa2DrS12dunENxUovwk/PIbu5iDET73eAcJ584ibN+vWL9oJvr7LQO0RXBeOAmt2DZPsQRHtjzkkmg+zAV6sqHTx7dvIUdcDONuHdBSluu4k/zIF5q9iwVzhsNEFrb40W0c4ySY4I0mxkBRFuaMCcJzAB1aeCD9UiSOHT6M7etXoW+r5oi6W4QmXV3RzUSBhBxEgAgQASJABIgAEXilCCSc+Bmz/zoPbrDXqAn6eH+BXft+wcTBylWGkzevRXAiv/Tkzn07kC7L4dQV+5B2/zbGDnBS5Nlm0BiM6TNMYWLHXlBatBUhausq5Beww0jGGBl6BGmpaTjz6w/o09sZjY110bzdu/Ds1wdW7G7R7KFrBNe+nvDs3x/9+/eHp+dAtGjWgL8mkM2IE/Hzxh8U/m/3GIHv1q3CwD490dBQB0yBYDhbEYocRIAnUGXDnVO/lZw97PB2b3hPGI+JfsPQ3EjZ7sq5fpZb8vu9FmYK7kUZdxEiO/ts6mSFP+uQ5KUjN4sdjWkEMxGQc+YAorkBolzM9R2EuSqhmyL496OYNrAzN3LE5Gfjp4I8LsQI57aKkCl3YsCK6NveSuF3IpNvHHlvOwD7BkoU6fHyHoWP0KKhHgoeXceWZP5Gijm7DF0/4E355IIGT12Dn1ZPpZEjORD6JQJEgAgQASJABF45An/s+1mhs/foEOxfN5I7HzFsKNo7GSLgPHuagXXzwzBtjy8kz2V7RradjK9nDAP7lbdpy1JsbsYvp+084lP4DuqIrNv/KuQqHQV4kiqfoZ6DVg7t0dzSAhYfjYfrR+P5YDaf4Yjrx5hhZoWVrGldw5b4ed9+tDGRWyEBo4c4Y9vv/Bx4uey03QG4+kh+9jlOn9mAJjrAlInTkH47ATkNreUX6ZcIlCCgbBGUuFS2x5Hn/CCo55+pONKrrJmWRbj8K98MatPBSyH08TV+OUnY+MLV2ljhzzqeXDmO1BxAv0db2OkW48LRI9z1ph98gb2LvaGnrQ0jdsKeuTmaNW8GY5FyAl5u5gOZ+Vwf9GspW4wBhUg8uZOT4dhetvMipHh8LRowssbsLqr6n/vjEq9PwGDuZsq4dwuF7OS/Fq44vGMx2D1l9fQM0cjcDE2aNUfjBkZQNgX5qPSfCBABIvCqEEhISED79u1fFXVJTyJQJQI3blxHhw71eL38KlERRsrFnbhYhYf7eOEGVQboNysIAV7B3PWChAuQFPtyc8o5j9uHceT6PPi2N8PpkNUKGQZlfh2J4DhoKBCxnwu/rO/b+N2xM3oN/B/mTZ+EZoalfFkVKsedFImUcBTg4nHe/oe95HnsK+5bTh6sSdv2oJ0u5TTotzQCVWwcFSDrIbv9qzUmdlZtWJRIpDALYT/wyzC17Pme4vLtC7c5d4OBH6CZcB+wguf4bn4QWKvRQe/34kaDpMWsQRtg0L4LPnDpoVjtTiFM4Hh2Pwk54iKY9H4LreW5kz7G6QP8wgrW78gWY8hLwq3LOdBr1x62xsrGFSsq7C5rlqeD8QPf5eZAFbNzihgGaNoGrh/2gHy2kSBZchIBIkAEXlkCS5cuhZOTE8aNGwdd2pn1lS1HUrxsAhs3boSdXXuMHz+e6rkGVDqChQoszFXnCuiZC0ZbnjbgzOOcnXsB++MBpMDP6W1sfrc5/v6bb2DpGrXE8PfKWp5SC85+K/DRoUTsi4gFCvNx7b9/uL/dm9fi4N/n0aNVIw2alu2tK5iq1K5Zw7ID01UioEaglGa5WojSTvNvIDXxOWBnA1elqWdpIVH8LA38AotA77eVJm3n0xK58FmHzuKucv4cond+i1DZoNLIyR9zYeRK5h8/jWzBjVtagmm3/uPM53q8ya16zwUpepiE32SB37E251wFSWdxEUALc2OI5LassjDZD5IANIePvXyPJNmFy1cQr3nOoSwQ/RABIkAEXi0CxcXFmDhxInbv3v1qKU7aEoFKECgqKsakSZOwbdu2SsR6fYPmCJeZZBdSyOVXHWaJaMGQmzyUniEzq2M9sx4rGkbs6ezfzsCjQ9ljNAbmbfHrmau4dz4cHwraXhkpifhgzM9cR7lKCXCT0ysyeqSMJRUs0qD0JRcR0ExA3u7QHKKUK4VXToBdLLFlm+ZQNYgrGTjj1hXe08YXTs3kNqIFuBf9F++fsgNd7d+Hz7xFGDXcE4MmLwGgj09/OAuvtqx0bXT5/Cs0Zs3tUrfCw6M/ft61H9s2rMaIj4agq4M9QhJkSzyiCNfD+W3YHdt/oFDm/sVTvNt2KjqwNnEoxpVd33N+zd78FHrCBe+ld3Dr2hOgVVM4NORHlJp26ApbA9ZE7xIGdnbG8p9+xW+//IygKWPg3qMLRm08qEiLHESACBCBV5WAr68vVq1a9aqqT3oTgQoRYEdI58+fX6Gw9TaQ2j5DfD710dBK2bH8+w6laRqKxNjzxVoFDr2POsOw8B72rv2F9xu4GP/9+yfCwsLw59/ncPfJcyzs104RvjxHyy79cepmHm4cXwXFOM+pa8hQ7xDPyER8tqBHvVTBOmhqrTQT3ug3C0+kyoCJJ37Blv/uKj3IRQTUCMgNz9S8yzplEHdkO9gRyzfb9i4rIHftXiy/6IGFZw80l5vP5acg+uxzaOvqYaCnG6JO/4FfF7PjOIBps5YY4x+M78cozedEHYZjzbJzmL/qe1w4/Qf3xydsCodu7vjQSrZxRtFTROzm50K1e1t5U8ad4W+Clj4eaMQ2B4vz8cdG1iwQaOPZAzqCTgjmbhSu5AGtmlnDVI/Ho9OoLf46+SP6jf0SUfFRmD3Wh08eerCwc4CPnTIt2QX6IQL1nwDDoKi4GFra2tDWEtxE9T/n9TqHX375JfT09LiRJDKx01DUDIPC4mLoaGtDi+q+Bkh115thGCxevBgmJib44osvuPped7WtGc0ig6fj81/Zbmf+KGJ0EDB/OTr1HQEc5eeJ71s9C7ObPseHthY4f3AD5l+XrXBgYoX1M9ygXfwAiu0dD89FgHQIbCwbwUQkgkkjM7Rq1wF9h3jjzaaq5nnyNAEpvvdqjIjW0+E7aCAcWjdATMIjbmVgLkwTA8U0CkU6eIyJU+cipbsFsrSsMWPKcKU4hUsbjoHfwPz7EeDGum5txshPG+KjXu2RHnsGy9bsQr9VERjTpbUiBjmIgAoBpopHXl5exWIWFTL54iymqKhYEb7w+j52nW7GwLQhczeniCnIfc4kxMYy8YkpTG6hIlgJR3FRIZOWnMRcjY9nbt+7z+QWlgxcJMll8nIlqnELpUx+djZTXKzUgSnIY/JySs9DbnYek19SNCdT/OgBExsby1y/dYvJzM5VTYfOiMALEvhyJcPodeL/zl9+QWE1Gl3KfP+xA3cfw2ogc13tlqvRpNWEF4rTmH/+Os1EXUlUu/JqnJp04cu7xye1p+/IkSP5suS3IOHc27dvrzaFjv+trNeLfqg2sbUkKJ8Z06MVz+uNycz9gvLVeJR4hTl9+i8m/mF2+YHrSYix3yjLPPJS3cjU5MmTS9TzzZs3v7hyD+8xjIM+w9iB/wuZ/eIya0BCiF+XEvmXbTvEQN+I+ePGE4ZJv645jOz50H/sdwrtQub6lRO+LXM5q4h5fusfppkht8UR0+7tQCa3iBWRx6x05f0UegieQZ/s+0+WTjFzflbHEulYOPZgcgqKGb/BTopra/9IUOg2qp+jwl9dvs+yU4pwdcJx77ay/rD1aMi7dUKt11WJKowc8W0rA4MKbnmqrQORiXAJAwYJJ3m7dj37OTA31IauVgPYOTioNNpKO2H3P7KwfgPKQd+SobT1DUsuqa2jB5HaogvQNYCBhtwbGmvOm0kzKzg0U86dKqkB+RCB2ieQ/PtOjF9XMbv6xp+vxF7vdyqpdBGykuP4OKn3y50LWEnhFQ/+LBFvNW4PfgYj0PfYPfzRp2XF47/iIU+fPg12MYUXPeLj2QnVqgdrYvf48WNMnz5d9UItns39/CP8k/AE2jr6WPJLGJwtBIbdxTnYPHAofsnJh7aOLvx+OgI/G83P8qpnoxB5T+7x0W8mIJ/doqWsIyUcHewGQD4zY0fSc4x8o5zJumXJK+NaQfY9TB3qj1vsJ2E5h0FnDxxa+iWyrx7AR19uhLr1kjy6meUAbP15KgyqZIQvl/Jiv+fOnasWMzh2VUb1gzWxe/LkCWbNmqV+qd6dN2lcxgJa7Agoa91j3gG5aQlY8fVsfPPjARUGhu274psZi/CZr8xqKO8Wju85qQgTtOJ7tDHSgvhpMjZ/uxIJ3BYst7Fx4xms+F9Dbg9LsDVNi5/7zU6h6DdlGbZdXIDYHHb7Fv7Qbm2PrxYtQ9BgR5mPFrrMP4ovEwZhZdgFeTBYdhsBfR2gvZ7MeoidiGGkXGBr8y8H0XnFXAQE89Mt5BH7TVmA6X5d5Kf0SwRKENDQPCgRrvo8mCKc+pU3tbP07wcjssapPrYkiQjICNy4cQknTypfWmWBMeuj2AyirGAlrgm/lYTuEgFr0IMplioaRmwy5oLtBWsw2Toj+uHDh/jzzz9rTB+5iR07iV1HR24XXWPJlSv4YlQkIq484MI9yhEsR8X6FOfjr6PHId+evEsWuzddTTSOhJtYsrNiyz6YArGiYcSGVH7GlR2vKlelz27jyImT3L6C5cU31OK7GfNT4nCsjGdF89YOnBl9efJq8jrbeKmpes6a2H311VfQ1tau9yZ2I0MOYqR8g8kyCszQwg5f/7AfX4WIkfbwCSRFhTBq0AQWzc249hMflUHyrq9x7GYqd9o6+AiWz/BUSM1+dAsL1oZx57nPMmFq3QupT/NQUFwMkUg+/1wbbw2dhatDZ+Dpo0d4mpUDXeMGaN60KUR6aneWoQW+PfAf5j99gowcCQxNGqJ5I77jffa+k5guZScV6UGfbS3JDn2zVpi6fBsmfvM9Uh9lgtHSRaNmzdHQQNmAkoelXyIgJKBW+4SXashdVIgDeZmc8P+52tZQIiSWCLzeBFqIhKO1ZbPIlM2tKztU3byqZdYB5zYGoLER0Mr5U6zs3aJuKvoKaxUQEIBDhw7V/RxoMTXa8KgqAK03vLBgVGeuWeT61VZ4tK2ZUSNWP12TZpD3yZenb552xV7/r0P/JdtACgoKwvbtqiMM5TGs79f1jEzRum1b2NraoYVKw4jPeXqqck+kuz/8jMg7j1AgleLmP3uwS9YwYkNa2PLLeWvr6QkaRkJ6Omjc3AptbW3R2qp5yYaRIKhp46awadlS0TDiL2lDX99ApWEkiAJdgwZobW0D69YtqWEkBENujQRe/siRjgh7w04jq0AbrdvKew806kcXiAARqAIBhylzkTN+Btcbyka/c2wp3vJaxEmycRiDC+fXwkRbCwxTDF2RfLNkWULFUjy6cws37j1EoZY2mlnYwO6NVhCVurpRSeWk4ud4ni+FrqEJGpuoyi7KyURc/HVkZEsgMm0G+7ft0MhAX0VIsTQbmc/zIDJqAFNjEYpzn+JKbBye5RahRft3YGfF7sEuP3Th5L8USUPnQEvPCGayJ1phgQQSqdrIAhdFC8bGJfvunz1MwfXEW8grBJq0bIf2dtZQfzrlPn+K3IJiNGjcGPrFeYi9fAlP8/TxdqeOaKxutitXr578ent7Y+XKlXXKxK4qaMXpaUi+exfpz3NgYGKGtrZ2aN6oZH0okoqReDUOaVlSGDc2xxt27WFeRhnnZt7Dxas3AX1jvOHwLqwaCGuPCEEbTmLCqkLoN2gEE1mbpFiag6fPc6FnYAJTU0Mwec8RGxuLjGwpLNo54C1rta0kZBnOfpqKWzcfQKpnAEsLKzQ25UfHGC1tGDfsgPO5uWC4RSKKUXzrCIwd5AsIvYvzzyLxjoht7jDQ0i7l9T9pI3JW+UFbZpbHNhq0dES1alJXlXKuapzXycSuqoyU8bTwju9KOM73QAzreXs/urXlN3NVhgHsR87E9BH2Qi9yE4G6T+B1nWxF+SYCdZFATS3IcPvYIsXEVHYybFZpC44USpnzOzcwjrYtFGGVk1jtma93nmCU6y7kMcu6ySfSdmSiZWuTRO1YKojblbkqW/OkOOcJ88NX4wTX5HFbMFPX7GS4ublcgUiZ3934a4YdezNn9gQzbZo3UInXcdIqRjmtXcLs6ieX1ZY5y10oZOYOtlOJo8wHmF6/JyuK/umdaGba4K4lwjZq6sz8GJnEKJdwETMDW/PpmHy6hvHr/o4izuQV4Qp5VXG8yIIMO3fuVOghzGNNudesWcMUlrIQTnn5rq4FGfq8q6ybYTefqSZb+IQZK5jMHXRFfr2QSTmznvHpJltARBAGugbM/2YsYe5ly1dVKGJObV3EtBCGkbmX/BopSy+b+bi9vM45MTOn+auWgbEZ8+XOKEaq0E7MDGwrD9+fSeZuogLm6JCGXDx9m7eZk7+tYTq0bKwi582xSwT1nGEY8T1mnm9vlTCq5WzE/HBXmSqbfPHtg4Lw3Zn4UtYgenJogTLMlGpYnECW7+pckOHgQWE+5Cxr5ldLS4sJDQ1lpFJVloriLM3xiizIUJrqL+r36Ma/zKiPfRiPXj2Z9zs5Mu917Mh06daDGej1EfPl7tNMToHy6f6iadXr+LQgQ50q3lK6jup+g440JAJEoPoJpJzbjl6fTEDp+xzHY8EnHjhjcANnvJX7R6hqcReBk79SePWeOQJvy6Z8hPh/gul7TiiuKR0P8F3AJ0jp4IKDdnyaGQAAIABJREFUHvxCCrqyjvy8S3+i5/CS82kurZuOQd4++LMXb0KntDDn5xOzsnNzlJsVKtPiXbcyZTnMvY2BbTrhH/UAAJ49icR4Z1tYJGdhoDVvosh2tLPjYNKfA7BNMHhloKNpmdpSBL/iXqyJXatWreDl5VUnc/K8NK2kj/Flz4nYV9q1wnz8+u0cmJg546dZH6IwbjfcRs8rLSQSLiUDHzmpXYvCitVRqn45mVj5iRNcumdjoDW/YITQgE3u1pENqkqTY+E+LEBVBoDrm+eg10e+OM/dF3nY2rUVFl0rEUzgkYs0MT/vQuBJzkoSYEfLAgMDuWW+/f39Kxn79QverH03bN/Z7fXLOOW4XhOQP6frdSYpc0SACJRDIO8+AnzGKhpGLTxn4t9Lcbhy/hQm9uHtxVkJMV9Phbig5LpWBfmPMKBjN0TJv06Hz8cv8yfyiWZexPrD8oZRKxy6eBPi7Oe4vDcU8rWTfu/jgZQ8Vbm6XNeNNjz8ZmLPrs1wE2Thvwkr8Vw1uOCqDvwX78Hu3buwe/defK+yD4Y1Frm15cIeXLNc0TBy9JyIxIeZyH6ahjXD+ipk7dqq+kmdx075Zb93MwH38bMwe8Jw2DkotixUxKuvDnaVUnbiel04fDq2QoMGDRR/Jo3alN4A0jXFex2Adr3/hy2HjiEx+S4epCRh/ajBimzExv7GbQ5+YdtGmZ8exm0IR2aWGE/u3cLBHesxyP1NRXhVRzNMW7MZe35cBhvBhT/D1RpNgmtCp3ydi57/C8DuPT9jsKFyEYn//BbhcSGQf/caPpU1jFq80x03Hz/D09SbGN9Hucrk/H3nMNVOsHqfMJGKusPXYsjoKRgyZCr/N3o0fryaXtHY9Sacvr4+2D86iAAReD0J0MjR61nulGsioELgyX8H8XuazMuyH87uDwY/JdAeS77bhAOd3fBQXADxvdt4IClEB5XFfvKwLSgQxy7zq4hZuo/H5W3z0EyffbwwuLl1Km7JBmuar96Pvm+3ZGc8oIPXZHTs+j3Szt9i+8lx/WEOrNso5ygVFuqj58gN2Ld5DBroAv3aM7DsNI7bdJB59BhlraD8Vlc3vNUVQOEzTNnEz7Vic9dn5kyMasl+fBbj9Jk/FAyGzw6CdWP2w9IYYxYEIOA3fmf4o3Ell/7NyQGGrdiBfTNGKuK/Dg52w8yQkBAMGjSoTmRXKhZDsOm9Zp20TTA7TopZWrrQ1ubn2xQXM/h42mhM3PE7F+9uJr/FZJGefJ5aAc7+eQQXu74Bl3fsMHjkBA3yG2DJ9nB8xS24ANz+NwJfbePrToFYuW2lhsicd1GRLjoNXIEDv3yBxnrA8PdN0KjdR/xGmA8foYgBmGJlbe/QaQraNWUb5A3h1KsLfjx+lZNj9/67aPyib/Tbl/H77csq6l7uORPj32mi4lefT9h6vmrVKowc+Xrd3/W5TClvRKCyBF70UVrZ9Cg8ESACdZBAeiq/HCurWrePussaRryiDVu0g8jUFBBnAs/TcfVZATqYCB8dN7Bh0w1Frrbs+QHNFJ2uhbgaEam49mhaF+hPU5yqOPKL2akPwqMlvt7EN4xYXz2rN7mVuCr2ycnGYHAlZBTWnpbtx4TOWPa1bDQLeXiUcl+R2Mwe1pipOFM6skroxF5zx4qA1+/DKTQ0FHXJzGjgwHFo1045UlKUfx/fb2RHgEoeWjp6yElNws6Na/HL7qP45+ZNlUCP8grYHVLg9PFYYBk/4pPw2wZ4/LYBDS1tcODvaPRqJ7ClVMTujeEj2JXo+MPBtKJrxcljsL/mmPvjeK5hxPlavYlWAN84kgVjiuSNNiDiv7XIgQ+M8+7j+JrNCkGGgkWWFZ7V4ZC8DuvVKUGtWLEC48ePV3qQiwgQgdeOgPALp+qZL36KJW6DcUBciMUb9qNfZ7mxTNVFUsyyCRTlpOPjYUOQ3LwXzm1dWFOvxbKVoKv1hoDwQWCopzIsBC0tPUBLbkqlD2Odsj+W5n4ZhF6blkNfFk5pJFQOrhJyC6Ct/CaErklrNDIH7mmeTqSSQPaDGAxacIr30zPBtyd/QUfBwmTCPKtEFJ7olZ7XCsUVynmF3awp3S+//FLn5hmNCf0WQ9oKTBoLM5Cx8TfsUmddlIVNnp744q9I5Eg12mJysXQdRuPM1jT0FMw7ep6WjN5vmGPMqi34adqnatKzoaUc1EG7d6uyTHehSj2HQWs0bwXEyfaZZRM0sn4Xa94HAi4AhfH/wKRBUxgWipHH2nkCsPVZir6thSvk8f6V/j92NR4u/Rhasn4KhgGMGpe+al6lZdfxCOw+Xps2bYKfn18d15TUIwJEoKYJVMs7/rcVAZj7198wdhkGR4fmnM4F4nvYvOlXZBcJ3hyy3DDaQGuHzhje58Nqyd+NQyvgM3srmrqPw6nQL6pFZl0XoqNvgGfJ9/DfsR04+/3X+NBUOC29rmtP+tU1AsK79HbaUxX1iiQ5YArZnnV2+MYITQzU61p3HPzjMwwfMBr5RcWI/nk7vhkzCUt7tOaiSAVPmQ+2XsDOD5tCfUCG0TFEq5bsh6UsHT61Kv9n8p/ha/+huCvbdb15Xx981l05d4oVXCRv7wH47mw8BrVWjkLIEzY1ayp3vpa/clM6dilvLW556DqEQX2gUcM+R2kRv2L8cX7ZDX3LNhg7bzFGd+8IvduH0NFrllqGdODqNxcFQ8dhz7pl2LLrEP66eocLs+XbXVg09VNYCeqzWuQaO81Nu4bVF3jxxsYt0ED7AdLygNbt38Z7Hd/DmnWB1bOhuiG7ASf/Dq+xzNRBwWw9X7p0KUaPHl336nkd5EUqEYH6TuCFH/NM4UMsC9kB6Nri9PF9aC7rJs78cw0mTl/F8dPV1i4xP6DnmMBKNY6e3L6KPy9cR9vufdGlpaC3EHn4Y1EQrl4DLN5RmsnUVsHdu3oO/9x4CMc+XmjfsPRe52rRTVcEP2NjnMB1bLvwCD17WaEGU6sWlUlI3SXQzEa5IfOdXXsRtuIbDLFibeMYJP59HE8f8SstaFs0QDuucSTsgc9Fc9eP8L3llxh3/zGAh1j2gTX+ly7Be+b66NR7IHDgMJf5v5cdQ4ORX6GhfM8khkFhgRQSRgeCtsoLg/pvbTBWH0/h5TTtgfMHf4QRU4yiIkBLSxva2sawamMHXE/kwlyPfoRJPT4ENyWFzXVxMaQSCbT1q6E3/oVzo1lAy5Yt0adPH80BKnjlypUrePjwoUpotid9/fr1GDVqlIr/q3aSn60cauznFYR1Ez7msvAkT7mBJZ8nBoX5YuQzIhibNMfIoFCMnDoF7Y3eAFdLHkqQBcCqFgDcjvwXstqMnj8ew2/etmDbqmyDVVtbBzry+6kWdHsZSVpYWFRLPY+Pj8f9+6rfCWw9r2smoy+Dab1Lg2FQVFTEdbzp6OpAu6515tQ74PU7Qy/YOJLgD7/eiHkMOH/0Gboo7GcKEXOA32m6i8ccrJ75IfLVOJrZdVTzKfs0dFEglm49iwmHL6JLy/cEgUUYsHwLRDckeOeDAQL/2nFOnOSPI//cw4JbGZjfsAY/rLR08dYwOyD6OqIPXUJRLyu8YGHWDjBKtU4QaNSxH4Y3B/Y8YtW5g1Gd38ewkV4wfHINpw7/BrFMy/f6jEMjA7amCRtHgD4M4H8tEj+8bY+LKfzdPjbkF1xcPAZWI75BhxmHcYOdLJQwDz3dEzBmzAC01pfij/BjuHHjOm63DcTN3b5QTFV6ISrPsD5krVKCVjIm9O+HQtlwVfPOs7B1aS/07t4TIUf5xtGGRaPwOGYkhg3rjuLUm9h7+ATu3UzEp6FHMKWfplXKlEnUlsvFxQXs34sebAOINZ2TH6wpHWti9PHHfENC7v8q/hYLTDPP/L4OW/7niDb3/8akuSvUssPgn/k9MPygDly6DMVY/w8Qc3wP3zBiQzY1QINa6oEyaKxcLv64vxM6L20LHX1d6OvqwsDIFOadPBCycDraGNfPt0DXrl1x7Bi/0IVaoVXqdMqUKVi7VvlseNVM6STiLDzNUZ11yebBwKQhTA2r5+lZKaB1KPCDyCMYP3sFt4qpvWsf/LBkbh3SjlR51Qi80JP02ZVT8NzFri/aCgHffq7Mu/Qptu14wp2/N+5jdO/9lvJaqS4Gkrxc5OYXQF9kAGMjRStLFlqKR9cuA9qmcGttoSZBG7a9P4Vtb1Xv4uJisPbSfI9aMfLE2cgvZGDSwBR6gl62wvwciPOkEBmbwEhfda6FUKI0Pwe5eVLoiIxgasQ3etheCvbBpDwkyEq9BxjYYpi1hoYRw0AqyUVenhTQ1oWJqTF0NCyNK5SfK36OAi1dmBobyXpEtGBly+83w+SIud3wlHqQiwhoJqBujcSG1DKwwPL9v+Cwuz9y8iTIeRiLbStVe9bfeO9j7AyZCF1Zj5zQFI91a5m2xepJE+EyczWXePSS6fjexxtT3nZE4KzP8fl8fpnky3/9gql/KT/EucCGRYo6LGx2Cd1sOKHucrcwDOfOf4wbqdmcWO7f4/v447iyt9gy0Q3SJb3gOXEW+h39F3/8Gw9kPsD+HcHYv0MZjXV55yhzqXSxa93V30NuSvfJJ5/UQROjMsgzWqWuXtf6gwHo0WIW/nkAPH8QC/+eXTQWnrYUeJR0GfvYv52qwQZP94GV7HEvr3tsCKFGlXGXqLeC5ITyWXc7Jw/FVfadFR+vem8i4jSuXU7CtT83l9lJJtRPIbCaTFmV8l4Nl5GREZYvX/5KmdL59nfEr/+wq3uWPKx7D8W0EQHw9+sBY91aasWXVOul+Vw4H46jZ3nz2eg8ETWOXhr5+pnQC1iyMDiwn397iCbPgo9sszsWU1H6PezleOmgZ5c2mskxDAryHiNkeD8YGJnAzKwxTIwNYTliNh7nSAEmB995akFLS4Sf/nsKFD/D0HctuRc2a06g8tdlBp4onvwFGP5eY1jZd8LjZ4+xoI8LjBo0hJlZI+g7D8O13EIwBfmI2Pw19AzZdM1gLNLHsj8TwG4AJzyKpPkIX/YZTI1N0NjMDA2Mm8Bvw3Fc+ekL6OrqIuBSNsA8w/TurD4GOHs7B8i/DHtdXr8PPw6ViWOQn3EPayZ7QWRogkZmZmjUqAF0bbrhtwu3VV6wYIpxJcQHurp6WHL9GbaM/z975wEdVdHF8f/bvum9AYFQEyB0FaRKkaZIUQQVFUUUG4ggFgQLiAXEQrF8CiqgIk1UQAVFaSJVOiTUQBrpbfub78x72xISeshuct85m52dN+XObya7786dudMDvgFBCPKvhaW7Si994YUbtm9HmSNi3JtAYSIAvX8UogIDERgYiPB7ukPrrtPb+dTteD+Kzu3HkNvaIcDfXzoEkT8oB0TFYuwnP2PPrsWI93N8ZSgRXCdBKi8wMA56e3mdJ76N90d0s8cznDmfI5X++Kvzkfrvz+gaGAh/fz9X2QGBaPXoBBz58UHI0wkKBMe1seePgftEuKDUIygsSroXFJgA2X+DAiH1WtnT14YPn+7R1UP3/vXtcXKbebsdr9BH2kHLnx2C4rBm405snPs6mgQGwN9Plsvf3x+BMXXw5OwleOpOh9VIjeDIWHsZ8VA7MFSzscUne+bOnYtRo0Z5oGIEBIRGOPsxRupstw5Q6dH9bkc/N0ZCkDzJpg5vhj9PpKFr2wTn2PMPCMQL327E6qcSpfLaxARL3uq6vLUWr9zZBQEBjvHvj6DaDTDjt/1YNclxIKgKQVFxzrGgcRsLPqF1nfIF+Dg817mPnab2saNAcN2W9rSR8HMvBGoER9S232sGlQLYuuJLZ0MTuvVDxpmTSD52GMvffcoZn/THJvxbZomGoA9FomPs33UbapWddwSgDWnglPm2WvKBx85Cq2mAj3OuGHFLksftpbsIc8bXBVdwnd6wHGNHdcHkRVsqSFG9o1UBAVBJv0MCgv0u3D9avVtPrbvuBNjVXqYUdme4lmsSbP4fR0uVkr75ayke4UPYSUupW6U+WE0F7P5bI6W0Ot/G7LHRo1iLBoEM2hC2Iek8Y+Z0dpc8WSyXd7Fwn1ms2FF6wW6WADCtbwRrXVuW0bd2HFMrpYln1rL3NDaoexupTL2/D1MoFbIMdVuyzBJ3ga3shbtbOeuOi2vmDCu1vFx/9tlZM2PGY6xLBbL1fXahJFXmju9Y03pyWzmzDl26OstCYBT78GCuQ3rGrAY2sSOvV83qJzZjGkfZ6mD208F0Z7qMZS9IZdRPHMfyrc5oCngxgQkzGVO3lV/b917PhojMarUwi+UyBopoY8aiQpadlcVycvJYidnCxHJEEUWRWSwWxt9LXaLIbBYLs1htpaLlD1ZWVJDHsuxlG0zmctIwZrVYmM12YX7RZpPqdM/E668ovXu6i4WtFiPLy82W5MrLL2Dmcjg56r6gvRcr+DLu+d0s93en+y8jcSUleeCBB5harWZff/11udyvtdpfN7nG9ZufXkNpok3q63KHFmPSWORjwVrO2GGihRXk57KsrGxWaJDHnSjy8WRmNpv7GBaZuaSI5WZnsZzcfGYyVzwOyxsLNquVWa2l/88qGjsVjVtHepmUhb17Z4jz9+KB7dkugDlHnfFAQ7atxHXLERJFa/n/p44EnJv9u6Hsv7JbkisOjnrN1efb9lxx9krJ8PTTTzOlUsm+/PLL6zvO01MYa65hrDHk1+yXKkX+ezrUc/b3Mx9/w1auWM6+/2o+axkX6oxH9D3spKlSqvfoQs3FeWzbHz+ylSvXsgMpWR4ta7nCpZxwjR8+jga2LDcZRd4YAle9rC5zw5f46bxJWlLXuXVp69CxffI6fog5WPbJXGiZbNLhVhmNTys88mgXaASgcO83WLw1A1E3D8fuzUsQrQZsplnYtm4DEmsFAWoVVpiN2P56b9w6/S/EtJ+FpL+egcu7rgJzJw7Hcx/+gJZDbobDS69h73qcCwBMBZnYo0/E3O+/xpNDE5H8zeNo9OAXOPjrZPBj8wa+Ng9fvPQ4Qgr2oEWddtifZ0S+zYZwvjCBWbHr9Qfx7rK9CIhqiHm/rMfwNnVReGoPHh7cG6v2nAfCmqBfLb4UrxH+tBiw4ZG6uP2bTAx4dhlWzhwg7cpQqtWwFqVg8PDncOhUBloPeRjffT4XjYN9YDOex8i27fDNoTOY/NAneHT7i/BVAKK5GNsKzgMBFpw4mIRuo9/Dl289AjE1BTGNHN6zGEoMeZKyrI6OrbYz2dd9NqDGFihAqbzMf3dBIS0z5UtNL3bxGVduPb3g4pvEVaoKHCwo4esfiEvN6ynLK5cv3VMowB28uF9cjorSu6e7WFip0iIwqIKlsPaM5dV9sTK96R63EL7//vvgS+kUZfh6VDsEBZTclFLBddGxwJclBwSVysmdc6guKE+AWu+LIH3Fo/RiY0FRaqm1XF1F6Ssat2XTq922k2waNwZzH+wJNazY8aNr7V9Q8wZIdJ2h7GynIChRwb+TK41SddHleM6EXh7w9fWRDjKuDl7p2vToh4EJ8tlb3WKsiOz1jNw7aaeRawPqOfrKZkLy9g1YvXE7kk+nwiICEXUaol37nhh0e1tHKvndUoRN63/G39v3IT2vBL7+IYiJDnOODW1AXQwf3g/W03uwYOWfYEotOg0fhlM/LMCG/UnwCWmJF6c9hXBuwbEZsHfjOvy+dRdOpGTAJigRXa8RbunUB/06N3Orl6E47SiWLv0J+48mo9AiIDAyGk1btMY9A/vDX8MLYyg6dxg/LPvFnkaBoKhoJCS2wvAhd0CvVMBadB77DiSj0CzApo9Cs9oOyy2XpQi//Lga+/fuw/G0bDCFAhFRddEgrj3uubczAvSOLRVWbFo0D/9mWBHV9S7cFafEd4u+x57Dx2FVaFG3aUsMfeA+NAxyPG26NYOC1YvA1epgc+7oJs1UCA8tYWUnKT6feKc8iyEopVkaPlPjeIV2WeBMf2BmHyldxwdeY2ar+8ydm1Q2I5uY2EhK1+jrw243eFBk4we1ZIAf+2xfmv2ejf35fKwsmyKcLT/mmmUTD38lywUF85v9l1tZ51kHAQyBTdjRQqMUbzl/jAX6ahigYPeuPuGWljGW/5tUjq5ND1e8JYfdY7fwPLr+jCteFNnet+6Q0qs6DnHF20OZqyZL93wDH2c59snGkoxDLDFctnLFJrzBii6cuORTfezXp5pLeZuNWsHKn3+/oDqK8HAClWc58vCG12DxPMFylJ3t+p6sjK64bpajyhDOC8o8tuJT5qtTS9/39q13pcJaXz82/99Uj2qJJ1qOMjMzK4dRFViOFhxy/c9aj650Gw83s50OC6JoZd9NedTtnvxc4RhDtd5ex8x2q6loNbLxNzWtMC3PExwTy04X29iJH9+W0ikAFibEueWJZ1uLGGM2C/vgsbvc4kvXe8snfzGb3UxZmLKXRQXyZ63SaYAg9uUB+bkuL2kz89Mqy02zNKVQ6tNz25YwH5VcRvv+bzn72ZJ31vlsdmEdYLhzAss0Oyy9Jey5VnY5mvdhnaLKygSG5k+w9IqeV521XkWALEdXAa3yslQ8BXcJHXBtTqqUYtioXmU8TJlwYvtf/EAUPD1zETZu3Oh8bdiwAeuWDHGmj+42RCpjy6KZuG3QcPzifuqdvX7RZMC6Eu4rKwAvdi5toeJniKfsPgQEhqBNpH2W22bAzz+YpdwNh05Av/p8Lbl8pR/YJQWCGrdG8phbHdGAORclfC12kB5B9lm/E3v/gKHEDDQZgg/7lq63aNNvUt74cMd+BMCam4kfpNgwDG3u5jSiJAVDX/5ZunPPI2XP1ABsVtn6A5il/0KesODcfqRyfxaRrfHDNtmaJBXg/sdmwod/yl5rlO3r0yGw7mwoTASIwBUR4Psu6fJcAo3uegRJe7fiy3kfYdK4pyUvgsNGjMC4Sa/i80VLsTs5BU/cRIevX6oHw8MdKy8uldIb7stOF2zFmZjw4tsugdu1RX27pfHMz69g9Btf2O+F4enps/HJuxPhONY39ZXBWLZZdlaTu+trfMafpwBodG0wa85c9O/o5kzLLxR1at8OvZuzB24/sYbJ54DJlTAwBUPyt6Pwyuc/2uuNwoR3P8I74x6Cw7C5a/wI7Ekvlu7/9ekEpOfLz2yxPUZh/rz5eO6+vnydgHP1wZr5r6DIJO+34mk+nT8fzwztVSoNf5h1uKGwb4GV3KV8/Xwv+7MZr06PrkPuw+2t3f5XfpqJh6dccHQ0wjPWYfOFW7yBA5/g3dUH7W2jt2pL4Or0LjPrUt+XQd2YbTGUKaH4KLuVzwBofdmG4zllbpb+KFrN7M3xj7DaQS7t/M6X5jN5HkBOa8g6wRqGahgCurMkh3JvL0Y8/zerDTCfuAR2rljeK2QtSGWxkYGMzzrMSXbuQmJMNLLF/WpLMw/tR65i7sYY095PpPjabfuwEotswVrzzhAp7vYpn5UR2sgWdZX3DvWe/IvzXtbeNfKsRtj97Jxb4QUHZCsTEMZ+yShj3xFt7JcnO0j5/BqNZ/n2fAcWPibF3TTiFWf5ZQPWwgzWLDZIsprNOV62E8qmps/eQoAsR97SU9dPTk+wHF2/1pRfElmOyudSnWM90XJUabyrwHIUHhvPWiTEyM8dTqtLEPt8wyFnMx/p4ton/dqKHc74jS8+7Mx327QFUvyB9/rKceoQ9l26/KxiPvOvM91NDzzlzO+wHDksMYkDH2E7Dx9iP/32JzMY81jvRna5dCHsk632lTeiia28p5OzvCHfcXlK2KxbHM9/EWzpqXzn/tac1FMs18Sf60rYG20rTpNv34CYtm0J87VbjjraLUfG47+wcCebSPbiiv/sbbCwb16+2ykLmvdisrHNzXIEsJi4PmzjyfPMmHuS3d9UXpHE2zzwyf85WVy3AFmOrhvK61HQ1VmO2FnkZRYDCfVwUxnvN5akHdjKPeBotIiNuLjnG0GpxuRZX+DosZN4oXsAlAoBP80Yg4d/l61SXCMtytyHnGwzlJ0ao6FrOkD6n8z65zfwOY/IgC72s1eA4qzTMBXmA416YngD17pQZszHy//Jrnx6PdXFOSPB/29OrFkqKb8RgX2gllxg2XBqjzyD0rpWw1KKsTntCB74SzoMBjE9WjjvnTlyQAqrBt+EGDeqOel2t5vKTkgMdaxrlbMx0YJ3/s2SPviMewgBPB+zYOfSz6W41u357En5V2HGYWSfyQOi2uOu+mU6ofwsFOsFBBwzX14gKolIBIgAESACVUTg/Jkj2HfY9ayEuJuQXJKLUd0dK1osSE494ZSuTYMAnD59WnrF3dnTGf/nKXn1ikJl33NpiUb9IL7PgJtiZIsOD1pEpztgZ14eUHUahn0rv0Db+ATc0asbhOJcnMiXj3LxjQxDqxCbVOepM+lo+8RQZ97lh3kaDSLi69vjMjG0RRO8vmgNMvNLEBgViyAN39OqQVijuqXSvPvDemQVyGkC3I5mcRZuDyT9thiyJIBq6FjMGOR4ZlNh6JgJruSZ2TgvNdgVBdTHN9tXo2u9MGiD6uHRh+923nR7xHPGUaB6Ebi6PjbkIJ8fI6LXoczjPpI2yQe1qeuMRmRZV6sVsPMJr4cZ685iXDv5n3rnOcdSMyDnwCZwZ8A9Gzj+4R2F2LB31a/SB5+ed0Brb0neuaMoKgFqtWsI94Ui5vws2IwGfmIEbm8c6CgEEA348X87pM9+999mdw9sxvkzh6U4vU9pBW/5+y/Z89bCsESXaTb5+H9S/IOt5LOH7ImcZl7EBcOnlHIHFJ9cj/8OHgf8mmLFCLv52pyFVWvk3HE3l1bMHGXy92NrPgG3+Dbv3QK13W9Q2KsJaN02Xpc568+r20XCl0/AZGawrxbBBce7lZ/FK2PVbt99VrdDWb2yMST0ZRFw9zpdjo+KyyqDElVM4MFXZ2La8w+5EqQcxkOvrQF3kyVfRpiK+DOPfA1o2QT16tWTXnU7PuCIdr6HNG0DeZpXSkXtAAAgAElEQVT1ILrc0hPTZ76BXneOdN6v69/aGXYP3NnCpWjxeJulCFajRUpSfPoY2sc3kuqMq1cXsT2edc8KQImez72PYMdZEAXpeH1EfzSKT8ADz0xCofTlqES/Z6dD51jOV5COF4f2QqOE5lIak7V8pY1XZHXBwO03OV1USDKoAx2LCwFkFuCsSw+0y1gbUQGuJ9wo7iSMrhpDoBxXU5fRdgUky0tM2ROZmQ2/rTsjFaAc1AMqixHGUtq4AI1OCwUs+GPJYoR3HYRmtQKlsqwFmTiany/lvbmuaxBmH5GVDj+NDvxU1+L8PKj9g6AWS/DNP7LV5da+bZx7blIObAJfydqvcel/hJwzh2EoLAbadkZrf5dOKBbnYEYm/7X2wcNdG9qVGS1qNUkAth7GX3v3wPxAO2jMhVj20YsY+cVaGVD8bWgb6vrFzz8te+gL5kxEGwpy8+ATHIKAsDpy+uQF+N/vL2FSr0bS59Q9f+LxNneAt/i25x9DR3+5K8xpJ7BKShGBzg3C5Lxl/5acwbRnv5Ni7+rs9uVYNh199joCsdH8H0a2H+09ynBbB7IleV0nXoHAB465+rdB7BVk9LKkEW5fZSdSvEx4EveqCGTIP89S3qDSc4xXVR5lKk3gtvsewcPxARjSGGj7+FcosRZhy7v9seGR8+jXxO0fzp6tS+9+CJQ8v5UuR98xXooIaNYPMX5TcKIIMP73F179j+8dl69aLTpi/NQLFSp+1/UN5kjtelf6+KNHty7QXmDdEeB3szytG9VyAI78/SOefu0DbNq4HnwrUkH6GXw79z2kx/XC+ud7oW6H4Ti5yRfPTpvrTJOXelJKk918CNY+cYurUreQu2zKspYvm/ssjciPlyxz2eQFefZYnZ/bzGWZlPSxGhK4qrV5JTtZHMCaDbivVHbRXMLuvLUxf7qr4BXFfuUbikoOsrZSGgXrOWA0e+nZkc706vbDS3le2/5OT+e9tm3bSuGl5wzMnH2KNYsNZkAc+7PALoZoZnN7yXW/ucyxtlS+9++3rzI1wFqMea2UzIWndjB/nZJB2ZcddtvT9Pfil5z1RkR0ZCoV95SiYDq9lqEJWNBjLm8ovMAvn77Jmb5hw4ZSeHuOmTHzeTbCRz5riXPx6z+U3XuL67wjn6ZPsXS3ek/+/I5cTuvnmKNZpQRmjCWtsMum7sAOuW2rKpuOPnsfga27XWeDdB8ln9vifa0giS+XwHNvic5zrZasudxc3pfOahVZeGd5bId3YqzEUIF3Uu9rGklcDgGjSWThXeT+9m/PmNlczfu7CvYcuXurG3xTlPP5o+9bX9n37RSw9nUEZ/yWVIcLu3I6TDSxJT3tz23KWuyZpx9i9aIDWeOWN7Hpi9awwjJnfbnvORpcZv9NceZBVj9YLss/rilLyivrz7ic+u1RpsIM9m7fOCY4nyGHsDNlsvM0b3aNcEsznKWaGStvz9Guj0Y4248+rzD7lnKptoID6133ojoyeYe8+56jjuyg23bui7W54hZdwR3ac3QFsCo/qcuEciWKn9JPOs3+aCZfW+e6+EizWis+wRnRddCQuyvRxmHyDL7eU8T61Z9hxkcLALUeg1+Yhb0r55daqtf84bnoGiMvkNu1axe0PZ9E13AtDAVpMBTkAYlt0M4xK2XLxdbfZXnim5Wehk05tAPc0Nupbmm//rmnjsFitEF/982l9jR1GDgOHz/SVSosM3OL1K7n5yzDuoXTgKPA8MTSJuY+Y95DYzuK5ORk6O9+E/EBKkAdhk9P7MOU++Syin5Ziu+3Z0AIr4tXPl+OE//OQqTLAIXTh/kiQqBVvzZwNMterPPt0wU/SeHhn7yBeNe2Kud9CngvgVYJDFH2VZ/b/gO+kx0dem+DSPIKCZw5Byz+1TW3eatjOXyFObz3hlIpYLR9yX6eAZj6scAXAtBVDQmIIsPjU4A82RkZJowA1K7DCathi6u+SWMGd3IKsfadj7Ajj5tB/BFax/FUAoyc8RkK3awjxuxzWDbvAxxOzQeshfhlvb0IvRGmmFvw7ryvMfvdaejYIAjZudxj8OVdOr9o+IZESokLTyVj8OwfUOxWb3HGKXz76afILubr2Kz4cdqdWLzlMLgdR+MXgYn/m+88Vwnwg1JhxXdvDMayncedaSYv+sK5Woi38wLDlF3Upj0GuYRe9wFGviNvxRCL0/HOpMec9xq2rAW3zRbOeArUYAJXp38Vsw51NAwtejP5VKCrK0W0mFh2ejo7m5rGCkpkb3PllmQ1svMZ6SzzfA6zOk8yF5nZbLjwJHKLiZklDyelS+InjhsN5lJe6uQUIrMYDGVOSHflLchKZ2fPpbJ8o92VnGhjBkMJK9fNvbWEZaSnsayc8m0+xoJclpKSws6mZzJDmZkYZ40260XkEVnu9nksEGDa0Hh2OOsiM0HOAingbQTW/SUyn5vlWVffWxhb+zdZkLytDy8l7/5jjMX2cFkJx8+o/n189ITI+HhWt2UspBNjP/8pVvi9eyl+dN8zCdhsIlu6xtXP4V0ZSz9fza1GvCuq2HJkTdsmreZxrNrp/c56aYAcnDfeZR0BWEhMIrv7/vtZv45t5Hilni3YxL3JWdhv4zuWSusoy/He9r4X2KkSuS8vbkWxsd1v3l+qrOgGbdk9w4ex3u3s3vN8a7Mdafw5ycBmdpWtTA1a9WajH3mI+fnonHnrP/IVMzMDe/3W0mk0apUzTcMxy6TVRuVZjrinu7d6l17NFNKkFQvyc9XBPRu/+fMx+z8UWY4885vlxkt1dXuO4IPg6DrAqRxkMaCWa/LzitRMQaVBSKQ8w3DRjEotwiLKphOgVl/opY2X6dpC5yqVnziu1ZVnKBOg0l1YjiOnf2hkaQuOoIBO5/DW70hlf1fqERFZwT1uMPMPQm1/136qMrnljwolVDo3U5JbImYuRNcH30I+lGj63reID624LrdsFPQyAr06Ceh9C/DzVsBsBQY8Bzw5SMCb4wCNGhXOknlZM2ucuCIDLFbgqxXAcx9IWyglBq0aMcx6kX+JXuUXqZeQbBwnYPwwhncWCSg0AIMmCJj2OPDMCECnZRCE6t1+L+mmqxKTW4uMZgHvfi7gra/kInh3PnM3Q2QY9etVQS0nkyCtf5FvuD/NKKPaY/ITt+DRT7ZLN5PWfgC80ANNx8zCF1l5eGb6IpSYzMhJ3Y9li/fLBQgCtD6+0Cn5hgMFGvfoA7y/Rbqn9fWDVsGtuyJMJcUwi8CuJe+iS9CtOD7nLtjc/ldtF3xvKdB68iK8nl6Ctz//GQazBWnHd+GH4/I5k+DPUD5+0Aq8BUqE+vhBJRTh+N5fcXyvLBoUSvgmdsDvH9wLNRQI8fGFEsWl0yhV8G3eHttm3yU984mC3cMedwrhlE+PiUt+wztxiSgqKoJNZMg56qhEbv8Ln/2Oyf3lveC8douUl+tegmSpskvkViZwYZsdqa7lnddJl6cQELg+djXCvN+/K55fsx1TD2fhtXj7AaxXUxDluWwCR3+YjJbDpqN2r0exe83/ZNffl52bEnoTgaJiYOwM4BvZ+aMkur8OiI4A9FrA+d3vTY2qwbLyL1mzGcjKBc7LfmckGq0aAstnM9SJrhkPkDYbw+ipQqlxXTsciKvN0LyeAB3tefa6/xKDCTh8iuFYioC0bJf4zw0Hpo9jUEnHY7jiq2XofCrAnS0Z5IPZcf8YYMq8697UQ7u34mxGPphah5s6dUaIzjW/XZh+Ctv2HQN/pPOPiMGtrRPl+kULzp86gT0H9+P0uUyYrDb4BIQgOjYWjRsnoG5UKMRzOxAVewtyAQQldsTuP9chWq+A1WpC0tp30GbYO1JZkbFP4tCJufAtSMPmf/dJykPt+m3RrNGFDiBgM+Nc0lHsO3oYKannYbYx+AWFIbpuXTRpHI/YiCAoBAFWQz4O7NqD5NOnkZVbCJV/EGIbJqBt6xYI9ZGnui0ludi/cy9OpJyR0qgDghHbqCnatGzuSlOUja3/7IbRZkNETEu0dvMmDEsRdu3cg5PHTyI9Lx9qtS/C4+qhZYs2qBcZZPdSzJso4viuLTiWWQitNhbtuzWHj10LNeWmYcuO/bAwhgrbfC09nnwA6G/vM17OLTcDX8vK7rUUS3mvjsBVK0dn18/E2Hnb0P29b/CU23lCVycG5bo0AQvWDRuOzy0KDH/tI9ydGHXpLJTCqwkYjMBbnzL870cB2QVe3RQSvgwBHy0woAvw7nggKrzMzWr+kbsvn/IR8MlyAQbZ4281b3HNap6fHhh7L8NLjwuSpbtGtD43C+jTBMiT9wyjZRtgqd1S4gUA0jZ/jpjOo2VJW9+O5N9/QL0gP5iKsvDb289i0NvfS/di2r6PpH+fcyoMXtA07xHx75+Bx+50yXvPQ8C0ha7PFLqhBK5aObqhUlJlRKAGEzAaGWYtEDD/B4ZiswC+PIsu7yPArX38vJd7uwOvjpGtgN7XiusnMbeijXyZYdN+ARYLYBNLec69fhVRSZVKgNs8+YZ4tRro2ZZh/lQB4e6HDFZq7R5SuLEE6N8cOHvSJdC2DCDE7Swd1x2PCxmT/kBQ4x5uZyRdKKJCpcb7h7IxtlFFrqIuzEMxV0DgwxeBebKFTsr17kLgLjqq5QoIXtekpBxdV5xUGBGoPAJWG0NBoQATn20nBanyQFdSyWoV4O8LaO0H0VdSNV5VLF8CdD5HwPkcoNgAUvy9qvdkYbli5KsHIkKB0KAauneM704YOwj49UdXD06eCYx43vXZk0PMiqSfvkHvx8fjZHrehZK27YclH0zH8E6tLrxHMddMgH8PCn0bASePy2Xx5ZJbcwBfUkSvGe5VFkDK0VWCo2xEgAgQASJABIgAEZAI7N0KDO/It63IV/3GwNJ/AX/vcRLNrEacPn4Cp8+cQr7BCpWPH+LqNULDuFpQV+Qvm7r/2gjww2nnvQp8/JarnL73AB8sdX2m0A0nQMrRDUdOFRIBIkAEiAARIALVjsDD3YFtf7qa1bEL8Ol6ec2hK5ZCREAmwC2OB3YA93WWPfY4uHyxFujUx/GJ3quAgLs3yCqonqokAkSACBABIkAEiEA1IPDk5NKN2LYZGDsQ4AfW00UEyhL4fRkw8vbSilHfIUD7nmVT0ucbTIAsRzcYOFVHBIgAESACRIAIVFMCH74CfPoOYLO5GhjfDBg7DejQC9D7uuIpVPMI8GV0Jw4DKxcCX70PWBzrMAHE1AJW7AWCy3GNXvNIVWmLSTmqUvxUOREgAkSACBABIlBtCFitwHODgN9/cZ307GgcP5ao/zDZMsA92UkHoTpu0nu1JmAyAEkHgF++Bo67eTV0NNpfD6w6CNSOc8TQexUSIOWoCuFT1USACBABIkAEiEA1I8B903/6BvDxtGrWMGpOpRCoVx/4eCXQuEWlFE+FXjkBUo6unBnlIAJEgAgQASJABIjAxQn89RMw53Vg/y46fuHipGrm3cBgYPCDwLPTAB+/msnAQ1tNypGHdgyJRQSIABEgAkSACFQDApvWgL31FITUDMBiBkQbKUvVoFuvuAkKBaBUAXodcMe9wNgZQFDoFRdDGSqfAClHlc+YaiACRIAIEAEiQARqMAFms0HITgdyMoHiQsAmkoJUk8YD9w2t1QGBIUB4jOyYQxBqEgGvaispR17VXSQsESACRIAIEAEiQASIABEgApVFgM45qiyyVC4RIAJEgAgQASJABIgAESACXkWAlCOv6i4SlggQASJABIgAESACRIAIEIHKIkDKUWWRpXKJABEgAkSACBABIkAEiAAR8CoCpBx5VXeRsESACBABIkAEiAARIAJEgAhUFgFSjiqLLJVLBIgAESACRIAIEAEiQASIgFcRIOXIq7qLhCUCRIAIEAEiQASIABEgAkSgsgiQclRZZKlcIkAEiAARIAJEgAgQASJABLyKAClHXtVdJCwRIAJEgAgQASJABIgAESAClUVAVVkFU7lEgAgQASJABIgAESACRKCqCVgsDAaTAIulqiWh+q+WgEIBaDUMeh0gCMLVFnNZ+Ug5uixMlIgIEAEiQASIABEgAkTA0wlYrQy5BQL2H2NY+ZuATbuBI2cFiJ4uOMl3GQQE+GuBWxOB2zsB/bsyRIQI8PVh11VhEhhj7DKkoSREgAgQASJABIgAESACRMBjCfy+GXjvK4YDJwRk5wP0gOuxXXVdBFMrgbhaQP8ODK8+Bfj5XB+LEilH16V7qBAiQASIABEgAkSACBCBG02Az/H/9a+At78A/tx9oUIUoAdqRQB+ekCtvtHSUX3Xi4AoAkYTkJMPpGYD1jKmwEAd8Oz9DGOGCQgLvrZaSTm6Nn6UmwgQASJABIgAESACRKAKCPCH5SkfAR9876pcqQDCgoAhXRkeHgS0anp9rAmuGihU1QTyC4HVG4D5PzAcTRFQWOKSKDoUWP8ZQ4M6Avg+pau5SDm6GmqUhwgQASJABIgAESACRKDKCHALwsCxwL8HAdG+fq5FA+CNp4FbWwKB/td3H0qVNZQqrpCAzcZw8qyAL1cA738LcOsSv7i1cN5LwNB+FWa96A1Sji6Kh24SASJABIgAESACRIAIeBKBlDRgxMvA1v2yVIF+wIT7GZ66T4CfrydJSrLcCAJ8aeWeQ8BLHwrS0kpep0YJvP0s8ORwXLEFiZSjG9FrVAcRIAJEgAgQASJABIjANRMwW4Aeo4DtB+WiwoOAtXOAFvHXXDQV4OUERJFh/DsC5i+X955xhw2rZwPdO1yZFfEqV+N5OT0SnwgQASJABIgAESACRMCrCPBlVE9MZU7FyFcL/DafFCOv6sRKFFahEPDO88Ckh+RKLDZgyETgQNKVVUrK0ZXxotREgAgQASJABIgAESACVUDgz+0Cvl0vO1gI8Qc2LQCaNaoCQahKjyWg1QBvPAPc31sWscQETJwlwGK9fMfupBx5bPeSYESACBABIkAEiAARIAKcgMHIMOZNwCYCggBMGQU0b0xsiED5BOa9ytAsVr73xy7gf0sFXO7JrqQclc+UYokAESACRIAIEAEiQAQ8hMDi1cDp87Iwd3QERg/zEMFIDI8koNcJmPsqoFLK4n2+CuD71S7nIuXocihRGiJABIgAESACRIAIEIEqI/DNWtd5RRMeYs6H3ioTiCr2eAI3JQI3JchiHjwB/L3j8kQmb3WXx4lSEQEiQASIABEgAkSACFQBgTOpQKMBsgeyZnWAXcsZ+OZ7uojApQicOAM0HSKfhdWiLvDvD5d27U2Wo0tRpftEgAgQASJABIgAESACVUbgw4WyYsQFmDmRP9ySYlRlneFlFdePBVo0lIXedxrgivalLlKOLkWI7hMBIkAEiAARIAJEgAhUCQGLhWHZRtnTWJAvcEurKhGDKvViAi3cPBomnb50Q0g5ujQjSkEEiAARIAJEgAgQASJQBQTyCgXkl8iWoqgwQKOuAiGoSq8mcGsLl/hJZy/t0puUIxcvChEBIkAEiAARIAJEgAh4EIGCIsBqkwUK9Hd5H/MgEUkUDycQX98l4ImUSy/JJOXIxYtCRIAIEAEiQASIABEgAh5EgLtfdpxPo9cxCMKlZ/49SHwSxQMIhAa5hCgodIUrCqkqukHxRIAIEAEiQASIABEgAkSgKglYrC7lKMRHkA6ArUp5qG7vI+Crd8lcbHCFKwqRclQRGYonAkSACBABIkAEqpSA0WxDgdECg8kKg9kGq5XBJsqWA6VCgEopQKdWQq9VIkCngk6rgiBcetlMlTaKKr9qAtS1FaATLUg5sA/pJgGxCS0Q6Xd9Hu+ZKOLkkYPIMthQv3krhGkrqN/Do93HjcMKeTGRrw+9i9VA94hAFRBgjEH6UTVYUGS0othkRYnJJsWZbSIsNv4DK0IUZfegCkGASiFAqRSgUSqg1yig06jgq1XCV6dCoF4NH50KPB1dRKAqCFisIgrcxrPRZIPBYoPZKo9nkTHwcc8fG/k45Z5u1UqFNJ51GiX4i49nP50KAXo1NGr7seFV0RiqkwiAWwMYsgvNSM8zICPfhKxCEzLzjcgtMqG42IhigwGiaIMSIpSCCAHM/nLhc8TamACeUhCU8NFr4eOjQ4ifDmEBWoQHaBEZqJNeEUE6+h534aPQdSJgSP4D0/63FiU2ILTvSEzu3vQ6lXx5xexb9SHaDpkIK4Dojn2QtPEX+KqufedMyqpJaDBkpiSEb8AgnM5ajlB19X8OIuXo8sYdpfJgAlzJMZhsyC+x4GhaIQ6l5ONYaj4KSsxQ8B9TgUEt2KATLNAKVqhgg0oQpR9cBUSpZfIPrAJWpoAFSpiZCkaoYRaVEJkAfl+jVqFhVAASagWieWwgQvy10GuUUCu5mb/6f1l48BCoVqLxWXE+Q15ktOB4RhEOnclHUmoBMgsM0oOhQuAPiCL0gg1qwSKNbTVEeaxz1UjgD53ymLVCATNTwgIVjKJKSsXHMy8h2E+LxtEBSKgThCYx/pLSxMezSnntP6jVqkOoMdeVgMliQ06RGVsPZ2HTkQzkFxulMRysLEGgogT+SiNiBJOk3ONqZ6n5DEExYCxQI+WsHgdEH+TZ9DAxNVRqJTrHR6FTQjgig3TSdzh9f1/XLq6RhRUf3oy33pGVCChuuuHKUXZBqqQYcfhWiw1MfrS5rL7IO3sUX6/4GaKoxc29h+LWhAhnvpKU486wyFJhtDKAlCMnEwoQAY8jUFBiwe//pWH78RwUG8zQWfMRLBTBX2lAE8EGpV4Ef5DkCtDVnhfHza9cMeKPnjamgDVLgQMZWmza6YcSZSA0Wp30YNm/dTRqhfqQkuRxo8R7BOJWoT8PZGDrsWwUGczQWAoQKBRJD4yxChvi9PLsuaTwS0r/lbWNj2X+zOgYyzabAFOKEn+f8sFq5gejKgC+eg3axQWjd+toBPlorqwCSk0ELkKAWzjX7k7FxkOZgDEP0YpsNFIYofaRLUOVMb+kU1rAXxEokDb028AnwJTIOHYG8w4Hw6gNRbv6wbinQyx8tDRXfJHuo1seTqBZx7vRNX4u/joSiAEjRkOnuvwJ25Nbf8LYsROlFg6b2byUclT7zqdx+8y/8VsecO/0KQjX1YzJM/o28PABT+JdSOBcTgnW7UnDf0nn4McKEaksRKCyBIqrnWW8sApnDP/BVoJBCT5LL/sS9VOYECn92Kai2KxF6nE/vJd8BrWio9C3dQwS67q5RXGWRAEiUD4Bx3jel5wKH7EA4coiNFSWQKmV91WUn+vKY/lY5j+XfLKAW07ly4IApRG1kQO+jaOgxAf79vlh875TSIiLRp/W0agf6X/llVEOIuBG4HRmERb+kQxDbirqq3LgqzG73b0xQT7+ue2Uj32dwoIQVTHMYjqSjwTjzTPZuK9rI2lFAFmRbkx/1PhaRAvOp6XhfH4RmEKB4NAoRIUHoTzVg4k25OVkIrfAAJXWB6GhQVDZZxOYwJdMqxDRsD3W7cyC2SZA6+sjbRNwMhbNyDh7DtlFRqh0PoiMikagffLLYrbAauaL8eTLJlphMZnsa2oAda2OWJ18Trqp0mpRdjE2s1qQlZGG3CIDVD4BiImOhq4aaBbl9YODEb0TAY8iwNenHz6bjze+34Os47vRUp2MhtoMBKtKrtoydC0N5N9NfkoT6mqy0VJ7Cr5ZuzD3p71Y/k/KtRRLeWsQgb0nc/Hat7ul8dxClYRG2gzpoU1ZBa5quXU1SFWCBtpMtNIch+HMbry9bA82Hz4v7Q2pQd1CTb3OBD5bn4zAwsNorE2Hr/LGK0YVNUejsCJOcx4x5qP44JcjyCowVZSU4onA9SEgWnB82yrUjY5ARO26aNasGZonJKBWRDCi6z6A/edyJQu/o7LCs4cw5o5mCAmPQYMGDVC3djT89HrodDrppdfG40ixiOwD6xAWFIDAQH90v+sdWKS5NYaMQ38jUalFVN36aNasKZo0qIcgXy0mfbcdgBnd4zW4ecRLjurwwwu9oLGX7ajD8R76yHLn0j3+PJZ2aKM0gcbb0SQ+Hg1iYxAUGoaFO06WaoOzcC8KkHLkRZ1V00Xl+zD+t+E4EtUnEa4q9Dh3nnqFBW31J7FpTzIKDZaa3l3U/ssgsGhjElprT3jceOaKP590aKM9ie82JUmOIC6jOZSECFxAwGy1ITc3FwHKy/Cfe0HuGxPhqzDDlxUjp9hzFLcb03Kq5UYT2PDhFLS+dRDOZOZdUHXmmcVo0bIlFh3Ntt/LxqNdOuDTtUcvSOuKOI4Ss2MlgCuWh2zntqFNx9txoHS09GnzovUATDBfwb8lyyxxKj2FyavRqF0f/HbAIatciakgGyOf/Ixv+fPqi5Qjr+6+miU899ZlMMkb0D215dJ+EGZBanaJp4pIcnkQgYISAzSCa0mDB4kmicKXktosJskjnqfJRvJ4BwG+161A1OGUOUxybuNpUnP5Ui1ByBF9nAeNepqMJE81IVB8Am+89zYcZ5DeNGgsftywESs+exNt64fIjcxOwfvzFknh3DXv44eTBVK4/YNv40R6JrYunwet3dNoUL0mmP3xGjQJKL2OzbHbKGnd90jNk62h7R96AyfTs5CWvA9zZryCXj3jAejxyNiXMfLObk7A8bfdh5cnTcKkSZPw4osvYezwjs57jgAzZuGRgQNRbJDL1jQfgC+/W4FPZk/F7c2DAJNZWsLtSO+N76WJemMLSOYaRYC7az1kjEaCLg1q2DzGesR/YPlm3zPmUGRafJyzKzWqc6ixV0SAL0sotqpw1ByDRpp0yXuifRn5FZVTGYmd49kSigKrhh4aKwNyDSrTlncOSVYj0sPqoYk2Q/JIx91zV9V4d4xvk6jCMVMUsnLzAPMxAM1qUK9QU28sAYbUH6fj7zR7rX73YPl3H6AO93vTvSsS/CxIuO8N6ebeX/5G1odjYcuTFSPo6+Gt6Y8jLjII9foNgU4/ASZLCXxDwzH6iT7wUQLGchpTYsh1xhZYcszc47UAACAASURBVKFUqhBePxFPvZjojH/8xelov3QWFvy0UYprNWA0po/r6ryfu3UWPvx2i/MzDxSf+BfLD9mjtG2wdeePaCvt+R6ER5+chONpxfAtlcP7PpDlyPv6rEZLLJoKkPrfBvxbVBcHTHVQYNNVOQ+jqEayOQrbDQ2QdOwIrKn/VblMJIB3EBDzz+H0gX/xT0kDHDNHwSCqq1xw/sCYbI7E9pL6SDp6BLas5CqXiQTwYgKSi0QrTPtXIvufRdh5Ig//lNTHbmM9pJhDYLCpb5jyzY9mSLMEYq8xVhrf284CaTtWwrT3ezArLanz4lHmBaIzHN25wylnzxmjZMXIHtO4Wx/nPaQcwwkjYLPYV6AYzuHZ77ZK+30y9m2GpUReC8edIzisRK7MrlBCt37OD4eWzEaT+AS0atUKaw7IDhacN90DxouVKCfMST/jzNHkzrZ2xUiOUmn0aFI3zHnfWwNkOfLWnqupcjMGW1YS8jadQlFkAtJC4uAfWhuBGhF+CiP8FGboFSbpTKPrPSvJZxstTIkSpkGxqEORqEWhTYu8nGxYs/fBmnkEMBVAXb9zTe0davcVEJC8Yok2WNP2Ii/rGIqimiIlpD4CQ2tJHuT8FUb4KkzwEcxQK2RPiVdQ/GUltYoK53gulMazDnl5ubBkHYAt8wiYMR+ahP6XVRYlIgIXJ8DADLkwHfsNphN/oTAoFlkB0VD6RULnHy4dsq0XrNAKZmgVNmm5qQZW+Uw6gTugdz8IVq6J613yqV/8qAX5EFjprDp+thc/q46ppLON+ARWsVlESWEexKI0iAW7IeafBTM5FjhdXHK6SwSuBwGV29agWmGlvYAqtAGuKsw+4J64Ywa+gHbBX2JnrgUHJvZH3GcNcDbJde5Qh0HToVVWrMzom9+DDfN3oseYWVLZhuw0HMhOQ//E2hj59mf4ctJjrjqvIKRwc6Sq11RPNaJ6tuoKOpmSeikB0QJr2j4gbR+yISAvuC6UUU2hCKwNQamBUqmEv9ICX5UFfoJJct2q4Q+ZzlPW5Xbz4zD5xX9g5Xf+V5B+aI1MI/24GkQtikQNCqxqWGwMzGYFK86ELWMPLJlHIDDP3TMiNYr+eCQBvqzOeVlKYE3ZKb0MUCA7simUkQkQfMMgKFXQKAUEqcyyssQnAAQLNAqLdCgsH7nSOC77GymdaySPcD6++cMit0xJyr1Nh3ybGkarACZawEpyYMs8CEvGIQg28tjl7BcKVA4Bq0ma5OITXdx1DV8SlK/SQxEYA4V/NBT+4VDqQyAq1RAEBSC95JEuf1U7Brv98C7+Pc7/nxgD46df8jFtzAcrTIFYlAFr3jnATIpQ5XQmlXo1BFLO55fKZjPal9DxWJU/9CqG4uNbcFJaGaeAr68OacePQ1Ao4B8Ugi4PTsB3r3QpVcaFH5To/sRMsJETMWfi45i+ZCPSs+V6F8yah5kTH0NImfVjrMznC8vk/2au3y6DwSI9RTn+I8tL741xpBx5Y6+RzGUIMNhyT0kv/hAoqDSSglSs1AAqLRT6YCh0gRC0fhA0eihUOggqNaBQQSEopXXv/BwBURTBbBYwqwmiuQTMnCX9wIqGPMBSLN+zmQGrCY7jp6vbF0IZsPSxCgjwI4etGQekFwQloNLAqNSgkI9nrT8UPsEQdEEQNL5QSuNZA4VaC0F6kJRHpPTjZbNKzhREmxk2Ex/PhYApH7aSXOldHuuO8Sxbpmg8V0GHV/cqL3NQMasBtuzj0osj4Y9fsmKkBBT8iY0rSYL9oG1eqH1iS3pQ44qRKL9Em/P7ubqjpfZ5KAG7w4TS0gmIadIEwH4p+o+ps5E8qg8a6uVU2xf/6Ep+Uz3UF0z47MEpkHzB1W6G39ctR4BYDBtUCI2qhcjQKzhPURuJpz9aiYdfOYSbo5rjMK/pfBFOWIGQMmd95+3nvu0urnT5BkU7ZT267i/8mgX0sa+kM5w/jPHLjuHDMXehTNHOPN4QIOXIG3qJZLxsAtI8udUkKTiOTLaCVFTOoiRHDfROBK6cwGUdNslsgMUAxl+8iuLzEHOuvC7K4XkE0tPTERUV5XmCeYhEkk7lVHhcQrnmrF1xFCICHkVg0XQMOfotHMfV8YnXqM6T8OGISWgyYRmO8q1Eub/h7gEPYNT9fZCXtAPffPqRswmjHxgALQSIgfaos/sxYMi9aFM/GlqtBlq9DmHhMWjV/z6M6tUGygr2EOz95AH0mZeKRwc/iDsGtEbesX9kxYgXq1fBz24lclvth7//nI0XJqci51wJXvjkfYQ7pXIFgpu2RXcAf/AoQxIG1GqLp8b3gaYoHUvnfIlTHV7Ae6QcuYBRiAgQASJwrQRSU1MRGRkpLY281rIoPxHwVAIfffQROnfujL59+3qqiCQXEbhiAlarFWazGT4+Plec16szcEXecZ3egxWn9zg+Se+xDR7Dx2F98fjT92P8u4uluP/WL8Yz6+WwnFiBkOj+ePHhOyRr6bOL52Nc3ADpVtbRPfjtaOky8dF8ZG1Lwsvta8nZ7X8dEwiiiSFj/594i79eL5UEjXu0QbzdPBKX2Np503AuGe9Nnw5AiS5Tp+NOu4XWmYBbdH3q4Ps/Z6H27S/AZLHBYt6ND97e7Upi9f7p6MtYXehqL4WIABEgApVN4NNPP8WcOXMquxoqnwhUOYGhQ4di8WL3h6MqF4kEIALXRCA7Oxs9evSQDv69poK8LLNvTBNEXkzmKB9pu9zYNz/DX8s/QVRIaYcMCI7B2NlLcChpOeJ8FICtBFNHvuYsccjUj7Fu9Y9Y9v1CPJLg8NJrwOQ+byPbBijUvoBCXsMqCKFSXU3vnoBxfW9xluEIDHptPtYu+sLxEUFNOmPnytmIcddn29yDbrV1UIfEOdsl1Amw784GQruMw+61i9ExIdhZDg+E9R+NtQvHeb0rb1pWV6pb6QMRIAJVTYDvl5k4caI0+8jf6SIC1ZVA165d8cYbb0Cv12Pw4MHVtZnUrhpEgH9/Hzp0CAMHDsSqVasQHFz64bm6otC3G450NvzSzdP4oMvgx5E28FHkZeegwGCESqVHUHgwfNSuR3JD5kl8sUfen6Rt1h6zJz6BOr7y/SGt1Piyyf1yXfkZsDIgLL4rCovNsDIGtVo+EkJVqzVmr9mGtwsLkFdQCAtUCA4Ng6/OVY9UiEKNtgPH4WTOY8jLLwZTqBESHAg194QXPxjnuAMVmwIaN8903DFE0x734u/9g5Gfm4MSkwifAH8E+/tdmoEXpChDyAskJhGJABGo9gRGjx6NDz74ANHR0Rg+fDgtsav2PV4zG9ioUSPpIfKhhx6SFCRaYlczx0F1azVXiCIiItCtWzds3LixxihIV9SPChWCwiNQkVsF0WaAKMqecE0nTmD+D2swokMCjNmn8XKvR51VBdxxB0LsT/KCSoULT8oToPUPRKS/YwOTM+sFAY3WFxERZY9vFaCUPABfkFyKUCjVCA6LRHVTgWlZXfn9TbFEgAhUIQG+Xv3tt2dg3LhxtMSuCvuBqq58AnwCYM6cj/Hkk09i+fLllV8h1UAEbgCBESMeQOvWraV9dbm5kj/qG1Br9anCJ7IJRgVGyA0yZGLGyLvQNL4x2nTshXUl3Pk9EBjXDLu+GerVXuE8tcfIcuSpPUNyEYEaTiA0NFR6aJwyZSotsavhY+F6Nr+kpARfffUVjEb5AeN6ln0lZW3btk06rZ47mgoPD8e4cWPxyiuvSK6qaYndlZCktJ5IQKVSYfDgQdJ3d01bYnc9+kNQ++PN40eQsHABNm/fh9T0VBQYLBA0WsREx6LOTZ3xxIihiPX3ZofZ14NU5ZRBylHlcKVSiYDXEeAbaWfMmAGLhR/LWHXXli1b0L07dxQKBAQEYPr0aRg37jlaYld1XVKtai4oKMCUKVOQmJhYpe3irty51chx8SV2zzzzNGiJnYMIvV8pgVdffRV8fFflVVxc7Jx44ArSAw/cjwULFkpL7DZv3gx//zKOCKpSWE+vWxOE+0Y/h/tGe7qg1U8+Uo6qX59Si4jAVRHgP6oLFy7EpEmTrir/9cp07733onZtl2tSX19f5xI7g8GAxx577HpVReXUUAJc6Z4w4XmPa329enHOJXYzZ87EkCFDPE5GEshzCcybNw/33XcfYmNjq1TI5s2blaqfL7FbsWIlOnXqRHuQSpGhD55KgJQjT+0ZkosIVAEBPtPXrFnTKqj54lU6lti99NLLyMvLk7zZXTwH3SUC3kfAtcRunLTEjnux69evn/c1hCSuMgJxcXGIj29SZfWXV7FjiR23KtESu/IIUZynESCHDJ7WIyQPESAC5RLgs/3vvvsO+OwoPwuJHzZIFxGojgQaNWooOSPhVtSVK1dWxyZSm2oYAa4gjRz5MGrVqkVOGmpY33tjc0k58sZeI5mJQA0lwJfYvfHG69Ks+oIFC2ooBWp2TSBQp04dfPTRRxg/fjx5sasJHV5D2jhs2L1o166dtAcpPz+/hrSamultBEg58rYeI3mJQA0n4FhiN336dHz88cc1nAY1v7oS4EvsIiMjUK9ePSxevLi6NpPaVcMIOJbYNW7cGHfffbe0TLqGIaDmegEB2nPkBZ1EIhIBIlCagEajAT8L6eTJE6Vv0CciUE0IcK+RixYtBmMM3377bTVpFTWDCAAKhQJ169bF/v37YbPZPAIJYyIsZgtYGWkUShVUSoXkYr/MrZrzkZmx//e1+Od0JgJrNUTf27vBXyVU6/aTclStu5caRwSqHwF+Pg13zMA9eU2dOrX6NZBaRAQAfPvtd0hOTsb69euh1WqJCRGoNgQ2b96CRYsW4Z9//gFfCeAJ15mVk9Fv8qoLlCNBqYS+TXd8+NJL6Bgf5Qmi3ngZzm1F594D4VgEOW5bOma3j7zxctzAGkk5uoGwqSoiQASujUBJiQGzZs1Cr169pLNq6KHx2nhSbs8ksHDhV8jNzcX27dvBraR0EYHqQuC3337HL7/8gh07doDvq/OUq+TMERw6fLh8cQ4cQKevl+C+F+fis+lD4VvDNqQwwepUjDigaE31Vx2qfwvLH+oUSwSIgJcR4BYjfnhn586dMWfOHC+TnsT1JAJ8KU9OTk6Vi8QdjLgr+Hwp3fffL0VmZiZ+/fVXUoyqvIdIgOtFQBRFbNz4l6QYeZLFqLz2KWo3QWKoDhBtyM88jVMZhQCysOT9kbj/wdvQLyG8vGzVNk6o1RXLZz2NN77egqYDn8ETLT3D2leZwEk5qky6VDYR8DIC3D02fzCr6isgIBA6nWspES2lq+oeqV718wOPn3nm2Spv1OjRo9G1axenHHwp3eHDh/HHH3+UUpqcCShABC5BgFscq/o7XKFQIiys9AO0Yynd5s2bPWYpXUUo/Sf/gL2PJ4KJVuSeOYBOHTrhcHoxYLZg/6mMC5QjU24adu/9D+cLzfALq4O27RIRWIF1JSvtOI4lnYVV64d6sbEI9tNJYjBBiQA/HylclJuFIpMNweHh0NpKsOOfrcgq1uCmTrcizN9lSS4+n4Kdu/9DvklEUFQc2rZrBl9FOWYtazEO7dqN5Ix86IJC0bR5C9QO8S3dfGsxDuzYiRPnC6U0zVu0QkyQ3p5GjTueeBMdhhugCQhGgLJ0VjCGvHPHsedwMgqNFviHxqB58wSEB8jtcaQWzUXIyi6EUuuPkBA/MEMB9uz8B+dyjYhu2BI3Na3rSFrl76QcVXkXkABEwDMI8AMnu3btimXLllepQEeOHMHgwYPRrVtXSQ6DwYCZM2kpXZV2SjWqPDIyEqmpqVXeIm4FNZvNTjkcS+m2bNkCPz8/ZzwFiMDlEujduzf27NkjvS43z/VOxyeyuKOFBQu+dBbtqUvpnAJWEBAUKgTXjkdEdLisHIHBXfUQ809h8pgxmPHtujIlxGDku9Pw+cSRcOgRRad34alHH8bXGw6USev46IMl5/IwPMaE+1qF46czgH7AVPQ+vQSr/kuSEj31zi+Y80I/iNlHMH7U4/hw1d+OzPb3WDzzxTx88Eh/u5wiNn31Bu59+HWklUn5wGvf4pupwwBUnObx91bikwkDARgwsWMwPtrLC+mI/YbNaC7rdEj+YwVeefN1LN24r0wNwbjjiTH4+N1XUc+fJxaxadyt6DZ/PxQBYfj4tccx74P5OHjGZcEPvX0Udi6bg3r+ronRMoXesI+kHN0w1FQREfBsAlFRUR5xngp/aOQ/sPzi79OmTcfNN99MS+k8e/h4jXSCIECns/+yV6HU3KUxX0bHrbXfffe9cymd+zK7KhSPqvZCAkuWLKlyqdPT09G+fXtJDr6UjluM+B4jT19KVxqc7ImNiTZknz6A1BS7aiEo4KdVy20zF+Dpnr0xf+cxAAKCo2ojKkiP9CPHkItULHjhEZREd8CSB+IhmDMxpXM7fJ3Cs2oQ2zAOWks+kk6nO6tVajUwWGTPfQoVwNUD5brXscrtq0qj1MFWdA7949rg10IDAAXCY+shTK9A6tFk5OMMPn70DvjFnMT0PvVgOrQaXR5+Xa5DG4AG9WKgshhw5uw5nNhxXIo37FvqSqMLRMO60VBaDDiVchYn955yyecM8Vr5xWA8tRYDegyBY6eWVh+I4AAVsjKzYWW5+PmTt/CzMRwlX4yDXgEo7EYvsSALTz8/nRucSl3Zv/0Pvb8cikNjezmVylIJbuAHdyX4BlZLVREBIkAELk7AsZSOW5D4YZh0EYHqSIBbag8ePChNTJBiVB17uOa2iStGX331FdauXevxS+nce6nk7Zfx1LjRuLt3a7Tr0B1JWSbpts63A/rf3EAKnz/0K5bu5YoREBBxC379Zzf27N2Dv1bORYgUC/z+4ghkm0UUHdiI2ZJiBLS7d5SUjlv4Hu7R3J4S+N/GXRhex6UJ8Rolu3IBMOilWZg9eQza3hyNQ3+twIYirhgBdZrfge279kjl/TRvKhwL7n5+fyrMIsPRX1c7y7//lbnYu2evZFXcvnENxj/bW7p3aPUPzjSPzViAPY40f/yEp0bd5rx3QUC04s0nX3YqRmh5HzbslK2Wq99+yJV84ct477/yl+p3GjwBW//9G0/F1XamPzZ5Ps5YnB+rLECWoypDTxUTASJQEQGuGL333kzJK9306W/R/ouKQFG8VxNYtWoVateuDVpK59XdSMKXQ8CxlG7Tpk1o2LBhOSk8N8py6ifM+7C0fK3uGY/P5k5HrB9/bGY4+N00ZFvlNIkzP0OLSF8wJqDBbfegVtzryDmZiTxDKtILTKjHXHaIW9regxBfPeCrR2xCHGBfZhdZN0ayrrjXylfdPjRvFRaOucseLeKbxwfBare4dHjjHUT7qcEgoM3g+6Gf+DbMxSYczUiB0SJC6bY/acOPX+KbVvXwUN9OSOzQC4n2EpUBriVsvyz9FDc3icJ9vTqgZae+aOkuTJmwzZSP3w7KyiGUOiz57B10bCorOX1f+BTjf/8T768/Iy3JS9lyGGjd2a0EBW4dNhM/fvUcQtRAhy0LsTKmJ6TFzkVFHG+VX64eq3JRSAAiQASIgExg/vz5aNGihbSUjh/2ShcRqI4E+EGY/Bwj2mNUHXu35raJe4J0LKXzNsWI95oiIg7xjRsiyMdlPwiNSkTLcIdlx4KkXa49NlsebAGd3gd8365vUAT2n5QtJSIAG3/QVyrgyPnZitnYeSwZ+3esw2+Lf7IPkhAEqhy7k9zHTS+89qhDMeLxZpw6cNSZYOngBOjt9fpFNUZ+sWzhMjNZv0joOxzRAXIb0nf9iScHdIavWsBbi35BdolsnkkcONKZJnXbr3is361Smlnf/4pcg137c9boCthsBhiKZQuWRq9B2ybu5x5pUbtdB2firMNHnGE5oMeIsYMlxUj6HNoATVw6Wpm0VfORlKOq4U61EgEicBECzz8/nvYYXYQP3fJ+Am3btsHq1avJKur9XUktKEMgLCxM8rjoKQe8lhHvkh/9p/2Iffv3Y8vS2c60G+aNwfitGc7PjiVszojyAnzrkkKAf2I/vN9RTmD5ZzVuSUxEq/b98E+uHNdp1jLcEibvZSpbTFmVqfxUZXKp5D1TylpdsHPjz2VuAq+MuAN9HnxMilfG9iw3zYRhfTBgzPgL8joipKbZPwgQoCrjJU9wbDDiuqFzwZ8jtwjBxlVH+6UJR3Q9xwfPeCflyDP6gaQgAkTATqBnz56YMmUq1OrL+hkgbkTAKwkMGXI3AgICvFJ2EpoIVESAj2nurtuTDnitSNYK40VArdGhaZ+H8Va3GDmZzYgFDzyGDJP8UG91+3kaunw/0tNSJS+Y3BOm45V+5BBahOqQtWsFXtsiFxMd3RgxvkaIIkPzDt0x8a0P8OvTXaCU9ZkKRXLcsLnV+9SaQ866HHXy9/N//IhALVerBMS07g1mKcBfP3yKkXd2chSDnb9ux1FpU5MrzYZv5+DBPrc402xeuQlJLoeaznhHwLH6zWITkSM5iHDcAYxZ55wf/CI857Bfp1CXCJBydAlAdJsIEIEbS6BLly6gpXQ3ljnVRgSIABG4HgT4d3dMjF2huB4FVmUZSj/JNXaIfXVdScp6/H2Q74zRoEXX/k7JNs5aASE4HNHR0fIrMhL+WhWsChW4zrNr9SY4XBIMnv0Vdh3JxPmsLPy9ZjmmjnsCevXlPorr0OTmbs56//7idwRGRLnVGwEflQBRkO1NhpzTOHo6HTaVP7rcPRpf/rAcCY7cRTYUCUBJ1glnmu7DnsJXK93SFNhQXIHSplQHwy9Edj0hGkrw+aqtMNpEMCYi//RfWPnZH46aULtDnDPsLYHL7RFvaQ/JSQSIABEgAkSACBABIkAErpmAb52eSEiwWz6sBoz6eq1UZpN7JqG+/YzUzG2vo3mDLpg8ew4+mTUNbVo0Q6Mm8ejx/Gpw59zhdV3nls0f0Q3x8fFo0qQJmjRujIYNG6DxiKk4UVzx/h73Rtw8YDR09if3/asmoFH9npg+9xPMnfEqGjduhMbxCXjio02ST4NDi19GYrME1K83DP/7bgVen/iCy7tcsB61VMC+/z3rTLNw6Qq8+OwEV5owX8S4tl25iwFB44Ox7RrZ42z47NnBaHlrV4wcdBsat7gd/zpS3/I8xveo7/jkNe8VNNtr5CdBiQARIAJEgAgQASJABIjANRCQnRmULUBQ6fFu3w7ouF/2xV3w4dvYPGUkOsXejBdffgKjX/0EYCLOn9uG6eO3lcquNshr4FoNvB8YPVO6J1pMyM0tU9fiN9G/2IB9K98Dz+G2G6dUmBcQe1N/vPTEXZg670fAZkHqmT8w+WmXlYanMZrkR3uVKMBSnIczxd/jseHfl5LtlsdHIkoAzrmlGXlv6TTdn30YEXbLkXwCk1wEl08QFBj28UJ8cWII1m8/BNiKcezfzbD7r5MS+gR0wk/fvIgQac0gkxRFhxDu5fG4i7XZkedGvpNydCNpU13XgUAFNt7rUDIVQQSIQHkE6H+uPCoUd3kEVAoBaq0eJmmBkWOXwuXlvXGpBCj1AeCy0lUzCQQ0aI+WLVIgQkCvJkEuCIICt05+E8N+PYKDIpOUAsmxmkqLxybPR+8e/TF+zMs4ZDSB771RKJRQazRodvejeO/5QeAP2f97a4azvDvHTsUXLzyKErMZe5fOxMBJn0j3jqzagP+MQDudBo1bd0Kibz4Uio7Ql/XIoA3AlLmrMGzg95g4YTqOGY2wikyqV6PVouPDz+H1Md2kg1pbPvERFqb7YdZPm2A2W6S2abQ6DJ32KabcJR/U2/b5BVhYONmVRlBAo9FixLsLMKlvG7vcKjRo2x3/Z+88wKsouj7+v/2m9x5SgIQOofeOdGnSpKoUlQ8URVQQRcWuIIqIKC9KUxQQkKL03juEkgJJIL333D7fs7u3JgEsJKScfZ5NZqecmfnt3N05OzNnmukzIBZ3hJOpTB4Nse/wCWz55kO899NuqLk8GCCVyxExfDqWvfcSPE1xIYJ34x5oztkQFznBz8nBzASQIaxlNzST5/B1tq8Cc9pEjJXeo9aqvOQkAlWIQKFKi/kbLiFxz1JAp6pCJbMtiqLZSKyY+xRcHauYbUrbYtJVFSAwdel+ZB/9tgqU5P5FcO4wFUtm9IY7tef7Q6KQBxL49q9oHDt6BOqoPfxX9gdGfgyBsqD28G3eG59OaAml3NybewwloSzLI3A1CugwCdDpgae6A78sLi/Wf/RjDFx3mNszSFyOksyHcd1lkQhika0Sza2z0Wm10BuVJ6lUConE1MPX4NlWjvjpkmA6e1F0IRaEGRWD1PMQ+bU1FrwVrqguoLkCQjkYp4iJ+PN+NePy1Wq1vHEHbiRHKpNCUspqHGfU26DTQ6fX83WTymSQlKmfKY4ODJycsnFM9S+3TIzBYNBDq9OBQySRyiCVSvjPIaXLzgwGniEnx/p4oHzriP/SnZQKhA4WEo/sCfz8+YMF0cjRg/lQaBUiYK+QYmCrQPyc9hSKow7CUJBShUoHiOSOkIV2RvfO7UgxqlJ3puoWpn/7BtiSMxya2ENgJblVqqAihRNkoV3QuWUDONtZmUiqUqWkwlQHAs/2qgt3Rzn2uPmjKPEq9Jkxj729i2T2kHjWh9yvKXp0bImxnYNIMaoOjamiymhURGy77JbMylUKjMGcYiKTK/gpcZYUJpcY9s5OALJ5j/VTJqCwaxNIDDpc3L3VFAlBfVoh3Pg99UF5mRMYp7ZxozwPPkQQS6WQSx/U3X94nAeWiVMYJVIoJA/KQyilqIzyZvR/iCL44Do++tCH1+TR50kSicC/IsB9renf0h+BHr3x4+G6SLtzE6q7Z8GKs8A0xfyu1f9K8H9JJFWC60TKA1vCs34bDGjph4GtAv6LREpbiwiM7FgH/m798eupJsiIOQ914kUwVQGgEzbXq3QUUgXfnmX+LeBZvy0GtQ7AAGrPlX4balqGdnIpxnYJwZNtArD5VCNcSshFTloSFrLCagAAIABJREFUVMnXocuJA7QqMJ2aX0MhbF/5iAlIZBBJFIBMCbFLAOz8msDVLxShXg4Y3zUE3q6mLTofcb4kjghAiudGvoIdNz7HvYx8RB3bhk+PbbNwkUgRWC8cK7/91LxRrCWQXI+LAE2re1zkKd//RECrMyAttwR/XUrB4WuJMOjUMGTHwZB5G9rcuxAZhCHs/5RJeYlFYoidfSFxrw+JZz1+tKhJsCeGtquDUB9H2MklDxwGL08k+dVuAtx0ArXWgLj0Quw8n4jLd9LB1AXQZ8RCl30brCCVm2dRYZBEDl6QetaHxCsMIoUzwgM9MLx9EOr7OVF7rjDqtVcw1941OgOK1DrcTMzHqegMXInLhEGnBdNr+Y9dhoIM4b8qF4aSfEBb9Dem44nAjQaJlE4Q2blCbOcGsaM3RI5evGLEfdluEOiG9uHeaB7iyo+Gcs9rOqo+gUqZVleRGJgeBdkZuHbxIi5euYy4lCwYZDLUq98U7Tt1QsN6Qbzp74osQm2X/U+n1ZFyVNtbTA2ov0qjx+3UAsSlFyE5pwQpOSVITc9Ebg43olQIpikCNCWAXs1/neRewDDoAIOBm43LE+B2eAa3N4BEAohlEHFf0KUKQKqAWO4AyB1h7+QKXx9v+Lg5IMBNiWBvR9TzcYSrg4wUohrQjqpCFbiOY16xFrGphbyylJKjQkpWAVLS0qEuzIVBUwioiwC9Coz/2q4B9BrAoAdjeosSxU9REANiKcB/NZdDJFMCUiUgt4eYmzJn78K3Zz8PJ/i72SHY2wH1fZzg4SSn9lwVGkMtKgO3ViM9T4WMfDWyCtTILtSgUKVDQYkWxRo9uGe8Wqvl11fotTromYEfYOLWhnDrO7gNo7mTG6Gyl0vgqJTCwU4KN3s5PJ0V8HJWwNtZAbmMlKHq2KyqvXJUHaHXsDL/U+WIptXVsAZQG6vDLaBtEuTKn9b1L1brkJqjEl66BSrkFGmRW6RBkUqHEq0eOu79avwgz60N5KxNKqRicGub3BzkcHGQwdNRAS8XBQLc7OBkT0qQNV9yP3oC3LxuVwc52tRz509TDtxu6llFGqRmlyAtT4XMfK4DqeYVKa7zyFkr4tqyaXyJmzcvtGkR7ORiuNrL4eYoh4eTAj4uSvi528HLSVHuwmNTnvSfCFQWAW6BuJ+bHX9WVp6UDxEgAkTgfgRIObofGfKv9gQ4JaeuryN/llcZ7iu99cF1TOkgAlWRAPeFnFNmuJOzhGp9mNpxecoRF4/atTUtchMBIkAEiAAReDABUo4ezIdCazAB6jTW4Jtbi6pmasek29eim05VJQJEgAgQgQojYDLEXmEZkGAiQASIABEgAkSACBABIkAEiEB1IEDKUXW4S1RGIkAEiAARIAJEgAgQASJABCqcAClHFY6YMiACRIAIEAEiQASIABEgAkSgOhCo3muOdEW4fvkG1EoHNG/cCFJx1VpQr1cX4U70DcSn5kKqtEfdpi0R7Gb/79oF0yN+zxb8fC4KXYZPR7emPrycQ5u+x+kkEaZNfxae9tX7dv47MJSKCBABIkAEiAARIAJE4OEEtIi9GYVCtQ5wC0CzIC/eUu/D01liaIvzEHkjBhoAPoHhCPF1tgTWENff6k2rctKRXqAyV1kiUcLN2x32Mtvk3P4xGxd/iE03s/HO8q8R8S/1AHNGD3HoY39Hy7aT4N6wGW5dvQxXsYjfPPGrtxbgUJ49Pv76YzS2e4iQCgx+dkQvbNp7FiqdkMmYzw5i7XPemD3nQ9g3HoAvXp/4t3PPubYLEQPGIA/AvklzzOkO7fkVi368htDuAzG2ZYDZnxxEgAgQASJABIgAESACj4eAOjcNaflqPnOZ3B7e3p6QPGC+lrooG2lZhXx8kUIJf2/vf6y4PLSmRTcwsHkrxHB7mTiMQVruRnjbduUfKiLlzG9o1Ws6H2/YrB+x9etnHpqmukV4wG0SqqK7dxD13X0QHBxsPgMDfeAgd0O7/k/hQGKJuc6qrMtYuOA9bP1pGXbfLTb7V4zDgMi/foYWgGu952EvFaqScv0A3v3ya/yx6hMcTraUrWLKcD+pBkR9Mwjrdp+FU2gzfLXmVyxf/DHG92+MA7N6Y8WaX/C/ndusEhuQkxCDazdjUWxUpKwCAajw8TtvIA9yjF1zHH2CLVpnJ59wwJCBn6/G2CahKyJABIgAESACRIAIEIFKJ1AStR9KN19zv9nfzwuNewzBXZXtFiKmgl34eQmUjh7m+EG+dbDwUAX06yQ6SDjFiDuKVPg3863EBr2p2BDrLW6zZw1wPFRfTDt/CklcRRW+GDZ6EJyQi6tXonE7Nhrn9vyOPnUGIq54P0LsJIBYhsD6jSDzb40pDS0d+ArhZNDg4I9xvGj30T0hN91hmT3qNWgIdYPBGF3v8QwbsZIUTJ21my/b059vwktDGxgR6HHY1RMNG7qja6dxZiyGrGtwD4kAIMf6xDyMD1Caw7htHTP++gqfb78FpU8LfDC8nVUYEBYhTK/bseMytJN7QGYTShdEgAgQASJABIgAESAClUlAr+Emndke0cd24IeziVjUrY5tAPTYsGl1KT8NkkosM7ZKBdJlBRN4qHJ0bNd5oQhjvsJva0bznW/GDLi99xuE9X8ZwGFcTspDSH13KD1aYO/VK4BIgocK/o8VY6p8/Kwq4KWM7VTXLM2v6RM4feUqRJKKL4M501IOVVIUjvN+7fFcn3CrUAm6f3MFV/UGSKQWNSbvrunrQH908FFYxQcMqjw89cpS3q/fV5sQ6mRJx3l6hjQW4qfn8KNotqE2ouiCCBABIkAEiAARIAJEoJIJhIQA8fHA2W1rgG4LbHNPO46VO69DLgcMBkCncwWQaxuHriqVwEN1mN1pyXyB+o3vbB6VEInEqN+uE9wA5HChGm5YzYCozR9i+dF0tH36VUzqFMqnK0i4jPlf/A9tx8/E6HBHbHzvExzNzYNeJINPxxFYOGUgHKSmYR+h7pqcBPy0eAXOJaVApTNA6eiE7uNnYUKXRkIEACW5qcjPzQDcumJQqGmkRY9z6xdh3dksDJmxAE804kZVDPjxs3mIEwXgzVdexIXV32HDmYso0hjg1KAD3pr7IgJs9RFAk4ejWzZi46EzKCzRQiJXwr3dYCyYPBhuSom5DGUdKnz1wTu4dumCEORYgBVvvQJT6czxw5/ApzMGQarJwOeLPkTUxXNCkGcSvnztFUghx4Bpr6BfEz+kX/0Dl2NSgbCB+N+oMJSeBykWG32uXEeWDiCbDGbK5CACRIAIEAEiQASIwGMlUL9ZG+CaMNCwd9MJJH8B+Js7czr8+fI8YUmF3BHD+zfD1p2nyi+vvhgHt6zDxp1HkJyZA43eADtHN/j5tsT0N6ajVRDXK7ccBfFXMe+jpUi4lwQ1k8E3vCXeeW2gJUJplzobG79bhj9PX0N6dgGYRAZP30D0H/08JvRvWTp2zb5mDzx0bGgLbwb4sJ35thELTnzLTZzkz13x+YzpcthM4/Xzf8aaI1/638d8nIFz3mBPNRDiK+0lxrRSNnvDaXNczhF/aptZrp2LJ/P39mBio9zX/7jN9AYheuLpzcwLYLK+UyzptWlskjHuN+eTBX/tbdYBYAHhPdj7Az142RKlnTmPVl2XMq3BKJQxpslJYv06NBLCFU7Mz8+X2RlldnvhY6ayRLXka3IVnGeBxrgmNuX+bzeHcTgLE/cx73LjK9jrv59hzKBiPwz148sy9NXVplxs/uef32SsSw92W20TRBdEgAgQASJABIgAEajWBK7cYsyuHWOy1oyNfbV6VKXg6i5zP7PHiy+xtSNczdevHU5mpq6kLj+JBfm48GHS4Abs3IaXzPGe2XnVUlldIft8aG9zWJm+pW99tvNujjm+riCJ9WjM9d+Ffrf1fz+z31CWrjUm0eazZ9o1KTc+l3bsT4fMsu/tX2GON2LGKrN/VXYkpgjth2tDT7/28JKadddyVUB1NGIj04GAQHR2so3xfx98b/QYj7YBjjDkJmKl0adP00Bz5GvJ11G3LrB78afYElUXy/adQ0zsHbw2sRcAHZY+vwqpxrVhurh9iOgzBoAUEz9fj9joW7hx6yZ+ebUHL2/NzM9RaIybduc8MgG0ryesueEiGDJi8Ysx54hgT8EVexzxnkBS9GG8szsLw6ctR8ztGBz+fBIffiVtAz+KxKcvSkNEy5bYc/omAhsPxq2oKNy8eROndn0LO5kYR7/bghuC4RFjLqX+OTTFsdhozO0naO8vLv4NMbdu4RZ/RmPVW1P4BKE9m8ERgJ1PZ5y+HYln23PxZXh71R4hflQkFgxsBV3SJby0PYVP03fy0FKZCZfMPJBljypmybzc8pInESACRIAIEAEiQARqC4EiOKPnax+ZZxFtfXOZuS+bfPMoctI5O8RA/WbPw09UnoEDhutf9MC87QfMyJp1HoZZU4bCaIsMSI3F4BYTkcQvddLgj1EdcPhGujm+t7fZCaFXabnmZlidfisMa89eN3qGYf2eQ1j1ksWi8qYX3sBd6yQ13P1A5Uh9bR+u6wFXP1c4qotRUlSA+OunMGviIGz+8zLgFIzlt5bBSypCTtx1fs0LfEeho59pnpoOt8/uw507HMUmWHXqAGb2aYNAvyDMnTZBQFuYgHwdeBPcs0bNQm6RGq1fXoGVr4yDv7cHXNzcEeJusjonNlrW0CNqzxpeHW4eJihOnLC0yNNCGYJnoqE7t/qG4dquH5HKaVFwxuSv9mL9yhkI9Q9A9+dnoSFnAkEsgsg4q+/cz0sQFZ8Ot05jcejMNjQI9oOLiyv8/d0gFnFamQj8mJdQ8rJ/RQqEhHoh8wo/2RDde3ZG/QYN0IA/w6AtTgQgxog24Xw9xFI7hAa5IPFWDqCQo0uPtkL88PpwUkhxdd9f4GveaDpGNHYvmx+A9DvGxtyhDbxowVG5jMiTCBABIkAEiAARIAKPg4DYoINXwwEI8hYMld298yui07g181ocWrYQBdw4DBwx5L1nIGW2y0y4EF32HUz8MhqCMWMnTPnpJM4e3YqvV21FyoVNqGcavMjZiR3nE6BNjcGzx0yKkQMm/XgGcckGZN4+hQlNyhLQpt/E0M/SwI89+LXApdwbGN+3B6Z8+T1+H9OaT6BXncWbe3nzbGUF1ECfB6w5MiBq2898lXPPH4BM6WBTfWefILz23s+Y0UAYJYm7FMuH2w9sgwDTaIYuGZd2pAEiMWb9/C2mdAgxy1CY1+4YwBiQk3gGOyOjADTEO1PaI+bieWRkpeHm0V1464szgMwFbec/AwdOti4Tf60RdN86HS3rkK4duc3Ld5rUGx6c2sfU2LcsmvcL7fMklr7YG/bGdqdPuIJbAIIcnCHj1u1ok/HF25+B09nHDRgCVfQVHMnNRUrUeSxZ+AaKNEDIuGFo+BADeCw7GkdShWqGBFrP/yxG9Ik9gMQOnesFmTno4y5hXx6gcHRGPW9TCxeCD12/yjvCpgyD733u1PlznMLFVcS1wo1gCBnRXyJABIgAESACRIAIEIG/S0Dh4ofB4QFYkh4DbXoiVp+4headDZi8Xuijypr1w/xWblBxHdNSR35qFJIK8nlfed0wLB7TFkp+aEMEz4iR6NCxKW7vjeTDc9IzkaNMgk4rWMuTNGiJNc8IVo7t63bAujPHcNSxq80oUH7qHZhUKTc/Z2Sc/BM79SIwkRi6Vi2BX4V19LvjsgHUjv0079PlBqAvwtolZ0rdIqBl23548tlnMGlYX4T6WUYzricLd3RAi2BzGl3CRfzJTRizd8TzT7Q3+3OO9CTTrfDijQikHt6ERH7K2i2Mbt8eIp0OKi23ixF3BOHb3VswtX8b3iCBISMBvxpD2tT1MrqAM5nxvHtCZ8F0NlMV4nutYApxzKIlcJFZBsqSjm3n47rZ9YZUAqiuHMPmNEHUykXPYPUHIpSoTXPoHDB50Tf4ePbTkJtzK9+Rd/Ug+IEyDEeIq5UphuK7OMa1L7mUH4kzpU45f5B3yiRPw5PX/EwhQHbUNQBKPN8uzOJZyhWZLPywnhjQCqbxulJR6JIIEAEiQASIABEgAkTgcREQyzF//hgsGfgBZ8UM37+/FcOetkyh69u3L1z4XS3LFpBx0fjRJcDLzR4yrtNqdUidjMtIuK2LsrQw+BYBBiFBsB8n1eqQ2KH0RjvaYmHjWS5WzsVj6DvwmFWC2um8r3KkL0jHYuNstvkXMvBhKwv8sqh0iD/zJyBWoHtYU2Mww539m/lpbk5hsxHsZtt1P35WGBVRPtsZ/hIdftsubIrac9w8zBjeil+D4+bhDv/AIISEBsLOqjGkRZ4Cr7YETkYLD5NcHRIjTwBybwwPF9YhleSkIL8wH/DohemtvC2bXRlU+H3lEb6czmN6QioSIfaUYHwboUOw+qOJsJOK4ODgAt/AQAQFB8Pd2c6SviwAs8+5LYJcTJsAD5lleLTkximc1wN2sqZo4GYcfmJ6HN5ykk8rmTUETjaLhrIRHxkL2HuiXR0Ps3xbRx6i958BpB4Y18xiztw2Dl0RASJABIgAESACRIAIPD4CInj0fh59/D7A/hRAd+1bTM6xTEXqO2rw3yoa45UeTvGx9C+hs+ypZLDaoJUTmK8SJuNZhNsqVpy/Ue/io9gHNcDssYOhtuhtQlKRFHV61I5RI67C91WOClNNS69aYliDBylGnBKcjNN/ZkGkdETdMD8BJDPg+AZhVMNt+gg4WgZtAHU6tm1Zx2c/f3gXSGBAcYkwkhTe80mMHNlRkHGfv9eOCHKdR/eGl+k+q+8g8kQeJP5haOAuTAHMuxeN4nwd7IY2R6jVkA8rycW7d7hRKTlG9GzINzG1hhsu5Gb19cbosSP/9SjM1pgsXszQMZ2t4DLcOLyF95d1nAJ3hQCDGXRYlcDZsldg9lMRtma6SzIRww2Eucvh5Gg1AsVLEf6orv6BTclqyOuEoF3IQ+6RVTpyEgEiQASIABEgAkSACFQiAXkgeg98Avv/tw9AHlISBUMM8J2Kka3871sQkVQOEf/xnCE5MRNJhVqEuRoHBgzFyIwV5itxAuqE+kIqT4dgoYsh824qktQQtqwxaBGzfReEDXos2UntLH1MR78GePvTL8zGIyyxapfLWmWxqXnyDeNC//Zt0dh2uZFNPO5CnxgJzoaGXCZBqHHdDNPrsLFY2MSqeNths2UOMAN2vjEJf0QDMgd7DO/EmUWw6MCp10wbopbJxuxhmj43sqNltEQXexpnAXg4KeFkJ1gmSLl7Htwszc4NLBbtOCHqnFQwfspeBHrVdeblmnXww0eQYVHCzXnaOvKwefV3WLeFa+C2R1wmtwYoCFPbW5kGYXocOCbMF/V4urNZ8WI6LdR5nDIVgt7hQjnM0iSMj8dtASW3/kJgjqDDzlnC5rAhbs8j1N3SuM1RyEEEiAARIAJEgAgQASJQJQiM6C8YOLAuzJglz8PvAQa1XPzDoXDiNoYFkBGDjkO+QHKxFkxbjC0vtcTe68aF7gBaR9SBe0gzSOVG5Sn5GiIGfIDE3Fz89c07aD12Ad8vts7fLdBipSH97F8I+2wPVEbL0JxRgJzbV7B0yQrB4Jl1whrsvq9ydCf+Cl/t8M4N8RDdCPHHdvDQ5PVeRqCjcIf12iJkpwvGAjL3zUHfYePx3opvMOu5MZi4Yg+nxmD62nNo7MF16uXo/PxcXhnY/tNbmDZnHg7sO4DN677HzBemoGdEaxxMM63/4abPneGnzw0KFzaa5QYFb+34kbfk4Vb/OTjwa4v0iNr1Mz9c2Dqss80tTE+IgkajA7pFoKGdoBY1GPg0+NVLJb9j9OjJ+GXHPvy57Te8O38ORvbthTdPm3RtPU6/2g6jpryISe9+aCMX+lSkxqQAYfXR09GsboFTgo6mc1Y+XPF+r3o2qo5gKS8K81+YhXmvz8Hry1bbyHRQSOHmUPZXo81PxTu3uRE0d0xd9xzsTCb3bFLTBREgAkSACBABIkAEqi8B6xUHJaal6NW0OvV7T0CEddmdgjCnhzCDydrb2i1xCcD+t7ltbrjDgKxjC1DX3w91/H0xcnm0UWmxw7iVZ9DaUw6xWzB2TDJZcjYg89DbqOPmhgEvfwLORh43W8n6kHrUw/WPRgpeTIPEN/ojtH4TdO3WBc1DA+BePwKvfLYOgh1m65TVx621ml0ove+cOUt97hvl9rmjfKwBjWxuoyWllevM78Joj8+kIXA2qlvavCik3yuB0s0Lbep54dzun3Fqh2D9zsUvBK+9/B0+HxFullJ/0FuY/NR5bNx1CKuWfMKfXKBY4oR6TXsj2MmoIGiTcOtEFqR+YQj3MS40Y2rs/U4og/+IPpBzeok+C4fWCFMDQ1vYGjS4E3eF14q7tWpoNrCgDBuMX799BRPf+gqntq/lT6FwcvjWbYaJfiZLcgyZSff4IA9HX3P5OQe7dwwxhUBQqJeNQqnT5iI3+Q7g0w4961gUHbFMiVbt2uFi9J84vm45uFVP/V8zKlwGKW9WsUijQ26JFn52pvmDQpZxR9fgTlIh3J94Dq80L7XgzqZUdEEEiAARIAJEgAgQgepJQCY1zhLj1tCUMN7CsaiKfxAWiS2LdiQiq36fWyMsfDEUT62I4/t4gS1aoKGXxUSCWGpJJzcPX0gQNmMFvkwV48uVP+Nuei4/68hkWNs9sD76D3kHa6a2Bd9TFMnQdfl2zE7rjO+2nIdglowzjuaEiDbvwkW6HvsPXuINfgnrjSRoPG8T3kwch1827kZCdh5S424gNc7YXuydENagAUwrpJjYojoYrBaQVOXWVVBkKZ3Tw0Z8uNls3D6xliQWV1bybWQW6OATFApXO6sFO5YoZldByj2k5BTCPTQMnnYCtKyjX8C7+1xEDJ2Ac799h7jom4hPygIc3NGgYRj8PFwhsQyu8LIM2hKk3EtA/L0kFOgAZ2cX+Hj7w9vbyzxVDkyLxOgYqGSOCAmpAyn3SYEZkJMQh4wSLTxDw+DOmQlnOqTHxiJHL0GdevVgb2WpriQ/C3H3MuHuFwhf4/okrgDMoEd2RiLuxt1Den4xFA4O8Pbyh7ePFzycHSD8GBlU2UmIScyGk08oQnxMShOQsGwEQl7ait7jv8b+9bPMfLi1RffiY6CWOKF+cKDNyJFBXYjYqFtIzMyHg7sfwsLqwd1BDrBCPNPQCWuy/HHpViwiPE3NEkBJPLr5NsCxfA1e//0iPh3e0pwXOYgAESACRIAIEAEiUFMI3E0Gmo4EVBqgZQPgxFrwVoarcv2YVoX4+HgU6wE3L3/4e1iWTmiLchGflAamF8HBNwD+bg7mfqGhOA9xd5OgEkvhVycE7tb9b4MOOZnpSLx9G3dS0qGHBB7BIQgPrQtvN+cyfWqduggJ0TdxIyoOeqUj6jduhvDQQOSn3UN2dgFE9r6oG+xuSWfQITcjDfEJt5GQlAE9E8PFyxdBwXXg4+kFZ3thxEmvKkJ8/D1+xMrdKwjeHhblrqrekz+PAEPnCKV7awqw8MUHl/S+ytGDkz0s1IAjL4ejx9e3MfS1Ldj2+YiHJaj24br8RPQLrYOD2cDULTfwwwjL/kv/rnIGvD2qDT7YeRcHI6PQs57FYt2WL2dh5KvfAN1fROre5fDhh8r+XS6UiggQASJgQ6A4FR/P/wRpaIN3Fk+Au+2gtU1UuqidBIoLclGstpqnYoVB7ugKZ6Xly7JVEDmJwL8ikFcAhA4ECkuAYF/g2hZAaTsz7F/JpUS1h8An3wPvfC/Ud/W7DBMGlxqdKYWiYp5gujxs+VrYkNX/Cc4sd009GLKPLsPKM2pEHviVV4yUgUMwb+B/VYw4XmKENGoJbL6BkwkZZuVIl3MTX3/6DcQyV2z+ZmHtVYyYAfdOHMKxu8bNqThiYjE/bBwYGIpGjcLgbDTMUVNbH9WrChPQZ2HD6s0otvPGhLFDYSc1z4/gC800Bfhtw0Zka0WIGPg0OgaWHee/e/Mcdh85D+dWvTGunWUKckXXmhXew/yvvgLQAzM/I+WoonlXO/naWPR2DsPp+xS86Yw/cHn5k8L0nvvE+a/eBlUBcorUUDq6gluXS0fNJuDsyNDAH7hwW4TUTIBTlkg5qtn3/FHX7rTRxhwnN7zOgxUjLk7FPFXyk/CDsWadGhtNez/qmlYJeToceuVlzL9oKcymPStQ9xEZjuvdgbPkp8b5lExjBgaceOo5HE0DAl/7HoMbW1nEsxShdriYFt/PmIEPrglm3a0rLVM4wKPdUJzavwEhD54Rap2M3ETg0REw5ODT6S/gmjgQoX37o4+31bRYbt78ndMY+9x0Pr/e41ywf8OoMnnv+vZNzPjmIHp9uqFSlSPrgtCgkTUNcvMEDBre+NH9aIiCHc1ThO4X57/567BvQgNMOqZHn2m/YMMHvf6bOEpd5QlwSxqeGQ5c+ALgBixXbwHmPV/li00FrEIELt+0FCY8xOK+n6tilCPnejh/7hxUSnc0DazJY58yDPozDufi0wFuj6cG4XB/hF+xQvrPRm72VEgcTXNVxei8ez9yVHo4uDrDssTvfre3BvuLAHuj8u818S18OyQC+fmZSL1zE4uXfofUYz+j+2B7XNrxHdwV1MWrwS2halZNVheNOofg2ol4vH4wBhfHNrcpZ8z5C+brqIQfAZRSjnSZOLn5IB9nVKs25rjkIAJVgQD/6A0Ix6VLlxBhtZi8csrGoNemID0dyLW3LF6vnLwpl8dFYOJQ4N3vgax8YMl64PkxDO6uDx8BeFzlpXyrDoG1W4Fk41amUwYBrn/DhlnFKEdSOzRpUzte6ErvELTx/htq6L9pJ2IZXNzcbFJKlQ5wfUQjUzaCq/GFfa9xGDmysbEGDBNbuSLoqfdx98ph3M4qgbu/o03t9DoNNGotmEgChVIBibWdUM5QpsEAiMTCHmrWKZkB3ObUIpEYpQ3lMIMBBojKyLJOTu7aRECMfk1T/doGAAAgAElEQVSb4rcT8bj04VbkjW4OF/PMOoar53ebYSRGJyHVAPiawwHtneNYz29dYY9mzYPMcU0OpteiRKUBgwgypRJyiVViYyTO1g53ctNNuf8alQp6iGFvV+qDlUGPEpUKBiaGnb3ygV/9eTnqEuj0gEQmh0IufWB8U3npf00kwHVMH9Y5ZVDnZeDKpQuIvZsBtR7w9KuL5u0iEOReaoRJr0HqvTu4fisWGRnZUBkk8PT1QdM2HRDiITzDdflpOH7xGk4lCDwzb17E4cPCZ8LAiI6o76rAlTPHkF4gRfteHc3Wc/nY6hwcPHYOYlkIOncLh4yz5cQMuHzmFLIM9ujVoTkunTiIm3dSIfMORL9e3eDKf1hjUOdn4fqVC4iKS4NKD7h7B6Fpu1YI9XK23by9Jt7mKlInezugbweGX/aKkFcC7DwMTBpWRQpHxaiyBHLzgTnClqDg7EnMf4ghBnNFOGt1dBCBakfAoGIfNQ/nLC2y4B+v2xY/7xTvD4c6bH9MpiUs7y5bMncwc3F2Zk5OTvzpFdqQ/X4rwxIneitzcXFhjbv3Y8VavcWfMTb3mYHMxaUuW3en0MZfE/sXn8bF5TWWbZvEJh5d1C4CGYe/FtohpOx0msqq8mlsglRkDOO2YhOxdy/btqkznwwVwhssZPkGg1Vaxk79vJi5uFjasKu7F3vzpwNMZxOLsZwzy/h2+frGK+zI4hnMmW/zzqzZplhzzKK0q6xFeJD59+AyaBqLijtrLFsPdkdtjspYURr7eNoA5uws/Hacnb3ZhI83sgJq81aQaoFTdZ215TYXDGjALqUXP7DC+UnnWD0/ZyYR8VsOGtuVmCm9mrIjGSU2aaeN7MHslXKr34WQRukQzvYlCXGzDy0pE869A7hz+M44Xl6/iAAGBLHdBTbimSH+Tz6eg8s4lmn8sRh0Kta9TRhDg55s65cTmEQs/C6lHv7sdJLwmyzOvsmah7gxidi6DiKmcAlkv15Ls82EriqUwKmLBiZrzfgzoCdjBUW2z8YKzZyEV0sC3/4itBeu3Qx4kTFd6RflfWpV9nOjWW0iBxGongTSL54Et5e02FkJNydhmK04+Tr8g8Lw6uc7odG5oWOndnCyEyMj7hZGNAzDhjPC3lXwa4BQbR5uXLiNuCLr3eayEfnnfuTl3cHra07AejLHiTUbkZeXh7xw79o91bF6NpcKK7Vnm35oz0vX4WyksX1xqwijz2G9juunzcKP04byfbt3l/0FjVVJ1hwQdrDosWgSnIzDlHpNAd4b3wkdx81BXl4BfILqw9fdGbnZGfjkmd5oMWkRiq1kMJ0aeeI8bP5sKrrP+Rb5BQUoKMiH2LiLYvLp39HapzmuRN9FgUGGAHcF8nb9gC6t+ltJMTmLMLtfV8z74U/k+4bhiT494SdLx/p5Y7HqmmlNpCku/a8VBB4ycGTIicbwXm1xOyUfHUbMwK6jp3H15EHMeDICqoxIdG/eH5H5Jot3xbh98jAcmw/Aos9/xJFjx/DHr9+jn1IOVVE0FsxdBK2BwSG8J774/GOMrScQDu/yHD777DP+nNzUaNGV+2mBldrmUvAz3ZcyHZ97hzD8lfXQt3wCC99/Hy+MHQZnhRgs/y5GdGmEq/E5aNL7WWw7dBJXTx3Gq093hzovEWN6D8HFPOv3hCkH+l8RBNq1ACYPECSn5wPPLRDxo9gVkRfJrP4Ejp1nWPCNUA/OPtdHMxkkf3eVxX2UJvImAlWbgNXIUcC7e1hcfDyLjbnF9m5dwwI8HPkvhJ1GfsAKjF8JChMjWZ/O7dn8dQdYkemrYWESe6sR95URrN/cT831ndavEe83bp/wJZIL0NzYwPvZ8V8pe7J4leVz+YSBrRkgZ+MPWOKbhZGjFhPQs59eaMy3m1EfbzBzuPjl07yf+2dnWc7h73g3EMFii0xtSs16NHBjUDZmZ80f5vUs6qdJQht092L/O5MgjBTpNez6jqXM2V744j5x9x1mkpJ94gujbDBFi57sr+gklhx1hR2/k8MY07K3Rzbjw30ajWE3MouZQadhh1aMY36uCmM6y8iRIeYX3s85tANLLdLwddGpCtnPH81jl1OLzHUjRy0gYBo5UrqxKa/MZwsWLLA632PHM7U8hH1fPCe0o+BnWaL1CKQqkY3ztefDPtpmGfVPTEgsM/qpu/k/Zs/NDug2iBVpTaMEGrZriDCKM/D9vWWA92vBPdPrsANlRo5283lyI0fZpneAaeQIYBKPZuxsim2is+vfEepQZxyLtR78VaezFwOF98wbGy6VKQN5VByBhCQD8+4ujCApWjP21VrGtEKTq7hMSXK1I5CayVjjYZZRo/eW/7MqcHPR6SAC1Y+AlXIkEsmYUqlkCrllSsaA175nJVbT4gwGA9PqdMz0ejVVOOHkWuYIsGYvvG/yYjtfEjqh6LGECd0+PTs5x4t/SYrtwCAGWxNpmq6Xybr7iRi8W7LofOu3p1kcOWoxgcvbFzMpwMT9X2Wm9/fUp7oxwJ19l6pnTBXL+hinBW25li6Qyj3GfEVgzt1GWNpr3h1mLxU6hGOXHbUhajDo2Lpu7fj26eg5ieUYO35m5citI7um0lpkcalTj7BQbpqQvQc7FGtqy1yAgd3Y9pXQIYSVchS5jvfzCYtg2SpjBjaloItaQ8CkHBnbLT9MY+VeeC2fR/HyhF58m3lu180yaH5/vTsfNv2TP8qE2Xhor7GGABM178lyzO3OSjl661EpR25sya0i298IY2zJG6P4co7feNqmWNzFuc8GCmHzNpYJI4+KI8C9y09eNDBlG6HjK2/N2NI1FZcfSa5+BFLSGfPpaVGMmgxmrLikdO/vwfWqGIMM1X80jmpQjQg4th6OZzt448ahv7D/eixf8s7tWkFptbcMZwpUKpFArynG3dsxuJ2YBJXagKTIY1ADuJZeYK5xt2efBL5eCxz+AhfTZ6CLSyHm/1AMODXFqP4e+HXTEVw6cwWTmvSC5upWnElhCO3eGAHWO1mbpZGjNhOo16wDlAoJCv/aglN5n6GriwEZt68CgWEY48NN7gnBsPFh2L8hBicuXMWIpr1xb+typDKgb9N+5uXumtwMFPMzkHwxcnhbG6QikQRDPxgLdDsLrXo7skp0cHW0PNoHjJ6IpqWtaOalIs4AODjbI8TH2nSPCA07dbaRz12IgtujfSBwJuYyOg8YjimT/g8TR/eGt70lnzKJyKNmE3ANwvqNG9HAw2I3lTEpQsOFPbuKspL5+q8e1BF7Amz38crPF6aNiqyMguvzU7Hpf8ux8+Q13EtNR7FKC4M6Bbc4KZwaUqGHJ1rVsTf/3kxZFSTf4Z0bxvbD4Tm2hn2Kikx1sJ4Qa0pJ/yuKAPcu79gSeGc6sHCl0DTe/Abgtjz88GUGpfxhRkIqqmQktyoQOHqOYdYnImTnC6WpFwDsXwXYKf9Zu6A3W1W4m1SG/0TAffYifDU+HDAUY8vcjhi35CoWvDkHo588iDClMLuc6TU4tvVHvPLqG7h4L++B+Tk17Y5nPICfspJx5GQsWrVU4YJGDYcn+uKTl9tg2+YjWHvkBL54tiv2fDQHKgANBk2DUvrPfnwPLAQF1ggCjv7hqKtQ4qo6ASsOxaNLn1xcvZyL0B6h/Lo4QILwPk8DG97HkmOX8enE9lj17ka+7o1HDzIz0JWUGN1BaORR1lylo5dlzzNJKVOKdpKym31lRF3h5dnL2sFVWWoSNjOY8zU7HMOw4cevMXrWElw5vAOvHdqBBbM9sWD5Rrw0uiecZGVWcZiTkqOGEnCwQ5NWEYjwst3Dy1xbraDR1Bk0DCPqWyvgQgxpXh4i+hs3idfmYljfnth55hYcAuujaZAP7O0dIFL4QIkk/hlrllshDj1E5TR7aIQ6BPQdiJGNLL8xUxEkBQVoMKyT6ZL+VyKBedPAWwpc+AOgNwDLfgX2HRdh+dtA+xaA3KKzV2KpKKvHRSAtk2HVZuCzNSIYl9WiUTDw+5eAr9c/LxUpR/+cGaWoagS0xkW9YnsMe28/wrY0xvU7RzD+qzM480ZH/mtgwsn1GDD6RRQzhr7vr8KySf3h7mCHlHOb0GHgCzYL2SH1xKg5I/DT/N9x9PQ+POWghFqlw6i27eBfPwIKOzmyN+zD5WVTMHW3sBh38rgOZNK1qrWLqlAehTtWzayLdh9dQ+La3chmtxEH4InGo82la9u6o+D+aTeiPhiAD3kzxZ0xrYO/OY7BYFr0XYxCzllKPzJAUIAYA79w3ZzwPg5nf2H7AZXuHIo0BrhKSylI5aSr12cmzlyZisQbJ/HspCk4fC0BCyb0RXHOUXw4s+xoUzkiyKsWEbD34TaAj0K/6a9i6ZBmD6y57voa7DpzC3b1IhB94QR8nJQQc0q++jIa2bVC1ANTlw7kfiCOMJRu0pJ/3lt2CuJ+JxfRa/IMLB3XpXRGdP2YCcydAjSpD4ybB6h0wK0koN//ge8Ur1gAtG3GwI000VFzCajVDB+uEOHrTSIUc9OAjEerusCu7wEPzjrXvzhIOfoX0ChJ1SUgcXDH8qc6oseSHYhetQAJ//cXQhxlSDi9g1eMuk7/HHvenmKugMrTFaXfodzeHU26PQWl+HfsPXUJR5Qq3pJYs/ZtIPf0xowAOT6JOYalv+1CkVoFRDyPgQGl9o4x50CO2k1AjFZTF8DlozFIuLsBG1dF8jgiJlq+NrvUbYpGAG7qD2Lpz1t5S4gBE4cgXGF5qdt7+hgxRmLLqXi062u1txoz4MiydXy4TDIY7nYPf6zL3dz5+CUqLXKK1AiwtzfKBzLihKmpZg+zQwSp3A4hEb1x4Oxl/PTOJEz5fAdO3jsOgJQjMyZy8ASaOwrW41a9vRjv9/0Rfg+Y1pJy5jg/c66eXx94OdtDYmz62ZHnkF6GpxhOPlz7j4cmo6ylRLkjtzdgPD7YfQd9nqrLp9Zr8rDw1TfKSHqYR30XTsED1n20HO8P64wQ087jD0tI4ZVCQCwGBvcE9qxgeGuZCMevgrded+0O0OU5oEEdESIaMTStKwI3vcrZEVDSq7pS7k1FZMKNEBaVAKmZwK0E4FoMcO66CIXc9B3j4WwHzB4PzH2WQWH1DjWF/93/D3+L/l1JFI8IVAUCIgm6z18I7xU7kB57Cbuu3MP/da4LTaFg5FgqEoP7rsh9QyzJTsS6FctgWW1kqUBAw/bwsFMg6ehavHCU83dHj9ZB3M6XeHnBeHwyeSXWT5vOJ3h6TBc4W5KSiwjYEJCEDkb7+krsvXsGMy8AsOuCCS2EThcXUeTgi2WjvNBnUwZWzVnAp53cvyOsH85i91B8Ws8Vb9zOxeZ3X8DMdlsR6MrZTtQj685lzNx+DIACzVcvhId1QpuSWC5EdXtgnIcSP2dl4KNVB7DqtUHgdKr0mCOY/Nzzloi8iyE3ch8uqvzRKaIJP31UrHBEsxbNIMcOiCt8PUip4tBltSAw/tVpWLRyCxKursHYSV744JVJCPRzQFFGOm5cOo5Fs77DD0k30MFTDq+WvSDHZkRGbcave8eheyM3xBz/A4OffRWmCaWWSkvQoFt74Id4XDn6OQ5fbgpV7FVI2wxGnxAXDKrrhx0nonBkZD2s2HQYbX1KsOa1AfjmLGx+UxZ593f1mzgRoQuWI+76Rgx/0glfvjsTwXUcUZKdhZjIs/h4znJ8EnkZPXzKTl29v1QKedQEOrYU4a+VwOrNwPJNQMw98Bu2R90Dou6J8OujzpDkVTkCLg5Al+YMn7wCNKjLfV2xfFz8N4WlieL/hhqlqdoEPFrh2RHcl+wczP58Kz/qE9ptKD8T6dCqN9G48QtYtfgdNA0Kx/wfT5RbF6l7IBY1svrE1Oc9NHMXpmX4jpyBMKtUPbv3sLoiJxEoTcAefs1aAxlG/6E90MxmmYYUPRcusknUpnUTm2tIHDHz6DaEA7hzai/C6/hjyNjnMLB7e4Q07YibSbmo03c0jgyzbpm2ImyvPDDi5ckAdPhl/giEt2qPgW3cUbdZH+y5UcD/Viwz9/Q4++FUPNGxFYLr18PCL5Zgaveu6P7Mx/xvq2urfrai6arGE7CavXLfuirDn8Cxwz/CVQoc3fQFunduhUaNGqNlh84Y8/xcRGpuQ2fswCjbTMPQLuFARjwm9m+H8AYN8cT4l1GiaQvL5FJLVl5jF4EzS5Jx6xJ6tmmFgaMm4JsoYS3p1K+WoZsx6oxRvdChx0B8c1aKF975FL2M/uUtLyqvTvKgdjh9fjN8FcDlgz+gZ7fWaNSwMSLadcSwyTNxJvOmlUkJS/nIVfkEuDVGLzwNnN8InF7L0K81zCOQlV8ayrGyCLjbAV+8BNzexbDla5Ni9N9z/xvfGP97JiSBCDx6ApavAg6K0hPjRJg46Cl8uuEEdNv3Ilk7B3W7TMJnb0Xi86UrEHtzJaa9BviEt8bbk57Dio9fgVhZ6qcgUmDkkgV4qdvrKIQcz73SH+YZFfaN0aJDIGJOJwJohy7NfB999UhijSIwu09XrNkqKOJT2rUv801L3GgU2vrOxbnUAqDeQLQNLjtR2t6vK7b9vhYLl32OTYeuYeevP/KMxBIZxr/0Ft5aMB+2dhGMbVpUqm0byY6Yswgf5Krw2bcbkBR5HpztLa/2A7Hy7ZdwYHB//ARA6ERK0GbOBxiZ+DF+O34L78+dw0tQOofj5bkfY/bIFjXqXlFlHkJA6o95iz9DsoMXAp0etI5HjDrdJ+FOTFts27ELt5NzoDUYoHR0hp9/BJ54shvqeRrTi6VY/8dhjN+8AWfjM6GHFL7B4RjzzHhc+P0nxOtcYW9tfVQahi2X9uPnnceRV6yDvasLRrUXnsMSt6bYnhCJH3/ZivScAsiUjmjSfzSGtfPHDidggLI1HEyvD5EU//fymxiUIkITy9cAKwAieLcegZvRN7Bz505EJeZAo9dDYe8IL+9meGJINzSkUSMrXo/fqZADEY1E2LESyMxhuHVbhIQUICmToahYBBUZF3z8N+lflkAiBuyVDC7OQKivCHWDgPBgBilvDMv0o/6XwkslE3GWvkv50SURqCYE9NBodJDLrUZ4rEquV6uhFYuhlFle4DpVMZLT02CQ2MHP1xecXqXRaCCSSCHjfnmlDk6GRiTIsFnXadBBozNALJNBahNQSgBdEgEjAZ1OBbVBBDu5olzjHQatFnqdDjI7m2GlcvgZoMrNRlpOASCxg0eALxxLfx/grB8zBrVKC7lCDm5u/v0OfXEuktNzIJI5ws/PExKxCMyghUYvgcJW24I6PwcZ2bmAwgHe3t6Ql5Pv/fIhfyJABIgAESAC1YEAKUfV4S5RGYkAESACRIAIEAEiQASIABGocAIP+J5Y4XlTBkSACBABIkAEiAARIAJEgAgQgSpDgJSjKnMrqCBEgAgQASJABIgAESACRIAIPE4CpBw9TvqUNxEgAkSACBABIkAEiAARIAJVhgApR1XmVlBBiAARIAJEgAgQASJABIgAEXicBEg5epz0KW8iQASIABEgAkSACBABIkAEqgwBUo6qzK2gghABIkAEiAARIAJEgAgQASLwOAmQcvQ46VPeRIAIEAEiQASIABEgAkSACFQZAqQcVZlbQQUhAkSACBABIkAEiAARIAJE4HESIOXocdKnvIkAESACRIAIEAEiQASIABGoMgRIOaoyt4IKQgSIABEgAkSACBABIkAEiMDjJEDK0eOkT3k/EgK6knxkZWVCpdU/EnkPE2JQFfL5Fap0D4tK4USACBABIvBICRiQsud7fPrxR9hx6t4jlUzCiAARIAIcAVKOqB1UcwIarBsUgODgECz68XIl1EWHfRMb8vkNm/0XDJWQI2VBBIgAESACJgJ6XFz+PN6c/xZWHLhp8qT/RIAIEIFHRkD6yCSRICLwuAhIClFUBOicRJVSApGMy68IKo/Kya9SKkWZEAEiQAT+JgGm10NnMEAqk6HsU5BBq9VBLJZAIrH9/qovKUJ6di6YWA4vX0/IRGVTm4pg0GmQnZkNJpHB0c0NdlKLrJISYyztgz9PMZ0KGZnZ0OgY7F3d4O5obxJv81+v1UIik/F+xXlZyCnSwcvbC3LrPAtykJVXDIW9M9zcnUCdJxuEdEEEahQBy9OmRlWLKlMbCGjSorFt23acSBBqG3XqALZt28af8fkaMwJtUS7OH9yCVStW4Ouvl+F/azfhXGwKrCfFJV0+i99+24St5+7AZnKeJg97N2/Gb1u2IDUtkc9vf7SWl5159Ti2G/OLzFSZ8yMHESACRKAmE3htZAvI5W54Y/f1MtVMOLIG7nI5wqYvNIcVJF/HJ7NGwMnFEf6BgQjw94Zc3ATzftiJgtL6ja4Qm76ahxb+Cnj5+cHb2xNu/sGYu/Qn3N6/EiKRHKP2C6L/fH8ARCIRf75wMNGcnzo3GWs+n48gX2/4+AWgTp1AeDg5oOWgKdh+KcnmGc/itkMql8Nl6gb89vFMOLh6IjDAF65vrOXlqTJisWBiX9g7u/NyvD2cEdq0H35LKDTnRw4iQARqGAFGBxGopgTSN89kAMo93zuTYqxVPpvaqw6TSWzjyZQObN668+aaH5w1WZAjs2O77xaZ/c8vnsnEfB5h7NhfK8rNiyvD8J1x5jTkIAJEgAjUZALfzh7LPwslfT5mxaUq+sv0UD5szMLVxhAVG99BYX52vvjOR2zmqH7CtUjKer+xh+nNMlTst94BTCISntf+7YexnvWCzWk/eedls7v0s3/oXwlGKWr2/hBLmqB6XdnEob0t6Rw82e5b6eYcDXe2MbiBQWbHxGKROZ5o1irGWDFb2txO8AtuzN5Z/AWb1MGbvw7+6YZZBjmIABGoWQRQs6pDtalNBFR3z7BVPyxno+oKL9Inxs9n33//PX9eyChhBlUee3FQXf5F5h0xmm09eJLdirzMvnrnBWYvBYNTCNuYWMIjMxQksQltXPm4DZ/7TMBYFM06BXB+HuzN0/eYJj2a/fDDCjatuZKPV7fTC2ylMb99iYW1CT3VlQgQgVpMIP3kav4ZyD0bNyVYPibpsyJZfeMHq1UXUhljenb9iyf5uAGNxrAbGUZVSq9h17cvZL4As6vbkmWXaHmaWTcOMAeZmAGubP7aY0ynN/AyUq6dZPNGD2Cbzycwna6Ebe4vPPP7v7WL6XQ6/jQpWNEbLArUT0evMB0n2WBghSlRbGyPcL4sQVO/ZMKTnzFeOTJ9ZOs6jh2OS2eq/BwWn5bDDJlXjfVsyPYkW57xSbcus8uplnrX4qZAVScCNZIAKUc18rbWpkqp2eo+wovy9fUXbCqefPkP5mMPBu/O7Ir1501dCfuyV2P+pdf0hd+Zjnv/MsYSjm9ibnIp7//B/ij22TAn3h0+/EWmMkViWrbnaRfev/PrO62+eNpkTRdEgAgQgZpLQJ3OxvkJz90Xv9pnrueN9Yv4ZyMCJrNULWMGVRYLDvDk/cbvTzLHMzkmda3DAD+216hoHPzfbD6ux/iFpijl/NewXUOEvAe+tbdM+NBeLXkZ3vP2C4qRVYzbW78TyoeG7Gw+rzaZlSOx3If9eSvDKjZjLPOaMT7Yp9uOMZVJA7ONRVdEgAjUMAK05qiGTZOs1dURlgKZEaTGnEZaMdBheA80tzN7AxIlJrzQg/coPnEMau71B6BOxyfx7WBf3r1wYARe31YAoCVWr/4ackk5C4fVQjr6SwSIABGoVQTknpj53jN8lVcd32mu+m9Hj/LuUZ/PhLcUMGhUMOiEB/OBZ8Zg8ODBNueeW0kANCjWCg/h7Ftn+PTjOnc2y/ynDnV2BgBvfDSjGySlEgd36mT0uYWYbNsHuJ3dk2hX38M2hXs41j0leM0b2Qv16o/DkTtZtnHoiggQgRpHgJSjGndLqUImApkxF3nn6ZWL4evra3OGTf/OGK3EbG1JJFZg7LpT6FIP0GsEc0jPvbsAnV2l5jgm2fSfCBABIlB7CYjQqMc0hDhLoN29FydzDYA2GSe3HgFc6uDNHg35Z6ZerQYzKkd5ogzExsbanK7uYagbFgJPR6ErwvRKHqmdqLRa8/dJM8YpWgqEugrW56xTirkZe8bDTlw6j2KISj/pRXKMWZuKHxbNQl17LZLifkGPep5o2n0UjqbYKlcmufSfCBCB6k+ArFFW/3tINbgfAbUw2uMV0QZTB3UvE0tcUoKSrk9DbvWJQKcqhM7K8Ny9vCx+LyOrKGXkkAcRIAJEoLYRcAlujIjAOoi/cRNz11/AttBt2JuhQUDjCNT3cuBxSGRyiCRCN2PF8cuYHCQoP/djxeSCrdBsFTdq/+8OEf+wLsDVDA16OcpthGhLTFZMXSD6m70fmb0Ppi74GhNnv4Ndq5di4UdLEXl0M0a2d0H0nR/gKi1nVoFNrnRBBIhAdSPwNx8P1a1aVF4iAHg2bg7gT9Rv2wUffPDBw5EYCvFplwE4zc30MB77vp6J1S+Mw9Rw4WVv8qf/RIAIEIHaTEAkd8HiuX2x7dnvkbRiGVYUH+BxeM79GE5GhUEsV0AsFboZGw7EYPKzzR6IzKN+BICj+OnQWfwwe+h94jJo8oxB1tOljV4KV25qXBJeX3wIL33Tz2an+6iDR4yx2qKhh+I+8sv3Vjh6YvisRRg4qC3s6g+DRr8PKp0BkJYegSo/PfkSASJQfQjQB/Hqc6+opOUSkMDJN5gPKcnKtYnh5tsQrgBObd+DC9y0j4cc13b/Dx/GJgDBHXE2Ixdv93Hi5tfhzVFTUKg17X4khrNfXV6SNjkV/AyOh8ilYCJABIhAzSMgQt1Rr6KlE5BwYx0WxicDHs2xdnRj8+Q0kZ0btj/Ti6/6mTfGY8uFBH4kXmChR/yVw1j83vfQGoTpbs3aDIS9TAzdH0sx7o2NUBsM3MIlXNq+Bk809sDyo3EA5Gg+XJAZv28jL6owJw2ZRcKo0HtDhfVK2uX9sXjzcXArnhgzIPnSDjz7/icAxBix4srA/+oAACAASURBVHU0tB1UKvf2ZF3ZiQnTZ+JWRhEfLoIBCWfPwAUQ6sho1KhccORJBKo7gRpmYIKqUwsJXPhqGPdmZcGdB7A/Dh9j61d+zU4lFTBdQSobWd+PD/Pw78HW/XaQXb1+nV06c4L99r9vWP8mLdm3UYI5VlXGFTbAaM71/1b+KVDMv8aaeznw6Sf9dIEJxmYZy9w0jfdzqVOfbTx4nG1e/R37IyanFpKnKhMBIlDbCbw7rhP/POSewU0mLigHRyZ7sWGgOU5Yk15szKghLEwq4f0CW3dhxSZroLpC9tmTXZnMZFobAczTU7AOysn/8biwn5zmxlrmZorTpC1zAdjQXca95vQZ7M3mDcz5efs3ZV1bWa7rdhvC4nLV5nKaTHk7uIxjWYIBO3NY/B9fmOV0GDyMje7dhcn5fB3ZkI+OlrGGZ05IDiJABKo1ATLlXa1vHxWeI5Abc4j5m16UEsEU98JzadzmFkydeon19BDMvgISplAomFwmxOFetkujBeXojelDjS/BiSxRY7HXumfmJMFfomRb4/J44AZtLGtrlZ+IezGbNyCke0IEiAARqD0Eond8ZlYg3thR/saompIs9uv704T95UzPToBFdH+e7b92lxkMxv0UuKe2Ts12f/O6WSb3nPaq159tu3KXafl9jzi2erb702ds4qy5lWuGri3OYfu/fZN5Opqe/cL/V5duYkUaWw3IcGcXL8fRZTrLsQ1iem0e2/H168xdYS0nhC36/STTmMtizpYcRIAI1BACIq4e1X30i8pfywkwPeIvHMTu41eRr2ZwdHfHyPGT4GsvzHUvyU3FsX27EXknA8VaLaR2DvBwD0Onnm3RJMSHh3firy2IvJuFpv2fQucgizlXQ1EafvplO9RMhO5PTURjd2FBccrNU9ix/wyyizSwd3XDk+OeQahzWetItfzOUPWJABGoBQQMOh0YxJBIHzxT36BRo6C4hJ9ap7RzgFIhM0/BK41Jr1GhoKgEYpkCDvb2kJQjWltSjGKNHgoHeyjLWfuj16hRVFwMPRND6egIO1n564P0Oj1EYgnE5eTBlcugVaOoRAW9QQQHJ0fIyitM6QrQNREgAtWWAClH1fbWUcGJABEgAkSACBABIkAEiAAReJQE7vOd5FFmQbKIABEgAkSACBABIkAEiAARIAJVnwApR1X/HlEJiQARIAJEgAgQASJABIgAEagEAqQcVQJkyoIIEAEiQASIABEgAkSACBCBqk+AlKOqf4+ohESACBABIkAEiAARIAJEgAhUAgFSjioBMmVBBIgAESACRIAIEAEiQASIQNUnQMpR1b9HVEIiQASIABEgAkSACBABIkAEKoEAKUeVAJmyIAJEgAgQASJABIgAESACRKDqEyDlqOrfIyohESACRIAIEAEiQASIABEgApVAgJSjSoBMWRABIkAEiAARIAJEgAgQASJQ9QmQclT17xGVkAgQASJABIgAESACRIAIEIFKIEDKUSVApiyIABEgAkSACBABIkAEiAARqPoESDmq+veISkgEiAARIAJEgAgQASJABIhAJRAg5agSIFMWRIAIEAEiQASIABEgAkSACFR9AqQcVf17RCUkAkSACBABIkAEiAARIAJEoBIIkHJUCZApCyJABIgAESACRIAIEAEiQASqPoFHphypozfipUHd0bZjR/R8Yx+SK63uKTj86VT07NgRbbuPxTeR6krLuVIyytqFlzrOxo6sSsmt0jO5trQj2i6NrPR8uQwfZ96PpcK1PtMa/qyo9feXABABIkAEiAAR+O8E/p5yxHfQu2Px/fqw6otYMu1XBL+9E+dOHcYf7z8B//9etr8lIXnr25ibMgg/Hj6Fc3t/wLSmGpxc+jZ+if6XSlLWEXz89lbE/63cq3ukSCzmlEqrs+fYGZi/8SIyraqWeeRTzN9aOUQqMy+rKpKzFhAo+6xQ1IJaUxWJABEgAkSACBCBf0LgbylHyUe3It7XHb/vuohyVY6Yo/gdT6BvBycACjhxfY6CI5g/e5dNJ/ufFOzvxc3ChSPX0XFQN4RweSqcoEAhUiKPIjpFYxERvRZDyhmdiFo7vKzCl5KAvacTkFVuRS0iK8R1n3JWSF5WQkd8uRcH9wrnhgVPQLHt/zB09j7zvUtJ2I9TCdnl33srOY/CWZl5PYrykoxSBB5TGy5VinIuy3tWlBONvIgAESACRIAIEIFaTeBvKEfR2Ls2Bt2nTkXrbftw4X5KQ8tg+FmhLDi9G/usrivSGeznYSXeD0+tOoKF3TlFTTiiTm9FiunC/D8ap7ammq/MjqaTcGjfbLR+DB+Vyy+nuWQV5pA7OsHJSTj9mw7Hwk9eRsiZdThiHCxqNmkfDs1u9f/snQdYFEcbx/8Hx9GLgChYwIYFbNjAAvZYE7um2DWJGhWN0RhLYo2aRNEYzRdjbEnURLGXqFGxISqgggWwUJTe5Ch3x93N9+zulb3jQFCRkrnngZudnX3nnd/M7s27M/MO3gaSt5lXuQH9DwuuqDZcWuS6z4rSXkXTUQKUACVACVAClMB/hcDLjaPo6wjEZAwa6I0+nQ4j8JKYx4aZw78AI+bsB0JWoj87PWsd/g4Yh35LL/HifHRGaNLDdmPemD7c+qQxC7AzjL+gJgPH/Ln0TLpP+jDTvpbgIj9bZmAqch++mjIOa0KAfVO5qWGzTjByuOu5cBKOTe+Dj7YmA/unqqaP+ePY/RP4pM94/JSsvbaDepQrMgAdfAIQoS4lc+x/AolJ1/GD/0B0Ydc2DcSs3bpTz4AknFk7Bf38dKepdegzBnuLm46ozgPF6KmDJRJ7F4zh1lb59MHEtScQq2+oiqNxTK2D30DDaTR5lhBwc4cnYhCby6XRX5vDHM86EYvYE2sxUb3ObMoSHDQwlVEcfQLfTuG4dRk4Bd+eiC1xBMpwXklIvB6gWdPWZaC/Xpvh9Cy5XRVX3ly9cqzFsSJggdLI5qfp4DcQH669Dk2z5deNjx/6TSmaD1P2Tw5FInT3Aoxg270PeoxZgL3RYp38O/QxzPFlrNPDmHtG1YZ9+mDE9CUGy6ohJY7E3iXTNbqw9RdU9DUDl76ENqy6h9KlsTi2Yhx7D727O5q7TBqLiwEL8KGqHTH3y7x90bw2onoehIkRcWgJJqq5FOGXgdB9SzTtkZHzyRLuHin+WcGpoFNvTP7693ax+qt0C+Ldd6q6vZgk1mlXr9Zmi38WSsMC0MNnDPa+ndmumiZBA5QAJUAJUAKUQLUnQEr8SMitNb5k8K4oNlXOmfmk/fwzJEf/mogNpP3s4ySNF592fHaROOZ0zsXFpLPvbHIgKp1IiISkRewiE3xHkx8jJKqr08nR2d7k8zVryIT5e8ndxBySk6M+x8uADXJpv4/gx3NxM4+nayLvbvAm7TfoJCKERJDvvb2J7rVM9AbS3nsDuau+mj0eQgZPXkOuJuYQiURCchKDyerR3mRCYKIqlYTc3TCEDF5zUcMg7eIaMth3DblVnOpq+bxvg3qmHyczvX1J595qZoRI0qPIgdm+pPOaUKIVH0V2jPYmw9cEk+dMpOQp+Wf5aNJ59hmNTrysVMFiGDwNJB94zyZHVQj19WKOO/ceQD7+KZQ8z5EQiSSdPAycTTp7TyYHnvJyidpFhnuPJquDE1k9JU/PkG9G+5KZZ4qvG0N5tR8yhExgysXmlUOeB68hw5m81PhL1a54eqmCbF6+vblysMx4snnleHmbJSTtzGzS2Xcy+TE0keTk5JCc9KfkVpSqnJII8qO6bnTKwG/3hLD6ePuSCWquOYnkwpohpL2vL+k8Wtv+0kI3kOHeQ8gO7rbkSvMy1omBZIL3bPIne98RIslJJ09Dg8nDIjczj1NOBDl6PILlTojEIHdeajaoX39sJHMPjV1DVs+fTL4/85SkMXw0DfcpuRAYTJ6mcxE5UYFkpq8vWR2qTpDOPg8GDxlNZgZGkTR+e+PdX88DJ5P2s/eSh6wcCcc/OIr3rOLk6N/vXL1x91YOc2+r7y3+fVOs/pzM9t6jyTfHo0iaRMLem3/O9mbrrPvsQPIwnXlm5JCnx5n7Yz75h8f75e2Kk2/oWZhzcTnp7O1LftR/rOlXCD2mBCgBSoASoAQogTIRKHnkSHoPZ07aY5i3O2skWnv3ht+l/ThT3Mvjl5qS0TgYcA4+i1dguLsDTGEKR89x+HKyFLv2896yAwgKd8aXa8egpTMz3ettTOgqWflh8xegs7M1TE1NYe3sjfFj2yIySD16FIOgQ8nwG+gHR5UYR7+B8JMdxsWYkuWW7qwMPvPVzABTB3cMHzcUssOXoHr/DnHQHvwknYZVC7zhwq6/ckNf/8nwCdmC4+pEL81MCnFSGDavDEDskDHoy5+tqHetzGo05k73gou1KUxNHdB06Ap87XsP6w+rh8nEuLhnK2TTlmOhtzM7Jc/UrQ/mTvZG8JYTiNKTV/LhUHzJlIvNyxou3uMwvu09BGlGHEvfrorkYz+WKwfLjJHtj7lD+OUojexoHN8SAp/FG/CZlzM3RdHBDe3cOYDi6/uxSzQb3+uUYQG+ny3Crj2XtKNLjHJNpuFrNVdrZ3QfPQ7uMmDYYm37c/SajM96JyMsRj20WArWGXGIrO0FL/a+Y5bnOcDNyxtNtbNPi6CBtScGD/RkuTNrCTXcI9X5Fr2k2JiYkxAP2IDP+7jBkZnCqbml3dB9qDfcHLgIa/ehGD9UhuPXdW+cJPfJWDXUHY6a9jYOw3j3V0bcPTh7eaEpK8cU1gx/b3eUVDyAq7e+a9eyzyNr5t5m7q21a9FX/74pVn8AA/zx5UB3OJqasvfmsDFDAFlbzF0yFE0dmGeGNdwGTsfU2pcQEacmVJp2xaU19Cy09luCq8FB+MxTLY9+UwKUACVACVAClMCbIFCicSS+fgiBruPQnbONAGtvDOp9D4HXX3EuR0YMwpLbws9Tt8vi4uoJXLqn4yHOfbQvmr6JEr4RGX5oqWagkieCSEeylOf/QXtC9IbW6RRlppc9YsPPAX6eusysXeFZOxlhcSV3ZtXTEjv4dEfPcVuQ2HsDjizwLll3/bxgDS/fTpDFxqkcOcQhlFVJF5y1qweck8PwEpW0CJlQkbxE0Cl/GdqVrmBDsk3h7skrR2lks2k6wc9Lt12r82LrxssTbuoI1bebpxfb7nVsVy933XTWIjigLdz5C/pgDQcdw7UUrJv0xgzr7fh0egCORSbxpq3pKVXioYq7wbZe4oWMBYFBrMOWl6Xjqlaml4eXr6eeoaN7/7n3ngbr7TPwScAJRCTpzzctJk9VvXk10VhqXELTJvDqlIzgGP5boOL19/Jy1blXTK0YeW5w06kjBzi48vQoTbtSJa9cz0JeGWiQEqAEKAFKgBKohgSExZdJjOCT54CYcxjps043WeQlRA110+2I66YwfJQUh1CEI3iYD5YXSTFaJ8ZBZLijqZPoLR7odsX0M26C7kNEWHYuDB97erGdOHHYOQS5TsZ3b+TNrp4xoJ89MpDE2KshM9Bhf5GT8NHraOqnYLzVfeYBQMR/o6+fSv+4GCL3MljnF44ZSWBekgfP8ME+/UvRqYyd82LyUsstQ7tSX6L9Lka2uhylkc2mAfpohfJCqrrRt4yYFM5N4IOzSMwA2mk60sXow5NYJFga1qaemLA7EO1O7MG2BWOwXOaBMfPn47M+bjodex3ZGZE4tmcP9oVFIjYmE+pm5GO4oDqXFj1QebHUPyGOxbUT27HrZAyiY+KgWuYG6D4OYKpjDesLAUw9x+GPQC8c2/MrvhizElKP0Vg4fxr6sm4si6ZnY4qtNwe4uUE1Mqe2SovRn/XP+Qp1Vpp2pVK7sj0Li6FJoykBSoASoAQogWpBoHjjKOkc9l7yxdLAxehuxSurLAybhwUgOHocmuoOCvASFRN0dkU7dEKf4wEYrOkMFpO2SkWbop3/NoxfOgc9fTIZKwMOnSZj1U/jym5AvlK5HeDMdL7dtuGmf9mtMc5bXRkzluayBo7eO3fAw4HzWujgDOZFueu2YHxedpXKpszrtKuXlaM0stk0OuM/PP1VdcOL0QSTYhAMN4x/3Xuh1Kwd0HKgPzYN9Ed62BZ8MWc8vkAgNvUxoEDGWcwatgVW89di4zRmyhijNeMgYNCb80IpjcTmqVMR6v0TVm3z4qaDqjbnnaSBVIaAgycG+wdgsH8GQrcswKzxC4DAgOKnhxZbbxmIjQW8DHEpgzolJi1NuypRAD1JCVAClAAlQAlQAuVBoNhpdYnXTyCy9wB0Z9f8aF09Wzt4o++ATGw7VMyeRyVp6dAEXrXDERlTymkvJcmqZOekMeewVzodR4KDcTM4CKcDxvFGA8pfWbe2vYHIGJ2pieWa6/VovbzECLsUApGbq2rdlSvasSq94hTMsij/Ou2qSDmkiA7jlaM0stk0IQgK0/im09GerZugsCLrrGIjwwBfD5T1HYOOcPag7KwdvaZj1XwPBN/jTx3TSk4PO4FgmR/eZ9fSqOMzkKFZM6OOe43vmEvYG9cJw8ZqDSNAjCTDKpUhIwe0m74CX3qEIKIkWcXVmzQGYSG14dNEPWpUhqxLm7Q07eolsqTV7zH6khLT05QAJUAJUAKUQPkTKMY44vY2GjbUW2+eP6OQKdoNnQyHk2cRWcKPs6OrG0QhZxHEukWWqqZRuWO4vy+OL5iBzddjkS4WQywWIzH6LA4W6yL49SE4N+kEBJ3DNabvKlXr4gx3NppzBCF9zZ6GOC4acQ4OMPAOXlWAaOwc6gONC2MDxTKsp4GEBqKs/cZiRu46zFtxCBFJHFdxRixCT5xFhOE+uwEpZYjK3I7la68jUSyFVJqBqENLsOx6J3w5Wj1MZI3uY6dBvO5LLDsUiURVXafHhuHY2UhdJwRlyNZw0ldvV6LcPbrlOLEO68/xy1Ea2e4YNL0TglfOweawJLZNs+yvR7PltPabjC8dtmKRhpcYidfXYt5GGcaP9TVwjxkuZfGxpWAduQ/LDoUhlt3dmHO8sfdQODxdDbdYR1cvOOM6zoRlsPeuNCMax1asxDZmYLSET5nasKsH/BCOs9c59+5ScRJCt8zBt9fLPk0tYt8KHAyLRTrzTJKKkRi2H4HhHnrrfvQVd8f7C4YgeCXjhj4DYqkU4oxoHFywAGc6Tceg17da9TPkHZemXfGS6wXFQSvQs7sfNqv9n+idp4eUACVACVAClAAl8GoEDE+rY/Y2yhyArz2KTJricnH3xjD78dh7aTra9SlmbZDnNPw2ewFmj++ONbDHjJ9OYIInYO23Akc27MP6LTPw3j1mHYMIDk280We616uVoBRXOQ5cgO8il2BRXx/kWvXGd/tWoLuDAwYvWIPIJUvQ0ycXVr3X4O8VWm9zpRCrk8TRayD6bJmDrj7aaJF9JwxbsgCfezsD4iREJ9fWeP7TptKGDOqpPf2SkDsm7NoLl61bsWzcOsQxizesXOHlPRpze7/k0lc5PXQtVjUJwqIxCxCZKYOVxxB8ucsfg/kv293H4Y+9zti8dSU+XMetJ7FybQuf0f7o+yp5lnDNq7arQSv24f2MX3XKMXfXWp1ylEa2Y58A/G0dgPXrxqEnA19kD8/RK7DJm1HaDcN/2gtRwEpMGnQPGTIRHDwGYMaubRjsXsw9VkJZDZ56GWtnN1jtCcCnATHIkDHqecBvyjZsGsqvMJ5k99HYtDgJyxYMQtdcpin5Yvz8DfjNdQp+4iXTD5apDVv7Ye5Pk7F8yXh0XSljdRo0fTH+WL4d74XrSy752NnNGrsCZmA9uzaK4euLqds2YHgxxVNLM/VegCMbdmPN0jFYw9SblSv8xm7AkXFeGs+T6rRv+rs07aq4PEXW1hDBGQ78Kc/FJabxlAAlQAlQApQAJVBqAgLG8XepU9OEBglIo/fh05UxGLZ4Oro7a996i+9twaw5Sfj4eAD6Jm1BlyVW+O3Q21qHZFDVNxLJbFY6Ca+2vumNKECFUAKUACVACVAClAAlQAlQAuVAoJhpdeWQUzUWGX1yI2RDx2KwuwO3xw2zj4s1s2dOH/ggjvVGFhtzHe7j+rwlBw3VGDYtGiVACVAClAAlQAlQApQAJVBOBAxPqyunzKqrWAdXD0QHXUeUr7NqE0pAmhGLoD0BCHQdit/cATf33dhRXQHQclEClAAlQAlQApQAJUAJUALVgAA1jt5AJboMXYufpQFYM24ru/6GEcmurRkyHX/v8obLG8iDiqAEKAFKgBKgBCgBSoASoAQogfIlQNcclS9fKp0SoAQoAUqAEqAEKAFKgBKgBKoIAbrmqIpUFFWTEqAEKAFKgBKgBCgBSoASoATKlwA1jsqXL5VOCVAClAAlQAlQApQAJUAJUAJVhAA1jqpIRVE1KQFKgBKgBCgBSoASoAQoAUqgfAlQ46h8+VLplAAlQAlQApQAJUAJUAKUACVQRQhQ46iKVBRVkxKgBCgBSoASoAQoAUqAEqAEypcANY7Kly+VTglQApQAJUAJUAKUACVACVACVYQANY6qSEVRNSkBSoASoAQoAUqAEqAEKAFKoHwJUOOofPlS6ZQAJUAJUAKUACVACVAClAAlUEUIUOOoilQUVZMSoAQoAUqAEqAEKAFKgBKgBMqXADWOypcvlU4JUAKUACVACVAClAAlQAlQAlWEADWOqkhFUTUpAUqAEqAEKAFKgBKgBCgBSqB8CVDjqHz5UumUACVACVAClAAlQAlQApQAJVBFCFDjqIpUFFWTEqAEKAFKgBKgBCgBSoASoATKlwA1jsqXL5VOCVAClAAlQAlQApQAJUAJUAJVhICwiuhJ1aQEKAFKgBKgBCgBSoASKIaAUknw9JkAl0KBw+eAc6FAobyYxDS6WhCwNQcGdQOG9gG8WxLUdAAEAkG1KFtFFkJACCEVqQDNmxKgBCgBSoASoAQoAUrg1QlIZQTjFwgQePnVZdArqzYBYyPg2xnA7HGEGkivWZXUOHpNgPRySoASoAQoAUqAEqAEKoKAQkGwfqcA6/8AMnJ0NfCsD3T1Ahq6AnbWgJDOFdIFVAWPmNEMmQzIyAIePAb+DQGSX+gWxL0e8N0cgn7d6CiSLpnSH1HjqPSsaEpKgBKgBCgBSoASoAQqBYEXYmDWKmDvOa06rrWAUX0Ixr4rQLOG2ngaqr4ELt8Edh4hOHpJgBf5XDmZUaSV0whmfiSAyKT6lr28SkaNo/IiS+VSApQAJUAJUAKUACVQDgTy8gG/CcDdJ5xwoTEwcwSwZh6dUlUOuKuESHEeQb9PBQh9CChVC2ZmjQTWzQeM6DKkMtUhNY7KhIsmpgQoAUqAEqAEKAFKoOIISKTAkM+A8+GcDjWsgcAfCLzbCMCMGNDPf5eAVAbsDCSY+T1nDTFG8+fvEyyfTafYlaVV0NuoLLRoWkqAEqAEKAFKgBKgBCqQwPqdRGMYudYGzmwFunhRw6gCq6TSZG0qAj4eDexZRmBpBsgVQMB+AS7fokNHZakkOnJUFlo0LSVACVAClAAlQAlQAhVE4OETwGs0ICeAiRA4/SNBtw6041tB1VFps2UcUa/dBnyzTcBOsatlA9w7SmBjRdtKaSqNjhyVhhJNQwlQApQAJUAJUAKUQAUSUCiAGas5w4hRY9M8oGv7ClSIZl1pCTB7HX0xWYBhPTgVU3KArfuoYVTaCqPGUWlJ0XSUACVACVAClAAlQAlUEIGEJODWAy5zt9oEo/pT5wsVVBVVIltjY2DhZK2qO44AhYV0a1MtkeJD1Dgqng09QwlQApQAJUAJUAKUQIUTYKZJrdsGFEg5VVZOE8Dako4EVHjFVHIFWjYFJvTjlHySBBw9T9tMaaqMrjkqDSWahhKgBCgBSoASoAQogQoikCMmqNVLAIUSYPYyengM1DNdBdVFVcv2SQJBq5ECyORAl5YE53+jnuteVod05OhlhOh5SoASoAQoAUqAEqAEKpBATBxnGDEqdGxJDaMKrIoql3VNewGc7Dm141MFyCugo0cvq0ThyxLQ85QAJUAJUAKUACVACVACFUcgIZlZK8J1ats0qTg9SspZUShFPrMJk5EQFhYWMH6LffD0yBs4cv4qchRCdH13GDo0qlOSqqU+R6QvcPRgIJ6kZMPRtQtGDe0I07dYrlIrWkJCS3MCpxrAs1QBxLlAgQSwsijhAnoK1DiijYASoAQoAUqAEqAEKIFKTOB5ula5xvW04coU+m5qV6w6+JCZs4UZp6OwprPzW1Nv4SJ//Ho0mM3PJDIXsu0L30jeWVd3YsiH/ipZJqiVlIe+tU3eiOy3JcTISIDWjYCwKCBPAjAbxdJPyQSocVQyH3qWEqAEKAFKgBKgBCiBCiWQm6cdrrCxqlBVis1cWiBHbm4ue14iVxabrjxOFPKGqRpbisqWhSwOH4+cjjiJApbNpmDfxhFQSzAWqkOMyNowNzUum+xKkpoZOWI+hQpAxmySpRqFrCTqVTo1qHFU6aqEKkQJUAKUACVACVAClICWgKxQGxZVrYELreLlGFq7bAWEwuV4lFofS2d+ULacSA5Cjp7EXeYqZXfwzTrbzh9g18Lb+O1aFLwnL0LnGlVzqb65mRaJjI4caWEUE6LGUTFgaDQlQAlQApQAJUAJUAKUQDkQkOci/Pp1PIhPBRGJ0KJlJ7RqWg/FjcvkZycgLPQBXkAEt/qNUMfJhh37IBDAxsYatVp0xrcb90AiN0FNFyddhZWFeBYdiZA7UVCaWKGRZxu0alwXQiNAISuAPD0HYvUV4lzk5ORCShTqGLy3YB3eA2DKrKPSxHKBgrQEXLkWCrHABPWatoKXe723utZKTx16+IYIUOPoDYGkYigBSoASoAQoAUqAEqAESiCQl4yV4yZi2ZEzkDN+yXkfB5e2GLRxB34d0Vq7IP7FY0wf8SG2ngvhpeQHhfg2PBF9g/zRzv9P9sTnW//F95/2ZMPpN/ZjyIQFuPogjn8Rxs9AbQAAIABJREFUnDw/RHj4DhwaYoHPTvFOhaxCLdtVvAhe0GsWxKEbwcxqLEwKx/D3J+FY0G1eAsCphQ82/h6IMW1r68TTg6pFoGqOD1YtxlRbSoASoAQoAUqAEqAE/uMElPh+4nAsCTytMozM0KBpU9Sx5rBkJIZj18g22H0rno0gSjk2TRipMoyM0KSNN3p0aafD0NjagV0+wx/R4YfHz17MGUYCIzTv0BW9u3dDo9p2SI2MQ4GSQKHaVFdHaHEHUm40SVkoht877/EMIwvUr1eLvSr1fjBCIxKLk0DjqwgBahxVkYqialIClAAlQAlQApQAJVBlCaSew3d/X9Oov/pUGJ48fIhnOQXo7sEZF8zJyb8FsmlIoQR7I7kRH7s69XAp+CrOX7mFoNVjNDK2R8bjy9Y1Nce6gSykxzxioyxt+uNy8GWcvXAJ0QnJCLqyCS4iEWaczEdB/GW4qS/s9BWSs3OQlZXF/d05oD6j+c66vRfBEQncsbk9/noQi7j4ZCSGHYSjlRBGYu2UPM1FNFClCNBpdVWquqiylED5EVAqCS6GAL8ECvAwFsjIBgoLAcavDf1UDQKMPyuRCHCwBTwbEUwbCfh4/bd3Q5dICY6eE+BgEEF6lgD8he1Vo1apliZCwMWBYEBXAUYNIBDyPJNROlWFgBLhWxciVa3u4K2Y07e56sgMv6+ejrrvfc0dX7qLLAC2EEBgxI0DWdjNhp0Z9z7fsomrWgpyWL/UfI9ymlMALGBiZQpkSJGf+w9GzFyOTV/NQMu6DvDt0pZLaGoOYydb2KgvE9rA1tYaav8FJFfl5k19HnKEb1+sOao3bSeGNuWMM+e2Q5HA+Fw3Vw2FaVLRQFUjQI2jqlZjVF9KoBwIxD4jWPSjAAf+pcZQOeB96yKTM4F7TwU4eB74sD+wbAaBi5PWFfBbV6gCMmT2ogw8Q/D1VgHi2B7Zf6v8FYC8nLMU4K9/gS8DBFj+GcGYAQKYmZZzllT8GyRAkPZMu1nT5Fn9obJ12Dxc2nXV5nXvAZJkgK1AADsTzvBJeroMq3fUQwe7fPw0fa0qbW00tCrOMGKSmKJvLx9c/e0iiEKOi1u/RqutX6PbuLn4eoE/erUwsGGUXKuG4RBBanya5tTkSX4Qah4tApjZ2GrO0UDVJUCNo6pbd1RzSuC1CRBCkJkN9JoiQILqd8tIALbTYWtFUMdWACM6+fa1Ob8tAcz65sQs4EU+UCAFmK1Gdp0ALt0S4OrvBI41NL/ib0ulCsmnUA58thLYfUpbXmMjgBmBoO25QqrktTJVKgGmTpn2nfwC+HiVACcvA39+Bwj5C0xeKxd6cXkT4HsgtzXRqzjC/6EhECgBgak5lgxoiFP3noPkv8CKSSN1VOwwew4GOpdkHAFLt/8DK8uP8PWvx5BXIGFnQlzevR69d6/HqWf56FfHXEdmaQ74HWdC9MpRGgE0TaUnwK/jSq8sVZASoATeLIGUdKDnFGgMo1o2wJYlBJ3bCGBvx250/mYzpNLKnQDTkWSmRF64AXz+HZDyAniaAgyZBVzZU+7ZV4oMPl0O7OF5oHq/DzD7I8DJAWD2iBFobaZKoS9VongChHDTe5PTCX45IMCO41zaw5eAkbOA/Ru4qaTFS6BnKgsB3lZN+P3sffzgV1ejmvjpA00Ybi1RyxRQSFLxxd5QNt7c3Aut60fjelQu2vUZggmTJ+GDwf201xQbEmHuxr2YvPA5gi8ewcIZs3CbmbMHIHDnRfRb1F/3yuhE5CoAs2JtHgJ5nvaSU0H38bVnB7qlqhZJtQhR46haVCMtBCXwagS+3SbAo+fcte3cCY79BN7oAu1BvhrVir2KGRmpaQ+M6gd08CQYMB14nCjAjQcCLN8MLJlBIKjG1kHgGWDvaa4OzITAzhXAsD4VWyc099cnUKe2AFs9CN71E2DqKiA9Gzh1Awg8x02xe/0cqIQ3SSAr/hGionI1IpUCY7QaNAr49Xs2LnXVpzgy6irea+UMZUE6vp63QZPWfZAn7ASAJCsaT5/ls/GWQwfh+5nvwtLKFOYiESysa8BSxB9t0lzOC8ix/+/D8OndH/Wd66Pf+zPx7FEEpi7dxqYhEq0FpHGhkHUaD1JfoLVJPoxq1IIlTxoXFKHd+yOBS3+zh/cWf4agXkfQrYkDEu9exbqv5sNx+g58PdijyJU0ouoQeFnLqjoloZpSApRAmQhEPQW2ck6BUMMSOLpZwDOMyiSKJq6kBBrUFeDqHgHsVL/wK3cCz1Oqr9H7QgxMWcFNJ2SmW53YTA2jSto0X0ktI4EAA3sAW78kYKZJKgkwd50A+QXUbcwrAS3Hi3aP7Y5mzZpp/lq06YHnHWZhQB21q4OnGNLaBc29u8DYoiYCbsSotDHDqokjwXROTWzdYO/ITcZL/3M5uvq0R9uWLdGsaVPUd3GCpUd3HLufBGZ6uOFPAdbPGglX+wb4aNEarF80S2MYMeldPJxVl5nATKR+LkbD18UOtjUb4ZdHOQbFur2/DO4ibmwhL/sGejR3hlAoQn2vHth8+ibypbr7NxkUQiMrNQFqHFXq6qHKUQLlR+DQOe0Piv+HhB1tKL/cqOSKImBvC4zqra3r8IfacEXpVF753n9MkC/hpPfuAHRrX145UbkVSeDdXsBHqtlQ6bnA8Yvqjm1FakXzVsplxUNgbAkjO2z+S3du78MQrWtvoC7WnQnFe204o0Vo5gR7twbFylREX8HIfu8iVSIH34+CNixUbSabhj9WL8Tnq3/UypqwHP7DWnDHpk3RaXh37Tk2RCDLVwAKrTQmmjF7RDZNsefXL/XSaw9NbMu+jkl7NQ1VBgJ0Wl1lqAWqAyVQAQTuPtJ2KHp5a8MVoArNspwJDO8jwC9HuExuRAgwWL8fUM75vy3xQTcF7GgCk9/koW8rV5rP2ybATAsd8w7BrhPcc+vKbYJR/ekz7G3Xg35+w6Z8DUHL+/rR3LG1PdzszOHQeQTEiVHYuO0PpCSnIk8qhYmJJWo0aopRo8agrauj5vqUC9/h5q1o9rjtxK9wat1cmECJzNgwdO0zDCnZ+ZAmxCM4S4aufuOx+Cs3EIEAPTo0Vckwx19nrmD/vuN4mpWJAqkSFrZ2cO02ENMGdYOFximEAJu37UPndptw42kWpMQI1i4NMN7DFgLihe1LF+NRIYFJs+6wALNm0Qgdx65AnKcf/rf/NNKzcmBkLIJN7ToY9P5EdGlSW1MGGqiaBKhxVDXrjWpNCbw2AWbRvvpTR7v/njqKflcjAs0aaguTUI03b7+nnpkDwKcNM0JGO8zamq9eIbe62rpNTNOGq1cpq1ZpWvcfhdZ6/g0MlcDK2R2Lli4zdIoXp0DIr0tQoIpJ7zcOdnZ2MGG8TkrqQyhU+b4zEsFRaATHNn2xok1f3vVcsE7LLpjbskuReP0IgaUTPvx8JT7UPwFHTFq2okgsE1G/bW+satvb4DkaWbUJ0Gl1Vbv+qPaUwCsTkPNmCzAujumn+hJgPLSpP1K+yyh1ZDX5zuXWbrOlsbGqJoWixTBIgL/HEbsPqMFUNLLqEjBCUy+tUfN8XEc0atgQDRo0RJPWPkhMf8EWzaVVPbSxpxteVd16rpyaV2njKOHmacycORPbg8IqJ90K0Eqe8QT+/v7w99+H7FdYE/jgzN8s0z9vP60A7WmWlAAlUO4Equ+SIx10dCxBB0e1O+DX73+kSVe7Oiy5QAI0nvE3lrzPjcwopTl4nhCP+Ph4pGS+YPcr6vTRZ/jryGlYCat0V7ZkDPRshRB4+ftiRR6uHT+F2DztQjuhiRls7WujaUsPuDlpdwMuzE7A9Pcn4orYHD8fOwy/Glo3ieVRuqunf8HmzYcwqWVvTPbzAkCQfmkPxszbjOxGPXBu9xrYmfAfoW9WC2l2Ek7/E4Q8hRJ29Zrgna7tYVyCi1yZOB1BFy4iPVcGY7sGGDbAR7VY8M3plXz9b2zcuBFwMsOy9WPKLPjYkZ+xectFmPWfgA/aFL8QssyC6QWUACVACVAClAAlQAmUkoDQ0hnL/zyLLzYlISIiArGJKSiEEWrWro82Xu3gUoNZAUQ/lMCbJ/BS40h67zB8h3wEjQ94jQ5GMLOwwE+3EjGpuTUbm/TgKvae/hfM/lhpjJePcjWOJLh34Sibb5dmnpxWRIFfl2zCvzdDUYO5iZTfluuc89t/LcWQT35l8xbUbI5nT2/DxbL43Zo3LxyHz39S7Uzo+i7SYo9Au/SQK8Lr/r8V8oQV4TazB2zK/DIlH49vXgRM7dC3cf3XVYVeTwlQApQAJUAJUAKUwGsRsHZ0Rucezuj8WlLoxZRA6Qm81DiKuXyONYzMGr2PPZvGwUyZh+S4eHy7ejWeJKZjRs/e8Iu5gkZWJrBv2AEr1qyBUf22GFineCOh9OqVkDIvAWcvcCZbfTcnVUIj9JszD2RAAup1HQF70zJbByVkqH+qEBGnDwJM1qkASUvCP2kSTDRoHBEk/bsOq3+6xAqpWRNIa+QIO32Rb+D4RlwUAFNM7tW07EuRxY8RfFMJoaM56jpyBu8bUImKoAQoAUoABQUFyM/Ph4ODA6VBCVRLAnFxcahVqxbMzNR7+VTLYtJCUQLVnsBLjaNDJx+zEKzHfoxhA7qzG3MxEe93rQWrNh9CIomHOE8KWJnA0qkhZs2bB2Nj3el0CoVCE6dQFKIgrwAQimBlUfwDRKlKpxQYwdTCAiJmxzfeRxobihD2uB4aOqp2OBQYofW7o9CKcafPbBOv+jD5M8eM+0+lUo58ZtWusQmsLIv3RU+YdHkFUBCw+ZsyOwryP/nPsPNQFhvTs60Hzoffwx83nmGim8pvPi+tUpKJoZ9sRIaJCVo1ro+7D+LRvXlDg1Pq5IUSFBTIAIExzC3NIeSVgyeSDTIbnxXk5UIBY5hbWUAICZIfRgImDvCtV0M/OZg9CPLzJSACbtTPRI9pQdRlRACwN6sHRyu6wLEIQBpBCVACr0wgNzcX3bp1Q2BgIFq0KPqcfGXB9EJKoJIQuHv3Ln7++WccOnQIIlE5vyCuJGWmalAC1ZGA1oIopnQhL1LZM5OGttUYRkyEpVsj1GUCzEpIdgBHjt1jXSEUCrH69AONtEd/fsHGLYyUIfHaEXQVimBtawtrS3P0XvqHJh0/EHXmN3gyxpOtLWxsrGFWqwH+vJfOT4JHV05wx34L4GLBFUNekIp2rlYwbjEAai/FCacD2PxnnIlB2p3zeMfYhMvfygJtFuyB3MBKzoTgA2jLGE82NrC1tYGZjQM2XuaMRLUSsvgoXGUPmmDGFB829O/Oy5CqE/C+H+6YipDHSWg7fBjW9Ocm0jV35K5RJyOF+Tj87TSYiMxhw5bbCib12mPfzQR1Ep3vvIT7mNzcCJbWNrCxtoS903DEZUQj8kYGUMsa9fU2IQs/EAB3E1O27CzTBm1x5EkuTybB/X/2sceWXabBTrNbNC8JDVIClAAl8BoEUlNTWQMpMzPzNaTQSymBykvg5MmTaNOmDWQy7Trtyqst1YwSoAQMEXiJcVSArIRYAE0xvLnW8QJjEcX8vRnPAJibCWHDjDLkP8f2P7iOfD037QZYF09wG4IFftobHj2H4LqFHZo141T5d8VU9D2k9YqmlIgxbUR3NHtnMh6YWKD3qHHo37wxSEY8PvSsiV9OMlPGuM/Zi5yx5DG1N9TjT5KkW4h/VgB7t1qaKWuhQZHMOBLOLvoInp174ZypJTq04Ip9Z92n+OlOmlok+7106ruo33kk7giM0fndMXivQyug4AX8fRtjxY5QTdrYsCAu3GQYunZW+dY/9QeeS3WtrfS7h+Ez/RCY+XeLF3+FA//jPOs59nHXyMqOvgifNs0x9Kuf2biOvj0gZEbfEsPxfvfW+C6CG6HiLiCIP7kWLdt1wA4WRwPUr18L4rRAuDm2xk0AdW08YG/O+e6VZydiRC8veI2cg8fmdnh33BT0rOcMZcJdDGlkjT8uMfXLbPuswIFTYjbYbExX8Dz/cufpf0qAEqAE3gABxjDy8vJCUlLSG5BGRVAClY/AgwcPMHToUEgkksqnHNWIEqAEXkqgZOMoMxTR8VKYtKyPVrzecm7cbYxYeYYV3shvJepYm0CaeB+X2Zj6aF1Xa0hdTEuAvT0QffUy3HssRVTCc9yPlOGr0R0BFCB44ha8YFxOExlOLpyAnw8GoU7z3rj46BnO7t+Fk/cjsHmUCys5Ol67e+GtdMYQM8dnvtrdDbPDjyIDQOu6jTQFv/k8GjVrKvEo9CZqdpiJyLhkhNyTYd4QZuQmH+uvqowzUoiwZeOw4tdjcHTthJMxybh6ZC8O37iJg1M55wTRMdrRo3OXuLDz5O5wcmsBZzbHy4hOYdxRqD6KXGxauBw5MEKXDb9hsF06fmNPO6CPu2rXTUU25kyYhpD78WjSczCuJ2QhJOg8CqVZmNO9JZCfhfkjNyJH5ZZbnpeEIZ+sw9O0fHQcOQnJuQ8R9+gJgrbMg40ZV53WjYfBQigAiAQ75kzEwfPhaNhuCEIexeLIrm34N/4RFvWrySoZnciNDBJFIa7kMPSsML4jdcagrkL6XUkIKJWQK4q6hakk2lE1ykiAWZvh6emJe/fulfHK/1ByQsBMCVcS3Rdu/yECVbqozAjSqFGjIJUamk9SpYv231ReIUFqchLSMrj9lf6bEP47pS7ROMoJPQ1mfKZGDVNkP4tF3JNoHN+xAtZuXrgblwqThv1wdv94mAqAhPArHLXOU9HYSi22AClPIsDMoDC18sep48vgbm8BgbEJ/D8aoKIsB/PsL4i6hMEBgQBEWHFgP/zq2YEolZDmp+NhLGcUmRir3HKTfKTE3ANqumNYPZXVRuQI2fM/VmYTr14q2RLE3b2MtDTAxHISzpzbBI9aVhDAGO3qcG6qkyXcjoiyZ5Fo980eACaY8/dR9G/oAEKUkBVk4m50PCtPyBgcqk9kahzrCW9i50aAXQNMbcuVOSYqWZ0EMXu/wYqT4TC1r4Xdk99BajSzogeAcASaOZiAKfjzfcuxM/ghjOp54uyRA+hUV+WmwdgaS5ZM5dJHPYGUNY4I4g4uRPizTAj9PkLIX9tRi3EAYWIB34+Xo0FjNza91YTO7HqmvNAj+HgnY8SaYvOBXejobMMyleSl4OlzbsRMpKoquSwLL5ITgHod0M/lpUvROL3of0qAea9BlGwnjunIlfynZO/1skLLfhwMawsRTIRC+E37vayXv7H08tx0BJ86hmPHTuNZFu8lyBvLofIKYtY3KpXK1/7jl5AZQfL19WVHkBj5lebDGiVy1hg3aJgw5+VyyOVyKJXlpbccf0/zYqeEG9f0RcTL+tdEidSocBw7dgyXb0ejsNz0Yu53pi287F7nzmv5EShLeD5UdP2/qfatXw6mPnx8fFhnJJWmfZegSFZSAm7fvq3zx7jQfpyQhJx8yX/XUFe8wCKhOWo5u8DJ0Q6bHhWUQJGeqg4ESugFy3F9z1a2jKmXjqN2veM65W01eCq2/7gG6gl0t0M5o6D5GB9oPM+/uIsnzABLzaa49eg72PN8GsiV3Hxcggww/f79hw+o5Dvg9o5vMf35c0TGxyL5yUPEMLMv6o3GhBHeXJoXN/A4DrBp78g6i2MjCzPw5xHudGPvxlxA/BB37wCwcMLf4WvB7/NfTWGMGzMs9uXSXgpSXQw7PD/wA+b8mISwJ4+QGv8YD5lBKueB+GzGQE4uCpD04C5g5ox+DRh3deZo3as7EH4ekVFRQB9GZjbGLWaMNXusPBuBBtZCXLytmhY4oxscGKNEno+PVzNT7gCPGZtRT8/TnYKot3uXsIwgScWsmbvZ9ONHfqzShftSyiRQ5jNriGpjQed6bGTATm4NETOl79zm5TgYH4/o5wl4HhOJJ4xt5DoWH/RrzaaVpYchJQ1w7F8P1JeUDlp6UCIBOS5NGo8FD7SjqiUlH/3LScxpZV9SkiLnFPlZIKpRI3mC4TV4RS4qh4jNCz/FnM0HWcmO4xcjbeeKcsilcor84Ycf2EXmr6NdYWEhxGJu6q5aDmMgMZ3Hq1evok6dOuroCv3O/Hc1+i08BAUEMPffjisfMi5+tJ+oE3sw9ptN7DO5xaAPsPubudqTbyykRM7j25y0jDTkvWzQNOkKWjbzYxynsp/5IalY25GbHaCKemNfBckP8P6wSUgphV1o9d5nOLfwI2T+uw4DFx1ilygbUmTwpJVY9DG32aeh8+Udx4zu9Oqlfqn66rkZWksXHh6O9957D0ePHq30XuxWfjoA648ySxGKfiyc3dCq8QQc/GcJXMzVL8CLpquOMSQ3E6t5BTt8JxmzGtN9IHlIql2weONIlo0Ve7hFs82HT0Lfupxr50buXmjf3RftmrpCpB7JARCawEyPEGFcB5VhAiDn5ikwu+54tOoGTxteVkSJqyeY1TGAkbsPLIyUiAu9wR7b2ChwcO9eGBmZo6aLE5p37ofR7Xph9ucT4CjirKucq6fATIZr46CdUidLjQMz7gQ4o2tDzulB7t0g1vta7frt4OfK75DJkPYoAjCrhT4NbZgFN4i7fI692spKiSN//AGBwBSOtZ3QuH0PDBzbBXMWfow6ag9u2Xdx46EEonrWaMA6PhCgbntfGOE8zkc9ABQ98eeUd3A9LheNxizGPC/O3Lj5mBk5Msbs7s1Z5xaFeTl4ks1MZauBLz7ygZF2YIrVJfIStz4JdWqD8Y8gS32KkznMKRv0f689m0b9Lz8rDi9SMgCn3uhci2GtxNP73HqvGjUU2L9vH4RCCzi61EKrHkMwuctATJ8xBnYqgzUz5Bz7w9rLRctULZt+UwLFElDI8E/oLYRERBebhH+iQ87rvXHTu0X4oss9nE20C6xr6Hl6LPfMKziDJ0+e4Nq1a+WihXqK3YULF9iF7OWSSRmEFqYm4+Yt1frSZ+wDV+fq9OdPcDOUO69oykwPL58Pv/vJDxvKjSilGsOIOe8gfNkVhqSULi4v8wkuXw8BfyVscVdat3yXPSV5HI7rIZx/WUNpm/XWNZoNpSnPOGZUtLzaN6P32bNnMXr0aPz1118wNa3EnmBLGHHMT4rF9aRvMOZrV1xaN6E8q6PSyRaY2+KDvu1x6MItGNk1xeDm/P5kpVOXKvQGCPAsFl1phVkp4CbKmeDrDZsxul7xbq9B8hEfGgJY10XfBqpGQxS4viOAFVq/20gd4UQuwc4IxrwxgvuXA2AmkCD+djhgZo9DoffQs3EJW6MSOS5vW8fKc/YZoZGbEhXOhTt8gJZMj58ocfvAdjbOscdkWKvnjzExeQ9w53YOjBo3QTMrxt2mFI+ucb7nfjx1AxO6lmwg5NwNAjPRz8W6BmxUjg/qNWoJU2PgUdADPAk5jA933gDM7bBx/WKVjjIkhN8ABNbo6sqtoZJJMiDJFQPCrvCpXdTt529h3Hoo2y+nsPvppiWqnCeYtEcbJ359KBFzYBPi8xQQ9W6iWv/ETD2MBuyaICQ+Ak3Uhp1KG50vUohruzayUY3a99E5RQ8ogRIJGJugW5162JOlHuUUIDsjFbkF3DwgS7sasLey1LwxFumNjpYou5KdnDH9c9y5exfh8Q2wasb4SqZd1VYnOzsbPXv2xK1bt9CwYcnP34ouaWW0iwV1u+PQd5/Af/NpNH9vDj5pXX7j/+Y2ddC4bl2o3WmQwjw8T9GaSrXr1IV6BrqgZtHd/AR2TqjD/u5qa9JRz7uq9kz1CTEjRz169MC5c+dgYaGZX1NpC/j19SR809EJ0hdJmPH+AGw/fZfV9fJ3v+DOsglozeuCMNMJFYUySGWF7LNeKDKFqcjE4F6L7HIFmRRyBYGxsRAmJkJtOoEARgIBFApuuYWxUAiBUoH8ggIQZssSCzP2vBoas/RCJpOgUK4EmG1fzExZZ1ZFXqIRArlaP4EAJiJTiBjZ/ISEoFAmhbRQzsoyEYm0aUT2+ON0COQKJh8B5zBLrYTqm9l+RiKVsVNtBUbGrCt3odBYWzbNFHRmrpQRjJkXGEQJqaSAY2Eigrlp0X6gXjb08C0RKNY4ykx4qFKhHzq68O4CQ4qJH4KZMWZR3wrOlirfcXIx9h3n5gI0781N3VJfKn50FBduPQIcvLBvELP4v4BZFsM2OmP94RP1RervwmzsVM2Aa9XdUx2Lxw+ZaXKAR982sGICShmOnePeUnsNag/ejD5Iwi+AKV0D+yYwU71hI6oisg1WI9VQQInQwF3sCbvWn8FCNXpm59wQQpEQeHAAXYZzCk794S8McFa9JZLEIuxGFmDnjIZ1mNEq3sfRHOZ8BZlTif/gyLlQwKIRLkz2YBPn56kclBu7woJXcy/un0f/2TvYNP0aaZmAuc+MBQb3U+LlDsgysfckF9OivXbkTycNPaAEDBIwQb/jp/FYoWT3EQMEmDu+Nzbv5bw5Tlm9F99P6cn+YDLLSoQinmcXZhcAyQtE3r6DuNRsCMzM4d6sNRrXd9K5Xw1my/zQyGXISMtAIYxh4+gASxPtTUSUCjx/FInImDjIYYIGHm3Q1M1Z515gnJBkpqZDYWwKByd7Ns/YiBDcfZoCC/u66NyxNSxUo9WMDjWb+eC3A8GQKISo4aTufMqRK2Z+uIt+zMzM2R9+/hlpVhJuhd1GRl4hbJxc0a69J6z19lCT5WUhI0cCmxqOsBQqEXHzMhKyBGjl3Rl17V/yLOZnVsXCWVlZ6Nq1K5g1DlV1o1im3SU/fYSY+Di8yJXBxqUe2rZoDhtzA50ehQRP7kUiMjYJIis7NG7ugcbOxb+RVuSm4EpwGMSFRmjSrjOa1uJv1G2CgTPWotOHX7OybFW3grIwD+npOTA2tYa9vRVIQQ7Cb13H8ywJ6jRti3ZNuSnY+k3lRXo8Htx/CqnIAvXr1oejLdeZZ/bIs67bBlcfP2Z/rxnPteThnzBtNVEloicuR5+CqwnT6yQQGPF+qFQpbNaexeOJzTVSjf/2AAAgAElEQVSdRqZjbSzUfS7o61NdjoODgzFgwACcPn260k+xY5kzBoddHWz+bhm2nx6qqgY9D3yFOfh7xWdY9td15BVI2WehqbklOg+Yg53rVeum1RWYm4BPJ0/AxfA4yORKCE1EMOP9JrTuNxW/fzcZY/064k6WAA3/dwYdt07Dzmt3oIA11h/5B8NacS+XkRuL6eMn4/zdWEhkcjAGibllHfhv/BWf9GqqzpHda+bI9wvw1fZjyCvg9nk0NbdAl09W4hf/oSrPvApsnTMJm05dQ75Exspi0vT8Yit+nNgNQshx2d8Ln55TAAIX7L5xFu3U9i2R487RnzF20Rbk5eVDriQQGAthYeGET9f8glmDWmp0efjbVxi5/hhrfG0//y8uLJ+O306FQipXwsTUAg0/24BjM/ux6/g1F9FAxRAgxXxu7lnJ/N4TjFxGCotJo44WXwpg09ZrMYDkFCrZ6ML0R8TW0pSNb9TjM/IoW8LGZzy4SPo7cX2lrp+uUYmQkjm+NQhgQt5bc4TkydWSCclNTyQ3r94kciUnV5YUyemFmuRMukyTcIv/AAIYkXl/XWbjFHkZpGVDJwLUIAeTpZp0hCjIzS9bsjI6jvmNyFmxMrJuUE02rtfn24mYV+D8rBRy4/xlks8lJKRQTGbWq82mHXg4Wis3L4m0srZQ6QaCOt1JdLY234LwHew5uzqdSFKBgr1Olv2cNHO2ZOOn7gghhQqujMl3L5MhZhy7tpO+0eSRdeeYSr492R6RQohSSRLvXCSDuzfU5Ov/U7AqvYSMaWNNAEvy4W9XiSpL9pw4JYGE3orQyJUm3FRd70yuZfEKr0lBA9WRQM9JhJi04/5S0t9cCWd/1EPTHudv/dew4LwUstl/vCYd+6xhnjcAcW8/nOwOf0a4u4GQ9LsniKWQO9dl4GpOXl4SmdiDu4+Za975cKsmnwcXA8m7XvWKyPboPIIcepiqkZt49U9NmgFrdpCJvVtojll9PHqQg2HPNHIf/rlQc/7TNUcJIUryaNMgTRy/DEy49pwtmmuVOQlk5ZShBtK6kjn/CyTcE4FJXkBWtefKauo7kSwcrmX5zoc/aeSVNZCeqa3rMXPLejUh06ZNM6A7p6d+uV/32N7enty7d6/sShJChszQllMiUbegsolK/uMzbVnXcL8nfAnBv3ytOd/mg2mqUzJycusXpJOro+achoODG1n4027N851pN6nX/ySdXWsVSdvhow0kj20MUvJbbzXfemTGwrnE2lykk37A0t0kX6NYPvmqgzp9RxJRwJxQkiufd2WvMbKtSbb/spa0acj9zql1qzfyC5Iq5f3g5sSRhe/31MlHnZb7tiA7ErS/u2wuD/fw0vch8dqfPY12z/83WpPG9ue7mvjXCTxP1tb1wBmvI4mQvLw8jX665VUzfbPfo0aNIhIJ1ycqrebLt2rLe+lGaa8qW7q5gzw0HL6+nqS5OOP6Lk080JaEqRueJJUsGNiFd06XU93xi0m2qn0VpEYRP3urYtMy3NsO+YgQkkO8a4OYAUQgaEBMVc9+pi+z43osq1PWkxDSypbrOxmqL//9FzW671g0qpg8fUiMlBClLI+sHtuxmDQ9yTO2ucvI4XfVZatHzolV4gvF5M9ZY5l368VcDzJgU6BGl9sBH2jSNatjrwlryiC0IF+di9Skf5OBVVu07efB41d7Nr5JfSq7LMbzjMHP/qXD2IobErDP4HlNpFJBLvlznRTPTw8Q9WM2/e5JTYdGXfGtums7MzYO/chd9Q1GCDn0nb+moTRq60OWzptLBnflOisu7bqTPJXRlRS8l0vnMYG8UCuhLCD+bUEgNCeHbz9nY/OS75EGNiBoNIhkqtMx3/Ic8oktd4P2OxCjOXPtz281+bs0bkGWLZhPhvZoy8ZZOzckCSqLTfHiOalfy5YAIvJ7Iu9HQplPAmozxggITEzJL4/4Dz4luf3DSPacS/ONJF/dLhUSsqZ7O02+Jl36kpF+7prjGq0nk+dqoIym+c9ILWuh6nxt8q6fFxs2tbAmdszMJRHI6vA0TZl+nqO9ET27vUMWzZlF+nVqxF7TdPBYTbr4cz9zMtt/TtT3vOYkDVRbAhVlHCnlUrKwE98QERIbO1tirvkRBEGthuR+BveA4BtHnVnjSEn2TfZT3QcgQht7EhjDPA2URJpwljTW/FAJSU1nF+LsWIMwju2Ze7NGsw4kS/VjnRSsNY6MjQ3/uDkOHK95pkXzjKPpKuPo7upOGj3Uzzn1t8knAWzbUcolZFbH5pp0VjUcSZ06zsRCoyfIJ8eeqIy2AvJtZ04XR0YnZ61eg8bufuW2WJWMI4afg4MDSUrSds5KW/A3bhwt+IskPH9Onj17xv4lJCaSg9/O1tSlxjjKu0vaqevT1II4ONYkDrbWmnYH8/okOD2PLYY87aHmehiZECfnOsSlthOxMBUSS9sxJJN95vONI20bULct9ffSq8kqNPlkMc84uqcyjoK/4owjdXpD3547b7HGuVKRRza1Vf2GwYjY13ImzjV1O3BGJhZk4yPeDzdz11HjSFuf6jZQiu++ffsSmYzXh3hJI3/bxtHnxyNJcvJz8jgimPRpVVdTRuv3FmtemAd/P1Ab79ieBN56SGKu/k1amKoNeRuy72YCW7LgXz7RpG3fZz6JjY8l4wZ6a+IsPbqQBauPaIwjpq02bMi1fVtHJ+JoX4tsu/GEEIWE/NBPfU8YkzY9PyZRz5PInokjeM/UfuQJ22eUEz93pr8GIjCxIwHHQ8jTiFtk5dTBpHbtd8hjKSF5ifeJsy2nr0nNZuT3KxHkcfg18sUHfUmt2u+S5+z7Yhk5wTOOglQdpSfHtf1Gpv/Zwms4+XHLOtKzBf8liSs5ksrVM984srQEEZnbkvqu9UkNkYmGAzrNJ5nqPuJL2kRZTlPjqCy0CCnWOFoxwJytrO/O3S9ZolJK1rVqyqb99DR3EzAXRB7dSBhn1a0nfEH2ffextuIB0v+LTeRxaq6OXHlBDjm85Qtia65u9Nx3vVYDye8X7hGFauTo7l8bWVke09Zqr5fFkT4AEVpYk9sp3IM74+E/xJG5uUbM0qZjHuS5icTWmilbPXKIZ9wopHnk/O+ribOtbv61GvckW0+EkUJV/uL4EFLbSkDQfDTJ1L7uZTtmcVs5g7Jd3+908iRKOdnauwOrd6/f72veXDOJ5Llp5JcFWiOGvYltncjC7UdIipj9hePJUpLMR/+SJi7aH6yW/SeRKw8iyRQLRu/2JFKsVUqem0l2fzuFmOh1/Bp7jyCHQx5p5Ib8wo0Stl/6hyaOBqo/gYoyjsSPjxIHtSFkaktW/HmBPEtKJA9vnCKuNdVvA41I3R8vsJXAN458Bq8mshtbiKWpMfdMMbUgP11TveRQFJKF/duonjVCMnHjYZKZW0By0+PJHGf1G3MRWXOH61DyjSMTE+7+CQy6QrbzR7REzcg1VV+wqHFEiDwrlly9eoVcvXqV3Lx5hrSz0j4/5vzGjTqIH5/UlNfGyZvceZZBJAW55MaedcRK1Ymq07wneVHI3Lta40ioYtRp+hry46p5ZPW+q6/cKKuacdSmTRuSkZFR5vK+ceMIIKbm5sTU1JT9E1lYsL9raiNDYxwp0snIuiB9vgggIQ8fk/TMTJL+LIb419Z2kj6/xI1CJl3br2qjIJ3enU+y8wpIgTibxNwOJj/vPE0K2I6RvnFkTqZt+J1cu3CI9OB1vLuM2qBi9HLjSCAA6TpsHrl24xKZ4uSg0QHWo0liISGSxEhiY8510tw69iSpOfkkLzuVfDlC+wLgf1cfqUa2tFVTVuPIqH5z0tp7GGndehhp3X4Yad2xIzkTm6MVWMpQVR45YtoPMxpbWFj6mRpv2zgyMbUkNtbmWgOfbXduJOiRdprBe+1VRpPIghyOUL3MUCpJ3O/aUfZWqxiDh5B/FvXm2pxDV/JAyvX+FUlXNe3w3fV/qmqeGzlS32PtZ35LEjOySUZqEikolJPciIPEVH0PdPqIZMlUloRSSjZ/pB0Bmn8xkRDygnSsxT2TRZa1SaTqBYVSqSDi3Dz2pUDW4yukpqrfWbulH0nK4wwZpUJOcsRcGkIMG0ffjtO+3B40fRuRqLpfstxEMrO59regy6JTbF584whoR05GJBK5UkFS/vlRwwHoTqL479ZLeT+8LBk1jl5GSPd8scaRQqEo/Y2rKCSFem9Ajq/ihjI/DuCGFGV52SQ1JYVkFenw6yqkkOSTjLRUkpKeTsT5BbzpJqp0SgWRSyVEoZqCpr5aUSgjhWznQp1OaTAdc1ZZWEik/LRqIYQQhVRCMtNTSXJaGsnJyy+aPyGksFBKGD6GPlKpzOA1zHS+Qmnxb4kK83NZPilp6UQiMyxbnZ9SVkDSU1NIWma2alogIUq5jMjkhq9TFOSx6RmmuQVSHeOMlalkdJMQpcoAVOdDv6s3gYoxjuTk8twGmh+COiO2k3xNs1WQyE28FwWdlrIjmXzjqH6DHqSl+ofRpg6ZfypKM7IjL8gmHRtyb76N7Z3J3cRMUlBQQPILCkj2v2s0edp/zxkZfOPIqWFv8oh7sU+IOJZ4qfNAQ3JV9R7HkHGkaSEKCTn+aX9NHmg6lMSJmftdSW58w41AMz/2XXbfJQUF+axejNFW34l7q2lctymJe8HMR9IaR0z6Dv4/aLJ4nUBVMo48PDxIQoL2RVtZyl0expG6k2boW2McMS+6CvnD/Er2NyJ+h3bqaLOfb7JFSQk9pGknNq5NyfLdJ0maWH8uGt84siBTvz1D1D8Lt/YtJ4zLIbY9qaeZkpcZR0aky/vrSYb6J+jZKVJL08YHEOY9oeT5PY1x1GucdsbIb99O0Oh7MEF31IgpUFmNI0Mc+VO4SlvfVdk4mjVrVpl/b9+2cVSknhyakKBkfq89n3R25YxpgYmITJ0zjyxYsID9+/KTEZo2g/n72So9vVA9Rbgh2RSRxPZDovYv16Qb8kNR48jEsh25l6n7kvjxkRWaa2p4dSOLFnJ5zv/yKzK8l/ZZ+97xJ0yPjvRt66JJj1ruZPyMueTwjRjNNFdp+mNS14G/JKIlmTL7C/LPnVjNS3nDxlEemdpaawD9LyxVp+le/+1TTb5eI78nzEAW3ziau/OSNr00hvhp7kdqHGnBVFyo6GpJ1dInIyMjMH+l+hgJoeM5lEhw++hf7KUtPTgHASYWtqipXsBWglAjU3PYm5aw6FhgBGNRUVeYRkIT1j22RrRAYDAdc14gFLK+CjRpeQEjkSlqOJS8P4RQaGBxrUqGiLe4kCeW9U4i5HvM0z0Jobklappb6sUaPhSYmMGhpsrxhSoJs7FucUtajcws4GBWAnyBERjvMvRDCZQ/ASViH3BeGJm8JiwcBu2WGUZoMXA4MOtPTo2QS8goBOdgRaVY/NMLGhVb9eiOtf3cNccKeQ7yXnAugRWZSWjlYnhxeybj2Ujv07hFfzRS3yLmduhnDYSVwbtw0p1zGLX9NCvVyLweAoMDUZ/1DFOIqBCVJ00AV8e1gvk4vcyZJcOEcb6v/2mLn1eXxx46+vlUnuPWrVsjNDQUxsZa5xoVqp3LRKzzb66jwp2g3fjjRNG9YGTidFw7f5rdiuLY+Rt4lqX14MYIeJjNLWR3bNwGTWqKEJMmQ05cFJaOG4ClAKav/wOLpoyAi7X+70sjTPbvAxPVz7GDkxv7rH/Z1kc6SsMcY2cPg736R6JmEzQUASla7/Rg9pIwFwCM8/KLV9cg+GE72BbEY//6nSpRdqjBc3qiK7/0R0b2LnCz0/5+MY5aHE3UipVeTlVMyfSpPv74YwQEBKgc2FTeUsw5dAuTHOMx8aOJuBX3AsiIgd87XyLl5g9wYhujHEppIVsAUijDtg3fGy6Mqt026TkS5msuoIA8wawO7jj7ThscO3JZc03/Fu00YXVAJGwKZxttW2HiFXlqz6hAVthlrArTylBfx36zruiM8L+ln6Dz5O+RlCkGUqKx66f17F//rzZh/zczYO3ghjOrR6PLvH3IEhcAzyPw60bm7zuM/H4/ds4eqeMASycPufaofm1b7QEA01pNNMckpWhX25bvmU7kAncPIIjZEYd+KgWBojX2JtTKjcNp1ZYGDZo4vwmJVAYlQAlUEwL8rp/ODwTz4sKY/2LETPeFh175754KxOYH+fisOWfVMP6xSvU6x6roY09AONfjbBbGFmjdFcApvQyLO1Sm4eve7yO/kHlRCHSbtg7v1dAm5pdXG6sXYhTnu5VVnS6qqd511eiQMYyYvY4qjWHEsJ09CV98wTQG7eeyTX5R40gWi3FN2+JAmsqjqDZ5kZCRjSvuPryPXr69ce2eansGAFvmfoi/f1qJW3cjUF9tqLNXyyDgWc7Wjg4wZhoGr2NWJJMiEUoIGDfE6o+oFpzqAuxGhKo4U6cm+F8fCww58gKKx7fRuVVLGCtlUO2/jHYLN6GbU6laszoXg9/Wq44jcnwzzTnGODI10+0Aa05Ws8DUqVOxadOmSm8YMdhtnOvAs5MXrlw2R+P6/fGMibwTgD/PToX/gBZszahblJGpBX7e8wdcLPSNXAFc2ndm08plEnaYhT2QiHUMoxEbz2B8H60xwaYp5h+/2Tu/8yH2+L8Pid6bAmJkhtbdmQYOuA1Zgvudx+H8rq34+Ot1yFBttXdq9SwEtO+NJUObo/nH2xE1YAEO//gtZq/fhQJVJn/PG43+HTthYjeVh7xidGKipVLmTYP2/iD53D6h3CUGHu4lyKKnKp5A+fz2yqRwGTwY71rVQ+vaOk/5ii8x1YASoAQqlAD/x+2fm0/xhQfnqp5RShzLbVzMKujaBsze0fz0XfotxzSbQHz0121AVoC5HQbB+8kJtGf2/WK8LqisIzNHF1y7eRN1+D7vGaECI9g5qN1wvxkMe75dhG3MW0nm064/dizX3ddNrv29xJjD97HJx0HbSVCpYCQyhwM7YqDnJld1vrp/tWzZEsw+MDVq8KzKylBozt7V0cTESD9SidDlkzWGkX2fj/Dr0tnwcnNB5t+T4DX3H53rmYZqZt8IV+88wIPgC9j3915s2roH2YVA2tMnOB8ajwnd6uhdU/6Hec9uY+4/eWxGNWo0Q03RQ0SnAC279Magdwdj3mdjNPsXvZY2AiHMzfkvQV5LWpW5ePbs2diwYUOVMIy0UAUwrdcPHw7viLX/Z+88wKMo3j/+vX6X3hslCb2FhN4RlE6AHyoKgggWLGAHAaUpICpgVxS76B9FFAVEQUAERbr0UBNIIb3ncn33/8zutTSNmJC7y7vPk9ze7uzM+35mb3femXfe+faQcPj1z7/CzFEvQAEVvPx8gKwyFu4AsfEDMKRNDc9WSxE+mvEU9Oyn03E8fn5lCs5fTIVvSCS69BmAhBb/bHzYZPIPi7DtwljqhZ4jRsM5qL39pH1HgoCwGNw65yWMuv8xvPDgnVjxjbiu5dWjV4DxbGRYgtCmbfHAy59gyjPP4/E7xuKD3eK6TsnnsoBqjSMFvIOZd4JoBP205U+Me9S6TqSlDNtXrrNL4DO0M1tVhTY3IlA/xlFwZ3y9ebMbYSBRiQARuDEEFEgYMRr46UehuCPznsSpUZsQF+YNszYHz8940y5G00k94CsBnJ2TOJkck7/+CW/saIXDRVqYtL9i4erP8MPLD0GuCIJvcBiQmwN9YSl+uZCPp4bG2Rt0Zl0ZMjJzEVSHxpE+61esWvCBXeaVS19BhNQInY7ZYQqoVQp0HX478MNGIc2uFevA73kBYWrro5ezoDD7GooMGtTQrLDn3ZA7PXv2RHFx8X8SQa/XY8uWLTCZRFccW2Ys7927d8Pbu3ZuxbbrXOmzvCzXKo4Kc599DuP7txPW4TpZWLknHTCW5WD/2Xz07NIG7fuPxPN9hyD5yHF8sf+U4FtpMFQ2vm6MpplJJ5ChF7siOs9/CZ/f2Q0yhQwKmQxKjTd8bffsjRHnhpYil8sxZcoUcJxtLOT6ik9NTcXvv/9e4WKJRIKZM2e6oWHkUGPG1BF24+jq12vw5bJnMK2VD9q1aos9F46CM2oxdOYc7Fz+JFpHBcJUWogLp49jy6ZtmLn6fXQMMSHN9vg4swnPvadB79YR8M3JxbXMDJxt3R59+g9AbLDgi+wouJq9sPjBiFEDV/RA/v4P0Ht2PP5vxggEqmUozs7Ehb/24+vTEqx78ymoUI4+3fvi9ieWYcxNXeEHI0rUjjJkGjlKUg+g9bBnsHTZItzSuyO8OTMKlA7jXaaqycVXgc6DxwJ7RbfT9xfORkLMavRr5o/9/7cM8w+litJ7hWHujP7VOQZUox0dchUC9WMcuYp2JAcRIAIuR6Dl3SvRet6PuKgDirN/Qc8WkegzqD+O7t2L0lKx5xq+TfHtY0OquMmJA0MR+GjVneh8/8eCbj+vfBzPjR+HV3qF45nuLTH+XA5gKcXcMT2xceAE3HVrL+Qe3Im3v9sFo6YZTl4+htY+dTHHTo/Pu9wOsX9RxLzojr54wdpDKGl6L9LOvo6YiS+g9dMbBX1zD76EFuHb8MizUxFpyMGraz5BYXEJWk/9HEfem1CrxW8bokKnTZsG9vdfttzcXMFtji32atu6du0qHHP3kQRzmU0jAxaMnoCgDStx7avlWPKl2ENtO8s+887swuC+98DXpxvmrp6FyMyjWH/QOtlAJkV4UMO4mPmEhkCY6mUBfpt7K9ouUoFN22CNe6lUBnXfSdj7zTtoz4ZzPWxTKpVYt87R03+96jHjv7JxdN9997m1YcRYxI58BFPwAr4QwOTho7mfYdq3M/HmqgV4b5t1cdidn2DYr+vA5l3zZhMMJjOgCsZtL5jQMTIET37yPNZPWCzkcHTL/+FoJcgq73b4LeMMelWculMpFSAP6YQNa55Cz+mvCufOrp6F7m+pIJdKYDYZYWbuo22nYy2b9wMLuIwTmH33WDyrVkMODuV6hwv1yEk9wZlPg0/dhwcnDIdKo4KMr5hmyJCKcw6dBZo6Yxbufd46J6/4JB4eOxRymVSUwZrwrqdexagwz/vNOHPwxP1aueh7ouKkExEgAvVPoJIruFCgyr8NVr26wF64XluKX3/8CSWlWqu7WTMseedLdA0XnSWc+9Ft/bpx097AvFFdxDx4Iz6bOwcSiRT/e+crTBjSVTxu1OPwznV48pFZePGz71FSWgq9gYPU2odXXb42oZxd+WzjHM66CPsWE87onGe0A7qyUpSWin8lSVdRZAHUgr7zrFnz0JacwMp5T+OpxS8jPStHWLXdbHY0iKuUYxPKwz6ZYcQak15eXi7mamSdlFAD76rxPKTov+xD9Ld6wpnKT+OBxJFY/MXvLBpslVxkzPeTM6G05AAWPDAF9y16DRbrfCCf6fMxuFO4cI3zPei875yj7ffALqjuvnG+znmfpXe+lu2Ht+0JhZe1x5znoNfroNPpUF5ejrKyUuTtWIshYx6Ao2lZRTXhgLMcjhSOSfSOY56/99hjj2Ht2rVgI1PusMmUDjnD1I4RE4kiHA+vedzeeZNXJLqKKtr/D+cObMODw/qBdTdxFjP0Op1oGAWGInHqDLQJ8QFM+Vj/ljh6zjhMnrsUK1eswJJnH0cXa9wcg/YcVixlHkcySBS2zquQarBJ0H3ycmz4aDUGx4o/OrPRADYyLRhGreLw6IP/gzgO7YWpEyeAOTIb9Tq7YRTQdxze2n8O41r4wzukBR6eMBy+4GBg97vVeGoyZBI+OJ6GflEsJwlk/uLvElAzEYVNFtUNBclH8eTEYXY5BRkA+LbrheXv/Iw1iybZR41kmgB7OonEyd8aUkg1NufAQMFF3J6QdhqEgOOX0CDFU6FEgAh4GoHBPQfjchFr8MowYIBj4rVdT6kMYx9airReN2HW4jdQVloGo8UMmVwNn1adMX/uXPRtGWZPrgmKQeKYsdCaOMT17ikel/lg7psfIkm+BBaOh097azl+zbFh66/Y9ekHeOeHHSjQ6sDxgEKlhneLtpg29SHEeouuTt7hbTBuzBhYeN6Rr5C7FG1GPIhEWQak0laIsr7Dglr1xtjEROZej25tWwAyb8x66wFc/TbZLmuFnYRbESm8RJm+K3Ct13CsWLIaZ0tLYTRbIJUp4OXtjU6Jk/D0PaOt71s5Oo+8F4lB2ZBKuyOkqldWhSLc9QtzpWPBF5hh5GqbT7shGDsmGxwvQZeeVQMKterTDWPHjAHH84jvPUoQXxHRE1v+OIJ7Hl0kGOEWTgb/qBi88Poq/LJiJvZd1qJv3+ZC2vAe43Do67ex+rOtyC3XwWQBNN4+6D71CSyfNMSOo/2IB5CovgaptAPCne6Dan8PUKDLqGkYHZYLmawPgqxv9iY9x2NMYgAg8UbbED973qxPvf+oSeCvlEImGwNvKXBwI/stiobhwOlP44eXZ6PcaETy3q8x4K5nhGuv7T2EYzqgj8PrCJKgdrh7bCIKOUDWdxrCndt81hJ9O92OsYk8WNdE/y5/Hw3WSUi33n300UfdIiqdM+RXvjmK5QYjOIUKqgohiIG+D72G8ntfEQx+qd14Adr2Gon3to/Aq6UFyMrKg8HMwcsvEBFhIVApxBux4I8v8NreU0JR4VMX4IuXHJ1j8U0lGP/I68I5XdY1AF74I7kMBrMZ6hoCdbCIvRPufQoT7n0MhTnZyM4vgVQmh19wKMKD/J06W2SY+doGPPhSObKzMlFaboF/aBgiQxxGisIvEs9/9jOeW1OKnOxslOk5BIZHIjzIZqww0eQY/nkW9Gv1kMnlcLZ1A2O74tX12/HSB8VIv5YNg8UMn8BwREUE22woO+JOM96B6Z5XwUkkYKOVjk2NNQcK8brJCKVShdoGinZcT3t1TUDCoojXdaaUHxEgAq5P4Jb7gH0nRDnTtwNhrjzpxfVxurSE+YVApHWu8G03AetX33hxmVtd27ZtER0djSNHjtRLVLrxswwXnlEAACAASURBVIAfD4i6lf7BQ6WiWdC1q2kTVg9VYvZOMfW4YyX4vou1cZh/DpIQm2tRHI7rTyLe1rFfu8zrJdW1bCBmtJj1sN7A1rfrpZh/lSkbCR07diymT5+Ojz76yKmR/q+yqTbx0veApR+Kp3atAQb0qDaZSx68smUBYscuF2UL74PNu9ZjRJsoZJ7ahfHdRuKYVeqJK/7A+nlidDuXVMSNhXpxDbDkI1GBkxt4tGtBz8a/q04aOfo7OnSOCBABIkAE6oxAjx498Omnn9aLYVRnQjbKjGSIasFCKV8UtN8ztg9Gx7eAFByunXfMqms1ogs6uIBh5MpVxEaM3njjjTo1jFxZ39rI1rTvJIzEcnF1hOw/MbZTTJXLWo29H6se71XlOB0gAg1BoNbGkUWXh1cXLMNlaTReW/kknEbVG0LuOi+TM5bj8L7tOHouDRzkCGx7E+64pSMUHmpcG7PP4YkFq6HueTtWPTC8ysT3OgdMGRIBItCoCfj7+2Pr1q1QNJIFP92rsqUYOutDjDx6H346egnF6WewLd1pRUqpDF2GJOK1NW/WuNi4e+lbP9L269cPiYmJZBhVwisP7oiNOecxd+FLSE5JRUFhkeB+J1dpEBoWgdBR0/D6tJEIqDEyXKUM6SsRqGcCtTOOeAt+XTocz7x6DIPufxoqkwHnz5+HrurM1CrihjZriSbBzr6bVZI0/AHOjPeeHI+Z7+4QJt5JJTzUvndhWP6XCK0doYbX4V9KoFTw+ODDD2H+MAUPTx+G1nIPtQL/JRdKTgSIQP0QqOhjXz9lUK7XTyAkbiC2HbmInCsXcPDQIZy7mglOoUBsy47oP3AgovxpyOif6AYFWaML/FPCRnjeK7QN3npPjDDaCNUnld2MQK2a/llHNmDoCuYV2h3Pr1iKjEOfIL7/w/8YtYaxmP3ebqx8cLBLY7my6TmrYQS8tWEHuoeZkJwbiABHsBaXlv+6hPOPxHwAS7ELP18sQev2/xA/87oKoYuIABEgAkTAnQiExbTBGPbnTkKTrESACBCBOiRQC+NIj/dffFkIr3j7h69gYIgGxcWdwFZ7FkJ6ymQw55zGO1/sgDogGFOnTIbGaSng20dYw+3WodB1ndX768UZvAlvHcfMCfFC2MXedV2Iq+Un88HgaZFY+mkmDuw9j0fbW6OAuZqcJE+9EWBrmNg2ispiI+GZn85hdyS0gINnVnIj08r5meX0KGtkFEhdIkAE6oPAPxpHxfs+xpLvT0Dh3QSLbxWjiPi37I+XX+9vlYdH2qcP4J0vgPAmE/Dq66/D28k4YolsAfHYYnI8x8FkNgthF9liWc6bxWIW1ntgIRlt59i17DrnzTk/gIfZZAYPCRTWsJHOadk+S282s9VKJEK5Mqlzfhwupp4HJE3wxnTRMKp8PXgeHGcRYuiztVTkclkVmWzlsE8mL2c2wcxDWN9AapXfWRees8AkhPOVQS6svCeWyvOcqI9ECoVcLizCV0UesTAIvDheWKCPyVR5c+YkyG/mIFPIIRPkkaNtn4HAp1+D01oX3qycAX33aAJqJy+Z8r9f2sWjOTQG5YpLHVr6uF70bIdw/3FP43RP6wwSqJy+/8es6XIXI2B2WrjJObSyi4lJ4hABIuCGBCpaJ9UoMPtF0UfUa/43aB9QzZuGN+OnD/cLV/oOGgF1BcODHTbhk8eHIiGhCy7lp+G5iUPQuXNnxCfMQabTanG/vjsfCfGdrecG4/3fzuPi2vuRkJCA9amOZeeKL+4Xjj324SaU56Tg2YQuiO/MrotH33mfo9TpgclKL7h4CPd2SUB853ghTddBw7H+BIulb8QXc4YhISEe249nA5J8PNwvQch7/kZrfGNmWOkK8OWKJ5EQHy+WEx+PLuMexon04gq0ylKPoW/Prpj18Q9IP/StkC+T6fGFu1kuuPzVfCHvT68YkXlwG8YmMHk6o3N8AlbsSRLzKr6CWRNHIz6+M+Lj4/HAqk8qlGH/Up6Jtx+dKsgk5hGP4Ys+RanReVk/I+ZOHIARU+6Hvvg87h7eH53jOyMh4R2UOidjjE6dt2dNO42HQKRjKSGcr2GpnsZDw7M1Peh4pKF9S8/VNVZcSkhQ8CQ91jy3ogFcy3GoFxLo2Kc9IkAEiMB/JsDWOapxM1zl4wIVPAI78ie01afiDCX8LW2bshFu/s49GVUTaS/yfZl1gFC+Z2SkkE6wFkIn8OlmnrcYtfziKb2tx+V8dHS0sC9VKHiJTMYDQfyGawZ7vie+Wi2c79DvFr53FMsXfNOmXvbrl2w8bE3L8dn73+PbsKWRIec79r+ZH9qvg5iu36t8uSGVHyLIJeYhyGT9PvuH80IeBWe38wM6x1rzBt8prpN9H9Fd+W3pDiint77NKwC+Zbe+fCunfMc9+S3Pcyb+9QHdeEDDD5p4G++vAg+vAL55kLXsyCH8r9u/4v281UL+oc3C7eU8/eMlu+5sJ/fwd3yz8ADhvCyiPT9s6E18iLW8rre9xpdy1uQlR/nWAO8X0orvoVDY80P0Ar7YIqbJeP9O4fjQyW9UKIO+NA4C637geUU38W/y3Mahc2PVcvhDjrref8z2kPA8Gtt/53ml9Z6+b4Hn6UcaOQg89wZnf359sMFx3FP3Xljj+A3vPeSpWpJe9UVg+buO+yfpsue+A+qK39+MHPHI/W4RThWa0Lp3T3SuwRXDXF6CjOJCAK3wYJeIKsaaMe0E9gvX5uJQoQFTX9yA0oI0/LlnJZpILTj17kw8/8UBeAW0wKfHU5By5Qqu7Psazf1k4C0WoNkADIh0rCR8IfkYWrQAzv6xC6fNvbEtKRdX00rwxsMjAJixar+4CjNMWgy790VcyJfjpuc24a+9u7Dj9zPIPL0P7634HzTKZvjZqMfppe0EmfveuhoWvR56vRErx7aBRZ+PEeOmY9/JFMT2GoSz+eU4dfIUyjJPIiHIG7h6DE/P/hYmZl4AyLj0J0zRwOWj+5EV2w/bU3KQfPwAXn52JHiLGd+VFSA4WIc9X3+PwNgncDktExcuX0brCC8gcydGDJ8IBDbBJ0evIOdiEmZHegv5ntnv6NLXJh9EaI9bkZZdjluffAPmzLPYvmMPjv76jpD22LdbkMm8BwHoz+7CxWCgJO8SDiuDsXTDPuSmnsNve56Bn1DrPAxcuZBW6e1YLVq8mv43BgLjbgYCrYEkN+wEvt/JXFAbg+aNR0eOA775Cdh9WNQ5wAfo3NbZrdizWMS1Abyt60xs3gukZ9EN7Vk1LGpzPpnHm+vF+1ijBEbf5Ilakk5EgAg0FIGajSNLGVbe/5kgV5fhd9coX1nBBRRma4G2cejuWzW75D+2AWIbHLPf3ISP5k2AT2BT9O4QDXP2adz0xKdC3lM//QH3xDcVgiFE978D36xfKhz36t0GDu8fE5J+34hkwV7ojW2ndmFkuxBIIUP3hD5CejMnvgzN+nKYypjrWyBmzBppX68oomN/PDggVkgrk/PYtSZD2A8ZfwukKhVUKoXwPXnd0zh68RrQdxyO7d2J9kHiG9c7ohO+W3qnkMZ4JkmYV8SMsqQd3wBX2eHe2HZgB4bFhCI2vhfahmhgNpagOOcq8vOB0CaP4NDxVWgRpIbKKwRe/mLoTy48Fr8eOoZpXaMBlQ/iuKpziDa8vUwoN3bWany58lFhn/0r1+ZZ93mIk8g4nPjuQyCfHQ7DJ3/+hWdv74+QZm0xMMYWVt2Ek7/8JFzn06LqgmzWDOnDgwn4+gBvzwNsnrDTFwM/7/NghRuhaut/BKYtERVnUzx/WQN419DR5Ql4IkKA2ZNFTYq0QMKdEiSnkYHkCXVr06FUy2P8k4De2hG4aAbg7CJsS0efRKBeCVgs0BuN9VoEZd5wBGoMyGAuzMBK6zz9PkO71Shh0fl9yOeBJt1i4FtNh+TunVnitR0n46m7+8F5OZ3ju7dAmLnTZgoWj+5UoQzzJdFhfET7to4FSvXp+GObOP/osc+WY0CY4y1/Nu2sEHBhcrzY0JepvKDwYeGpU/FQh95IenUxnrxzBII0DpV5XRE+KhUnPg3r2cJRvi4Dk2d8BnbmgXufRYDS2VCRQCa36iR4xQHQpeP7beKPpLJcLFNT4VnkZHBAcDt8c2wVQq0LnZmNRph1ouV4+7JvkBDpJ8rAmVEQwQPZgKJVuHisLAkr124Vogb2Uxdi3Ruv4cyVKyjKTMGObVsBqRr3rFmE5myQzaLDuvUlwnWd7pqFyR3D7Q1gMTMmcx4WfSdO0FK0cZif9vO00ygIjBkETB0FfPojoDUA454CEvsDk4YDXTqIvfCV4qE0Ci7uqiQb+SspA46dAf7vZ2D7QYcmj94JxLd3fPfEPXavzn2Ax69HJPjtOFCiBW6+X4KH7gCmjwPCQzxR68ahU1Yej//bKsHqzyXIFV9viIvlcd+tTP9qGh+NA4tLa8kCcBUXFYJ1WrNAVV4+gdCoqnai25TgOTOKiovAnIZYNCqNXzC8xf5qW5L//mkpwGMd2+Ot8zlAcE8cyziILtVMp/+7gkzlmejWMgansowI7/wMLv71MqoZG/i7LOicixNwWAqVBC3LThOPqAZhRCtro71SGoDD5R3fgTWxBzSrPhT0nwXpAJR4/It3EKl2NjKAYyf+FHIc9/idiHCWhNfhwFebhXOdOnS1l2q4ehLbhW/BmDzaFi2PHbAg8/g+QKJEz5hoIYVE6YP9G99Cv/EP4vjFI1g2fQzee3sYvvxyHYa2DRMepbq8dKSYDIDmZgyNto2oAGVXzkP0QvHDrYmVQpHzZhzbK7ruSXyVQj7G9CTsEUoNwmTWsqy0FR3fjkwAXYYn4qZQh4ugvvgqSvIKAP9hWHl/N7sRyJcXYkkyo6rEqP7i7OniQ78gSTBWOWxeuxpbJFKo1Rr4BQSgWfxIvLRiFe4a2AGMMFdegi1GFn7MGw8+/xQUtqEBJ7n0Wck4KXz3xugeNHLkhKZR7bKIdWufB6RS4LMfAQsHbP1d/GtUIDxYWRY8dNadwMtPsREUz29EymQSrFsB/O8x4NhF4Fo+sGgNsHgN0L4ZwCbvez4FD7qheaCgBDibJhGeTzbNurbmsfMjwMeLatPGxNU+z6ybibhp71UQ64vfz2Jyv2p6aSzlWHz3KCxd/5s9vZffcFzO3oYIdc0GlT1xbXd4E4qYYcS2/GKYnAKD1TYLcGbAZB01KioUZ33X+mJK6A4EnE2SCvIWZl8Rv48YiJaO9nyFNOCK8P3bYhikmG4dK54TvumRe+kUENQRc+IrLzJqwbWzFwHI0d9q0NgyMKX8iWf2ijdvZMdmtsNI3vu9uN9vAToFOQllzMC+n64J7mitY0Pt6b06jsXhU0NweNMbGDHtWeQd3YFJE+/A1UO74aOQIvfSRZj0FmBcd7R26jnIz2RysW0oOoVU6rYwlmDuHjHusfe9t4N1glw69LOYvNdsdAp0kks4asGRL1YLe916JorprP/zUw8hvRxofVcnNHE6o8vPBif88PphUIw4OnZ+zy4hhe+w15Gy8V4oJaxjhYUVl0POwnOz1q110xakwcBcCmP/h4ktxblLtnO2z5TfrZMQmozBTU3UtsP02UgJvLMAmDgCGMvcVchTwGPugtAAYOubQOd24hIDHqPYPygSEQrs/pjHkysk+GSbmJiZhmdZn5+13+8fsqDTLkxg+ijg9WcBjZoMIxeuJmgzqv7Ypr+9DpP7vVhF7PITX+FFJ8OIJTBzB1Bq4urWOKpSMh0gAlUJ1GgcFdnGrcMDUck8sOfC5aXjS2vo7DZdxBEb+0m2U3Ialy7z8OkahiZVnmFG5KdfBCQqBPpUbMC/9txCiO7ELdE3WpyTw7L7c0+ukH2n6UPg3FlkSjmBXyyAyqspYkIq5iVXeaHPxHm40rUd4tveirQyrTDEyzJKTT0uLGQ7OD6mQk+ixDYrvX0kvCsOdiH52I9Iy8kH/LrgvQnthesO/5EtyNXqnpsryCUcNBZg41eiNq16tREO2f5lH/hFcMzr0rRiL0ru1SSYDBZgdB+0tPoh8mqxe0MSHABfX58a64TlXZh2HmVaIKxPO4RU4S6W/stB5qIH9HrgFkTWkEZMSf8bAwG21NagXkJsEBw4ARw+A1y8Cuj01CnmTvXPfsrscdqqOdCrE9C9k2fPMfq7uvHSSPD+C8DDk4Ct+4Cd+4HzVwA2F6nSagZ/lw2da2ACzFXSXw20jwVu7s0jcYBEcA9lI4S0uToBRx2xtahY08r0/TrsyF+CYcEVO5JXvC5OZYiKAq5dY+2+AldXjuTzYAI1Gkc2T6w4P8e8nsocCi6fRJFw8Bb0a1rV9U57dAcuA+gc4hj9ceShQmh0DHA8FTuOn8fUgS0gLS/AhlWP4bkfxHWT0GMKYp0cOXfnMxc9FR4c0sqRDesIPCgGFlBGTkSYRobS1DP46Vg+Ro3uBx+FDGB+r+fOg7kp+6plEBeB5ZDyxybBOOnf2uG6xzL2DbaO4yS9jQ0HnsGDvUX5rx3diVl9p4KNG41b/Dh6+4n4/shKEVzgZvSvKBfLy5SfjnWCtEHo28bJ4Z0rw++fbhLOxHbvLXza/l28cAh6Hkjs2cpuBPkFiAs5GDZ/gvN5E9ApRAwQwVlMyLl6FZaIGDTxEuXJOL0PzANvRKtqDFZWiPYCNr7D1l8CZg4caiuWPomAMFn/lj4A+6ONCHgCgYT2APtbMMMTtGnsOjga242dhHvpr0RMq+ZIPncJsKTjhXf/wJAFg53mQpfht72iF9I1QxsE+KWhyDqvrLKeZXmp2L5zD86dTUJOcTmkai/EtmyHXn1vRq9OlduaHP7YuQ0H9v+Jq/llCG7SGsMTB6JG5wjOjGtJR7B9759IungFrI86LLoNunUfiBED4yqLQt89mECNxpFN59bNqho9tnPn/jwj7o4chpgqnlkcDq9/RTgf1eMO2yVOn1I0730z8MPH2PD4KBx54yYkJzt8TdECCLqzHxwzgfTIvXgCCO6MCdEVC9u58ZyQr3TmOHhLgZ/Xf4A7570BoAXmLLwfuUe+wac//SWkGfjgO4JLHSx5+O1D0X2uRZwYvc4mXGDH3pgA4BsAD/VpjgW33o3hGT/iy4PWnoxWs/HR/HusyQ3IPHsI8G+NcbE+tizsn7kXj4j78XcjIchpDK70Kj4RJ/0goavTyoUA0o/8IlzTpUm8PZ/2E59A9MwvcFW7B3GhXnjsuRfhU3wRa9d9jbzicsw5XoxX4lldmXFi8wfCdfFx1bdwT382G2JQskEY3LcGA8peMu0QASJABIgAESACROB6CRjx0Jsr8fK48cjVASmbFkI/fy+85OJ0ANNfH2LfVSE8F/Dil+i59jbsOJpatbDMQ+gb1QvWBVuqnB/1+WFsubu7df42h7Mrx6D/M1a/WmvqJXPZbG6AdS+LEyQc2Rz6chkGTH2+WuPJ75U9KJxzk31uuOMq2vNEAo6JKpW0U0pEA+TnJKdlqCulOZXHRnKAUbd1F262Cqc5HXZuEJ0XEm5xNPKd00ycMQ/zxyQIh5hhpPD2xXPvbsFXi+8Hkr2xcKCTu5nhCtKTgaDoUFjjt9mz2qZl41cBWDZKXLOoa+IduO8WFiAiGSuXPisaRq0HYNU3v+LnWd0EVzgu5xy+tubQsWmldX4Uofgk7QQeH9NdSJH33TrBMJJGtcH8NV8h99QKBNvIGVNx9TzgFxmISGVVWzPjgtUVcGQ3J0MPKEu/jNNC7jehe1Mno4rLx+H1LPIe0Mo5UEJQN/y05xsMElXEm8ufxYtvf4K8Yh8kzliMJ9pZzUhzIfaLA2lo26Gi0SVkCmDhR2IPzQM71qGJ01wr23n6JAJEgAgQASJABIhAXREwRfVC+8BgIbtrZ6/gQIFezNpSihcmLBD3vVrg9yldIBXC1VUs2VSSgUE9bnYyjCIxftId6OSYZo5ts+7AriwxAnDO4a3o6GQYMfdMlbW9w0aOKhtGmb+9jhF2wygA9y1ZhfdWzbPPBy95ZhC+3lt1DlVFKembxxCoaTXZrMPfsfmrPCYt5001JLJYzLxOZ+QtNS22azbwRr2hhqvFwxzH8QVZ6fzVtHS+xGhNKuSr47lK+Zr1Ot5kslTJjzOZeJ2+kpQcx5cV5fPpqal8RnY+b6kkZMrGl0T9wh7mc81VsrQfKC/K469cucKnXsvi9caqZbOEZoOONxpryMRi5o3l5VXKF68z8EZL1TwtZiNvMFTSxyoR41WYk8lfSU3lM3Nyeb25armcSV/D9Rxf+PtLvBfAB/a6vcZ6tStPO0SACBABIkAEiECDE3hhDc8ruol/ew81uDi1EuDA8kSxnQXwLyeV8L8/3cf+vd0rv/Ks9VJ6ca/9WNDgKUK+w+ObCMeUPv78hRKxLXRp60JeKU6B5b0j+vDHcrRC2vKcC/zAZip7Hpjzg5Dv1y9OsR8L7pjIXyiz8MaSVH7euHb240Bb/qCYDb/4rkH24w+8udWu328LH7QfH/riZ8JxY2kqHxcszMrgw5s/wJdUbYbZr3eVneXvOu6fpMuVGteuIqQLyWEb/6hi7AVGiSGkcfKKMH+lSgKw8L8yqNUKJ7/RSqlkSihUFSfdVUohxL4PDG+C5k2bwNfmdSbkq2Zh7itsMpUacuswrPMJiVwOtarSqI1EAm//IDRp1gxRYUGQ2iZRWS9c8TlzmgOCl9yHkEpBF5zz1vgHIzo6Gs0iw6FSVI9LplRDweY2VbdJZVBoNFXKZ0llSiUUTlHmbJdLZQooqxmFYufZWgEBoRGIbtYMEaEhULGZ9JU2iVxV/fXadAT2nyesyTt20YvWBWMrXUxfiQARIAJEgAgQASJQxwT6PbsStlUVzz3zMK6Uc9j5q7hsCytq6LBpNZRoxJ8fLLW7u7V69i10CRXnw2tCW2Pz2scc1+0/CT1MuGiN8MtOJD77Elp7S6HwbYYVG37BIEdq654Z5y8csx+9eWgXFBUVCX/xE8fZj/+STEEi7DA8fKf61j4LLxDSBOOZ8me+wd4sceFVd2eRvfcN9OjRG73jWmDt5qNQN+2Ig5MbzyS7n9cuE6qw06SleHtEa3evTpKfCBABIkAEiECjIODcWWwLqOt2igf1wshBtnUVz2HnHyexa7k4RxpojjunVV0n0qajQVjnUfw28Wbr/ALrSb+2TkGt/jiPMosZ5YVsdUlxG9jDaW61VIHKYRsAPcrZYlrWbVL7JggMDBT+AjqOsh12608LG/+ybs73ku0YfVYkUGm4xemkMggvfngnsM0Mr0qjLk6p3GpXmyWBlDfDoArF8HFd8cCL76Cl39+PbLmVgn8rrAE5f+bj1lvvwNxXHoVPjWbx32ZCJ4kAESACRIAIEIEbTMDLKQ5VuXW6zg0WoQ6Kk+PWgf3x2R5xHc135s/AKWsghqCJM5AYUfMkaOcmi5yrFIxfWPTeJp5RCBnunL7c2TKosHCL7ZqKS1b0HDIS4ZqqzWNNv4pGmeNq198rKRVlZIaRmtYH+8cKq1r79kskaHffV/juPvsBt99pccdjOHiH0/Cr22v0bxRQYeqGjZj6by6htESACBABIkAEiECDEwj0Z13/4lyDrLwGF+e6BRgxeSLkL3wBtkTmqaPWxegBPDV+lH3pkuoyNwtTCMT1Htdt/gtPdxooTr3geaTu/tlxyYABCJRLIHVKf+DgBcxq101IYyrKgzWGsOMaSCBVMbbi8Mq8977G+JaOWMlOCd1yl+d5XBKC/0mgVgDKqrMx3FKv+hTa2biuz3IobyJABIgAESACRIAIEIHrINAszDEJ+1Syk4/UdeTVkJcoW92E+dWsMjJ0YNu/EUuJvlNn2s+fX/UwdlwSIwHnnv4Rw59cbz9315yhUEKNjomOJWS2Pj8HRzOLkXN+L27vOQxJ9tS2HW9Ete9h+4InF7+CItEOE44ZCrOw6e1VSLpmDTduT+keOyYzcDFLlNXHyxG1zz2kbxgpyThqGO5UKhEgAkSACBABIkAEakUgtqkj2cnzDkPJcdRN9qQ+GP3QvIrrBfV5F53CxQALNWnRasRjaB0qLntiKDqLEW3C0KJVLMI6j8F5tlorgPC4W/H6sJbC+NqAwXfasypO+RXdowIQ3u4mbE7JAOAU/9uaau7dk+zpr365DE2DW2H0+FsxtHcC1EGRuPXROTjopgEZSrUS5BeK90yAH+DNFnmi7W8JkHH0t3joJBEgAkSACBABIkAEGpZATFMekdYlGQ+cAgqLXX/0SCK1rSYkhcwpCkCHfiMRILixCWF7sXrdPfBytvckorHDDtkuUwW1xPE9XwvRh201kXJZnLsEuQrhTcbhx71fIdQauTiybyIOv9wfPkpbGGTxqoCwwXj3rYnWLKSCex/7Ev2/J7D7kwUIC/ATDDdt8WVs+34Tdh48AUhl8A0Kha/SOidKIgFnFYyHzOqMZ5PK9T6ZCvnWeBODE4B/CCLtego0gEQSFla8AcqlIokAESACRIAIEAEiQARqSWD9VuCeJWLiu4bw+GSFuLxHLS+/4cl0eVdx5mIGzAovtOncGUFKsT+et5hw+cxpFGiNkHj5IT6+PZxDYyWfO4mcQi2U3j7o1KkTlE5BwXTFeTibdB5XUq6i1GCAt18Yotu1RvsWsfBlE2oqbBzSkk7ir1NJKNAZEN68Dbp0S0CQVIuTpy6CUwQirmt7aGzDBLwFJTlZuHDxHJJTr6HcaIa3XzCaRDdH8+YxiAzxF4w8njPj3MkTKNIZ4esXi/YdIiBzNu4qyNCwXwxGoMNYIM06T+3C90CM0yhkw0rnuqWTceS6dUOSEQEiQASIABEgAkRAIFCu49FhvATX8kTXqMNf8mjV3EVb5VRnLkHg8x+A+5eKoozqC3z/pkuI5fJC2OxllxeUBCQCRIAIEAEiQASIQGMloFEDk4aJzj5aHfDICxLo3Dasd2OtxRund3Yej8XviuUxL8CZjhgVN04INy2JjCM3KnEwDgAAIABJREFUrTgSmwgQASJABIgAEWg8BCQSCZ6fJUHnFqLOe44Di95uPPqTprUnYDQB45+QICNfvGbaaOCWvrW/vrGnJOOosd8BpD8RIAJEgAgQASLgFgSUSuCt+TzkVm+6tzcA818HTCa3EJ+EvAEEcvKB/z0OHDknFhYbDrz4OA8ptfhrTZ9Q1RoVJSQCRIAIEAEiQASIQMMS6NNFgi9eBFggNgsHrP4CuH8RkJlD8bUatmYatnQWXu3EOR6Js4Cdh0RZooKBn98DggNpbtq/qR0KyPBvaFFaIkAEiAARIAJEgAg0MAHWEP7mJ2DKIocgfhrgxVnAfbcDMpnjOO15PoFSLTB/FfDJNsBkXcDWWwXs+wTo1Mbz9a9rDck4qmuilB8RIAJEgAgQASJABG4AgV/+AGY8D2QUOApr1QS4qTswog/QvRMQGcZcqmjkwEHI/fdMJh4p6RL8+Rfw034e+45LkFvk0KtPe+DDpUDrGMcx2qs9ATKOas+KUhIBIkAEiAARIAJEwKUI5BbweOIlCX7aD5RVE73OSwkE+QAKuUuJTcJcJwG9EcgrdYwQOWfD3OimjwUWPcKDBfCg7foIkHF0fdzoKiJABIgAESACRIAIuAyBrFzgiReBTfsAmn3kMtVyQwRRyYE5k4G5DwIq5xV1b0jpnlcIGUeeV6ekEREgAkSACBABItAICfA8j8xcICkZOHRKgpPngdRrQFEpYLbORWmEWDxKZWb8BPoBbaKBhPZAtw482rUAAvxopKiuKpqMo7oiSfkQASJABIgAESACRIAIEAEi4NYEKJS3W1cfCU8EiAARIAJEgAgQASJABIhAXREg46iuSFI+RIAIEAEiQASIABEgAkSACLg1ATKO3Lr6SHgiQASIABEgAkSACBABIkAE6ooAGUd1RZLyIQJEgAgQASJABIgAESACRMCtCZBx5NbVR8ITASJABIgAESACRIAIEAEiUFcEyDiqK5KUDxEgAkSACBABIkAEiAARIAJuTYCMI7euPhKeCBABIkAEiAARIAJEgAgQgboiQMZRXZGkfIgAESACRIAIEAEiQASIABFwawJkHLl19ZHwRIAIEAEiQASIABEgAkSACNQVATKO6ook5UMEiAARIAJEgAgQASJABIiAWxMg48itq4+EJwJEgAgQASJABIgAESACRKCuCJBxVFckKR8iQASIABEgAkSACBABIkAE3JoAGUduXX0kPBEgAkSACBABIkAEiAARIAJ1RYCMo7oiSfkQASJABIgAESACRIAIEAEi4NYEyDhy6+oj4YkAESACRIAIEAEiQASIABGoKwJkHNUVScqHCBABIkAEiAARIAJEgAgQAbcmQMaRW1cfCU8EiAARIAJEgAgQASJABIhAXREg46iuSFI+RIAIEAEiQASIABEgAkSACLg1ATKO3Lr6SHgiQASIABEgAkSACBABIkAE6ooAGUd1RZLyIQJEgAgQASJABIgAESACRMCtCZBx5NbVR8ITASJABIgAESACRIAIEAEiUFcEyDiqK5KUDxEgAkSACBABIkAEiAARIAJuTYCMI7euPhKeCBABIkAEiAARIAJEgAgQgboiQMZRXZGkfIgAESACRIAIEAEiQASIABFwawJkHLl19ZHwRIAIEAEiQASIABEgAkSACNQVATKO6ook5UMEiAARIAJEgAgQASJABIiAWxMg48itq4+EJwJEgAgQASJABIgAESACRKCuCJBxVFckKR8iQASIABEgAkSACBABIkAE3JqA3K2lJ+GJgBsR4HkeFo4Hx/PgeQh/THyJhP1JIJMCMin1V7hRlTZaUdm9zAPgOPFeFkCw+xiAVCqBlN3UtBEBFybAnsN6owXlBgv0JouwrzNaUKI3oUxnRrnBDL2Rg8nMwcIe2Ozelkggl0mgUkihUcrgq1HARyOHj0oOlUImHGPHvVRyyKT0G3Dh6ifRakGAtVeEZ714+wsPeHZXs3ubtVk8eSPjyJNrl3RrEALspZqao8XVPC0yC/XILNIhr9SAUr1FaFCyh03VjT1sWMMSCPJSItRPhchANZoGeSE61BtNgr3oZVsVGh2pZwLlejOu5mqRll+OrCIdsosNKCg1oEhnhplzuo/ZrtO7UiGTIMBLjmAfNcL9VYgI0KB5iJfwp1bRa6eeq42yr4GA2cLh1NUiHEkuxImrRdCZLIKBL4cZXtBBIzFBIzFCKTFBIbFAJuEgBweJhIPw8IYUFkhg5qUwQwYDJ4eBV0LHK1EONQxQCgYU6yBoHeGN7i2C0Kt1MLzVihokosNEoOEIsLZIXolBeMZnFOqQXahHbokBhVojSvRm8Za3ief0jGePeo1CikBvJUL8VIjwVyMyUIPmYd6IDFBDznp63XyT8NW31NxcLRKfCNQ/AfbTuZKjxcnUIqTkaIWHjFarBWfUCi9YNXvJSi1QwAKphIMMPKTgIJXw1nakrXEpAcd64Xn2yV6+UljYy5eXwsAroOMUMEINhcYXfr5qhPmp0S7KB3HRgQj2VdW/olSCxxOwWDicyyjB6fRipOXrkF+qh15bDp7dy1ITVNZ7WS7cnRxkEnYvs/tY/BNuaJ59Y21Idh9LhHtYbEjKYOLl0An3shIytTe8NF4I9lMjOtgLHZv5o02UD6Q0aurx91lDKJiaq8Xu09lIzi5DcVEhvPlS+Mj0UEvMUElMUErMwv1cF7Kx/gJ2rxt5OfS8AlpOiWLOGyrfIDQP8UGvNsHoEhPoEY3HuuBFedw4AsXlRpxOLUZSRglyig0oLNPDWF4KOcd+CyaopKxTgLVTWBvF0V4R+rwk1raK9RnPnu/sDWDhJUIngdhWkUPPKWGECnKND/y8NQj2U6J1hC86N/dHRKDGrUabyDi6cfcmleQBBJhBlFGgw5HL+dh3OhN6XRn8pHoEysrgL9VBIbXUq5blFvay9UK+xRvlnArRkSEY2DEcnZr7w99LWa9lU+aeRYAZRBezyvDnhTwcOZcJKaeHv0yHQKkWfrLyOmswVkfNxElRwnmhkPNCiUUDXq5B3/aR6NUmBC3DfdzqJVqdfnSsYQnYntObDqYhKSUDYbJShMuLoZKaG0Qw1ojMs/giy+QP74Bg3N4nBgmxgeR+2iC10TgKZb+BMr0ZZ9NLsO9MNi5fyxXGNgOl5fCXaeEtNaC+PD+ZcwzrHCi2iM94LadGcGAA+neIQEJMIML8VS7/jCfjqHH8TkjLOiLw/o6LOHA+B22UWQiTFwuucHWU9XVlY+KluGIMwzVLEB4Z1lrombyujOiiRkWgoMyAJRtOw6grQztlBvxk+gbXv9DshfOmKAT4+WHh7R2F+RwNLhQJ4JYEMvK0WPTNKXSSpwgGvyspwUaXjutj0L19DO4ZHOvyjURXYkey1J7AhWsleGXzOfhzhWijugaFbfSn9lnUaUpmMKWZgnHJFI7bejbF+F5N6zT/us6MjKO6Jkr5eSQBg8mC5d+dhawwGZGKQsiZD7oLbcz17oolEkN6dcTwhEgXkoxEcTUCaXnleH3zKTQxpwgjRPXVe3g9ejPX0kKLF3KULTBnfBzC/NXXkw1d04gJsB7zJz89iljzBfi6gNFfXVUwN6TT5tZYOqUH/L1pxL86RnTs+gnsOZ2Njb+dQTvVNcHF35ViJzCvgaumEDRv2Q4PDWt1/UrW85XuP2uqngFR9kSAEUjPL0d6bjGaKvJdzjBi8rF5Ic1lWVi37yqYIUcbEaiJwNajGfAzZiJAXl5vbhU1lf1Px9l8vGC5FkpdNnadyv6n5HSeCFQhwKLLFZQZhXlvVU66yAE2L09v5mByDmriIrKRGO5PYMdf6YhXX4GX1Njg3i2VaSqkHFqpcnD6UhpYdEhX3cg4ctWaIblcioDJwguTbFmAhGqDzTWwtEwmNgeJbSwiE21EoCYC5UYLyni1S97HTGZ2L2t5FbSGhpkfUhM3Ou4+BNgcn2PlzVBg9gazP1zlmc3kMHAyHC9vBp2Fml/uc0e5l6SFOgu0bC6nLeaTC4nPZDJzUmg5BVg0VFfdKKaqq9YMyeVyBDhdMY6YI9BcU45minyX6ZExcTJcNIYjRwuAvJBc7r5xRYEyS8zQ+USjrTIL3jKDy4hYbNHggjECJWXlLiMTCeKGBMwG6E5uxNGoePhFtUGorBQRikJ4SU0NogxrDOZY/HHN7I+SkmLoL/wAVUwvAN0bRB4q1LMJcGYjjmkDEeXjjxhlLpQS1xihYR0VmeYgXDUEwKgvc+lKIOPIpauHhHMlArxJi+ITP+JcTB+khjRHpNqIAFm5EPWFhYS9UX69bF5GOadEGadCvsUHWSUmmLJOwpJ7DpreM1wJGcniogQMyfuRLZUhv0kCwgJDESovha/UAC+poV6j1FXGweZe6DglSjk1sk0+yCsshjltOyRKb6B7u8rJ6TsRqDUBTlcEw7mfkJd6CEVN4pHsGwVfX18EKk3wleqgFkLUm8VQ3sJaRrXOusaE7Nls5GUw8groeTlYlK4isxqFZQaYS7NhztkPLj9ZCHjPo2eN+dAJIvCfCFiMKD3wEVJa9EdmWCtE+EgQLCsT2iosbPeNaquwUSITLxM8AYos3sjSKVGadw2mlM1QtBz0n1Ss74vJOKpvwpS/RxHgdYUwJm2DEUBpWDsomnaHxCcCSikQIi8XHkB+Mi3kwlpGzLOcbbZP/O1DyXkIXBwNd6wbo+cUwkR1ZgwVmtXgOA5c/mUYr2wHX54vlCJR+ngUa1KmHgnwHCzZ52DJPoN0lR+ymvWEPKIdJDIFgmQGYd5PgKxMmMsmrmXEZKndfWyT2nY/V76XmTFUYPFGntkHxWYleIsRlqyzMKYeBEziiJE8KsGWDX0Sgf9EgD0fTRd3g40Z6SFBfmA05KFtIAuOBeQa4aGskAK+UqNgMGmE9V6Y0WSBDGwhWHFNL3b/s18AJywAKxUafQaeLQKrEDqrtBYl9LwU4DmAs8BSnAFL7ilYspMA3jV67v8TSLrYrQhIeAtMl38T/sr8miK9RX/ANxpyqQShCi1CZGWo3FYRWxyimv9kQNme7yw1e8bb3g5sjcYyTo08i4/wjGfuoxKTFoaUP2HOOi2skOQOIMk4codaIhldkoAl5xzYH+Rq6JXeKFP54qpvBKS+4VD6hEDu5Se8WIXFXwVjiS3xyguGE1tkTTScxIcK85FnDxV2VPizLQhrNsOgLYKlNBdc6SVYtLmAkS3OWQZwruuv65IVRkJVS4A3lMB0aSdMl3+FROWDa0pvZHqHQOYbCblfGJTegZDKpMLigKyhyO5QOfuTigsGsvuYvVTZGfYnLPzKSWEWlzwWFjdmCxtztnu5JBtcyTlwunzwBq14L7MGJW1EoN4J8OAKr8BYeEUsSaaERK6CXqZEmUwBSBWQKDWAwgsSuVroLJBI2XGpdf6GaPjAYhSMep49i5lBbzGBt5ggHDcbwJsNbtMIrHfkVECDE+BL0qE7/hUgUwnP+DKlN1L9IiHzjYDCNwQKjdhWYQFxhIXqwUPBFoK1Lgormj9MDbF9wkb8hee7tc3C2i7suc8ZdDCU5sNSmglLSQZgKAVnKLN3etnaPA0OpBYCkHFUC0iUhAj8LQGzHrxZDwsbwbG+dNnIkrApNJAyFyG5WnwwyeTCC5eXsMm44qNCwnPgWc+ixSy8cGExgDfqhJcu61V3pweKTW36dEMCvAW8vlj4Q8k1WDJPCiOkwlgOaygqvSARGo0qQK4CpHJIpHKh511iNY9YrznPsXvZ2lA0sd+GTjCC2H1NGxFwKQJWI4fJVJdz1+mZ7VK1TMLYCLC2RbkBKM+HuSgVrHtVeCpLJJAovIVnPGursA4DyJXW57vM4fLC82Ch8sGx57sJEDoC9BA7CbTCiKmtKHf/JOPI3WuQ5HdtAiYdOJPuumWkl+x1o/vXF1osFshksn99XaO4wNoBwKOgUajrqUoeO3YUXbp0pYVHPbWCSa8aCQiNetYl+U/+YjXm4MEnmNFjLBNH8T1YzX+jGsWS/De0KC0RIAIeS+C1115DVlaWx+pHihGBxx57HG+++abY+0s4iEAjImAymfDhhx82Io1J1f9CgIyj/0KPriUCRMBjCGRmZmL8+PFIS0vzGJ1IESLgTECv1+O9997DRx99RAaSMxjabxQEVq9ejWeeeaZR6EpK/jcCZBz9N350NREgAh5EoKCgALfddhuKioo8SCtShQiIBJhL0cKFC7Bw4UJ8/PHHZCDRjdHoCGzcuBFz5swBG0mijQjURICMo5rI0HEiQAQaHQFmGHXr1g3x8fHIy8trdPqTwp5PICAgAG+88TpeeuklvPXWW2QgeX6Vk4ZOBObNm4eff/4Zzz77rNNR2iUCFQmQcVSRB30jAkSgEROQSiUYNWoURowYgXHjxpGLXSO+FzxZdR8fH8yd+wzef/99fPDBB2QgeXJlk24VCKjVaixZshg7d+4kF7sKZOiLMwGKVudMg/aJABFoEAIpKSkwGu0B0BtEhvz8fDRt2gQymRRjx46BVqvFxIkT8cMPPyAkJKRBZKJCPYPA8ePH0atXLzCjxFW2qKgowUBiPelyuRzTp0+nSF6uUjkeJgd7lqanpzeoVuz9YnvHaDQaLF36AhYtWiwYSMuXL4dCoWhQ+ahw1yJAxpFr1QdJQwQaJYGxY8fi0qVLDaq72WwWGotMCDY3Y9Kkidi8eYvgZnfixAkwdyTaiMD1EOA4DpGRkXjttVev5/J6u4YZ/e+++y4ef/wJsM6B2bNnk4FUb7Qbb8b79+9HYmIipNKGc1ZiobzZPCNbKG8my6JFC7FgwUJh5HTlypWNt4JI8yoEyDiqgoQOEAEicKMJsJ7rb7/deKOL/dvy2EvU9kIfNmwYvv32WzRr1uxvr6GTRKAmAux+UqlUNZ1usONKpRKLFi3CG2+8IfSeP/744/YGZIMJRQV7FAFmmDRp0gRvvfWmS91b7N5fvHgRli1bLsj1yiuveBR3Uub6CTScGX/9MtOVRIAIEIEbQoC52I0ePQpt27bF5MmTaR2kG0KdCrnRBCIjI/DMM3PA1vpas2YNzUG60RVA5TUYAW9vbyxfvgy7du0SXOxsrncNJhAV7BIEyDhyiWogIYgAEXBVAsz9grnYtWnTRpg3UlZW5qqiklxE4LoJBAUFYc2ad4Uodq++6lruf9etFF1IBGpBgD3jn39+CbZu3Yqnn366FldQEk8nQMaRp9cw6UcEiECdEGDR60aPHo3+/fs3+OTiOlGIMiEC1RBYtmwpmHsRC3dMGxFoLASYgbRkyRKw+VGPPfZYY1Gb9KyBABlHNYChw0SACBABZwLMxW748GEoLS3FK6+87HyK9omAxxDYsmUrEhISwObZ0UYEGhMBHx9vzJ8/H+vWrcOWLVsak+qkayUCFJChEhD6SgSIABGojgCLOPbLLzthMBjwwgtLq0tCx4iA2xJg9/dHH32MoqIiYf4F60mnjQg0JgLl5TohYuP999+HMWPGNCbVSddKBMg4qgSEvhIBIkAEqiOwYcM3OHbsGCisd3V06Ji7E/j0088Ew+i7775r0JDL7s6R5HdPAuXl5UJY72nT7sH8+c+6pxIkdZ0RIOOozlBSRkSACHgiAYvFgm+//U5Yh2nfvn0IDAz0RDVJp0ZM4P3310Kn0+Gnn36CWq1uxCRI9cZIgN37S5cuA5tX+txzC2hB2MZ4E1TSmYyjSkDoKxEgAg1DwBVCqLL1lpzdiZhhtGPHL/j9999x+PBhMowa5tbwiFKzsrKwYsVLDaoLu7fnzn3GLgNb+Hjt2g/AXOpYAAbne9+eiHaIQB0QYGsdGY1sEdY6yOw/ZKFQKCqstcRGjJ566mlMnToVy5Yt+w8506WeRICMI0+qTdKFCLgpAdZz98gjMxtc+kceeRhdu3a1y8FGjJhhdODAATKM7FRo598SaN++vXAPsQZiQ25srS7n7cMPPwLrlGALHJNh5EyG9uuaQHp6OmbObPhn/MqVKxEYGCCox+YYzZ07D7NmzcQTTzxZ1ypTfm5MgIwjN648Ep0IeAoB5s7T0CNHL730EvR6vYCU9aSzOUaXLl2iESNPuckaUA+NRoP4+PgGlEAs2svLyy7D2rVrhcVeWVQulUplP047RKCuCfTr1w+nT5+u62z/VX4mkxFjx44D8wZgGzOM2EjRHXfcIYwcMa8B2oiAjQDdDTYS9EkEiECDEYiNjW2wsm0Fs0Uw2cZentu37xCCL9AcIxsd+vQUAsyV7oMPPhQMo82bN9OIkadUrAvr4e3tjbZt2zaohKzzTalUCjIwVzo2YsQMoxUrVjSoXFS4axIg48g164WkIgJEoIEIfP/9D9i+fbsQlY6CLzRQJVCx9UaAGUasoUhR6eoNMWXswgSYd8CCBQsEVzo214g2IlAdATKOqqNCx4gAEWiUBDZt+h5+fn6CC0hAgOiX3ihBkNIeSYDNeWJ/zDBivfm0EYHGRuDll18Wgi+wOUbkStfYar/2+tIqb7VnRSmJABHwcALM7eLHH38EGUYeXtGNVL3ExEQwVzoyjBrpDdDI1ZZIJLj99tuFuUY2F7tGjoTUr4EAjRzVAIYOEwEi0LgIREVFYdeuXbDNPWpc2pO2jYHAwoULaY5RY6ho0rFaAi+//BJGj06s9hwdJALOBDzUOOJgNFmEIVNpQwfVd6bt1vsiU4VcXmGNALdWiYQnAk4EnnrqKbq3nXjQrucRkMlknqcUaUQEakGArW80ZsxYesbXghUlAf6TW53ZaBBW1WZrlLA/vcEIroZ1HPjyPJw6cQLnM/Lqnfu3Sx6ASqnEjO8O2MvidQU4c+IEzlzJQg0i2tPWyQ5nEtkYjLXKjuc5GPSMox4mS92vhVF65AvhoSCRzEGBGMmyVnLZEr17/ziB6ewD12yH6JMIeBQB5nJBGxEgAkSACHgeAfZ8p2e859VrfWl0/cZR2WkMCQ1DeHi44y8sFEGBPfD+7pOV5NXj/26KQdfu3fG/WbMrnav7ryfPMaPIC12aRFgzN2HzxD7o0r07RkycDF09GB8VtDAXY05QiMglLBTPHSmscLrqFzM2PXsHwsIYyzAkPvcLuKqJ/tORpN3bxOvv6QXf66j1o1fPAAhFn2j//yQHXUwEiAARIAJEgAgQASJABFyVwHU0k0VV8n/7Hr+VlKC0XI+g8CgEBytRUlKC4uKjeOiWeEyZ9zXsNojFgJ+OaMHWV4ht379+WXC5OLPzLODrg+5NxHVLwJnx6/EymMxmhHYYCmU9exbo089hVXEJSktLUVpSgremvYfyvxkMOvjxStz20rcoYelLS6H1kqCu+7C/OZIlcL9tcl8o/m3mliykHEoBosLRL4AWC6zfG5hyJwJEgAgQgeslIJVKADcYJZDKFHX+nr9eZnQdESACFQlcn3HEW7B/y09CTk1vXYsLF88hJSUPhsJMTBnZQzj+5ferUGq0+m/J/PFZWT7SruXghxfvryhBHX/js05hTz7g5aVCWIB1NXCpBquTziDtWjYOfDwP8np2n8lMSRK0Uob5QgPAlPol8vQ1jAWVpmHhquUAxFEuHx+g+YCOdfzQ5HD12lUAkZjRN+pfE+cyDuNYCRAS6gc/RT1blv9auhtzgUImgVTB7qd/a1neGPmEUtjLVgLIZNf3s76BklJRDUhAJZdComBPJtfdmHxqBd3HrltDriuZXCbFLZ2bQhEZB0hdc1q1NCgWEc1bwUvVON+nrnv3eIZkXmoVIHHt56dMqYbqX/fU37j6uT56Zj1WHy8SpAy7ox/ENYcBZUAE1n2wTJReZwQ4h0EgkXkhMiwICifd9HqD/ZteW4ALp0/jclqu/Vh1O0ZtIS6ePo2kpAsoYmVU2vKP/ox8AL6q2xHi7ShNItMgIjTILiu7jOM46PUmaw4cSjNTcfZ0EvKKyivl6vSV51CUfRVJp0/jUnIqLFzVIaET55kLGjBk2mMYHgXozalIzq8uTzO+HTACvyRpETNwOkKDfVFW1gr3d63GgLEYcS3lgrD+ypWcAieBqu5azEZcTjqDC8lp0AmnC5B9KRmIboZ+1SxtYSgT2SclXUSpwcbDkW/u7xtRDCDKbzSU8uu7ZRy5uede8xBvBAYGQ9EkwSUV4CGBss1QTB8QA3UjNWBdsmJcUKjRXSMhj+kDSFyz4Qi5Copm3TAkzuYW7YIQSSSXJjB1cCx6Dh4DdY9pkHqFuI6sUjnUcePRfMAULJkQB43SRX+DrkOMJLkOAoO7RkPTdRIgcT3jm7WYFc16Iq5TJ/hobNbDdShZz5dcV0vXrC+HoZAFVgjG7P4xFUQ0F2SIBohcLgxts5Mp2z+DTKOBfMILMAupOex+aDw0GjUW/3YU94/qiQifYLSNi0Or5mFo2vl2nBNb9fa8S05uxuCecQj0CUKbuDh06NBWaKz2HpaINK2YK3gOv3/+u3CNavpoeFu1yzu9E6E+GiiGz4Kj6V+KZ5t5Q6OJxYaPF6N36xbwi4pGx7gOCI2KwvA7foDDdBPF+Gz1PHRp2RRBETHoEBeH1i2joYhoiTkffGOXk+0UnDgkfO/edTh6dosG9CakXKkaiCI/6Rc8eOEiEN0XX78+AtBqgbbd0NVpWo8+7wr+N2IwAv390aRFW8TFxSE2PBhBMZ0wad1xK09b8eVY/cQENPdXoVWHTmjbsjmC/GKQOOYOHMsGwpsGwdk2Kv7rWwzq3hGBviL7Dh3awC8oDEMn3YtCg9Ww5U3Y/tZuoQD/CYMgd+GBExuF+vhUyKVYdU9XJN42BZru90DetDsga/gftsQrGKo2wxBxy6OYdcctuDmeGpT1Uf+elGdsuC8W39UbLRJnQ9VxLKR+1XTGNIDC0oDmUHcaj3bjnsGyKT0REejao1sNgIiKrCUBuVSKJ8a0w5K7++OWKbPh3ft+KDskQh7WHpCra5lLHSSTysDua2Xrm6Huejfibp2PxyaPxLKJcfDRODpv66AkyoK3ykV6AAAgAElEQVQI2AmMjI/C/eP6IWjADCha3AQofeznGmxHKoc8KgFe3adi9PgJeGRE6wYTpTYFX1e3RXlRCvKv5QABAzAgwvED5806vLJwAdh4TqvQdtBYe7AvJB8XZOnfrSWEAjkzNqdkQKMBXhjUHUAzjJ4+Cz2bF+C1Vzch49S3mLB4N46/fDNkEiDtyBa07XcbdEYlbpo4Aw/efTsMh3bh1Q/exMFffsSX205h3oQu4DkzvkoVR7TGjuxiD8WXlXIIxWYeXTo0c4xcFVzGpmw9gAzced8LCI7ohrvnPwTNuU1Yu+kQdm+bigsFOYgLUoG3mLB+2QOYtuQzaHybYuLTL+Oum9vjyCdr8PL3P2PVjFdxzz0T0Im1lbkiHNi+V9C3fcsWKIvrAWz5FvtTrmC6kyHJl6ZhzuRRyNcB986Zj4D8EyjRc4jo0wYB1pqzFKbivtsG4Ye9VxHavitmjh6KrjGh2PTlWmz98wy+mTEAjw/KQO9mfuDNerzz0M2Y/dFBqH39ceeUJ9EsNBu/frceP279VcgxLuAWa87AmV8+Q6dh0wB44+bJj2DGXeNQvGcLVn36AXZ+9Q02P/k87unZDLyxDGvTGCdgyMAOruxUZtetvnbUShnuHhSLQXFh+PlYR1zMHIFrKedgzE8Bp80Hry8Gry8B+OsIB/gPQrPeFolcDanKFxJNAKR+kfCOaI3YmBjENw/AzXFh9LL9B4Z02kGgbRM/vHJPD+xNisaBiz2RfDUDxennwZVkgNcVgmP3sVn83Tuuqps94V5WaCBV+0OiCYTMvyn8m7ZFy+aR6N8uBH3bhtZNQZRLoybAlvFoE+Un/E0eGIujyQU4k1aMzCI9srOyoM3PgEWbJz63jeWASQfeYhT+YDEBnAk1h7aVAFIZJFIFIFcKHWXMFVSqUAMqn/9v7zzAqyi6Pv6/Pb03kpCEEgIBAhJC7/WlgwLSBQEVAVFQKSqiqCjYeS0gIk0EQYrSewu91wAJpAHpvdy653u23JYEBF/ChzD3ee7d3dmZMzO/nTs7Z8oZyJx8oHEPgH9gMPw9XVDD3xmNa3ihqo9t9+RT/XhY5iuRAN+Z275eAJ4J88LOCxE4n9gOiQnXoctKABVlgCvNA+kKwa/Hr5yPDDK+rcLX8c7eUHqGIrB6HdSu6o1OUf4I83V+7C0H/iPlKDvhGK4XAV4dwxBEnFB/GI16nPntc8zeeBuQq9D9s7nQ8JoNCClnxZGHLhH1hOfAGfS4kpaKUn50SOmOFSeOYGjDIF6zQKfCxmj55RmUbNsE3acd4GhIw4yY3sL0sFFfrcHi1/uKz7J7R5gSFmHMilLoTeIoBxl1SMq9A8hqYmh9yRgDCKlHNoJvrjYPE9dD8QJyL5/GNakNq4kagVOnlyKUH4Es6I5j6xvgMt8YlabM5V7fh8mzlkKmCsTyuAQ8FyiOGHSJroafd+1Aap4B5uVVlHkVP90Uk1g9xAf66nye12LR0WtYOLydRbnY9vGH+OUMoHJ6FZ+O74GzH/cWRqr+U9M6bWvphFew8kAS4OiKfYePINJDjPfF8cPxnDoQ67Ra7L+YjGZV6yEnfg8++PmYUFHPP5mKMbXEnoLC10YgsE5LFGk5ePdqIySMdCmYJihGwKuLNuC70Z0kpp1w5/IKzNpsgM4oMjUUZiOptAiQR6F3LbPaJnp/Wn+rejtjbOeaQvbzi+vh0JVMHIjLRHaRXphmaSjKhjHvFqgwXXj5cqW5gJHvMuCbhSQehHNbgvwiYv6a/+ErFhfInbwgd/aF3NUfaq9gKNRO4HtEawY4o22kH56p7gm18vEbNrfNFTt/fAnwC9fb1fUXvkR1cD6pMfZfysCF1AKYTASTrhj63FSYCu6A41+oJTlCA1Isw1JZvmv2xEXxwsJ4pZPwglS4+AlKvViWHaGQy9AozEMoy3WC3R77l+Vds8puPPYE3JxUaF/PX/iKiY1Cem4p4m4VIj6tEPHpRcgq0oOIhPaMeUsS4dpkgIykNoZMDplcISpGfE0tGH4AeEXMSS1HdT8X1AxwQUSgK8L8XMCvf2IfRuD/i4CHixoDmocIX62uLg7FZWL/5UzcydcKdbyxOBuGnBRwRekwFWWCb6vIBIXpbu0Uc05s2ytyoaNL7uIDmYsflJ7BULsFQK5QwM1Riea1fNChnj983P5dxrz+kXKUFrtDIFR0dgfatmkjrN0pzEnD+ThRKxjw7m+Y15ZXdnh9JxdHV4umvetEiG4GbSrSr94Rbr+w4ACebyD5hRyhdasBOAMZXIRm4oUlX2GF4PN5zHy5p9CToyvIwF/fvY+ZG/nVRUDVEFERMhQnIysxD2jYFo0kWwzgCrBngTjNrXqMdRjvyo4jQlj+5/dVX4qKEX+hLQRvuoD/yISKrRRrXh2OdAADJn0lKkYmEzLiz+Kb6aOQVmAC6lZDqDTDile6xE9nhHiqoahbV7xcEYs7819CIF9Xph3FmAXLAUcPrDw6A74owZm1OwV/NWtHiP5Nd/CzMOITgO+vXrcoRuJNP0S0dQR26eHA91xBj83TXwQ/ca/9S/MsihHv19W/GhR8b5a2BK1aibKPzZ2BTYKg4ZgxrL2wNqw0Lw1r5k3Gd3vzAEcvVPcTe7jybyegJE8LtGmGumyWi4jf5tfdWY0ejYPQPToQWoMJRVojirVG4ZhZoENWgQ45hXrkl+pQWKxDsVaHUp0BRhMHk4mDTC4TDISoVEo4aVRwdtLAzUkDd2cNfFzU8HHXwNtFA2cHJZw1Crg4qMD3CrEPI/AwCfCNvAZhnsKXL5uFpUYU6/hyHI3sQh3S87TILtIht1CL/BIdCoq00Or4ThSjuO5SGA6CoPA4KJVwcFDBzdkR7i4O8HLWwNtNA393B3i5quGiUQrl2dVByYyHPMyHyGQ9EAF/T0fw37b1/IRwHEfQGzkYTOKXX0/Mf4U+UvPmiDKZMCOF71jglXulQgaVQi6sxWWK0APhZ54fMQEHjRKdGlRBx6gA6AwcCrUGFGv5NotBqN8zhLaKDnnFWuQXaVFUqhPqeIPJZDEfwBuC5Mu5Rq2Cs4Mabi58HS+2UXjlp4q7A1yd1HB24NsqfJtGKXQcPOKsPpToHlw54oqwbZnYtNZnp+PgIV5tAIJDa6Nz30Ho++IkjOnVzGL4gMu6ju38an4A1QLFkYfSxMO4oQM8o7tj4YtR4lQ7wQchI1MczpHxPTQAFu01b+S6Gt0ankFBRgZu54lT59x9IzB62pcY3IxXqABt0mHcNgC1a/pZ4qe8FKyV7BfUreEv+ON/9qfeEs5rTt+C7nW8Le75V06Dl+6k6AhfZxVMaZfwyl4xjzuWTkDUH9NwJSkJRsHYhAL1WvfArLlz4S114J/cKU5hwwuvwFslgyxETBsKNuFCph5VvAyYNmIwbufpEDhiHnpEBoEKr2LJWXGFU7UGVYW0lB5ZgcMFWrjH1Me4qmXnixpgUPELk9JRyhnA5SRg2gYxjT0GPWvJC39Smp0OThi1aIb/1BAXM32yW5zmCCxH56hjyE1LQ1pBgRDOL6QBprz9FdrWEBexZiafRiEHRNcPtk5JtIuBXfAE+MYlv7iW//q6MSaMwL+XAP/y83RRC9/7zQXfw842WLxfWszf40iAV3j4qdMOYKPxj+PzYWl6OAT4eloo52qFpa1SL+Tesvn6nf88TXX8AytHVJCKD6+JIKceu41Pm1S5J9Wcc3uQyvvQPI8wd35YjZC87XcUAuhSv6dFieG9kEmHZStES28uz7aFWm5A1tU4wapS67Z9EOivhEbjjTqNo9CsaRs0b1IH1oE6QtKOP8DbhKsf2NKSpvzrJyCMZ6l7or6feTiJcP0GL9cXX45rY6OcAWf3bBPCKp8dAC+1DNnXxPRA7Y7WzTrA2UmOtj0GIKppEzRv1QaRYb6WtU18wJVXxf2EBo5oJioTfqEYpgRWGHOw9WIa6qj/xPc7E6EJ7YZjSycKpr4LEi5CNP7dBk2C+ZY1h7MblwvpiPSXprxZcgRAl4jDW28BSkfUCfJGccphiONwtdCxgf3i6uQLR6ArNQIdY1BbWIeqR2FqKiBXo32HfvDzBhwdfQWmLVq0R5Nnato8E0Liwa2CEYsWodG2KWDnjAAjwAhYCDxNL01LptkJI8AIMAJPAYGnsX5/YOWoMCVeKgoR6BthHYm5W/k4tV6aZjZpFDz52Lhi7JqzXfAe0K2tXTBd3i1sTksE4Ilxw5pDDh2KczMAz1pY8tevqO5iVYXsAvIXXDH+Msvt2NRy+8oecUofRg1AFbPtCGMqEo/eBIKj0NxHmg8nhfj5qDhVr9ug1oLSVJwrjjCh6USs/nM2zOqVJYIyJ0V3kgH4Y1SMZDVM6Y6+/YAVa4D0rX+h7c8TUQTg9c8+QLAUNunkCfGsXW8EC1nkUHCLlwO4N7CuQZK8I3H91zgMQO2gQkSoDzIP8cwA1OmFMBfbKVe5WDpmumAgo2nTcEmR1EFblAcENseanatgHTMzS7c5cgXY/cNBwSGsqTQ90OY2O2UEGAFGgBFgBBgBRoARYASeJAK2Len7yteNkydFf7W6oLb73wffk5Yh+B/TU7Qex1vK+E6aZuest7GGRFpsnjMe17OMCGzXD8NqiOY2iY+itBQppZJp6bukkpe7WJLbItK8hgk4ISgrwPMd6lpGeEwpx3BGB1TxdoFTmT1hMrN4ZSgIQ2PEERhOWCQPIDkF+X9n2MOYipRLSUBoGFq5mtmo0GTgeCHVq76YAH5JVHDnGXi3v9U4xKHLonITObQFHKRF+SoPTyFMToKonJizbcxPRL83fxcuY17/EzXdVVCoJAXvyllk2qRx5ey3Med2ruC3bahVySI+joICJNngN8u3PVJuMtbyQ3wAoqoxC1K2bNg5I8AIMAKMACPACDACjMCTR8Dcgr/vnJ2PF0eO3Ps3sZicvntgDvGp8YAiGKOixUWPRSnXcUMK8MO4Afjv1kO4fuMqVn/wEvp/wY8oueC1t6ZKIzQuCImoDZSmoF2/GTh59SYy0u7gZvwV7FrzC6ZO/dgStUWuQyc0reoquXNIuHoOkHtiQAPzpEpCypbfhHVFAX7doba1JsNlIyMpFahWHW29RDRVIhpAUNOSluL1OSuQdDsNabdScPHMMfz6+Yf4kh+Bkj6UdAhXC4DgYE/YrhLyatwdZtVC4eyDFT+9aVmjxE8zvBZ/EYAbJsVUlyQpENN3uDC97fifS7Bg53HcTEnGxSPbMNCjGs7eyoJn61HYObutMLrlXz1SCrcbH/34F25cvYifJvXEKwsXSRbQgBoNQyU/rggIDgYKLiH6P9Nx5nqSwPTGtcvYvnIB3v1sgeQPyLt2FsL4lVNfRFqmJFpusxNGgBFgBBgBRoARYAQYAUbgySJAD/iZ2a8+ARqa9seJvw9pSKJoJQg1WpBR8n1h6TyzDVjLUeOols6d6J1fjpCOs4pO2fWTxZ/awYk8PdzJSaMS3Bp2ecXi0SJ3wOdkMrsab1FnFQi+NSg+u0R05Urpm0BXIXzb706STVREiatICVBIp+fNEohMBto0o4clDc5uHuTh5kpKhVzg8Mnhmxa/iT8PEfy16DnH4saf6AoSqa6naMc5ZPZfZORsY82iflXkBLcQOpdWaA1n0tKzrSIt8Tq6uJBaIdmC7jCWrpnzw4cw6eiHAUGSXyU5akSeHYeOp1GRYphDaVqL7IR1cyxy1Y7OAlNHjVJw6zj6Q4u/Q7Mnif5GL7cytdxlJ4wAI8AIMAKMACPACDACjMCTReAB1xyZ0GrASMxrrUa31pLJ6Xvqis4Y/8ln0AfWsNh/uXJbtObw7Oe/4r/dg7H8j93IKdRC4+qJVr0HoUP9MGHjV7PY4I5jcCcuEqs37EVGXiFMCiVcnF1RNbwRunSxrlnyfqYV5n36KULb97JMnwOcMPLjz9DLwx9VXM3rlRR4ZsZszCvWo1W/OuLWMlJk5FwPn3w2F8GR7czRA3Ilun24HodbLcO+E8nIK9FBqVbDzS0Q9Vq0QJcm5hEpDoqQVpg7twFqdRxmDQ9+L6NAzPh8Pm7luGPk6z3t8geTAv2nfIo2rr6o7mVjK1uuwe/b9mPnhj9wNC4JpXoTNE5uqNK4LUZ0bgZntc2jk6sxZvl5aNouQXxqOqBxRsM2PdGjTQR2fhOKOghHAx9z/oHq/abh5rkYrNt8FFkFheB4pi7uqFYnBl06WY1ZBLbviXmfBaJm9442TO2yxi4YAUaAEWAEGAFGgBFgBBiBJ4aAjNf1Hl1uOHw2sC6mrbmBTzccx9Q+DR5d1CwmRoARYAQYAUaAEWAEGAFGgBFgBO5B4IHXHN1D1t/fMmXi5Lo4QKNGrVpmW21/H4z5YAQYAUaAEWAEGAFGgBFgBBgBRqCyCTxa5ejOWew2AWqVAqEBbKfMyn64TD4jwAgwAowAI8AIMAKMACPACNw/AZuFK/cf6B/79GqAlevWwehdG/U9zZsO/WNpLCAjwAgwAowAI8AIMAKMACPACDACD43AI15z9NDSzQQxAowAI8AIMAKMACPACDACjAAj8FAJPNppdQ816UwYI8AIMAKMACPACDACjAAjwAgwAg+PAFOOHh5LJokRYAQYAUaAEWAEGAFGgBFgBP7FBJhy9C9+eCzpjAAjwAgwAowAI8AIMAKMACPw8Agw5ejhsWSSGAFGgBFgBBgBRoARYAQYAUbgX0yAKUf/w8Mj4qAtLUapTv8/SHlEQfXFSIiLw/Xb+TDv+msqyMCVy3HIKeUeUSJYNIwAI8AIMAKMACPACDACjMDjS4ApR//w2aSe24W+zUPh6OQCJwcNGr/8C4xmreMfyqzMYGtfGIiadeqg6ZCtMEoRpa0ajMi6dfDa0uOVGTWTzQgwAowAI8AIMAKMACPACPwrCDDl6J88pjt70LB1L/x5LBVACPj9bA1XEiwjMv9EZKWGub0dozfuAGo0Qty2gTDvMBXU5y14AYjfvaxSo2fCGQFGgBFgBBgBRoARYAQYgX8Dgf8/5ajoOsaNGo7hYyfg9r9pWhenw/yRI5BdqEVI3zeRr7uB1MwS7N/8LlSyx++RkzYHo3o9h4JSI557aS78HGweuW9DhLkAF5NTYHr8ks5SxAgwAowAI8AIMAKMACPACDxSAjYt5UcaLwov7sePS1bgj98vQaZ4DLWKu+DgSnLwxfkiACpMmTsbbmoFFGpHeLg63CXE/69z0vFNWHW2GErXvvji7Y72iZH7wC3IG8XJOcixv8OuGAFGgBFgBBgBRoARYAQYgaeOwP+TckS4tnurAFv1zBB4lRlyMRqN0OvFsQx9UR7ib9xEjtZQ7uHkpKciPj4eWcU64R4RQaez92crC+CQd4cPk4ii0rsbUTDoSpCYGI/k5Fso1ptX6IjRF2cnQltYAHh3RN8ad1GIOBPyM1NxIz4eKXcyy6Xb7KDT6cBx4kKlvLRk3Ei5Da3JahzBNi+luRmIj09AemGJObhwJG0hkm7EI+lOBkzl1jwVYcXkSdBywIQ5ryHULiR/oYTGwQHQ62AvtZxH5sAIMAKMACPACDACjAAjwAg88QQeuXJ07o9PIZPJ0fjddQLcgv0vwUEug0wWhLWZRoDLQv9qbgiObIU/PngTtUKqILxGdXg7jkeGoC+ZcGP3YvR6JgTeAVURHh4OXxc/DHhtBl5s4gUHBzXWpWqlB5ePIdXcEFKvDY6u+RTda1WHZyAfphpcQ+th9sLzsKoiALg8zH1tAKo6OKNatXCEhgbDNaAqxnx/HJzhNrpWdYJbWAukFxOQvQ2hCj7dMnyy+YoUH4fVP8xB83rV4eFXFTXCwxES6AdVYD1MWroXturYmZ/eg4ODE15Y/Adm9W0DzyqhqBEShKlf7wdgwIbOYXBw8Mb3e/bgtee7wdfLH+HhNRHg6Y6+326FMe8W3ps8Fn7+/girEY6wQH9EdR+M64VWZS73+Aa8dypPWBfVu3/zuxfmnAwk8INh7MMIMAKMwP8TgX2rl2DWrG+RZK3C/p9SwqJ93AiQvgS5ubkVfvOkztHHLc0sPYzAY02gJA3zZ83CrFmbUWTXEH6sU/3oEkeP+HNy7fcUFRVJzmo5ARqqWS+KoqKiKKr1CLpFRNztXeSjEGwb8OMg5BkYRnUjI6jaoGWkI6Kk2F8Fd0BFIREtadKkF6lWVT/JDQRVc7pcKmUqYz9Vt5XlG0ptBw6k+tV8BP9VGrakYoNJ9GzS0YoXgwR3t4AG9NGSlbTgk7EUUT2EGo3/gwy6BOrfIIrCvJWCH6+AMGrApzsqivbdLibOoKMNM7sI95SOzlS3QQN6b/qbVDc8VHDj8/LjqXQL7fmvDySopXwqHKl6nUiqVb0afbf1GpE2i/7j5kxyuZmDN0V2epZ6twyRZDWjbt1aEGRyCqtdl7r17UxuEP1O+/28JY4fx/YV/LuOXU0Gi6v9SdeGfJ5DaGeRvTu7ugcBzkhJh3bTX3/9Zflu2bKFdh88TPGJt0lnlMrUPUSwW4xAZRBIunicVqxYQRtOpBBXQQSm/Bu0euUKWrPrcAV3ichYQjvX/U7LVq6m+IK71RoVB/1fXV/o04yAANpS+L9KYuGfKAKmIprh7mp5j/LvUrtv46lUXMkZ5vSllJ+XR8W6R/ufqORsMfGPigBnottH91vaC3zbYdO27XTg4BGKT0knw/9Dm4G7fVD6H3WnFL0ZhJFmDe1B0a270F9pfIv74XwM8X9SpxZNqMfrcx+OwEcgBY8gDrsoOI4jXeFNivGVEaq0oDQTR7wb/+U/WRtfJ5iVgobj6XpuERkNOirWGYmMmTTaw0l4oB1f/4QKpYpKW5hDb3WVlJAu75NZN8ra+K5VwWg4nuKyiogjjvTJmykYIK+6zahQJzVk8xKkglKFNiSVWNKsKy6k/FKxQuQ4PS3srRD8zVx5wi7dN/YuJY1MJtz7IvY6GaWWiUGbQW9KlXm/SUstcqf0iSAoxUp++Od/UYneQLqSYtIbOdLduUxujiqSyUDwrEU7rmeRwcSRIf2clEZQFYAGLTpARXojkamYvmooynr7l1NSHFrqX09NgCctuZpnidf+REtta7oSqjSl9IpaUvae2ZWZgD6LBpV9QUvXDs7uFDzgQ8pk71AzLXZ8hAR2vTdBrCMcXqQ75cqgic5+UE+8r3qGrlWQLu313ZY6Zn2KuSatwGMlOJmVo91MOaoEuv9ikcYCmuzuYimXdooRX+8+N5u0lZo9E8VO6UB+fn7UdvRGMlZqXEz4E0nAWECv3KUMO7h6UtWJ35C11floCNgqR7ctylEONfER25Kzzj9YRWzSFtHhvbsp9mz5N0vy/O7C/9e1WZ9Hk7mHEMsjn1bHT0PTpp7AlUyCb+0q8Bem1InT00AmHFi8k18aBCffaji9Yy5qejhDoVTDSa1A4sZv8HMevzqmJj6Y9jpc1EphiE3j4onIzj2E85jO9SGuBDLh8PL14GxkRXg7QwYZVCoF+Il3HG8HQrIFYSgplobrChH71wnL0J3ayQVuDmI8Mn0GtvwproUKiwoTptTx+QFXhBVT3oGOCF0+XIXJLWrCbGNCqfHF4Ok1BHlyo1qUy2Xj2qGr4DccqjfsW/z3jZ5wVCmhdnSCSiFDTspVGHUGEAFT5v2KzjW9oZQ4mRMW/PJX+G10azirFIBcDvOiIVJKjzQ9Fvsu6iEPC8V/QpzNweyPhtvIvF0IKJWW9Np7YFcVEpATXKQb7aZ8hjVrfsf333+LaWOfhbY4H6lrZmLsRz9XGJQ5MgKVSaDJs61F8drF2JtcYB+VPhdz378ouhnOYN6hbPv7AOIOHhDd6ryGNlXusqayXCjmwAhUIgEZYG6o9NmUwHfo2n/XvgtNJUbPizYZM5GRkYFsFzbns5JRP5niZbC0GWImfow1a9bgu/nz8ebI3tAW5iJl/iQM/mjRY5B3T0yYORtTZ7yLjlUe7F+Vc3U/OnfuiJYDPwa/mMP2E9R/Ft6dPg2TxwyzdX6sz8VW/yNOYkbsFvBLXBr7P2MXM5m0WHJNVFJiJi9DA18nu/vLVsUK1/5T/oum/o429zjknjsmWJAbUD9CcCejDr9fFs0MlJWVf2IvsgBEuDQSlBE+gMozEC2jwhB7PhHzJrTF2j0TsOC9SWjXoKbFRLfh9jVsEKT7oGGwpyV+U+pJzDzN73kEjB7c1eIunnAwuQQCSICRxLxR2hkczgbkrn5YNOcFuJlrfinkrcRL0HGAa8c38OHoxhZ5+bduSuf++OCDcRZ36LKx9Zp46Vs3WDjJjN0q5LGaXzDceQWqgo/p2l7wiByj/eFdwX3m9PcEQrsOQv/OIZLH8fhP9UFoN30NNuw6BMOs0ZY9pcySDHodDAYjZAolNBo15Lxybf4QwUQEuUwOW2f+NnEcCDLI5Tb+hRsEjkhYx1c2jFksOz49BFwjW6GvO7AhH7h46BpQ3Vp/aNNvYKUNitWfb8B/W46G2qZI7Tx/RugxajqxD7zKVBtEHPRaLYwcQa5UwVEjdfbYyORP+bLKF2C+44gz6lGqM0Lt4ACVwqaiI4JeWwoDR1BpHKBWlomsjEyjQQed3gi5Ug2NRmVpLJfxxi6feAI2hfUueTVqixB/8TguXruDQp0Rrl4BqNMoGrWr+sCulHEm5Kal4GLcFaTdyUKRHvD080VEwxjUCRLfiKaSPBw8fhrHr4uLcouun8P+fV5C+avSoDkiPDW4dDIWt/KAZh1a2r/LdbnYc/AE5KowtGxTS2hHEGfEiSOHUajwQLvoCBw7sAsJKTlwCqmBPu2aC52g/GCYNi8DZ0+fQkJKJvScHP5BNdGgaQMEudu3ie6CgDk/xgQCuw5G/x7VpBS+gi4BjdD90wvY+Ot6FL47Bq58HSp1AMj5tRWcCVqtDlCq4SgNCJizx9e1Oq1WaDf8bT3KmVCq1YKDHI6ODuZxAbMoy3HYhBlCxzwfd9kPmYzQ6vSQyUJTvZgAACAASURBVBVQadRQ2DU6+MEhgB+dKPsvlQfEYPYnMWXFWa6JTNBpdTBxBIVKDQe1eTdOixfhhM+vTEoXz4XPD0EBB0eHCjv4zXI5kkGp0UBt+w6yF13+6iGMPj2gCB0tbitOTRv0xUG7sIaCNKpb1Y2AcNpTUH6e18AWwQS40Oc3ygxA6pKoi0JGUDvR5isZgkxDQQbVreohyNqXayvLQJuGeQlDfC3e3kgmm1v8vOJfpvDz3sVhRblKQ68sOGBJ4411M8V70TOp0CZc4oaPpDCdKUlnc4MPacqjKSpR3piv9wmyMtZNFPz7hoykPPP8O0ssRGvf6ijcnzR/h40r0alFUjwDviDbVS3aG4ek+MPoeC5/x0jbX64muDUd/qtdHm0FXnwvQvDT+vmPbJ3Z+d8RMGbSGKmMvLAjyc73zbPLxWcR2puybO7kXj9Go/v6k5ubG7m6upKrmxvV6jeOLuRYxrPp13kTyN3dnV74ebNNSCJDynHB3d29L10vU/TXf/mScO+zZebplHZB2cVTR4CjLe91EMpgq0lz7HJ/deOPYtmUyq6Dqw/dLLSdJFRMo6MUBKU7rbt02y5sYcolmtCnBbnxZVcqv/V6vE5XMwrs/HG518Sy2ucTyrp0kNyl8u72/BSrP30OfTG+t0WWW3hDWnUtj154toWw5shuWp3JSDu+e9sih//ftOw/jTLKTRm0imdnTxgBUwG9KU1J6rPpxt9krpAmdQsjtc1aY/59rnJwpunLT9qFXfPFeHJ2dBCnr0v/CcGvYyAtixdXMRWeX2/3nzG3Dfhjh3XxgrwBzcMIqFJurRyXuFUI6+w+hLKkvxmny6cGEcGE+t1pwXv9LHE71oqhfK3oKSdhLwV4uZCcn1ZvSZecHANb0dlHO9PVjhe7+B8I3KMMl2Qcoar8cw7qRGLrlei7mSPIPbAGnU7Opbee72Cpc7+/lG1JRHZcLA1q5i7ec3UlN7dwenvNEWFtvsWTdFKcfp4a1Aqx+HXvM4ESbprbjd3JOq2OaEiv1uTuHkWxdmWNo/h9q6h1uDk+Nwpt24tik8T6f1L/VuTm4iyWV7mK3NzdpTaL/bH90Jllk0a5lw9Srxb1rO8DNzfq/PJcyi6xX/PE3dovyhy7jrS3ztKI1rWk/LhRdO8RVG7xSG48De4UbZXrXovmbDx+1/Zw2YQ98jVHVJRM4dIf/tPTts1HooKkYxTMGyloPNiybsia4GLqXMOB4FKLrljbk8LtIzNfEh6K0tmNzueIQHlZVQVZg+xlabMpxk18iOP38iYgyn/uxB2maQOiBZlOnUdYPKx6+0XBrfrnOy1u/MmFn8aJhaL+HCoqoxsVXLPO4V9wOY+IM9CaHnUF/yHv7rJTcgShpnyaWkWsFBcctm94/zxzsBBuwE/2jefkLd+K8UdMJkEPNJXQ7HqBglvb1ZcqXJhNxbcoRnoOQ345YZcfdvE3BO6hHB3773BSAaTuPMZiBCNx/Vzx+QBULaIJ9eze1nLtGd7J8qc+sUxSfkNfpRwb7ffc9+9Y/H93NNWaOFMOvRTsKNz7anOc1Z2dPdUEbhxYSk78fztyEOXYkPht9hChrHy+dCs978Ebr3GijZetRmKMqTvIGyAH32CKzzO/mDi6ueFDCvMWyxnfCGzdMsZSHuEfSV/vSbDEwuVc4Qc4CWF1qFaI2AnFN/A03V+R/OTRuEZ8Y1Ks48Kqmw3WuJOrk6qMcqSnbS+1JiXv1zeY+o8YTm3C3YWwDVaVn9duSQQ7ebII2DYstybeNW+cvpjeHFhfKB9utfvRmp0HKe7iWfpm5ivkxK/vdQ2jdbfNLT4tzXgGhIiu9PH8FXT42HE6tOdPGlMvXAjvVLMjpWtNZMhNpp8W/kgTW4vv0yqNxtCPCxfSwoULaVOyuCZDVI4CyE6p541LJW4RZPHKUU5Z5UgjKT4dhtJX33xFb8/8kIr1RjJlXaKYUPFet9Hv0P6T5+jqyVia8J/agizHml0otcS2Q+OuONiNx4mAbRkuo+CXZB6jqrwyb6Mcffl2f0KQmpo2Esujub78/mwm3+NOcWtGUxV3vr4E1W7bk154TlzTAyio2Us/261fSj7wG9WQ6lu4+lBkqGiQzMdDrEsBe+WoT/sooR7eYVlypKUdk3qQi9TJHxDZnMKdxbX/au9qdDmrmMZ2qiGkxZzOux3r9Bpi81SMdOz7seTqIBo5c3KuRu2aN7LKqRpD687fsfjnUnYTHECo3pT8fMS016xZ0+LfveUAul0i9poVppylxj7iOkX35l1o1PPPkb8zCOGNKVfqhLAIvstJpSlHBm0BXY2Lo5QMe31Om3hYykwjOlFg0wIkotRDP5IjQHVesOlltCS8mDpW4yEG03bLQyMqSjpF9YJFCM5BIy2VUGqsKKvesMkWCfyJPv0quTnxhgqq0/ZsMX7OaCBDmRGcopQd5AeQvP1QS/gZw1sRbyVvVqx979WlpW+IeQoaQLf1NtqRsZjmjBAt2Pl1eJ/4ZHOGIhoUKTYOxh22NkzMkXA556iWVJD33bK1wWOkD3qFEmQaWrjvutm7cFz/iTgSFTh7g+huKqb3QqoIaeom9W7ZBSCitNi10nMIpv02oxdl/bHrCgjYKEd95++iuLg4On/6OC3+7C2JKejNH7ZZAiZvmU8d+gylLRdTSC8VeS77EjXyFi0wvXdONBVYahkBBC1NsJoPfPeVXiQHSAbQiNmrLHJ1cRul+PzpcFblLkm2RMpOHnsCpRlxFOSlIcCDliVKQ41cIb0tGW3Zcj2Xvh7dkgA5vfzrISk/HF1ZMFooT1WafkLFUjnVZSdQsI/YmdRu5GuUL1n3LE6/Sl2iReuZwW37WnorBeXI/CL2DKSRa49RQU46nTx3ma/9KHHRSCEOB/eqtOaC+OK7dWY9dWngK5VlayOTy70quXnRL5fNfapEJ/5aTuuv5D72z4El8CERsGlY1ujwAk2ePNnuu+SYqCjnxO+jUFcQvBvTabtXZyl91SFSKEst39xk6TkuSLtl6cAyp9SUuoN8+M4tF3eKyzcPT5rowCRR6ao3fl05gwz/SDkCyCWyB6UWmTshxBRs/kz8fyByEmXYdgKXJlGfKs4EpSNtPGM/qmtOOzs+xgRsynCfzdb2I6/Qb5jSWSibLs0GWsqjoBxJ9WjE2Pfpdl4+XTt+gFLzSkmbdlFqw7rTS99YZxclHlxCgVKYz46nSTAM9E7fOoL84OiRdDWnhEwGLe1b+AIFefLvCF4Rr1g5Miv7OedFJR9wolfmrJXk6unQd59Q40Yt6EJGIRkMeko7vU7shKg2hO4YDKTT6aSvnignlkL4tr2NclRwebMUP2jkR99ZjKrkXI+lxrVEC9SRL0wn899AUI6k/HnViqIfjtwg4jiK3/Y1BfKdDSoPWn9RfKecXveeIDty6HRLodBmp9CyH74nrdlCteVOxSeVphytn9ZezPjA9+1iLo7bZwHyR2IxGYuy6Ga6qEAd/bincG/E9N/swpgvBrSSehxfWi1oxneOrxb8O3qLPS3ukzZZKq67yco4v1l8gHWfp3xJ8JE5g6l205FkGbAszaLZEaLMZiMmSL60NLw+CM5BdOKOOaR4q/jkSkue3vol1pxcmt++qeiudqKtcbzGT8RP94sM5qf7RVCstf1rCZMXu0SSZV9gSZdI3fmC4eBCe5PsFc45Y/hpNCqaveOiKMdGOVp0rcw8LCmmX2YNF+IJGvetJW52cp8EbJSjcj0kKmeauf7cfQla0EscQeqz3VyR5dMM6c8/dr55OqeWRkaLZRE1QehlVfaPzHleLCvdfrRULPcVMfP0ZBMwFtLIqgFC2Wgz/4g4cpweK9Ur7ShRS3Rk4fvidf/PxTqTM9DUlg0Ftw5bUix8zqz/WPQX/YJdb6ToIZHqCeW1qqXX3FY5emHOHosc4USXRz2DxZde64/2lBnRLqWukfw9q3JEWVekNIP+tOkssBfKrp54AjYNy3L1LUDdftgkILixbbZQXhoPM7+zrWSy1ohWHOu3eods+y+tPqQz403qwJdpR1fam2LuhbVRjkY/LOXIl1bcLj8CNGmY2G56PbZ8x+m3Y5oQoKQ5Wy6USzZzeMwJ2JThbktOUm5uLqUmXKDXBrax1HEv/2TdXsGiHFV/w9oulbK491ep7h76YblMH5zBlxFQrxErxXtpBwXLzHD2pcOJtvMIiK6t+0KK276taR45MitHi2eLbUUM+bxcfLYOWec3kzM/QhsxytK2ttwvPUnVyihHX00fJsbf7TNL55rZf/LeVeQpvFvq0Slz/x4/ciS1j46k2LfBPx7ZmgBHWiANXJz5bbrgt+WLb5tFPvCx/Iqr8suS/oGLFucP7BXCOTrb23xQe1uX/g+J8ILSxQczth0VLL5tn79JCFO1ub2hBnMChndvJJ4ufB5VPHxQpcnzAOrh+egIYRFYr/4x4oJLrgh3k5Vw9Sy0RqBmk9pwkwTHXSpC3LEl8Ja5oXaduggIDMV7VwFE9cG8OXNEX/mXcOwC4ODtiioutsYgAKeGffD1Cx0Ef/NGtYRrcAiC3WSYuPcYEBiBn7eeQ6daPsL9kpwE5KfnAdGNEF2BEbkL2w+K8Y0cDj+bNWn6xLPgiWpUClT1sg1YihsnjwJqVzQO8RPDksV4Ha5lFYputr9F17Fo/nLB5f0h3W3vsPMHJPDMgCn45INZ6BgoslcpVKhdzb9CKfrCDJw4uBurVi3H8uXLsT4pWfC38Wqa5N8NY1dNFM6PHRJNfyDtMP48BQQ+Mwqe2S7Aji3YXyju2LbkUAIAR7z5Xq9Kt9ZUYYaY4+NJQOGMd6a1FNKWvvJb6DlC0oE1YlpfnoIgDVC3RTPxeu2XOFlggkmvw76MFMClPuZ2CLLkK/8ab6AB6NG1DexrPd41FKHNagJIwZYbZSzjoQUmT2pnkSOcmAy4wInWvrr3aVxm0a4DAsJFq56WQO5BmNVevBrWIgLPDfsE5++Ujcfim508BQQ6frEb165ds/v+MkR896ZfPioQOLliAXx8fOy+1V78XqJj3iAe4ErzsfaTCejcrhUaRtVFrVq1EB7eHHseCUcf1PSwMw8hxFqUKRp2+rplDbv08/l5e8VxwY8cosXcR5JMFslDJ7B1ZGN4enoiuEZ9fPv7AcHQwsQv/8S8Uc3LxOWIL5aOh1cZ19LMJMHF//R+vPvuu3bfRWdShHtaU6YYqigbfIlydnVAkA9v6sH6qdlcegdYnSo8K7nNGwJT4E2zJdQKfT24Y8ntG4IRtQkvd0FZ0z5V6jeGqx/fQr+IY7fNlqTNcTyHGgHm1rvo5uQXAKAUB5NvCw5V6rdCFVcgdvFcRLbsgS/XHkC+7sH+N/aaiznu//moQotBkzA4NAN9hg6yk6b0qYeME+sw/fPfkKM3QePmjaldW/DmORDQeRiGkQx9YszWv+yCotf0FdjgMgfL956HEQoE1KqP6TNn4eZPc2Dwy8K7jc3Kwd1lufvVwOChw9Cqt1UpGPHTYmiiF+LPI2eg1Rkgr18f3k164ZNxA+DjLD62wrO7wRuEq+pSw2La25I6hRMmLtiIiCbzsHTfZZTqDZApmqJz/ZaYPn4MavmaDT8DcrUz+gwcCveW3Sts0GpqNsbwoVo0fqW1nWUdvUmN/sOGwcG1L4JsFU6uGBH1n8WI5t6oF+QhJkmuRHSQAkgGjqXzjQmJi5Tgrd9+gljeim9kR/SJMVtNseSGnTwAgahXXsf0DsGY/u5kfPp8S0xfewFDRkxEy2OrEOIg9j1whWmY9/5UvPftchhMfIfG3T8BncaguuN8nD90GukmQt66RcgB0PXNyej7406MOxiHb7ZeQ5vnvHH55EkgJAavNhAV77tLZXeeLgIy1Hx+InzH/4H4O3Eo0puwbh3f26PB2+Pbga/0XWs0AN8FdQa3seJYMqLqp+FWUja82vdEtMZqa0hfKCojoW6+FSJUasQeHBdF2YaeDA5lLCsaSopg0ukABCE62LaDxyy6zH9D6Yp3NiUjb8wo/Lp+N9b9+o7w7T3hI3z58VTUcKuk15c5Oez42BFwiaiG8PCK31lyo1ge/BrE4I1BvcqlXa7VAq36i1atDHmYNaI3Zq89CJfQCHSMaQh3Jw1kpkLk31wPqWlZTsbDc+Ag7IpYRqCME98ZDV56HYOqlf+PyIpL0aFRWJlQ7PLfRKBqx2fRIdgV8PJCyyZt0alTR1TzsbYRbfPiUoHFuIJk0TRxeuJJLFokbc1gE6iKpyccePkAsq6dF46Oqvpw0ZSpo0nsZLUJWuGpoUQvWDCt4vRwLSUaSnlr0krU93UvF69CpYRMsiznWI5BeXP6JEyuAUzS0T+yC7b+MBUT56zEwcNbMOXwFsyJiMY7H36Bif3bQFHm3VQuAbzDA481PYUB+M1fl/UW523Wn7LBMnXv8UXB0YXPB4jDitO32xt9MBZTqzAngsKbfr5Tflj/8c3TY5Qym2l1ttbqtDdjSS0N+85Yx6+xED/fj+0rPAu5gwvN336MCkq0ZDAQfdldGlL/9qzZK3H6EmrXQFzL8eHFPHqrfk2CrDrtzCXK2/6hsO6ofptZpD33gyCzbudnqdTW5KJFEjt5ugkYaEgTTwJ8aUNaAQ1qVZ3gXo+sE+aIjrwlLvZ9dsISSlstGpUZOEmajiHB2zqNn64AGvrh6gpx9mrNG5eR0RtnxKm+1ml1LelqmWVwpqI0Cg3gpxSDvr5afrrvvTaBLclNoa/H9yIHpVwIHx71CWmljcMrTBhzfHII2ExJupe1upvStLqogS//bd4N1zcI5YifprYn0WaKji6+4ml1r0lrjiqYVjeweZCwFnpbsc16Y34K/c17GGRABB2zXRclpdg8rW7MNuu6lL/NDPPw+BO4zzJszog4rc46Tczszh/Xz+whlN3+ny20da7wXH/hV8Gva5UQSim2b+9VvAksUdlpdfNG8gYalPTRpnsvF3jQaXXvP8evA9TQR7uulku7KS+JQgP495ec/ntdXH9iXXPUp5y1UvM0xMG/2VvA5o1X3Di6kaoH+ZJCsP4YSDvTKljPUi4FxK/zZp+7ETBlJWD/oaPYtGA2xu2I58eNMPW1rnYjOncL+//rLkPtrr2FJBSfPQ2O/3sIHyN2vxqNQ4klaNJnKl4MKNOTYPbGjv+IgCY0Br+90EAIu2zNUouMM0mXAbhh7rHrmNClCVwdNfy+u3A2b9hr8QnIlBpMaSlOa/ruv8uwLi8XaNYKbTwA93ZD0MwVSEj/A3/M/1gIVa3fNGjupxfEJg52+jQQUKJx/VYAMrH41xW4fvUG/OoGQtwFTcx/nZEfCntqHL78O5b+slhwbDKgrR0c36gmwvXGQ4fKT+Yx3ULyKX5EKhTdw8v3/tkJ4vseFUpALtY5u49el/r4zL6KkHlDnC5idrE9OnoE47X5G3Bt17eCc77uN5QYLBWbrVd2/pQScK3aEPyOgue37sKerHv3iuff5Kck85+2qB1onaKTc/E4Tkt3rAcZPELChUtjfCLKDv5rPPkpPXcw4ddL1iAowdiR422u7++0lRsvC1g0ZiJSSln5vj9qT5cv9zCxLO4+c+tvM650Fevl4lI9sgpK7fwnnj5pd323C4+QOgCM+GazOG31bv7IJP3n7nPvWDchHzp8sToWZf+taZdOoyiL30o2Cs2Cyo+g3i0N5d3lqNa0N64nxGN4r6YAbmPLzdzy3ipwYcpRBVBEJ8Lpb0ahXevm6D1uNoq1Bjw/92MMDfl37BqvrN0JHbyBjIzN0Eu1ef7pA+i0MA6o1gRffT/hrjlnN/4hAZkKrd76CG5qIPW3NdiUzQ9H8/th8tM9DDhzLR3CgDCZcOvYBnxx+lz5iGRydHp5nLCbdvqPryEhJRtdG0eJc3LVNRDVKgolVy9g6CJ+JnEwJvVvWGbtRnmRzOXpJNCvZ2PwuxD/+earOJUJ1A7vbwfCOaw9alZxRNqeLZi6TQe4tkPv6Cp2fqo36gMfBwWKdszHq1+vh5bf4JWf3Z2ThHcH9sK5EiOCO3dBp/t4f8kc3PFTC3FK0JGZr+FSurixZk7iCUzuWhtbLtyxi7so+Qxmz/sGiTniZt78ZD+ZyQR+Eql14p9dEHbxFBPwrNEWA6JrAYUJ6FWjET6cuwIHYmOxe9MGfPHBDLSsWQeLEsSy5F4rWppsvhtT3l2IE6dOYvln7yOm+8vgm2T2HxlCGkQJTkkXPsXc5Wvw/UczseCcOPnuuSh+GYAJ8S/Vx4SZC7B68XwMqueMJftv8vthPtCn97QJEFZWp27Gs/1G4KdfNuHYsVisX/wT3nntRdRwq4UbReWnFT1QJMzzv5pAg+ieQsdq7qqvMXPJfptOK4IuLx2blvyOG4ViGZGFtsboam7g8jLx5sxfkaM1gkwGXNoxH31fnn5fHNo0aiP4y/xhOj7/47SoyHAGnNv6O3q3ewZnM8U1QU7ewZDzvb7nD+JgCj8d24jcAvH/VlFEPZqKC0pzf3oR89bGim0jAPkp5zB12tvINhLqvjIU0eUXu1YkzsaNw5nVn2DVgTPQGsUOBrlKiQDp3SXn7vPtUcFoEnOSCBTeOEs/ffcdzf95BZ2/8+8zHZublkI372RaTJcadSUUHx9PucVl5ruwJ/5gBIyZ9KI0fc52Wh0vxFSaR81qimbU672+nngL8SvelKy9ANSxz2s0rre4Saca4hQh2EyrExOSTyNCxD0M+ClIM9ZIVgiJaOMUqyx1z2kW058PlgHm+6kgkHOGXKRyypejwWWn6hh11L2pOF2Yv+80cVF5LJyWljR/xjJdFKhB/XqKm1TzYTRuXrTwnMXOJ91rWp0gvOAMRTo78G8s4dugrvhf4adXeDg4UAgCaJdkJCx5uzh1lPfbddTL9NqAXuQghFNR6ze3/QumN5fHyVz+AQFTAb0ibQLbb/PNewsoTaIXGwaQI281y6bs8+XL0zeAViab9zki+uPj4eQq7d0i+pWRT2AHaumiEazV7U81W6vjo0yjYdLeKma5PbZK+xCWpNCwAHHvGPM9tbsPvf/dz9QNIGf3oTabwBaIm8CiNh2qYFodH9Oto6upeoAXKe02gQUpVc5UtVYkJZWZHnVvIOzuY0HAVECT73sjYyLztLofy2wbI+ZFS2vq1SK1pXw0o3ETX6W+TZ+xlPlfE62Fa/u3ouU2vmy6BlWnZ6qK/w0nVw9xuxp0p1tme9lknVZnrodJl0FDAryFKf28DAeHCHJxEfc5krtVpdNp4kawpoIUquYi7Yfn6kmtFEqC2Vp16UkKK2Otjky59GGgr7BNCS/XzaMBPdeF3whcTJ+jlz9tu2ndZPz+p9WV0jfNFYIcn4h69Mabk6mJtEGtyrcRJZQxn3+38sHWHN2NDHNnBO5GwJhNr0p/4Ff322zKyvvnTHT2q1eEP2bNqOlUaiIyleTSivfHkEpufWG3enE2HVwkbu7a/Ddxp3Xb6Ba/PUiqJILpQLpVmS05Z96fCjThv7tsg7BzRqAMAQN9P9y8YWtzOl4obV5k9sVxdH7+q2I5U6jpmwN32UjYWEz7ln1JkdLm1OaXV/uhU+l4gtkMvSiUy7kmlduOdN3mhWuOkj8mnd1N/RqIpsZ5WS4hdeiXXZdo2dBeginvnVKb1FCcTks+fo18+Y3/LA3dYJq2aCsVGOzXd9jKZ+dPGAHOSHfOn6ajR49RYoH9vkAV5dSgLaKEi6do+19/0po1a2jDlu107FQcpefaKjtEJoOOkq+coa2bNtDadetp3/FzlFOio7TEOIo9cZpKyuyHUpxzm47u3UUbNvxFuw4dpexS6xoOXWEOnY7dQ+vXrqFNW3ZS3K1sMnI6unrsCB0/nUzm4sqZjHT53Bk6evSiZS+x8nngqDQvky4cj6U/160T8rBt9z66cCWJ8kvv8qcqL4S5PE4ETIU0w13c13DoTkmpvkf6vhTe/87009G7bHpsLKWDv82nhv62dSNIqW5Gsxb8Trk6a13Pr2Pe++tc8nHm9/cU/VcfOIVOJ1ykwcJ1WeWI39IhmPbaLAs1FqbTd1PMbRJRRsgzfWnNofNksKx5NlF27HqKChL3xePjavf2V2IuS88KylHD3tZ9Q/kbhuJsWv/VNAr2tM/HoDfm0pU0m7WAfNMqZb+U/iGUaf3rCfK/miZucD7xj6PCfnp3Lm6j0THithHmPIe3HUF7L6URd59rVWW8ZJvxKHbKCDAC90GAyASTiaDkh5Er+BgNekChhNLG0gpvrSu3qARKR2d4uYrzkAxGI1QVySACL0OmUEOhsB8GJpNRmPeuUCrZ9KIK2DMnKwG+ejeZ9CC5Ciqbsmj1AXAGPTiZ/K5l2eyXMxlQkJcLvUkGjbMb3J0rnlzOGYwguaJcuTXL4Y/EGZGfmwMDp4Sblwc0gmUiDkaDCUqVzR4GADi9FvmFRTBwMrh7ekJTwVo9W9nsnBFgBBiBx48AB6OR+9t6lk83cRwMRg4q3mqb/evfLlt8WyA/Nw96joPKwQlubi53XRPP6YqRW1AMmdIRHh4ukMtkQj1sJAVUNm0MMplg5ACVqvyadENJIXKKSoW43F1dRMuPdini3yc6FBQWgVQOcHNxtvgxSW0iRQXvIZNBi/z8Ahg5ORzd3OHqYP8OMEdhMhiFtavlRBD/7jBCoVLb8SotKkBxiRYKByfw6X2Q5dlMOTJTZ0dGgBFgBBgBRoARYAQYAUaAEXiqCTCDDE/142eZZwQYAUaAEWAEGAFGgBFgBBgBMwGmHJlJsCMjwAgwAowAI8AIMAKMACPACDzVBJhy9FQ/fpZ5RoARYAQYAUaAEWAEGAFGgBEwE2DKkZkEOzICjAAjwAgwAowAI8AIMAKMwFNNgClHT/XjZ5lnBBgBRoARYAQYAUaAEWAEGAEzAaYcmUmwIyPACDACjAAjwAgwAowAI8AIPNUEmHL0VD9+lnlGgBFgBBgBRoAR3CMdpgAADVlJREFUYAQYAUaAETATYMqRmQQ7MgKMACPACDACjAAjwAgwAozAU02AKUdP9eNnmWcEGAFGgBFgBBgBRoARYAQYATMBphyZSbAjI8AIMAKMACPACDACjAAjwAg81QSYcvRUP36W+f+VQObNyzh56hSKdcb/VdR9hU+5egGnz1+EiaP78s88MQKMACPACPwvBDic+2I0WjRrhhfe3wvufxHFwjICjMC/ggBTjv4Vj4kl8vEkUIKPetZFTNPW2Hkp4xEksQjju0QhutWzuFmsfwTxsSgYAUaAEWAEClJO4MixYzidnwvWLcXKAyPw5BNQPvlZZDlkBCqPgFwNQAbIVXePg4jAcWJ/o1wuh0wms/dMJLxw7+bOezbfkykAqGWQlxFhL5BdMQKMACPw5BDg9CXIyimA2sUTHi4a+4wRh/zsLGg5JXx8PKEQKkcCZzSiMCcTNxJTUWoEAkOrIcDPCxqVgq+y7T6cyYiSolykJqaixCSDR1BVBHl5QC0n5BcWID1bnBlgzM5DXl4ehGrY2Q1OKmv/Mmc0oDA/C4mJKcJMAveAYIQG+MPZSWMXH5n0yMrMgcbdG84KE5LiryGzhBBeNxJejiqACHptCVKTbyAjtwROHgEICfGHm6MDq/ftnhq7YAQqkQCxDyPACDwwgeRNn1Pbtq2oiiOv18ipbnRzatu2LXXq05+SC3SSPI4yL+6lMc+2oqYxMdS4cQy1bD2Mfj99wxqfqZC+btOGWrduQx9uvWx1J6LMs+upc+vW9PLnC+jUig+F+LzUICgcqUmrNkJ8PV6aTMV6k104dsEIMAKMwJNEIP3XUfyADQW3GlwuW8bk7eQNkNo3iE6mlwj3tfk36bkOz5CbRuh3EsICjlQtpiedyjXXz5IobQa9078R+Qh1ueRfJqcaUTG09q9fpbC2csTzbhsTLGnJv3mcWjSqRy4OKjv/nkE1qNu8PWQbI3d9teAn/NX/0n+a1rb4D/7qiCAvbscvVLeqr8Wdz7dHleo0+3SmJT52wggwApVLAJUrnklnBJ5MAnHfdrN7efEvMOHrFUhnMvkXtIlOrHqdXDRywT28UXPq2KS+6EfjT2+svEAGHg2npd2D2gjuHhEd6JbgSKTPvk69fUSZo3/YRjtnthXDmuMxH6PaU67W+GRCZrliBBgBRoAnkH+OIlxAcA2n06L+I3LhTLRrslgXB7ScQrkGjriiOzS8qVh31mnZh35ev40Ob1lLz7aKEOvQas9SYom1zpw3oKngrlCF0YQPvqLF87+kF/t3IWeARr3zI02YMJ56RnoJfrxqdKFXJ0ygCRMm0DcXsoU0mPKuU8+6rsL90IYt6J0PvqU1yxbSi/07ifEpVPTpzvOW5ygoR87S+wKgxn2H0JgRQ6jbyrNExYnU0VO813PGPNpzYD8tmTOJOjeuSzNjb1tksBNGgBGoXAJMOapcvkz6E0qA4wxk0mfQmNogyB3ot6OJpNVqhS9HRNr43eKLEQ40dUmshcKeL0eQRlJsjmWUSu4G6hrhKfh3f2cdGUwc/fbuCOHa2ed1SudVLZOeOEMadQkGwbkGncspEuPT64mPj30YAUaAEXiSCYzsXE+oE2ssvmyp8zh9CbVuEEaAkkYf5GtKoou/zxbrXrdedF1rQ6Q0kfq4iCM7P+4TR+853XWqwysqKj9amWIzvsOZ6NzahbTmZLLQ0XVgktixVW/iH2RVq0TZez59XozP2ZdOZprrdPHe9691Fe+1nEz5UkVtHjkCFOQ/ayPZjvtztw6K/tGOknWsZrd5euyUEXikBKwTZitx6h4TzQg8aQRkMiXkKme4OgD8RHAnjRoajUb48vPZf/x5sZjll3/EB8NbWLLfftICTO8WJlwfP3ZTcldi4bypwnnBvGHYsG0lJn65DHD2wu+HpsOPj0KugkzpDEd+jZNKAVeVUoxPpbKbz26JiJ0wAowAI/AEERjXq76Qm4SJryJNx+sQgDbvMpIvJwE12+HzFnxNCew4dUE49pk/FTVtlyc5hGLYy82Ee/FxScIRl3biSjFQtX07DA7mK1fpI5Mj6rmx6B9d1ewiHkvKrlYClsYmCvdaLDmMRj78C8H6GTj0JfEidgFOZdsb0fGt0Qln3+4B20aYTOMkBd6Hd+b+gEKTVRY7YwQYgUdHwPZ/+ehiZTExAk8SAfE9bZejzIw04bpx8U38tmwJliyRvstW4YZRfONlFRVYwoT0egOzh8SA9CUY0GMYskqANmMXoGO4+MK3eORPqPwL2u4+u2AEGAFG4AkjED1oEmryeSreh/3XeeughPjVs5FkIHRo1QkeUmumME3sdNr4Qi+EhYXZfccsOihQITIIxzsntgvH2r4theM/+SnJSgfgh7faVy/XUeVVvZYkshhFBnsj4G5OUXDX8KYdbD7eDbDny/7g7Twsf288QoKiMe7t93AiOcfGEztlBBiByibArNVVNmEm/6kkUJyeLOT75O/zMGF9eWXGRaOB0sHWXY2JU8bhvZUnJF4xWPFFf2hY98VTWX5YphkBRsCegMK3KSaPqIVXl13Dn3tP4PnwGLw/caPgqcWowVbPWrHzyad1W3Sq5W11l86UeXmIblVbuOIgmhm1rYnLBfg7B+J7x2R2luvMQUQ7pOKVzFQ2FlFBM/sVjwq0f2M1Utpuw9jxU3Dk8hX8OO80fpy3CCuOn8XQGH977+yKEWAEKoUAU44qBSsT+rQTUKidBQSv/LYD77eoUR6HyQQXX/sX3ca/dtj4O4N+84/gxKTm5XojbTyxU0aAEWAEnhoCrXu9Cix7Hau++wuftOSwXsh5P4xuYZ3+5hIcAuA0uo+bgkWDW92TjdpPVJ7uFJy5p7973VQ583V9ClZfyUWXpp52XovS7kjXkfBzu8d+D3ah5PBv1B0bDnZG9q1reKdTPfwUn4aPP3oHQzcusvPJLhgBRqByCLB+6crhyqQ+FQQ4cHznH98hWOaf5OIfJBA4eL0EAQEB5b9BQXBRW/smMo8txLuzVkGhccD0KSMAGHHhnT44dCPXhiQHjt9uQzCAZ+PMThkBRoAReAoIRLTtLOSSrv6BURM+Es5bfTkcYUrrqEy4p1j3Lvv4O6SUVjDn2YaTb5Pu8AJw4fBRHMmxmfZGHK7v+QW/n0wVKnhnb1GmKS0NXBmRDYR7HBaPGYWUYnE/JHMUW1csE09bd0ctlzIvCbMnmyMZdSjUiSNfcqUKvqF1sfDQJrgCUKDUxic7ZQQYgcok8Pf/1sqMnclmBP7VBFzgF1kLMBpwMZ5/iRK0JUUwcYTn6sYIObs07UVsOn9bsM0qZpVQWpCNU/tOoMRofsuWYtgrc5ECJRrN3IwPP1+EaV0DoS/ORJt3vkCBwezPDR5VA4HcbBy9xa9X4lBaWsJbnPxXU2SJZwQYAUbgfgiofMOxsasvgGzsO3ICUDlhelerwRteRtfhw1GNP7m0CgMGvIb9sedxM/EGLp44it8Xfo76mpo4mytOaZMF9kb7Z4KB7Di0D+6MlZv24eSJw1g2ZzKiO76IPRf4taMyhDVqICQv5dQcbD5yCrvWr8KWhDzBbdy04YLRHFzciOFj38b+o2cQd+EMln4yBoM++xUyuRo/fDDWsiZKCHSXn6vLpyC4RjgWr9+BuBs3cf38CcwZNg6FADw9gu8SijkzAozAQyfwSG3jscgYgSeMwMJp/XjNhJQOjhT1TDNyCwmnc5klxBkz6U3JZLdK40i1IgfTp599QAOjG5CrizMpIKfzuXqBRsKPz5Kc9xvdnXQm0XxrztkNglxe9vTlJy3UxvdvLrirnFyoZa265NqsO9vnyEKHnTACjMCTTsCUtIHcpLrVye0/dEdb1uQ1R+kn11KAtAGsTKYkjYOGlHJxzzm+Tj2ZI9a9PKuSK9uoqiQPkJFCYfW36OwdASdnTKKuZj8KpVBft/3zpoiaM9HJhbMs9bVMpiC1UmG5fmHlGTJK9TofwGzKu3r916nY1o43EaVufN8STq3RkFqplK5b0uFMG1PjYszslxFgBCqJgIyX+9A1LiaQEXhKCOTHHce4Eb3w2wneehLg6BeMS9cTUM1NjdLsG/hxzsf47MfFSC+2AvH0b4aREwZh5tsT4Zx3FWr/SOHmx39cxoxn60ge9dj2xmB0+3odnPu8iqIN3wnuGYc2Y8TLI7D9smi9KKB5V8Tv3wJn3rwR+zACjAAj8MQTMGHz7ytwJ1cHp8Y9MCg6qOysZmEUv+D2DezevRvXU7OhN5ng6OqOKoH10apDDEK8xTWhZlQFd+Lxx187kZGVA5PKEX6+4ejQsz2q+7iYvSDrxhms33IA2UU6OHl4oPvgkajpLpn/JhMyEy5g54FYpKbnQm9Sws3HB606dEOjWuKUPLMgKkjGz6u2w903Gs/2bQSFdUagMJ065eIp7D54Ahn5hTBBCW/fcHR9rgtCPcxmvs2S2JERYAQqiwBTjiqLLJPLCDACjAAjwAgwAowAI8AIMAL/KgKsu/lf9bhYYhkBRoARYAQYAUaAEWAEGAFGoLIIMOWossgyuYwAI8AIMAKMACPACDACjAAj8K8i8H/FnvmDVQ5OFwAAAABJRU5ErkJggg=="
    }
   },
   "cell_type": "markdown",
   "metadata": {},
   "source": [
    "Logistic regression(LR) is a popular method to predict a categorical response. We will be using LR with count vector features, cross-validation and TF-IDF features\n",
    "\n",
    "CountVectorizer helps in converting a collection of text documents to vectors of token counts. \n",
    "\n",
    "CrossValidator begins by splitting the dataset into a set of folds which are used as separate training and test datasets.\n",
    "\n",
    "Term frequency-inverse document frequency (TF-IDF) is a feature vectorization method widely used in text mining to reflect the importance of a term to a document in the corpus. \n",
    "\n",
    "Pipeline chains multiple Transformers and Estimators together to specify an ML workflow.\n",
    "\n",
    "![image.png](attachment:image.png)"
   ]
  },
  {
   "cell_type": "code",
   "execution_count": 54,
   "metadata": {},
   "outputs": [],
   "source": [
    "# Logistic Regression\n",
    "lr = LogisticRegression(maxIter=20, regParam=0.4, elasticNetParam=0.1)\n",
    "\n",
    "# Chain indexers and lr in a Pipeline\n",
    "pipeline = Pipeline(stages=[regexTokenizer, stopwordsRemover, countVectors, label_stringIdx, lr])\n",
    "\n",
    "# Train model with training data\n",
    "lrModel1 = pipeline.fit(trainingData)\n",
    "\n",
    "# Predict with Test Data\n",
    "predictions1 = lrModel1.transform(testData)"
   ]
  },
  {
   "cell_type": "code",
   "execution_count": 55,
   "metadata": {},
   "outputs": [
    {
     "name": "stdout",
     "output_type": "stream",
     "text": [
      "+------------------------------+-----+------------------------------+--------------+----------+\n",
      "|                          text|label|                   probability|label_assigned|prediction|\n",
      "+------------------------------+-----+------------------------------+--------------+----------+\n",
      "|  WASHINGTON — Maile Pearl ...|    1|[0.0026706734262848158,0.29...|           1.0|       1.0|\n",
      "|  WASHINGTON — Dr. Ronny L....|    1|[0.00253402170489262,0.3695...|           1.0|       1.0|\n",
      "|  WASHINGTON — Attorney Gen...|    1|[0.00208749946393113,0.5380...|           1.0|       1.0|\n",
      "|  As Ohio prepares for a co...|    3|[0.0020153666351073593,0.48...|           3.0|       1.0|\n",
      "|  WASHINGTON — President Tr...|    1|[0.0013994443740107134,0.66...|           1.0|       1.0|\n",
      "|  The following is the gues...|    3|[0.0012920009517232037,0.60...|           3.0|       1.0|\n",
      "|  WASHINGTON TOWNSHIP, Mich...|    1|[0.001241515323381259,0.611...|           1.0|       1.0|\n",
      "|  As of last week, the Amer...|    1|[9.015160020712877E-4,0.752...|           1.0|       1.0|\n",
      "|  In December 1967, an Amer...|    3|[8.823690004951758E-4,0.467...|           3.0|       1.0|\n",
      "|  WASHINGTON — George Nader...|    1|[5.256010552100193E-4,0.738...|           1.0|       1.0|\n",
      "+------------------------------+-----+------------------------------+--------------+----------+\n",
      "only showing top 10 rows\n",
      "\n"
     ]
    }
   ],
   "source": [
    "predictions1.filter(predictions1['prediction'] == 1) \\\n",
    "    .select(\"text\",\"label\",\"probability\",\"label_assigned\",\"prediction\") \\\n",
    "    .orderBy(\"probability\", ascending=False) \\\n",
    "    .show(n = 10, truncate = 30)"
   ]
  },
  {
   "cell_type": "code",
   "execution_count": 56,
   "metadata": {},
   "outputs": [
    {
     "data": {
      "text/plain": [
       "85.01346796965478"
      ]
     },
     "execution_count": 56,
     "metadata": {},
     "output_type": "execute_result"
    }
   ],
   "source": [
    "evaluator1 = MulticlassClassificationEvaluator(predictionCol=\"prediction\")\n",
    "lr_accuracy = evaluator1.evaluate(predictions1)*100\n",
    "lr_accuracy"
   ]
  },
  {
   "cell_type": "markdown",
   "metadata": {},
   "source": [
    "# Cross-Validation"
   ]
  },
  {
   "cell_type": "code",
   "execution_count": 57,
   "metadata": {},
   "outputs": [],
   "source": [
    "# Create ParamGrid for Cross Validation\n",
    "paramGrid = (ParamGridBuilder()\n",
    "             .addGrid(lr.regParam, [0.1, 0.3, 0.5]) # regularization parameter\n",
    "             .addGrid(lr.elasticNetParam, [0.0, 0.1, 0.2]) # Elastic Net Parameter (Ridge = 0)\n",
    "             .build())\n",
    "\n",
    "# Create 5-fold CrossValidator\n",
    "cv = CrossValidator(estimator=pipeline, \\\n",
    "                    estimatorParamMaps=paramGrid, \\\n",
    "                    evaluator=MulticlassClassificationEvaluator(), \\\n",
    "                    numFolds=5)\n",
    "\n",
    "cvModel = cv.fit(trainingData)\n",
    "\n",
    "predictions2 = cvModel.transform(testData)"
   ]
  },
  {
   "cell_type": "code",
   "execution_count": 58,
   "metadata": {},
   "outputs": [
    {
     "name": "stdout",
     "output_type": "stream",
     "text": [
      "+------------------------------+-----+------------------------------+--------------+----------+\n",
      "|                          text|label|                   probability|label_assigned|prediction|\n",
      "+------------------------------+-----+------------------------------+--------------+----------+\n",
      "|  WASHINGTON — Maile Pearl ...|    1|[0.0024457227427080006,0.30...|           1.0|       1.0|\n",
      "|  WASHINGTON — Dr. Ronny L....|    1|[0.002302081142857854,0.395...|           1.0|       1.0|\n",
      "|  WASHINGTON — Attorney Gen...|    1|[0.0017385584968315775,0.59...|           1.0|       1.0|\n",
      "|  As Ohio prepares for a co...|    3|[0.0016714107985765143,0.54...|           3.0|       1.0|\n",
      "|  WASHINGTON — President Tr...|    1|[0.0011142206706504481,0.71...|           1.0|       1.0|\n",
      "|  WASHINGTON TOWNSHIP, Mich...|    1|[8.212129429230213E-4,0.706...|           1.0|       1.0|\n",
      "|  The following is the gues...|    3|[7.76571739173428E-4,0.7319...|           3.0|       1.0|\n",
      "|  As of last week, the Amer...|    1|[6.536526502423902E-4,0.803...|           1.0|       1.0|\n",
      "|  In December 1967, an Amer...|    3|[5.362741227182418E-4,0.534...|           3.0|       1.0|\n",
      "|  WASHINGTON — George Nader...|    1|[3.3615402148471046E-4,0.75...|           1.0|       1.0|\n",
      "+------------------------------+-----+------------------------------+--------------+----------+\n",
      "only showing top 10 rows\n",
      "\n"
     ]
    }
   ],
   "source": [
    "predictions2.filter(predictions2['prediction'] == 1) \\\n",
    "    .select(\"text\",\"label\",\"probability\",\"label_assigned\",\"prediction\") \\\n",
    "    .orderBy(\"probability\", ascending=False) \\\n",
    "    .show(n = 10, truncate = 30)"
   ]
  },
  {
   "cell_type": "code",
   "execution_count": 59,
   "metadata": {},
   "outputs": [
    {
     "data": {
      "text/plain": [
       "85.01346796965478"
      ]
     },
     "execution_count": 59,
     "metadata": {},
     "output_type": "execute_result"
    }
   ],
   "source": [
    "evaluator2 = MulticlassClassificationEvaluator(predictionCol=\"prediction\")\n",
    "lr_cv_accuracy = evaluator2.evaluate(predictions2)*100\n",
    "lr_cv_accuracy"
   ]
  },
  {
   "cell_type": "markdown",
   "metadata": {},
   "source": [
    "# Logistic Regression using TF-IDF Features"
   ]
  },
  {
   "cell_type": "code",
   "execution_count": 60,
   "metadata": {},
   "outputs": [],
   "source": [
    "hashingTF = HashingTF(inputCol=\"filtered\", outputCol=\"rawFeatures\", numFeatures=10000)\n",
    "idf = IDF(inputCol=\"rawFeatures\", outputCol=\"features\", minDocFreq=5) #minDocFreq: remove sparse terms\n",
    "pipeline = Pipeline(stages=[regexTokenizer, stopwordsRemover,  hashingTF, idf, label_stringIdx, lr])"
   ]
  },
  {
   "cell_type": "code",
   "execution_count": 61,
   "metadata": {},
   "outputs": [
    {
     "name": "stdout",
     "output_type": "stream",
     "text": [
      "+------------------------------+-----+------------------------------+--------------+----------+\n",
      "|                          text|label|                   probability|label_assigned|prediction|\n",
      "+------------------------------+-----+------------------------------+--------------+----------+\n",
      "|  WASHINGTON — Dr. Ronny L....|    1|[0.0027040743032634563,0.34...|           1.0|       1.0|\n",
      "|  WASHINGTON — Maile Pearl ...|    1|[0.002629674041023248,0.298...|           1.0|       1.0|\n",
      "|  As Ohio prepares for a co...|    3|[0.0019025936078926498,0.45...|           3.0|       1.0|\n",
      "|  WASHINGTON — Attorney Gen...|    1|[0.0018550548389113305,0.55...|           1.0|       1.0|\n",
      "|  WASHINGTON — President Tr...|    1|[0.001634907099874175,0.620...|           1.0|       1.0|\n",
      "|  In December 1967, an Amer...|    3|[0.0014608103648177002,0.32...|           3.0|       1.0|\n",
      "|  As of last week, the Amer...|    1|[0.0012324442096175929,0.64...|           1.0|       1.0|\n",
      "|  The following is the gues...|    3|[0.0012250842408951148,0.56...|           3.0|       1.0|\n",
      "|  WASHINGTON TOWNSHIP, Mich...|    1|[0.0011491348383378844,0.67...|           1.0|       1.0|\n",
      "|  WASHINGTON — A few hours ...|    1|[5.691653442942632E-4,0.789...|           1.0|       1.0|\n",
      "+------------------------------+-----+------------------------------+--------------+----------+\n",
      "only showing top 10 rows\n",
      "\n"
     ]
    }
   ],
   "source": [
    "lrModel2 = pipeline.fit(trainingData)\n",
    "predictions3 = lrModel2.transform(testData)\n",
    "predictions3.filter(predictions3['prediction'] == 1) \\\n",
    "    .select(\"text\",\"label\",\"probability\",\"label_assigned\",\"prediction\") \\\n",
    "    .orderBy(\"probability\", ascending=False) \\\n",
    "    .show(n = 10, truncate = 30)"
   ]
  },
  {
   "cell_type": "code",
   "execution_count": 62,
   "metadata": {},
   "outputs": [
    {
     "data": {
      "text/plain": [
       "86.42205638474294"
      ]
     },
     "execution_count": 62,
     "metadata": {},
     "output_type": "execute_result"
    }
   ],
   "source": [
    "evaluator3 = MulticlassClassificationEvaluator(predictionCol=\"prediction\")\n",
    "lr_tf_accuracy = evaluator3.evaluate(predictions3)*100\n",
    "lr_tf_accuracy"
   ]
  },
  {
   "cell_type": "markdown",
   "metadata": {},
   "source": [
    "# Naive Bayes Classifier"
   ]
  },
  {
   "cell_type": "markdown",
   "metadata": {},
   "source": [
    "Naive Bayes classifiers are a family of simple probabilistic classifiers based on applying Bayes’ theorem with strong (naive) independence assumptions between the features. "
   ]
  },
  {
   "cell_type": "code",
   "execution_count": 75,
   "metadata": {},
   "outputs": [],
   "source": [
    "pipeline = Pipeline(stages=[regexTokenizer, stopwordsRemover, countVectors, label_stringIdx])\n",
    "pipelineFit = pipeline.fit(spark_data)\n",
    "dataset = pipelineFit.transform(spark_data)\n",
    "(training, test) = dataset.randomSplit([0.8, 0.2], seed = 100)"
   ]
  },
  {
   "cell_type": "code",
   "execution_count": 76,
   "metadata": {},
   "outputs": [
    {
     "name": "stdout",
     "output_type": "stream",
     "text": [
      "+------------------------------+-----+------------------------------+--------------+----------+\n",
      "|                          text|label|                   probability|label_assigned|prediction|\n",
      "+------------------------------+-----+------------------------------+--------------+----------+\n",
      "|  Federal officials added n...|    1|[1.0,4.036707864955418E-55,...|           3.0|       0.0|\n",
      "|  WASHINGTON — Maile Pearl ...|    1|[1.0,7.25669508368867E-76,1...|           3.0|       0.0|\n",
      "|  As Ohio prepares for a co...|    3|[1.0,7.860179113955243E-102...|           1.0|       0.0|\n",
      "|  WASHINGTON — Dr. Ronny L....|    1|[1.0,1.4365930026449755E-10...|           3.0|       0.0|\n",
      "|  The following is the gues...|    3|[1.0,6.824216315003607E-160...|           1.0|       0.0|\n",
      "+------------------------------+-----+------------------------------+--------------+----------+\n",
      "only showing top 5 rows\n",
      "\n"
     ]
    }
   ],
   "source": [
    "nb = NaiveBayes(smoothing=1, modelType=\"multinomial\")\n",
    "\n",
    "nbmodel = nb.fit(training)\n",
    "predictions4 = nbmodel.transform(test)\n",
    "predictions4.filter(predictions4['prediction'] == 0) \\\n",
    "    .select(\"text\",\"label\",\"probability\",\"label_assigned\",\"prediction\") \\\n",
    "    .orderBy(\"probability\", ascending=False) \\\n",
    "    .show(n = 5, truncate = 30)"
   ]
  },
  {
   "cell_type": "code",
   "execution_count": 77,
   "metadata": {},
   "outputs": [
    {
     "data": {
      "text/plain": [
       "2.9850746268656714"
      ]
     },
     "execution_count": 77,
     "metadata": {},
     "output_type": "execute_result"
    }
   ],
   "source": [
    "evaluator4 = MulticlassClassificationEvaluator(labelCol=\"label_assigned\", predictionCol=\"prediction\", metricName=\"accuracy\")\n",
    "nb_accuracy = evaluator4.evaluate(predictions4)*100\n",
    "nb_accuracy"
   ]
  },
  {
   "cell_type": "markdown",
   "metadata": {},
   "source": [
    "# Random Forest Classifier"
   ]
  },
  {
   "cell_type": "code",
   "execution_count": 66,
   "metadata": {},
   "outputs": [
    {
     "name": "stdout",
     "output_type": "stream",
     "text": [
      "+------------------------------+-----+------------------------------+--------------+----------+\n",
      "|                          text|label|                   probability|label_assigned|prediction|\n",
      "+------------------------------+-----+------------------------------+--------------+----------+\n",
      "|  As Ohio prepares for a co...|    3|[0.23487030697975278,0.3241...|           3.0|       1.0|\n",
      "|  Federal officials added n...|    1|[0.22544264856006305,0.3075...|           1.0|       1.0|\n",
      "|  WASHINGTON — Dr. Ronny L....|    1|[0.2161295185597203,0.40971...|           1.0|       1.0|\n",
      "|  It was in the last half-h...|    1|[0.21369163554532972,0.3897...|           1.0|       1.0|\n",
      "|  As of last week, the Amer...|    1|[0.20091466475948022,0.3683...|           1.0|       1.0|\n",
      "|  In December 1967, an Amer...|    3|[0.19433109369318655,0.3130...|           3.0|       1.0|\n",
      "|  WASHINGTON TOWNSHIP, Mich...|    1|[0.1890943955011462,0.44877...|           1.0|       1.0|\n",
      "|  WASHINGTON — Attorney Gen...|    1|[0.17846331309524677,0.4797...|           1.0|       1.0|\n",
      "|  WASHINGTON — President Tr...|    1|[0.16869909791153762,0.3842...|           1.0|       1.0|\n",
      "|  WASHINGTON — A few hours ...|    1|[0.16717781603873724,0.4995...|           1.0|       1.0|\n",
      "+------------------------------+-----+------------------------------+--------------+----------+\n",
      "only showing top 10 rows\n",
      "\n"
     ]
    }
   ],
   "source": [
    "rf = RandomForestClassifier(labelCol=\"label_assigned\", \\\n",
    "                            featuresCol=\"features\", \\\n",
    "                            numTrees = 100, \\\n",
    "                            maxDepth = 4, \\\n",
    "                            maxBins = 32)\n",
    "\n",
    "pipeline = Pipeline(stages=[regexTokenizer, stopwordsRemover, countVectors, label_stringIdx, rf])\n",
    "\n",
    "# Train model with Training Data\n",
    "rfModel = pipeline.fit(trainingData)\n",
    "\n",
    "predictions5 = rfModel.transform(testData)\n",
    "predictions5.filter(predictions5['prediction'] == 1) \\\n",
    "    .select(\"text\",\"label\",\"probability\",\"label_assigned\",\"prediction\") \\\n",
    "    .orderBy(\"probability\", ascending=False) \\\n",
    "    .show(n = 10, truncate = 30)"
   ]
  },
  {
   "cell_type": "code",
   "execution_count": 67,
   "metadata": {},
   "outputs": [
    {
     "data": {
      "text/plain": [
       "85.07462686567165"
      ]
     },
     "execution_count": 67,
     "metadata": {},
     "output_type": "execute_result"
    }
   ],
   "source": [
    "evaluator5 = MulticlassClassificationEvaluator(labelCol=\"label_assigned\", predictionCol=\"prediction\", metricName=\"accuracy\")\n",
    "rf_accuracy = evaluator5.evaluate(predictions5)*100\n",
    "rf_accuracy"
   ]
  },
  {
   "cell_type": "markdown",
   "metadata": {},
   "source": [
    "# Decision tree classifier"
   ]
  },
  {
   "cell_type": "code",
   "execution_count": 69,
   "metadata": {},
   "outputs": [],
   "source": [
    "# Train a DecisionTree model.\n",
    "dt = DecisionTreeClassifier(labelCol=\"label_assigned\", featuresCol=\"features\")\n",
    "\n",
    "# Chain indexers and tree in a Pipeline\n",
    "pipeline = Pipeline(stages=[regexTokenizer, stopwordsRemover, countVectors, label_stringIdx, dt])\n",
    "\n",
    "# Train model.  This also runs the indexers.\n",
    "dt_model = pipeline.fit(trainingData)\n",
    "\n",
    "# Make predictions.\n",
    "predictions6 = dt_model.transform(testData)"
   ]
  },
  {
   "cell_type": "code",
   "execution_count": 70,
   "metadata": {},
   "outputs": [
    {
     "name": "stdout",
     "output_type": "stream",
     "text": [
      "+------------------------------+-----+------------------------------+--------------+----------+\n",
      "|                          text|label|                   probability|label_assigned|prediction|\n",
      "+------------------------------+-----+------------------------------+--------------+----------+\n",
      "|  WASHINGTON — A few hours ...|    1|             [0.0,1.0,0.0,0.0]|           1.0|       1.0|\n",
      "|  WASHINGTON — Dr. Ronny L....|    1|             [0.0,1.0,0.0,0.0]|           1.0|       1.0|\n",
      "|  WASHINGTON — Maile Pearl ...|    1|             [0.0,1.0,0.0,0.0]|           1.0|       1.0|\n",
      "|  WASHINGTON — Attorney Gen...|    1|             [0.0,1.0,0.0,0.0]|           1.0|       1.0|\n",
      "|  Stocks rose on Wednesday ...|    3|             [0.0,1.0,0.0,0.0]|           3.0|       1.0|\n",
      "|  As Ohio prepares for a co...|    3|[0.0,0.8461538461538461,0.0...|           3.0|       1.0|\n",
      "|  It was in the last half-h...|    1|[0.0,0.8461538461538461,0.0...|           1.0|       1.0|\n",
      "+------------------------------+-----+------------------------------+--------------+----------+\n",
      "\n"
     ]
    }
   ],
   "source": [
    "predictions6.filter(predictions6['prediction'] == 1) \\\n",
    "    .select(\"text\",\"label\",\"probability\",\"label_assigned\",\"prediction\") \\\n",
    "    .orderBy(\"probability\", ascending=False) \\\n",
    "    .show(n = 10, truncate = 30)"
   ]
  },
  {
   "cell_type": "code",
   "execution_count": 71,
   "metadata": {},
   "outputs": [
    {
     "data": {
      "text/plain": [
       "83.5820895522388"
      ]
     },
     "execution_count": 71,
     "metadata": {},
     "output_type": "execute_result"
    }
   ],
   "source": [
    "evaluator6 = MulticlassClassificationEvaluator(labelCol=\"label_assigned\", predictionCol=\"prediction\", metricName=\"accuracy\")\n",
    "dt_accuracy = evaluator6.evaluate(predictions6)*100\n",
    "dt_accuracy"
   ]
  },
  {
   "cell_type": "markdown",
   "metadata": {},
   "source": [
    "# Testing "
   ]
  },
  {
   "cell_type": "markdown",
   "metadata": {},
   "source": [
    "Testing the models built with unknown set of articles (not test set) and see how they perform for different classification methods"
   ]
  },
  {
   "cell_type": "code",
   "execution_count": 80,
   "metadata": {},
   "outputs": [],
   "source": [
    "data1 = sc.textFile(\"test_nytimes_politics.txt\")\n",
    "data2 = sc.textFile(\"test_nytimes_sports.txt\")\n",
    "data3 = sc.textFile(\"test_nytimes_business.txt\")\n",
    "data4 = sc.textFile(\"test_nytimes_movies.txt\")"
   ]
  },
  {
   "cell_type": "markdown",
   "metadata": {},
   "source": [
    "Get textfiles into rdd and then convert to dataframes. Then, concatenate the dataframes into one, which would be used for predictions and accuracy"
   ]
  },
  {
   "cell_type": "code",
   "execution_count": 83,
   "metadata": {},
   "outputs": [],
   "source": [
    "p = data1.map(lambda x: Row(text=x, label = 1))\n",
    "politics = sqlContext.createDataFrame(p)\n",
    "politics = politics.select([\"text\",\"label\"])\n",
    "\n",
    "s = data2.map(lambda x: Row(text=x, label = 2))\n",
    "sports = sqlContext.createDataFrame(s)\n",
    "sports = sports.select([\"text\",\"label\"])\n",
    "\n",
    "b = data3.map(lambda x: Row(text=x, label = 3))\n",
    "business = sqlContext.createDataFrame(b)\n",
    "business = business.select([\"text\",\"label\"])\n",
    "\n",
    "m = data4.map(lambda x: Row(text=x, label = 4))\n",
    "movies = sqlContext.createDataFrame(m)\n",
    "movies = movies.select([\"text\",\"label\"])"
   ]
  },
  {
   "cell_type": "code",
   "execution_count": 85,
   "metadata": {},
   "outputs": [],
   "source": [
    "import functools \n",
    "\n",
    "def unionAll(dfs):\n",
    "    return functools.reduce(lambda df1,df2: df1.union(df2.select(df1.columns)), dfs) "
   ]
  },
  {
   "cell_type": "code",
   "execution_count": 89,
   "metadata": {},
   "outputs": [],
   "source": [
    "data = unionAll([politics, sports, business, movies])"
   ]
  },
  {
   "cell_type": "markdown",
   "metadata": {},
   "source": [
    "# Logistic Regression"
   ]
  },
  {
   "cell_type": "code",
   "execution_count": 94,
   "metadata": {},
   "outputs": [
    {
     "data": {
      "text/plain": [
       "91.82697655792292"
      ]
     },
     "execution_count": 94,
     "metadata": {},
     "output_type": "execute_result"
    }
   ],
   "source": [
    "# Predict with Test Data\n",
    "lr_predictions1 = lrModel1.transform(data)\n",
    "lr_evaluator1 = MulticlassClassificationEvaluator(predictionCol=\"prediction\")\n",
    "lr_accuracy1 = lr_evaluator1.evaluate(lr_predictions1)*100\n",
    "lr_accuracy1"
   ]
  },
  {
   "cell_type": "code",
   "execution_count": 93,
   "metadata": {},
   "outputs": [
    {
     "name": "stdout",
     "output_type": "stream",
     "text": [
      "+------------------------------+-----+------------------------------+--------------+----------+\n",
      "|                          text|label|                   probability|label_assigned|prediction|\n",
      "+------------------------------+-----+------------------------------+--------------+----------+\n",
      "|  For nearly a decade, the ...|    1|[0.002700562025859339,0.343...|           1.0|       1.0|\n",
      "|  WASHINGTON — President Tr...|    1|[0.0026864866230528702,0.40...|           1.0|       1.0|\n",
      "|  WASHINGTON — Former Secre...|    3|[0.0025708038992731863,0.34...|           3.0|       1.0|\n",
      "|  WASHINGTON — President Tr...|    1|[0.0024970072215784725,0.42...|           1.0|       1.0|\n",
      "|  Update: Several states sa...|    1|[0.0024914734646165415,0.39...|           1.0|       1.0|\n",
      "|  WASHINGTON — The line of ...|    1|[0.002491408168528379,0.383...|           1.0|       1.0|\n",
      "|  WASHINGTON — The Justice ...|    1|[0.0024420136472353385,0.37...|           1.0|       1.0|\n",
      "|  WASHINGTON — The United S...|    1|[0.0024332522158467406,0.41...|           1.0|       1.0|\n",
      "|  WASHINGTON — After months...|    1|[0.0024015369348563513,0.44...|           1.0|       1.0|\n",
      "|  The Senate Ethics Committ...|    1|[0.002325404830463742,0.353...|           1.0|       1.0|\n",
      "|  The Republican pollster w...|    1|[0.002245742560465536,0.466...|           1.0|       1.0|\n",
      "|  WASHINGTON — As the first...|    1|[0.0022203415195138155,0.40...|           1.0|       1.0|\n",
      "|  On April 28, 1945 — 73 ye...|    1|[0.00220110123926749,0.4167...|           1.0|       1.0|\n",
      "|  WASHINGTON — The Supreme ...|    1|[0.0021709796112983197,0.48...|           1.0|       1.0|\n",
      "|  WASHINGTON — Two back-to-...|    1|[0.0021363588816486123,0.51...|           1.0|       1.0|\n",
      "+------------------------------+-----+------------------------------+--------------+----------+\n",
      "only showing top 15 rows\n",
      "\n"
     ]
    }
   ],
   "source": [
    "lr_predictions1.filter(lr_predictions1['prediction'] == 1) \\\n",
    "    .select(\"text\",\"label\",\"probability\",\"label_assigned\",\"prediction\") \\\n",
    "    .orderBy(\"probability\", ascending=False) \\\n",
    "    .show(n = 15, truncate = 30)"
   ]
  },
  {
   "cell_type": "markdown",
   "metadata": {},
   "source": [
    "# Logistic Regression with Cross Validation "
   ]
  },
  {
   "cell_type": "code",
   "execution_count": 95,
   "metadata": {},
   "outputs": [
    {
     "data": {
      "text/plain": [
       "92.13648920360784"
      ]
     },
     "execution_count": 95,
     "metadata": {},
     "output_type": "execute_result"
    }
   ],
   "source": [
    "lr_predictions2 = cvModel.transform(data)\n",
    "lr_evaluator2 = MulticlassClassificationEvaluator(predictionCol=\"prediction\")\n",
    "lr_cv_accuracy1 = lr_evaluator2.evaluate(lr_predictions2)*100\n",
    "lr_cv_accuracy1"
   ]
  },
  {
   "cell_type": "markdown",
   "metadata": {},
   "source": [
    "# Logistic Regression with TF-IDF"
   ]
  },
  {
   "cell_type": "code",
   "execution_count": 96,
   "metadata": {},
   "outputs": [
    {
     "data": {
      "text/plain": [
       "86.42205638474294"
      ]
     },
     "execution_count": 96,
     "metadata": {},
     "output_type": "execute_result"
    }
   ],
   "source": [
    "lr_predictions3 = lrModel2.transform(data)\n",
    "lr_evaluator3 = MulticlassClassificationEvaluator(predictionCol=\"prediction\")\n",
    "lr_tf_accuracy1 = lr_evaluator3.evaluate(predictions3)*100\n",
    "lr_tf_accuracy1"
   ]
  },
  {
   "cell_type": "markdown",
   "metadata": {},
   "source": [
    "# Naive Bayes Classifier"
   ]
  },
  {
   "cell_type": "code",
   "execution_count": 100,
   "metadata": {},
   "outputs": [
    {
     "data": {
      "text/plain": [
       "40.78947368421053"
      ]
     },
     "execution_count": 100,
     "metadata": {},
     "output_type": "execute_result"
    }
   ],
   "source": [
    "pipeline = Pipeline(stages=[regexTokenizer, stopwordsRemover, countVectors, label_stringIdx])\n",
    "pipelineFit = pipeline.fit(data)\n",
    "dataset = pipelineFit.transform(data)\n",
    "\n",
    "nb_predictions = nbmodel.transform(dataset)\n",
    "nb_evaluator = MulticlassClassificationEvaluator(labelCol=\"label_assigned\", predictionCol=\"prediction\", metricName=\"accuracy\")\n",
    "nb_accuracy_test = nb_evaluator.evaluate(nb_predictions)*100\n",
    "nb_accuracy_test"
   ]
  },
  {
   "cell_type": "markdown",
   "metadata": {},
   "source": [
    "# Random Forest Classifier"
   ]
  },
  {
   "cell_type": "code",
   "execution_count": 101,
   "metadata": {},
   "outputs": [
    {
     "data": {
      "text/plain": [
       "89.14473684210526"
      ]
     },
     "execution_count": 101,
     "metadata": {},
     "output_type": "execute_result"
    }
   ],
   "source": [
    "rf_predictions = rfModel.transform(data)\n",
    "rf_evaluator = MulticlassClassificationEvaluator(labelCol=\"label_assigned\", predictionCol=\"prediction\", metricName=\"accuracy\")\n",
    "rf_accuracy_test = rf_evaluator.evaluate(rf_predictions)*100\n",
    "rf_accuracy_test"
   ]
  },
  {
   "cell_type": "markdown",
   "metadata": {},
   "source": [
    "# Decision tree classifier"
   ]
  },
  {
   "cell_type": "code",
   "execution_count": 102,
   "metadata": {},
   "outputs": [
    {
     "data": {
      "text/plain": [
       "87.5"
      ]
     },
     "execution_count": 102,
     "metadata": {},
     "output_type": "execute_result"
    }
   ],
   "source": [
    "dt_predictions = dt_model.transform(data)\n",
    "dt_evaluator = MulticlassClassificationEvaluator(labelCol=\"label_assigned\", predictionCol=\"prediction\", metricName=\"accuracy\")\n",
    "dt_accuracy_test = dt_evaluator.evaluate(dt_predictions)*100\n",
    "dt_accuracy_test"
   ]
  },
  {
   "cell_type": "markdown",
   "metadata": {},
   "source": [
    "# Visualize Results"
   ]
  },
  {
   "cell_type": "code",
   "execution_count": 120,
   "metadata": {},
   "outputs": [
    {
     "data": {
      "text/html": [
       "<div>\n",
       "<table border=\"1\" class=\"dataframe\">\n",
       "  <thead>\n",
       "    <tr style=\"text-align: right;\">\n",
       "      <th></th>\n",
       "      <th>Accuracy(Test Set)</th>\n",
       "      <th>Accuracy(Unknown Set)</th>\n",
       "    </tr>\n",
       "  </thead>\n",
       "  <tbody>\n",
       "    <tr>\n",
       "      <th>Logistic Regression</th>\n",
       "      <td>85.013468</td>\n",
       "      <td>91.826977</td>\n",
       "    </tr>\n",
       "    <tr>\n",
       "      <th>Logistic Regression CV</th>\n",
       "      <td>85.013468</td>\n",
       "      <td>92.136489</td>\n",
       "    </tr>\n",
       "    <tr>\n",
       "      <th>Logistic Regression TF-IDF</th>\n",
       "      <td>86.422056</td>\n",
       "      <td>86.422056</td>\n",
       "    </tr>\n",
       "    <tr>\n",
       "      <th>Naive Bayes</th>\n",
       "      <td>2.985075</td>\n",
       "      <td>40.789474</td>\n",
       "    </tr>\n",
       "    <tr>\n",
       "      <th>Random Forest</th>\n",
       "      <td>85.074627</td>\n",
       "      <td>89.144737</td>\n",
       "    </tr>\n",
       "    <tr>\n",
       "      <th>Decision Tree</th>\n",
       "      <td>83.582090</td>\n",
       "      <td>87.500000</td>\n",
       "    </tr>\n",
       "  </tbody>\n",
       "</table>\n",
       "</div>"
      ],
      "text/plain": [
       "                            Accuracy(Test Set)  Accuracy(Unknown Set)\n",
       "Logistic Regression                  85.013468              91.826977\n",
       "Logistic Regression CV               85.013468              92.136489\n",
       "Logistic Regression TF-IDF           86.422056              86.422056\n",
       "Naive Bayes                           2.985075              40.789474\n",
       "Random Forest                        85.074627              89.144737\n",
       "Decision Tree                        83.582090              87.500000"
      ]
     },
     "execution_count": 120,
     "metadata": {},
     "output_type": "execute_result"
    }
   ],
   "source": [
    "acc = [lr_accuracy,lr_cv_accuracy,lr_tf_accuracy,nb_accuracy,rf_accuracy,dt_accuracy]\n",
    "accuracy = pd.DataFrame(acc,['Logistic Regression', 'Logistic Regression CV', 'Logistic Regression TF-IDF', 'Naive Bayes', 'Random Forest', 'Decision Tree'])\n",
    "test_acc = [lr_accuracy1,lr_cv_accuracy1,lr_tf_accuracy1,nb_accuracy_test,rf_accuracy_test,dt_accuracy_test]\n",
    "accuracy.columns = [\"Accuracy(Test Set)\"] \n",
    "accuracy[\"Accuracy(Unknown Set)\"] = test_acc\n",
    "accuracy"
   ]
  },
  {
   "cell_type": "markdown",
   "metadata": {},
   "source": [
    "So, we have tried 4 types of classification methods from MLLib to classify articles. From the above table, it can be observed that for both the sets, logistic regression and logistic regression with cross validation give the best results. Naive Bayes Classifier yields the lowest results.\n",
    "\n",
    "Among Random Forest and Decision Tree, former is better than later. However, slight less than logistic regression because Logistic Regression uses a different method for estimating the parameters, which gives better results–better meaning unbiased, with lower variances."
   ]
  },
  {
   "cell_type": "code",
   "execution_count": 116,
   "metadata": {},
   "outputs": [
    {
     "data": {
      "text/plain": [
       "([<matplotlib.axis.XTick at 0x7fa06a27f048>,\n",
       "  <matplotlib.axis.XTick at 0x7fa06a26b940>,\n",
       "  <matplotlib.axis.XTick at 0x7fa06a26b6a0>,\n",
       "  <matplotlib.axis.XTick at 0x7fa06a09d630>,\n",
       "  <matplotlib.axis.XTick at 0x7fa06a09df60>,\n",
       "  <matplotlib.axis.XTick at 0x7fa06a09d160>],\n",
       " <a list of 6 Text xticklabel objects>)"
      ]
     },
     "execution_count": 116,
     "metadata": {},
     "output_type": "execute_result"
    },
    {
     "data": {
      "image/png": "iVBORw0KGgoAAAANSUhEUgAAA3gAAAFLCAYAAACEHy5kAAAABHNCSVQICAgIfAhkiAAAAAlwSFlzAAALEgAACxIB0t1+/AAAADl0RVh0U29mdHdhcmUAbWF0cGxvdGxpYiB2ZXJzaW9uIDIuMi4yLCBodHRwOi8vbWF0cGxvdGxpYi5vcmcvhp/UCwAAIABJREFUeJzt3XmYJWV59/HvTwYEZFUQEQKDiuKSV9TBuONCVNwwrxhRo6AkqK8bKi4xLqjRuCVqYhQRgqioLK4YoyjKYiTIvokKArKIgIZFFGW73z/qaTi2PT09PXP6nK7z/VxXX1173U/1mXPPXfVUVaoKSZIkSdLid4dRByBJkiRJWj0s8CRJkiSpJyzwJEmSJKknLPAkSZIkqScs8CRJkiSpJyzwJEmSJKknLPA01pLsm+SzQ9z+OUke24aT5KAkVyf5YZJHJ/nJsPa9spI8P8lRs8x/bJJLFzImSdL8meNuN245bth/G2mYLPA0ckmel+TkJNcnuTzJfyV51ELsu6ruX1XHtNFHAX8JbFlVD62q46vqPgsRx1xU1SFV9cSp8SSV5F7z2VZL+te3n1uS/H5g/M3zjTHJF5K8ZQXL7JrkzCTXJbkqybeTbDmHbW+X5Ob5xiZJo2COm5vVmePa+hcl2WnatD2SfH9V4hxXSd6c5ML2Obs0yaFzXK+3x2SSLRl1AJpsSV4LvAl4KfAt4EbgycAuwEJ/4WwNXFRVv13VDSVZUlVjW4xU1f2nhpMcA3y2qg4Y9n6T3A84AHgGcDywPt3f+9Zh71uSFpo5Tgshye7AC4CdqupnSe5Gl2c1obyCp5FJsiHwTuDlVfWlqvptVd1UVUdW1euXs87hSX6Z5NokxyUZLFSekuRHSX6T5LIk+7TpmyT5epJrkvxvkuOT3KHNuyjJTkn2pCs8Ht7Ofr1jeneQJHdP8sV21enCJK8amLdvkiOSfDbJdcAeSR7aztpel+SKJP+ynDYdm+RZbfhR7azlU9r4TklOb8O3nWVLclxb/YwW73MGtve6JFe2M8UvWtm/y8B2XpLkJ+2Y/WeSLdr0NZJ8tB2Ha5OckeQ+7Xg8C3hri+nwGTb7YODHVXVcda6rqsOq6hcD235rkguS/CrJIUk2auseB6wxcKXxQfNtmyQNmznutnXHNcctbbHsnuTilnP+YTnLrpnk8+34rNWOx2FJPt3+HuckWTaw/H2THNP+JuckeUabvk2bNvX3OSDJlQPrfTbJ3m34mCTvSvLfbR9HJdlkOc3ZAfhWVf0MoKp+WVX7D2x3wyQHtmN2WZJ/bPn2vsB+3P65uGa+x1PjxQJPo/RwYG3gyyuxzn8B2wJ3BU4FDhmYdyDwkqpaH3gA8N02/XXApcCmwGbAm4Ea3GhVHUh3hvWEqlqvqt4+OL99GR8JnAFsATwB2DvJkwYW2wU4AtioxfUR4CNVtQFwT+Cw5bTpWOCxbfgxwAXAjgPjx05foaoe0wYf2OKd6opxN2DDFuOewL8n2Xg5+12uJLsBewNPpztmpwFT9yI8DXhIa9PGwPOAq6vqX4EvAu9qMT17hk2fDDwoyQfafy7uNG3+64En0nUl2hK4CfhQm/cY4Ja27fWq6rSVbZckLSBzXGfsctw0jwLuQ9fmt7Wi5zZJ1gG+AvwB+OuqurHNegbwBbrj8TXgo235NemO5VF0f8dXAockuU9VXQhcB0ydoHw0cP3APqcfj+cBL2rbWQvYZzlt+B/ghUlen2RZkjWmzT8YuBm4V9v3E4G/rapz+ePPxUaoFyzwNEp3AX61Mt08quo/quo3VfUHYF/gge0sKXTFwP2SbFBVV1fVqQPTNwe2bmdPj6+q+tOtz2oHYNOqemdV3VhVFwCfBHYbWOaEqvpKVd1aVTe0/d4rySZVdX1V/c9ytn0sf5zs/mlgfEdmSH6zuAl4Z2vnN4Dr6RLXynoJ8I9V9dOqugl4B/CoJJu1fWwAbAdUVZ1TVVfOsq3bVNWP6ZLoPej+o/CrdgZznYH9vqmqflFVv2/7fU6SzKMNkjRK5rjOOOa4Qe+oqhuq6gy6AveBA/M2AL4J/Ax4UVXdMjDv+1X1jTbtMwPrPQxYD3hvO5bfBb4OPLfNPxbYMV03Suhy4Y5Jtmn7O2NgHwe1PHwDXQG9/UwNqKrP0hWST2rbvzLJmwBa3t4Z2LtdRb6S7sTpbjNtS/1ggadR+jWwSZI53QvauhO8N8nPWheRi9qsqS4LzwKeAvy8dQl5eJv+AeB84Kh0Xf/eNI9Ytwbu3rpWXNO6MbyZ7mzplEumrbMncG/gx0lOSvK05Wz7BODe7Ut4e+DTwJ+1rhgPpeuaOFe/nvafid/RJZqVtTWw30Bbr6I7+7cl3RnmA4FPAFck+ViSOe+jqr5fVc+qqk2Ax9MlpDe0Iu7PgG8M7Pc0uu+pu8yjDZI0Sua4zqhy3M3AmtOmrUlXJA765Szbexjwf+iKtelF8/T11m5/67sDl1TV4L3lP6e76gi3X9F8DF3bj6ErdHcEjp+23myx/ZHqHlKzE90VxZcC72xXYLema/flA3/bT9BdFVRPWeBplE4Afg88c47LP4+ui8hOdF00lrbpAaiqk6pqF7ovra/Quou0s6Gvq6p70HU5fG2SJ6xkrJcAF1bVRgM/61fVUwaWmd4l5ryqem6L533AETN0SaSqfgecArwaOLt1//gB8FrgZ1X1q5WMdXW4BNhjWnvXqapTqvMvVfUgusT3wBY7TDsGK1JVJwBfBR7QkudlwOOn7XftdgxW9oy0JI2SOY6R5riLuf0YTtmGrtiaq6Porjge3QrUufgFXQE7+H/srejyG3QF3qPpirxj6R6280hW/mrmjNrVzcOBM+m68l5C1710k4G/7QZ1+8PWzK09ZIGnkamqa4G30fWhf2aSdduNzDsnef8Mq6xP9yX1a2Bd4D1TM9pNz89PsmHrUngdcEub97Qk92pXiKam3/InW5/dD4HrkrwxyTrtTOsDkuywvBWS/E2STdvZuKkbl5e332OBV3D7l/sx08ZncgVdV8dh2A94S5L7ACTZOLffJP+w1sd/CfBbuqfCTbVr1piSPC7Ji5Ns2sbvDzyV7v6Bqf2+N8mftfl3TfL0Nu9KuoesbLU6GypJw2CO+yOjyHGH0t1HuF06y4AX0903N2dV9X7gc3RF3vIecjLoRLrc+Ib2934sXeH9hba984AbgL8Bjquq6+ja+izmWeCle0DNU5Osn+QOSXYG7g+cWFWX0xWq/5xkgzb/nkmmusleAWyZZK357FvjyQJPI1VV/0J3Fu8tdN0AL6H70v/KDIt/mu7M22XAj7i9KJjyAuCi1rXlpXRfntDdsP4dur76JwAfq9vfCzTXOG+h+4LeHrgQ+BXdE8k2nGW1JwPnJLme7mb03dp9ZTM5li65H7ec8ZnsCxzculz89RybMidV9Xm6G8a/1I7n6XTvT4Ku+8en6BL6BXR/k39t8/YHdmgxzZRErwZ25fbjciTdzfofbvPfT/e3+m6S39Cd5X1wi+nqNv+Utv0Z70WQpHFhjrvNKHLcJ4GD6PLMtXTH9x+q6psru6Gqehfd3+w7Se68gmVvpHsAy850x/FjwAvbPehTjqXrbnrxwHjobkuYj+voutReTJeb3w+8rKqmXsXxQrqHtPyILg8fQXffJnQP6zkH+GWSUfQY0hBk5e/DlSRJkiSNI6/gSZIkSVJPWOBJkiRJUk9Y4EmSJElST1jgSZIkSVJPWOBJkiRJUk8sGXUAc7HJJpvU0qVLRx2GJGnITjnllF9V1aajjmOxMD9K0uSYa45cFAXe0qVLOfnkk0cdhiRpyJL8fNQxLCbmR0maHHPNkXbRlCRJkqSesMCTJEmSpJ6wwJMkSZKknrDAkyRJkqSesMCTJEmSpJ6wwJMkSZKknrDAkyRJkqSesMCTJEmSpJ6wwJMkSZKknlgy6gCk1en813x01CGs0L0+9IpRhyBJE+/x/+/iUYcwq+9+bKtRhyBpkbLAkyRpwm1z5OGjDmFWFz792aMOQZIWDbtoSpIkSVJPWOBJkiRJUk9MTBfNce9+Aqu/C8q4318A3mOgeTr4H0YdwYrt/u5RRyBJkiaQV/AkSZIkqScs8CRJkiSpJyzwJEmSJKknJuYePElazDLqAOagRh2AJGn871P3HvWh8wqeJEmSJPWEBZ4kSZIk9YQFniRJkiT1hPfgSZIkSVq0vE/9j3kFT5IkSZJ6YqgFXpLXJDknydlJPp9k7STbJDkxyXlJDk2y1jBjkCRJkqRJMbQumkm2AF4F3K+qbkhyGLAb8BTgQ1X1hST7AXsCHx9WHJIkSYLzX/PRUYcwq3t96BWjDkHqhWF30VwCrJNkCbAucDnweOCINv9g4JlDjkGSJEmSJsLQCryqugz4IHAxXWF3LXAKcE1V3dwWuxTYYlgxSJIkSdIkGVqBl2RjYBdgG+DuwJ2AnWdYdMaHyiTZK8nJSU6+6qqrhhWmJEmSJPXGMLto7gRcWFVXVdVNwJeARwAbtS6bAFsCv5hp5arav6qWVdWyTTfddIhhSpIkSVI/DLPAuxh4WJJ1kwR4AvAj4HvArm2Z3YGvDjEGSZIkSZoYw7wH70S6h6mcCpzV9rU/8EbgtUnOB+4CHDisGCRJkiRpkgztNQkAVfV24O3TJl8APHSY+5UkSZKkSTTs1yRIkiRJkhaIBZ4kSZIk9YQFniRJkiT1hAWeJEmSJPWEBZ4kSZIk9YQFniRJCyzJa5Kck+TsJJ9PsnaSbZKcmOS8JIcmWWvUcUqSFh8LPEmSFlCSLYBXAcuq6gHAGsBuwPuAD1XVtsDVwJ6ji1KStFhZ4EmStPCWAOskWQKsC1wOPB44os0/GHjmiGKTJC1iFniSJC2gqroM+CBwMV1hdy1wCnBNVd3cFrsU2GKm9ZPsleTkJCdfddVVCxGyJGkRscCTJGkBJdkY2AXYBrg7cCdg5xkWrZnWr6r9q2pZVS3bdNNNhxeoJGlRssCTJGlh7QRcWFVXVdVNwJeARwAbtS6bAFsCvxhVgJKkxcsCT5KkhXUx8LAk6yYJ8ATgR8D3gF3bMrsDXx1RfJKkRcwCT5KkBVRVJ9I9TOVU4Cy6XLw/8EbgtUnOB+4CHDiyICVJi9aSFS8iSZJWp6p6O/D2aZMvAB46gnAkST3iFTxJkiRJ6gkLPEmSJEnqCQs8SZIkSeoJCzxJkiRJ6gkLPEmSJEnqCQs8SZIkSeoJCzxJkiRJ6gkLPEmSJEnqCQs8SZIkSeoJCzxJkiRJ6gkLPEmSJEnqCQs8SZIkSeoJCzxJkiRJ6gkLPEmSJEnqCQs8SZIkSeoJCzxJkiRJ6gkLPEmSJEnqCQs8SZIkSeoJCzxJkiRJ6gkLPEmSJEnqCQs8SZIkSeoJCzxJkiRJ6gkLPEmSJEnqCQs8SZIkSeoJCzxJkiRJ6gkLPEmSJEnqCQs8SZIkSeoJCzxJkiRJ6gkLPEmSJEnqCQs8SZIkSeoJCzxJkiRJ6gkLPEmSJEnqiaEWeEk2SnJEkh8nOTfJw5PcOcm3k5zXfm88zBgkSZIkaVIM+wreR4BvVtV2wAOBc4E3AUdX1bbA0W1ckiRJkrSKhlbgJdkAeAxwIEBV3VhV1wC7AAe3xQ4GnjmsGCRJkiRpkgzzCt49gKuAg5KcluSAJHcCNquqywHa77vOtHKSvZKcnOTkq666aohhSpIkSVI/DLPAWwI8GPh4VT0I+C0r0R2zqvavqmVVtWzTTTcdVoySJEmS1BvDLPAuBS6tqhPb+BF0Bd8VSTYHaL+vHGIMkiRJkjQxhlbgVdUvgUuS3KdNegLwI+BrwO5t2u7AV4cVgyRJkiRNkiVD3v4rgUOSrAVcALyIrqg8LMmewMXAs4ccgyRJkiRNhKEWeFV1OrBshllPGOZ+JUmSJGkSDfs9eJIkSZKkBWKBJ0nSAkuyUZIjkvw4yblJHp7kzkm+neS89nvjUccpSVp8LPAkSVp4HwG+WVXbAQ8EzqV7ldDRVbUtcDQr8WohSZKmrPAevCR3oEs+dwduAM6pqiuGHZgkSeNuPjkyyQbAY4A9AKrqRuDGJLsAj22LHQwcA7xxGHFLkvpruQVeknvSJZadgPOAq4C1gXsn+R3wCeDgqrp1IQKVJGlcrGKOvEdb/qAkDwROAV4NbFZVlwNU1eVJ7rqcfe8F7AWw1VZbrdZ2SZIWv9mu4P0j8HHgJVVVgzNa0nke8AK6s4ySJE2SVcmRS4AHA6+sqhOTfISV6I5ZVfsD+wMsW7asVrC4JGnCLLfAq6rnzjLvSuDDQ4lIkqQxt4o58lLg0qo6sY0fQVfgXZFk83b1bnPgytUWsCRpYsz5IStJ7pXks0m+mOThwwxKkqTFZGVyZFX9ErgkyX3apCcAPwK+Buzepu0OfHVoAUuSemu2e/DWrqrfD0x6F/B2oIDDge2HHJskSWNpNeTIVwKHJFkLuAB4Ed1J18OS7AlcDDx7tQcuSeq92e7BOzLJp6vqM238JmApXfK6ZdiBSZI0xlYpR1bV6cCyGWY9YbVFKEmaSLN10XwysGGSbyZ5NLAP3WOddwaevxDBSZI0psyRkqSxNNtDVm4BPprkM8DbgM2Bt1bVzxYqOEmSxpE5UpI0rma7B+8vgNcDNwLvoXuB67uTXAq8q6quXZgQJUkaL+ZISdK4mu0evP2AXYH1gE9U1SOB3ZLsCBwGPGkB4pMkaRyZIyVJY2m2Au8WuhvG16U7QwlAVR0LHDvcsCRJGmvmSEnSWJqtwHse8BK6xPXChQlHkqRFwRwpSRpLsxV451XV62ZbOUmqqlZzTJIkjTtzpCRpLM32moTvJXllkq0GJyZZK8njkxwM7D7c8CRJGkvmSEnSWJrtCt6TgRcDn0+yDXANsDawBnAU8KH2olZJkiaNOVKSNJZmew/e74GPAR9LsiawCXBDVV2zUMFJkjSOzJGSpHE12xW821TVTcDlQ45FkqRFxxwpSRons92DJ0mSJElaRCzwJEmSJKknVljgJXlFko0XIhhJkhYTc6QkadzM5Qre3YCTkhyW5MlJMuygJElaJMyRkqSxssICr6reAmwLHAjsAZyX5D1J7jnk2CRJGmvmSEnSuJnTPXhVVcAv28/NwMbAEUneP8TYJEkae+ZISdI4WeFrEpK8Ctgd+BVwAPD6qropyR2A84A3DDdESZLGkzlSkjRu5vIevE2A/1tVPx+cWFW3JnnacMKSJGlRMEdKksbKXLpofgP436mRJOsn+QuAqjp3WIFJkrQImCMlSWNlLgXex4HrB8Z/26ZJkjTpzJGSpLEylwIv7QZyoOt2wty6dkqS1HfmSEnSWJlLgXdBklclWbP9vBq4YNiBSZK0CJgjJUljZS4F3kuBRwCXAZcCfwHsNcygJElaJMyRkqSxssJuJFV1JbDbAsQiSdKiYo6UJI2bubwHb21gT+D+wNpT06vqxUOMS5KksWeOlCSNm7l00fwMcDfgScCxwJbAb4YZlCRJi4Q5UpI0VuZS4N2rqt4K/LaqDgaeCvz5cMOSJGlRMEdKksbKXAq8m9rva5I8ANgQWDq0iCRJWjzMkZKksTKXd/Xsn2Rj4C3A14D1gLcONSpJkhYHc6QkaazMWuAluQNwXVVdDRwH3GNBopIkacyZIyVJ42jWLppVdSvwigWKRZKkRcMcKUkaR3O5B+/bSfZJ8mdJ7jz1M/TIJEkaf+ZISdJYmcs9eFPv8nn5wLTCriiSJJkjJUljZYUFXlVtsxCBSJK02JgjJUnjZoUFXpIXzjS9qj49lx0kWQM4Gbisqp6WZBvgC8CdgVOBF1TVjXMPWZKk8bCqOVKSpNVtLl00dxgYXht4Al1hNtfk9WrgXGCDNv4+4ENV9YUk+wF7Ah+f47YkSRonq5ojJUlarebSRfOVg+NJNgQ+M5eNJ9kSeCrwbuC1SQI8HnheW+RgYF8s8CRJi9Cq5EhJkoZhLk/RnO53wLZzXPbDwBuAW9v4XYBrqurmNn4psMU8YpAkaRytTI6UJGm1m8s9eEfSPREMuoLwfsBhc1jvacCVVXVKksdOTZ5h0ZphGkn2AvYC2GqrrVa0O0mSFtx8c6QkScMyl3vwPjgwfDPw86q6dA7rPRJ4RpKn0N2XsAHdFb2NkixpV/G2BH4x08pVtT+wP8CyZctmLAIlSRqx+eZISZKGYi4F3sXA5VX1e4Ak6yRZWlUXzbZSVf098PdtnccC+1TV85McDuxK9yTN3YGvzj98SZJGal45UpKkYZnLPXiHc/s9dAC3tGnz9Ua6B66cT3dP3oGrsC1JkkZp3jkyyRpJTkvy9Ta+TZITk5yX5NAkaw0hXklSz83lCt6SwffUVdWNK5t0quoY4Jg2fAHw0JVZX5KkMbUqOdLXCElD9slTHzLqEGb1dw8+ZdQhqIfmcgXvqiTPmBpJsgvwq+GFJEnSojGvHDnwGqED2vjUa4SOaIscDDxztUcrSeq9uVzBeylwSJKPtvFLgRcOLyRJkhaN+ebIqdcIrd/G5/waIZ8yLUmazVxedP4z4GFJ1gNSVb8ZfliSJI2/+eTIVX2NkE+ZliTNZoVdNJO8J8lGVXV9Vf0mycZJ/nEhgpMkaZzNM0dOvUboIronSj+egdcItWWW+xohSZJmM5d78HauqmumRqrqauApwwtJkqRFY6VzZFX9fVVtWVVLgd2A71bV84Hv0b1GCHyNkCRpnuZS4K2R5I5TI0nWAe44y/KSJE2K1ZkjfY2QJGmVzeUhK58Fjk5yEN39AC8GPj3UqCRJWhxWKUf6GiFJ0uo2l4esvD/JmcBOdDeBv6uqvjX0yCRJGnPmSEnSuJnLFTyq6pvANwGSPDLJv1fVy4camSRJi4A5UpI0TuZU4CXZHngu8BzgQuBLwwxKkqTFwhwpSRonyy3wktyb7ulezwV+DRxK946fxy1QbJIkjSVzpCRpXM12Be/HwPHA06vqfIAkr1mQqCRJGm/mSEnSWJrtNQnPAn4JfC/JJ5M8ge4GckmSJp05UpI0lpZb4FXVl6vqOcB2dI9wfg2wWZKPJ3niAsUnSdLYMUdKksbVCl90XlW/rapDquppwJbA6cCbhh6ZJEljzhwpSRo3KyzwBlXV/1bVJ6rq8cMKSJKkxcgcKUkaBytV4EmSJEmSxpcFniRJkiT1hAWeJEmSJPWEBZ4kSZIk9YQFniRJkiT1hAWeJEmSJPWEBZ4kSZIk9YQFniRJkiT1hAWeJEmSJPWEBZ4kSZIk9YQFniRJkiT1hAWeJEmSJPWEBZ4kSZIk9YQFniRJkiT1hAWeJEmSJPWEBZ4kSZIk9YQFniRJkiT1hAWeJEmSJPWEBZ4kSZIk9YQFniRJkiT1hAWeJEmSJPWEBZ4kSZIk9YQFniRJkiT1hAWeJEmSJPWEBZ4kSZIk9YQFniRJkiT1hAWeJEmSJPWEBZ4kSZIk9YQFniRJkiT1hAWeJEmSJPXE0Aq8JH+W5HtJzk1yTpJXt+l3TvLtJOe13xsPKwZJkiRJmiTDvIJ3M/C6qrov8DDg5UnuB7wJOLqqtgWObuOSJEmSpFU0tAKvqi6vqlPb8G+Ac4EtgF2Ag9tiBwPPHFYMkiRJkjRJFuQevCRLgQcBJwKbVdXl0BWBwF2Xs85eSU5OcvJVV121EGFKkjR03sIgSRqmoRd4SdYDvgjsXVXXzXW9qtq/qpZV1bJNN910eAFKkrSwvIVBkjQ0Qy3wkqxJV9wdUlVfapOvSLJ5m785cOUwY5AkaZx4C4MkaZiG+RTNAAcC51bVvwzM+hqwexveHfjqsGKQJGmczecWBkmSZjPMK3iPBF4APD7J6e3nKcB7gb9Mch7wl21ckqSJMt9bGLxHXZI0myXD2nBVfR/IcmY/YVj7lSRp3M12C0NVXT7bLQxVtT+wP8CyZctqQQKWJC0aC/IUTUmS1PEWBknSMA3tCp4kSZrR1C0MZyU5vU17M90tC4cl2RO4GHj2iOKTJC1iFniSJC0gb2GQJA2TXTQlSZIkqScs8CRJkiSpJyzwJEmSJKknLPAkSZIkqScs8CRJkiSpJyzwJEmSJKknLPAkSZIkqScs8CRJkiSpJyzwJEmSJKknLPAkSZIkqScs8CRJkiSpJyzwJEmSJKknLPAkSZIkqScs8CRJkiSpJyzwJEmSJKknLPAkSZIkqScs8CRJkiSpJyzwJEmSJKknLPAkSZIkqScs8CRJkiSpJyzwJEmSJKknLPAkSZIkqScs8CRJkiSpJyzwJEmSJKknLPAkSZIkqScs8CRJkiSpJyzwJEmSJKknLPAkSZIkqScs8CRJkiSpJyzwJEmSJKknLPAkSZIkqScs8CRJkiSpJyzwJEmSJKknLPAkSZIkqScs8CRJkiSpJyzwJEmSJKknLPAkSZIkqSeWjDoASavmk6c+ZNQhrNDfPfiUUYcgSZI0EbyCJ0mSJEk9YYEnSZIkST1hgSdJkiRJPWGBJ0mSJEk9MZICL8mTk/wkyflJ3jSKGCRJGkfmSEnSqljwAi/JGsC/AzsD9wOem+R+Cx2HJEnjxhwpSVpVo7iC91Dg/Kq6oKpuBL4A7DKCOCRJGjfmSEnSKhlFgbcFcMnA+KVtmiRJk84cKUlaJamqhd1h8mzgSVX1t238BcBDq+qV05bbC9irjd4H+MmCBrpimwC/GnUQC2wS2wyT2W7bPBnGsc1bV9Wmow5iVOaSIxdBfoTx/GwNm22eDLZ5Moxrm+eUI5csRCTTXAr82cD4lsAvpi9UVfsD+y9UUCsryclVtWzUcSykSWwzTGa7bfNkmMQ2LwIrzJHjnh9hMj9btnky2ObJsNjbPIoumicB2ybZJslawG7A10YQhyRJ48YcKUlaJQt+Ba+qbk7yCuBbwBrAf1TVOQsdhyRJ48YcKUlaVaPooklVfQP4xij2vRqNdfeYIZnENsNktts2T4ZJbPPYM0cuWrZ5MtjmybCo27zgD1mRJEmSJA3HKO7BkyRJkiQNwcQVeEmuXw3buHuSI2aZv1GS/zfX5YfNNs97G4uqzTNJUkn+eWB8nyT7rmCdZyR509CDW0VJbklyepKzkxyZZKPVtN2lSc5eHdtanQbae06SM5K8Nsm8vsOTvDPJTrPMf2mSF84/Wi1Wk/jdaZvnvY1F1eaZ9DVHTlp+BHPInKWkAAASFElEQVTkdBPXRTPJ9VW13pD3sRT4elU9YJj7mSvbPLR9LGWM2jyTJL8HLgd2qKpfJdkHWK+q9h1tZKtu8G+c5GDgp1X17tWw3aWM4d91WnvvCnwO+O+qevtoI1OfTOJ3p20e2j6WMkZtnklfc+Sk5UcwR043cVfwZpJk6yRHJzmz/d6qTb9nkv9JclKr5q9v0287g5Hk/kl+2M4anJlkW+C9wD3btA9MW36NJB9MclZb/pXLi8s22+bV4Ga6G4VfM31GkqcnOTHJaUm+k2SzNn2PJB9NsmGSi6bOgCVZN8klSdZsx+ybSU5JcnyS7Ra2WX/iBGCLFud67e97ajv+u7TpS5Ocm+ST6c7wHZVknTbvIenO+J0AvHxqo0nWTnJQ285pSR7Xpu+R5CvpzoxemOQV6c4WntY+S3ceZmOr6kq6F12/Ip012mfwpPZ5e8lAG97Q4j8jyXvbtE8l2bUNvzfJj9p6H2zT9k33Hx2SbN/adGaSLyfZuE0/Jsn72r+LnyZ59DDbrNGZxO9O2zwZbWYycuRE5UcwR04dhIn6Aa6fYdqRwO5t+MXAV9rw14HntuGXTq0LLAXObsP/Bjy/Da8FrDM4f4blXwZ8EVjSxu9sm23zMI8DsAFwEbAhsA+wb5u3Mbdfxf9b4J/b8B7AR9vwV4HHteHnAAe04aOBbdvwXwDfHUXb2u81gMOBJ7fxJcAGbXgT4Hwg7e9zM7B9m3cY8Ddt+Exgxzb8gYG/4+uAg9rwdsDFwNrtGJ0PrA9sClwLvLQt9yFg7wX6TF8NbEaXyN7Spt0ROBnYBtgZ+AGw7uDnEPgUsCtwZ+AnA5+DjdrvfYF9Zjg27wQ+3IaPGfjMPAX4zig+4/4syOes19+dtnky2ry840APcyQTlh9n+UxPbI70Cl7n4XSXcgE+AzxqYPrhbfhz01dqTgDenOSNwNZVdcMK9rUTsF9V3QxQVf8776hXjW2ejDZTVdcBnwZeNW3WlsC3kpwFvB64/wyrH0qXtKB74fKhSdYDHgEcnuR04BPA5sOIfQXWafv/Nd2X8Lfb9ADvSXIm8B26M5ebtXkXVtXpbfgUYGmSDem+tI9t0z8zsI9HTY1X1Y+BnwP3bvO+V1W/qaqr6BLYkW36WXTJciGk/X4i8MJ2PE4E7gJsS/c5PKiqfgczfg6vA34PHJDk/wK/+6ON/+mxORh4zMAiX2q/T2Hh2qyFN4nfnbZ5Mtrc1xxpfuxMbI60wJvZnG9MrKrPAc8AbqD7Inj8ClbJymx/Adnm2RZc/G3+MLAncKeBaf9Gdxbyz4GX0J15m+5rwM6tS8VDgO/SfW9cU1XbD/zcd7jhz+iGqtoe2JrujPFU15Hn0501fEibfwW3t+0PA+vfQnc2c7a/VZYzffq2bh0Yv5UFeMdoknvQteFKujhfOfD32KaqjmIFn8P2n6uH0p1JfybwzZUMY6rNU8dSk2GSvjun2ObZFlz8be5bjpzo/AjmSAu8zg/ozrxA9+H/fhv+H+BZbXi36SvBbR+gC6rqX+n+of8f4Dd0l6ZnchTw0iRL2vpD74u8HLZ5MtoM3HZW6jC6BDZlQ+CyNrz7cta7Hvgh8BG6G6tvaWc7L0zybIDWv/2BQwt+BarqWrozr/skWZOuXVdW1U3tnoCtV7D+NcC1SabOVj9/YPZxU+NJ7g1sRdddY6SSbArsR/efjwK+BbystZ8k905yJ7rP4YuTrNum33nadtYDNqzuxdp7A9sPzm/H9uqBewdeAByLJs0kfnfa5sloM9DfHDmJ+RHMkTCZBd66SS4d+Hkt3Yf/Re2S9QuAV7dl9wZem+SHdJfXr51he88Bzm6XfbcDPl1Vvwb+O93jaT8wbfkD6Popn5nkDOB5q72Ff8o2T0abV+Sf6frcT9mXrgvJ8cCvZlnvUOBv2u8pzwf2bG07B9hl9Ya6cqrqNOAMuv98HAIsS3IyXZw/nsMmXgT8e7qbyAe7Fn0MWKN10TkU2KOq/jDTBhbAOmmPgKbrWnMU8I427wDgR8Cp6R5i8Am6e1u+SfefrZPbZ3efadtcH/h6+zdxLDM8aIDuPzYfaMtsT3ePgfprEr87bfNktHlFepkjJyQ/gjnyj0zcaxJWRqvob6iqSrIb3U3GI/2P7LDZ5slosyStqkn87rTNk9FmabHznonZPQT4aJIA19A9VarvbPNktFmSVtUkfnfa5slos7SoeQVPkiRJknpiEu/BkyRJkqRe6l2Bl+SWdpPl2UmOTLLRqGMalOQbqzsm2zwZbZ5HDFPH6IwkpyZ5xCjjWQgDbZ76WTrEfe3d7k0ZG0nuMtD2Xya5bGB8rVHHp9GaxO9N2zwZbZ5nHOZIc2Rvc2Tvumgmub6q1mvDBwM/rap3r4btLpl6Iee4sc2T0eaVNe0YPQl4c1XtOOKwhmqwzSu53kr/3ZNcBCyrqtmerjYySfYFrq+qD06bHrrv/ltHEphGZhK/N23zZLR5PsyRK7WeOXKR6d0VvGlOALaYGkny+iQnJTkzyTsGpr81yY+TfDvJ55Ps06Yfk+Q9SY4FXp1k0yRfbNs4Kckj23I7DpwBOC3J+kk2T3LcwFm0R7dlL0qySRt+bZt3dpK927SlSc5N8skk5yQ5Ksk6ttk2r6INgKvbvtdLcnS6M5ZnJdmlTX9XkqnHYpPk3UletbxjmuROSf4z3dnPs5M8Z4jxz1uStZMc1Np6Wrp3/5BkjySHJzmS7nHKc25nOy53B76X5Hsja9wcJblXi30/4FRg8yQ7JzmhfQ4OTfdOIJLskOTYJKck+a8km402eg3JJH5v2ubJaPN8mCPNkf3KkVXVqx+6ahxgDeBw4Mlt/InA/kDoCtuvA48BlgGnA+vQve/iPGCfts4xwMcGtv054FFteCvg3DZ8JPDINrwe3dNJXwf8w0As67fhi+jes/IQ4CzgTm2dc4AHAUuBm4Ht2/KHAX9jm23zPP4t3NLa/GO69xY9pE1fAmzQhjcBzm/Haylwapt+B+BnwF1mOabPAj45sL8Nx+Df/1SbTwe+3Ka9DjioDW9H9+6ltYE9gEuBO6/gszNjO6f+xqNu8yzHYt+Bz/i9gFuBHdr4Xene6bNuG/8H4M3AHeledrxJm/58YP9Rt8Wf1faZmLjvTds8GW2e578Hc2SZI9tw73JkH1+TsE66lxUuBU4Bvt2mP7H9nNbG1wO2pfsy+2pV3QDQzlQMGnxx5U7A/ZJMjW+QZH3gv4F/SXII8KWqujTJScB/JFkT+EpVnT5tu4+i+8f127bfLwGPpnvh4oUDy5/S2mKbbfPKuqGqtm/7fTjw6SQPoPtyfk+Sx9B9oW0BbFZVFyX5dZIHAZsBp1XVr5Ms75geD3wwyfuAr1fV8as5/vm4rc0DHgX8G0BV/TjJz4F7t3nfrqr/bcOLqZ3z8bOqOqkNPwK4H/CD9jlfC/g+cF/g/sB32vQ16BK8+mESvzdt82S0eT7MkR1zZKdXObKPXTSnPrxb0/1BXt6mB/inqtq+/dyrqg5s02fz24HhOwAPH9jGFlX1m6p6L/C3dGe//ifJdlV1HN2ZjcuAzyR54bTtzrbfPwwM38KK31domyejzfNWVSfQnYnclO6M06Z0Zyu3B66gO1sHcADdWbsXAf/Rps14TKvqp9x+BvafkrxtWPGvotn+BoN/98XezhWZ3tZvDrT1flW1V5t+5sD0P6+qnUcTroZgEr83bfNktHmVmCOXyxy5SHNkHws8AKrqWuBVwD7t7NG3gBcnmbqhdoskd6WryJ/e+iCvBzx1ls0eBbxiaiTJ1Jmfe1bVWVX1PuBkYLskWwNXVtUngQOBB0/b1nHAM5Os2/r1/hXdWRDbbJtXuyTb0Z1p+jWwIV3MN6Xra7/1wKJfBp4M7EB3LGE5xzTJ3YHfVdVngQ/yp20fF8fRJWyS3JuuW9FPZlhuZdv5G7oz34vRD4Adk9wDbruHYlvgR8AWSR7apq+V5P4jjFNDMInfm7Z5Mto8X+ZIc+Q0iz5H9rGL5m2q6rQkZwC7VdVnktwXOKFdVr2erk/3SUm+BpwB/Jzui+na5WzyVcC/JzmT7tgdB7wU2Lt9CdxC98f/L2A34PVJbmr7+qMzV1V1apJPAT9skw5o8S61zbZ5NZnqpgPdWafdq+qWdF1ojkxyMrfffzAV743pboi+pqpuadOOmumY0vVZ/0CSW4GbgJctQJvm42PAfknOoruvY4+q+kPyxyct59HO/YH/SnJ5VT1uYZqyelTVFUn2BA7N7Y+GfnNVnZdkV+Bf03W7WgL8M929MeqRSfzetM2T0eaVYI7smCOn6UOO7N1rEuYjyXpVdX2693UcB+xVVaeOOq5hss2T0eaVleQOdE+QenZVnTfqeCSN1iR+b9rmyWjzfJgjtVj0+greStg/yf3o+lgfPCFfarZ5Mto8Z+3YfJ3upncTlySYzO9N2zwZbV4p5kgtJl7BkyRJkqSe8AqeZpTkbsCH6W4k/gPd+0x2Brarqp8MLPdh4BdV9f5RxDkXSe4CHN1G70Z3j8BVbfyBdPcdTHlmVV00bf1P0T3694gkxwCb0x2TtYDvAG+pqmvasrfQPUlquduTJC1ufcmR5kepnyzw9CfS3T37ZbpuGru1advTPf54N+AdbdodgF2BR44o1Dmpql8DU0/62pfuJbAfbOPX15++E2ZFnl9VJ7cbb/8J+CqwY5s30ztmJEk90accaX6U+qm3r0nQKnkccFNV7Tc1oboXjr6aLnlNeQxwUVX9fIHjGwtVdSPwBmCrJA8cdTySpAVhjlwB86M0WhZ4mskDgFOmT6yqM4FbB76sdwM+v5CBDcE6SU5vP19e2ZXbY5LPALZbHduTJI29ScmR5kdpkbKLplbW54HdkpwD7AK8bcTxrKrV0WVk8GUxdkGRpMnVpxxpfpQWKa/gaSbnAA9ZzrzPA38N7AScWVVXLlhUCyTJQe0M4zfmsOwawJ8D5w4/MknSGJjYHGl+lBYHCzzN5LvAHZP83dSEJDsk2bGqfgb8Gngvi7vryXJV1YuqavuqespsyyVZk+4m8kta1xxJUv9NbI40P0qLgwWe/kR1L0f8K+Avk/ysdTXZF/hFW+TzdH3qJ7UP/SFJzgTOBu5E1w1HkjQBzJGzMj9KY8AXnUuSJElST3gFT5IkSZJ6wgJPkiRJknrCAk+SJEmSesICT5IkSZJ6wgJPkiRJknrCAk+apyR3S/KF9pjsHyX5RpJ7Jzl7Ne7jnUl2asOPTnJOe8nsFkmOWF37kSRpdTE/SqPlaxKkeUgS4AfAwVW1X5u2PbA+8PGqesAQ9rkfcGJVHTSPddeoqltWd0ySJA0yP0qj5xU8aX4eB9w0lbwAqup04JKp8SRLkxyf5NT284g2ffMkx7UzjWe3M49rJPlUGz8ryWvasp9KsmuSvwX+GnhbkkPats9uy6yR5ANJTkpyZpKXtOmPTfK9JJ8DzkpypyT/meSMtp/nLNjRkiRNCvOjNGJLRh2AtEg9ADhlBctcCfxlVf0+ybbA54FlwPOAb1XVu5OsAawLbA9sMXVmM8lGgxuqqgOSPAr4elUdkWTpwOw9gWuraockdwT+O8lRbd5DgQdU1YVJngX8oqqe2vax4bxbL0nSzMyP0ohZ4EnDsybw0dY15Rbg3m36ScB/JFkT+EpVnZ7kAuAeSf4N+E/gqBm3OLMnAv8nya5tfENgW+BG4IdVdWGbfhbwwSTvo0uEx69K4yRJmifzozREdtGU5ucc4CErWOY1wBXAA+nOTK4FUFXHAY8BLgM+k+SFVXV1W+4Y4OXAASsRS4BXVtX27WebqppKgL+dWqiqftpiPgv4pyRvW4l9SJI0F+ZHacQs8KT5+S5wxyR/NzUhyQ7A1gPLbAhcXlW3Ai8A1mjLbQ1cWVWfBA4EHpxkE+AOVfVF4K3Ag1cilm8BL2tnPGlPKrvT9IWS3B34XVV9FvjgSu5DkqS5MD9KI2YXTWkeqqqS/BXw4SRvAn4PXATsPbDYx4AvJnk28D1uP1v4WOD1SW4CrgdeCGwBHJRk6qTL369EOAcAS4FT29PLrgKeOcNyfw58IMmtwE3Ay1ZiH5IkrZD5URo9X5MgSZIkST1hF01JkiRJ6gkLPEmSJEnqCQs8SZIkSeoJCzxJkiRJ6gkLPEmSJEnqCQs8SZIkSeoJCzxJkiRJ6gkLPEmSJEnqif8PEu0gYNOaVjgAAAAASUVORK5CYII=\n",
      "text/plain": [
       "<Figure size 1080x720 with 2 Axes>"
      ]
     },
     "metadata": {},
     "output_type": "display_data"
    }
   ],
   "source": [
    "N = len(accuracy)\n",
    "x = range(N)\n",
    "ind = np.arange(N)\n",
    "width = 1/1.5\n",
    "plt.figure(figsize=(15,10))\n",
    "plt.subplot(2, 2,1)\n",
    "#plt.figure(figsize=(7,7))\n",
    "plt.bar(x, acc, width, color=[\"lightseagreen\",\"royalblue\",\"palevioletred\",\"yellowgreen\",\"lightsalmon\",\"aqua\"])\n",
    "plt.xlabel(\"Classifiers\")\n",
    "plt.ylabel('Accuracy (%)')\n",
    "plt.title('Classifiers with Test Set')\n",
    "plt.xticks(ind,('Logistic\\nRegression', 'Logistic\\nRegression\\nCV', 'Logistic\\nRegression\\nTF-IDF', 'Naive\\nBayes', 'Random\\nForest', 'Decision\\nTree'))\n",
    "\n",
    "# Plot 2\n",
    "N1 = len(test_acc)\n",
    "x1 = range(N1)\n",
    "ind1 = np.arange(N1)\n",
    "width = 1/1.5\n",
    "plt.subplot(2, 2,2)\n",
    "#plt.figure(figsize=(7,7))\n",
    "plt.bar(x1, test_acc, width, color=[\"lightseagreen\",\"royalblue\",\"palevioletred\",\"yellowgreen\",\"lightsalmon\",\"aqua\"])\n",
    "plt.xlabel(\"Classifiers\")\n",
    "plt.ylabel('Accuracy (%)')\n",
    "plt.title('Classifiers with Unknown Set')\n",
    "plt.xticks(ind,('Logistic\\nRegression', 'Logistic\\nRegression\\nCV', 'Logistic\\nRegression\\nTF-IDF', 'Naive\\nBayes', 'Random\\nForest', 'Decision\\nTree'))"
   ]
  }
 ],
 "metadata": {
  "kernelspec": {
   "display_name": "Python 3",
   "language": "python",
   "name": "python3"
  },
  "language_info": {
   "codemirror_mode": {
    "name": "ipython",
    "version": 3
   },
   "file_extension": ".py",
   "mimetype": "text/x-python",
   "name": "python",
   "nbconvert_exporter": "python",
   "pygments_lexer": "ipython3",
   "version": "3.6.5"
  }
 },
 "nbformat": 4,
 "nbformat_minor": 2
}
