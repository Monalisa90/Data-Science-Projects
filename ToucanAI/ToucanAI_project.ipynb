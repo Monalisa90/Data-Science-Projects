{
 "cells": [
  {
   "cell_type": "markdown",
   "metadata": {},
   "source": [
    "## Toucan AI mini-project: Question Classifier"
   ]
  },
  {
   "cell_type": "code",
   "execution_count": 2,
   "metadata": {
    "colab": {},
    "colab_type": "code",
    "id": "gCefpYj7F1bQ"
   },
   "outputs": [],
   "source": [
    "import spacy \n",
    "nlp = spacy.load('en_core_web_sm')"
   ]
  },
  {
   "cell_type": "code",
   "execution_count": 5,
   "metadata": {},
   "outputs": [],
   "source": [
    "import nltk\n",
    "nltk.download('punkt')"
   ]
  },
  {
   "cell_type": "markdown",
   "metadata": {},
   "source": [
    "I am building the question classifier based on heuristics. I am using 4 conditions:\n",
    "\n",
    "1) Whether first word of the sentence is any of the interogative words\n",
    "\n",
    "2) Whether the sentence contains '?' mark\n",
    "\n",
    "3) Whether the second word or the last word of the sentence is any of the wh_words \n",
    "\n",
    "4) If the sentence contains 'what':\n",
    "   - Check for ',' and '.' before 'what' using spacy & pos_tags; \n",
    "   - Check for prepositions and past tense of verbs before 'what' using spacy & pos_tags"
   ]
  },
  {
   "cell_type": "markdown",
   "metadata": {},
   "source": [
    "The list of POS tags is as follows, with examples of what each POS stands for:\n",
    "\n",
    "- **CC** coordinating conjunction\n",
    "- **CD** cardinal digit\n",
    "- **DT** determiner\n",
    "- **EX** existential there (like: “there is” … think of it like “there exists”)\n",
    "- **FW** foreign word\n",
    "- **IN** preposition/subordinating conjunction\n",
    "- **JJ** adjective ‘big’\n",
    "- **JJR** adjective, comparative ‘bigger’\n",
    "- **JJS** adjective, superlative ‘biggest’\n",
    "- **LS** list marker 1\n",
    "- **MD** modal could, will\n",
    "- **NN** noun, singular ‘desk’\n",
    "- **NNS** noun plural ‘desks’\n",
    "- **NNP** proper noun, singular ‘Harrison’\n",
    "- **NNPS** proper noun, plural ‘Americans’\n",
    "- **PDT** predeterminer ‘all the kids’\n",
    "- **POS** possessive ending parent’s\n",
    "- **PRP** personal pronoun I, he, she\n",
    "- **PRP** possessive pronoun my, his, hers\n",
    "- **RB** adverb very, silently,\n",
    "- **RBR** adverb, comparative better\n",
    "- **RBS** adverb, superlative best\n",
    "- **RP** particle give up\n",
    "- **TO**, to go ‘to’ the store.\n",
    "- **UH** interjection, errrrrrrrm\n",
    "- **VB** verb, base form take\n",
    "- **VBD** verb, past tense took\n",
    "- **VBG** verb, gerund/present participle taking\n",
    "- **VBN** verb, past participle taken\n",
    "- **VBP** verb, sing. present, non-3d take\n",
    "- **VBZ** verb, 3rd person sing. present takes\n",
    "- **WDT** wh-determiner which\n",
    "- **WP** wh-pronoun who, what\n",
    "- **WP** possessive wh-pronoun whose\n",
    "-  **WRB** wh-abverb where, when"
   ]
  },
  {
   "cell_type": "code",
   "execution_count": 6,
   "metadata": {
    "colab": {},
    "colab_type": "code",
    "id": "3AXzwDENPXDy"
   },
   "outputs": [],
   "source": [
    "# List of interogative words\n",
    "interogative_words = [\"who\", \"where\", \"why\", \"when\", \"what\", \"which\", \"how\", \"whose\", \"whom\", \n",
    "                      \"do\", \"does\", \"did\", \"am\", \"is\", \"are\", \"was\", \"were\", \"have\", \"has\", \n",
    "                      \"had\", \"can\", \"could\", \"shall\", \"should\", \"may\", \"will\", \"didn't\",\n",
    "                      \"doesn't\", \"haven't\", \"isn't\", \"aren't\", \"can't\", \"couldn't\",\" wouldn't\",\n",
    "                      \"won't\", \"shouldn't\", \"weren't\", \"wasn't\", \"haven't\", \"hasn't\", \"hadn't\"]\n",
    "\n",
    "interogative_words = set(interogative_words)\n",
    "\n",
    "# List of wh-words\n",
    "wh_words = [\"who\", \"where\", \"why\", \"when\", \"what\", \"which\", \"whose\", \"whom\"]\n",
    "wh_words = set(wh_words)"
   ]
  },
  {
   "cell_type": "code",
   "execution_count": 7,
   "metadata": {
    "colab": {},
    "colab_type": "code",
    "id": "4aQG5gZ0IcAl"
   },
   "outputs": [],
   "source": [
    "def get_double_tags(sentence):\n",
    "    \"\"\"\n",
    "    This function extracts the set of POS-tag doubles from the sentence\n",
    "    \"\"\"\n",
    "    list_of_double_tags = []\n",
    "    t1 = nlp(sentence)\n",
    "\n",
    "    pos = [word.tag_ for word in t1]\n",
    "\n",
    "    n = len(pos)\n",
    "    for i in range(n-1):\n",
    "        t = \"-\".join(pos[i:i+2])\n",
    "        list_of_double_tags.append(t)\n",
    "\n",
    "    return list_of_double_tags"
   ]
  },
  {
   "cell_type": "code",
   "execution_count": 11,
   "metadata": {
    "colab": {},
    "colab_type": "code",
    "id": "0KEv55WCKwqu"
   },
   "outputs": [],
   "source": [
    "def QuestionClassifier(sentence):\n",
    "    \"\"\"\n",
    "    This function first tokenizes the sentence. And then applies rules to \n",
    "    check whether a sentence is a question or not\n",
    "    \"\"\"\n",
    "    tokens = nltk.word_tokenize(sentence.lower())\n",
    "  \n",
    "  # check if first word of the sentence is any of the interogative words\n",
    "    if tokens[0] in interogative_words.intersection(tokens):\n",
    "        ans = 1\n",
    "\n",
    "    # check if the sentence contains '?' mark\n",
    "    elif \"?\" in tokens:\n",
    "        ans = 1\n",
    "\n",
    "    # for sentences like 'In which case did a German man claim....' &\n",
    "    # 'One of FIS' agenda items was to force women to start doing what'\n",
    "    elif tokens[1] in wh_words.intersection(tokens) or tokens[-1] in wh_words.intersection(tokens):\n",
    "        ans = 1\n",
    "\n",
    "    # check if the sentence contains 'what', except the first, second & last word\n",
    "    elif 'what' in tokens[2:-2]:\n",
    "        double_tags = get_double_tags(sentence)\n",
    "\n",
    "    # for sentences that contain ', what' and '. what'\n",
    "        if ((',-WP' in double_tags) or (',-WDT' in double_tags) or \n",
    "             ('.-WP' in double_tags) or ('.-WDT' in double_tags)):\n",
    "            ans = 1\n",
    "\n",
    "    # for sentences that contain preposition with 'what' such as 'in what', 'to what'\n",
    "    # and verb in past tense with 'what'\n",
    "        elif (('IN-WP' in double_tags) or ('IN-WDT' in double_tags) or \n",
    "              ('VBN-WP' in double_tags) or ('VBD-WP' in double_tags) or\n",
    "              ('VBD-WDT' in double_tags)):\n",
    "            ans = 1\n",
    "        else:\n",
    "            ans = 0\n",
    "\n",
    "    else:\n",
    "        ans = 0\n",
    "\n",
    "    return ans"
   ]
  },
  {
   "cell_type": "code",
   "execution_count": 22,
   "metadata": {
    "colab": {},
    "colab_type": "code",
    "id": "kN3cxr3n2FZQ"
   },
   "outputs": [],
   "source": [
    "# Read the input file\n",
    "f = open('test-inputs.txt', 'r', encoding=\"utf8\")\n",
    "texts = []\n",
    "\n",
    "for line in f:\n",
    "    texts.append(line.replace('\\n',''))"
   ]
  },
  {
   "cell_type": "markdown",
   "metadata": {
    "colab_type": "text",
    "id": "J52lOfE72YfF"
   },
   "source": [
    "Open a new file and write the results denoting 1 as 'Question' and 0 as 'Not a question'"
   ]
  },
  {
   "cell_type": "code",
   "execution_count": 25,
   "metadata": {
    "colab": {},
    "colab_type": "code",
    "id": "eEvz8Q9y2SlB"
   },
   "outputs": [],
   "source": [
    "# Create a new text file and write results\n",
    "f = open(\"results.txt\",\"w+\")\n",
    "\n",
    "for i in texts:\n",
    "    ans = QuestionClassifier(i)\n",
    "    f.write(str(ans))\n",
    "    f.write(\"\\n\")\n",
    "\n",
    "f.close()"
   ]
  },
  {
   "cell_type": "code",
   "execution_count": 58,
   "metadata": {},
   "outputs": [],
   "source": [
    "# Check the results text file\n",
    "f = open('results.txt', 'r', encoding=\"utf8\")\n",
    "k = []\n",
    "\n",
    "for line in f:\n",
    "    k.append(line.replace('\\n',''))"
   ]
  },
  {
   "cell_type": "code",
   "execution_count": 59,
   "metadata": {},
   "outputs": [
    {
     "data": {
      "text/plain": [
       "24295"
      ]
     },
     "execution_count": 59,
     "metadata": {},
     "output_type": "execute_result"
    }
   ],
   "source": [
    "len(k)"
   ]
  },
  {
   "cell_type": "markdown",
   "metadata": {},
   "source": [
    "The results text file has the same number of lines as the input file (24295 lines)."
   ]
  }
 ],
 "metadata": {
  "colab": {
   "collapsed_sections": [],
   "name": "ToucanAI project.ipynb",
   "provenance": [],
   "version": "0.3.2"
  },
  "kernelspec": {
   "display_name": "Python 3",
   "language": "python",
   "name": "python3"
  },
  "language_info": {
   "codemirror_mode": {
    "name": "ipython",
    "version": 3
   },
   "file_extension": ".py",
   "mimetype": "text/x-python",
   "name": "python",
   "nbconvert_exporter": "python",
   "pygments_lexer": "ipython3",
   "version": "3.6.6"
  }
 },
 "nbformat": 4,
 "nbformat_minor": 1
}
